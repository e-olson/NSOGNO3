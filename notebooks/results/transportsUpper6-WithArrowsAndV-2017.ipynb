{
 "cells": [
  {
   "cell_type": "markdown",
   "metadata": {},
   "source": [
    "### 6 m is mean nitricline depth and just below 10% light level"
   ]
  },
  {
   "cell_type": "code",
   "execution_count": 1,
   "metadata": {},
   "outputs": [
    {
     "name": "stdout",
     "output_type": "stream",
     "text": [
      "NorthNut defined variables: ig0,ig1,jg0,jg1,fformat0\n",
      "NorthNut defined variables: vmask, vmask0, umask, umask0, tmask, fmask, gdept,  gdept_1d, e1t, e2t, e12t, e1f, e2f, e1v, e2u, e3t_1d\n",
      "NorthNut defined variables: boxCol, colL, colR, arrowwidth, headwidth, headlength, alen, toff, apw, apk\n"
     ]
    }
   ],
   "source": [
    "import matplotlib.pyplot as plt\n",
    "import netCDF4 as nc\n",
    "import numpy as np\n",
    "import os\n",
    "import glob\n",
    "import datetime as dt\n",
    "from salishsea_tools import viz_tools\n",
    "from matplotlib.ticker import FormatStrFormatter\n",
    "import cmocean\n",
    "from salishsea_tools import viz_tools, evaltools as et\n",
    "import NorthNut as nn\n",
    "import matplotlib.gridspec as gridspec\n",
    "import pickle\n",
    "import matplotlib as mpl\n",
    "import matplotlib.patheffects as path_effects\n",
    "mpl.rc('xtick', labelsize=8)\n",
    "mpl.rc('ytick', labelsize=8)\n",
    "mpl.rc('legend', fontsize=8)\n",
    "mpl.rc('axes', titlesize=8)\n",
    "mpl.rc('axes', labelsize=8)\n",
    "mpl.rc('figure', titlesize=8)\n",
    "mpl.rc('font', size=8)\n",
    "mpl.rc('text', usetex=True)\n",
    "mpl.rc('text.latex', preamble = r'''\n",
    " \\usepackage{txfonts}\n",
    " \\usepackage{lmodern}\n",
    " ''')\n",
    "mpl.rc('font', family='sans-serif', weight='normal', style='normal')\n",
    "from pandas.plotting import register_matplotlib_converters\n",
    "register_matplotlib_converters()\n",
    "%matplotlib inline"
   ]
  },
  {
   "cell_type": "code",
   "execution_count": 2,
   "metadata": {},
   "outputs": [],
   "source": [
    "ig0=nn.ig0\n",
    "ig1=nn.ig1\n",
    "jg0=nn.jg0\n",
    "jg1=nn.jg1\n",
    "tmask=nn.tmask\n",
    "umask=nn.umask\n",
    "vmask=nn.vmask\n",
    "umask0=nn.umask0\n",
    "vmask0=nn.vmask0\n",
    "boxCol=nn.boxCol\n",
    "colL=nn.colL\n",
    "colR=nn.colR"
   ]
  },
  {
   "cell_type": "code",
   "execution_count": 3,
   "metadata": {},
   "outputs": [],
   "source": [
    "e12t=nn.e12t"
   ]
  },
  {
   "cell_type": "code",
   "execution_count": 4,
   "metadata": {},
   "outputs": [],
   "source": [
    "k=6 #depth presented here\n",
    "k1=30 # max depth to do calcs to\n",
    "start=dt.datetime(2017,5,15) # originally 5/15-8/15,  but changed to even number of fortnights (6, end is included)\n",
    "end=dt.datetime(2017,8,20)\n",
    "mod_basedir='/data/eolson/results/MEOPAR/SS36runs/linkHC201812/'\n",
    "mod_nam_fmt='nowcast'\n",
    "mod_flen=1\n",
    "saveloc='/data/eolson/results/MEOPAR/SS36runs/calcFiles/NTransport/'\n",
    "fver='HC201812'"
   ]
  },
  {
   "cell_type": "markdown",
   "metadata": {},
   "source": [
    "made interval a multiple of a fortnight in attempt to minimize aliasing of tidal cycle:"
   ]
  },
  {
   "cell_type": "code",
   "execution_count": 5,
   "metadata": {},
   "outputs": [
    {
     "name": "stdout",
     "output_type": "stream",
     "text": [
      "volumes: \n",
      "(40, 130, 97)\n",
      "0 vol: 232834007.16923195 m3\n",
      "0 north face area: 0.017903174399708822 km2\n",
      "0 south face area: 0.023887115963210383 km2\n",
      "0 east face area: 0.0 km2\n",
      "0 floor area: 38.10316762126778 km2\n",
      "0 floor area: 38.10316762126778 km2\n",
      "(40, 130, 97)\n",
      "1 vol: 475501033.2591236 m3\n",
      "1 north face area: 0.051981996171633744 km2\n",
      "1 south face area: 0.0660928789851366 km2\n",
      "1 east face area: 0.04443908484818648 km2\n",
      "1 floor area: 76.65649877674242 km2\n",
      "1 floor area: 76.65649877674242 km2\n",
      "(40, 130, 97)\n",
      "2 vol: 467855857.4262955 m3\n",
      "2 north face area: 0.0660928789851366 km2\n",
      "2 south face area: 0.058877382444252245 km2\n",
      "2 east face area: 0.044474769797453136 km2\n",
      "2 floor area: 76.13281888160705 km2\n",
      "2 floor area: 76.13281888160705 km2\n",
      "(40, 130, 97)\n",
      "3 vol: 475349561.3011287 m3\n",
      "3 north face area: 0.0691002936013758 km2\n",
      "3 south face area: 0.05633497645148102 km2\n",
      "3 east face area: 0.044501987470235926 km2\n",
      "3 floor area: 77.68207812856889 km2\n",
      "3 floor area: 77.68207812856889 km2\n",
      "(40, 130, 97)\n",
      "4 vol: 460253674.3391861 m3\n",
      "4 north face area: 0.06656271287114815 km2\n",
      "4 south face area: 0.05892732464151781 km2\n",
      "4 east face area: 0.04453044828517323 km2\n",
      "4 floor area: 76.70622481510526 km2\n",
      "4 floor area: 76.70622481510526 km2\n",
      "(40, 130, 97)\n",
      "5 vol: 468674561.80761874 m3\n",
      "5 north face area: 0.07171871451380164 km2\n",
      "5 south face area: 0.05339660783873324 km2\n",
      "5 east face area: 0.04455783029196595 km2\n",
      "5 floor area: 76.99707667445263 km2\n",
      "5 floor area: 76.99707667445263 km2\n"
     ]
    }
   ],
   "source": [
    "# calc transports: boxes in full model coords\n",
    "boxes,boxesS=nn.defboxes(k)"
   ]
  },
  {
   "cell_type": "code",
   "execution_count": 6,
   "metadata": {},
   "outputs": [
    {
     "name": "stdout",
     "output_type": "stream",
     "text": [
      "ftype=dian_V, are you sure? (if yes, add to list)\n",
      "ftype=dian_U, are you sure? (if yes, add to list)\n",
      "ftype=dian_W, are you sure? (if yes, add to list)\n"
     ]
    }
   ],
   "source": [
    "flistV=et.index_model_files(start,end,mod_basedir,mod_nam_fmt,mod_flen,'dian_V',1)\n",
    "flistU=et.index_model_files(start,end,mod_basedir,mod_nam_fmt,mod_flen,'dian_U',1)\n",
    "flistW=et.index_model_files(start,end,mod_basedir,mod_nam_fmt,mod_flen,'dian_W',1)\n",
    "flistC=et.index_model_files(start,end,mod_basedir,mod_nam_fmt,mod_flen,'carp_T',1)\n",
    "flistT=et.index_model_files(start,end,mod_basedir,mod_nam_fmt,mod_flen,'ptrc_T',1)\n",
    "flistP=et.index_model_files(start,end,mod_basedir,mod_nam_fmt,mod_flen,'grid_T',1)\n",
    "flistGV=et.index_model_files(start,end,mod_basedir,mod_nam_fmt,mod_flen,'grid_V',1)\n",
    "flistGU=et.index_model_files(start,end,mod_basedir,mod_nam_fmt,mod_flen,'grid_U',1)"
   ]
  },
  {
   "cell_type": "code",
   "execution_count": 7,
   "metadata": {},
   "outputs": [],
   "source": [
    "NBound, SBound, EBound, BBound, NBoundMix, SBoundMix, EBoundMix, BBoundMix, Content, Vol, A_N, A_S, A_E, times, boxes = nn.calcTransps(\n",
    "    start,end,k1,mod_flen,fver,saveloc,boxes,boxesS,flistV,flistU,flistW,flistC,flistT,recalc=False)"
   ]
  },
  {
   "cell_type": "code",
   "execution_count": 8,
   "metadata": {},
   "outputs": [
    {
     "data": {
      "text/plain": [
       "(2352, 30)"
      ]
     },
     "execution_count": 8,
     "metadata": {},
     "output_type": "execute_result"
    }
   ],
   "source": [
    "# vertical transport into 4th box\n",
    "np.shape(BBound[3])"
   ]
  },
  {
   "cell_type": "raw",
   "metadata": {
    "collapsed": true
   },
   "source": [
    "NO3_VT    v*dx*dz*C =                         mmol N/s  \n",
    "NO3_UT    u*dy*dz*C = m/s*m2*mmol/m3 =        mmol N/s \n",
    "VLDFNO3   dC/dt= (F1-F0)/(dx*dy*dz) => F in   mmol N/s \n",
    "ULDFNO3                                       mmol N/s\n",
    "NO3_WT    w*dx*dy*C =                         mmol N/s\n",
    "VMIXNO3   ~(Cadz-Cbdz)/dt=mmol/m3*1/s*m =     mmol N/m2/s "
   ]
  },
  {
   "cell_type": "code",
   "execution_count": 9,
   "metadata": {},
   "outputs": [],
   "source": [
    "meanT, meanM = nn.calcFluxFields(flistV,flistU,flistW,flistC,k,saveloc,start,end,fver,recalc=False)"
   ]
  },
  {
   "cell_type": "code",
   "execution_count": 10,
   "metadata": {},
   "outputs": [],
   "source": [
    "recalc=False\n",
    "fformat0='%Y%m%d'\n",
    "savepathT=saveloc+'saveVolTransp_'+fver+'_k'+str(k)+'_'+start.strftime(fformat0)+\\\n",
    "                                                               '-'+end.strftime(fformat0)+'.pkl'\n",
    "# calc mean velocities upper k\n",
    "if recalc==True:\n",
    "    VT_i=np.zeros((len(flistGV)*24,jg1-jg0,ig1-ig0))\n",
    "    UT_i=np.zeros((len(flistGV)*24,jg1-jg0,ig1-ig0))\n",
    "    for iif in range(0,len(flistGV)):\n",
    "        with nc.Dataset(flistGV.loc[iif,['paths']].values[0]) as fv, \\\n",
    "              nc.Dataset(flistGU.loc[iif,['paths']].values[0]) as fu, \\\n",
    "                nc.Dataset(flistC.loc[iif,['paths']].values[0]) as fc:\n",
    "            e3te=fc.variables['e3t'][:,:k,jg0:jg1,ig0:ig1]\n",
    "            VTe=np.sum(0.5*(fv.variables['vomecrty'][:,:k,(jg0-1):(jg1-1),ig0:ig1]+fv.variables['vomecrty'][:,:k,jg0:jg1,ig0:ig1])*e3te,1)\n",
    "            UTe=np.sum(0.5*(fu.variables['vozocrtx'][:,:k,jg0:jg1,(ig0-1):(ig1-1)]+fu.variables['vozocrtx'][:,:k,jg0:jg1,ig0:ig1])*e3te,1)\n",
    "        VT_i[(iif*24):(iif*24+24),:,:]=VTe\n",
    "        UT_i[(iif*24):(iif*24+24),:,:]=UTe\n",
    "    mVT=np.mean(VT_i,0)\n",
    "    mUT=np.mean(UT_i,0)\n",
    "    fformat0='%Y%m%d'\n",
    "    pickle.dump({'mVT':mVT,'mUT':mUT},open(savepathT,'wb'))\n",
    "else:\n",
    "    data=pickle.load(open(savepathT,'rb'))\n",
    "    mVT=data['mVT']\n",
    "    mUT=data['mUT']"
   ]
  },
  {
   "cell_type": "code",
   "execution_count": 11,
   "metadata": {},
   "outputs": [],
   "source": [
    "recalc=False\n",
    "savepathV=saveloc+'saveVel_'+fver+'_k'+str(k)+'_'+start.strftime(fformat0)+\\\n",
    "                                                               '-'+end.strftime(fformat0)+'.pkl'\n",
    "# calc mean velocities upper k\n",
    "if recalc==True:\n",
    "    V_i=np.zeros((len(flistGV)*24,jg1-jg0,ig1-ig0))\n",
    "    U_i=np.zeros((len(flistGV)*24,jg1-jg0,ig1-ig0))\n",
    "    for iif in range(0,len(flistGV)):\n",
    "        with nc.Dataset(flistGV.loc[iif,['paths']].values[0]) as fv, \\\n",
    "              nc.Dataset(flistGU.loc[iif,['paths']].values[0]) as fu, \\\n",
    "                nc.Dataset(flistC.loc[iif,['paths']].values[0]) as fc:\n",
    "            e3te=fc.variables['e3t'][:,:k,jg0:jg1,ig0:ig1]\n",
    "            Ve=np.sum(0.5*(fv.variables['vomecrty'][:,:k,(jg0-1):(jg1-1),ig0:ig1]+fv.variables['vomecrty'][:,:k,jg0:jg1,ig0:ig1])*e3te,1)/np.sum(e3te,1)\n",
    "            Ue=np.sum(0.5*(fu.variables['vozocrtx'][:,:k,jg0:jg1,(ig0-1):(ig1-1)]+fu.variables['vozocrtx'][:,:k,jg0:jg1,ig0:ig1])*e3te,1)/np.sum(e3te,1)\n",
    "        V_i[(iif*24):(iif*24+24),:,:]=Ve\n",
    "        U_i[(iif*24):(iif*24+24),:,:]=Ue\n",
    "    mV=np.mean(V_i,0)\n",
    "    mU=np.mean(U_i,0)\n",
    "    fformat0='%Y%m%d'\n",
    "    pickle.dump({'mV':mV,'mU':mU},open(savepathV,'wb'))\n",
    "else:\n",
    "    data=pickle.load(open(savepathV,'rb'))\n",
    "    mV=data['mV']\n",
    "    mU=data['mU']"
   ]
  },
  {
   "cell_type": "code",
   "execution_count": 12,
   "metadata": {},
   "outputs": [],
   "source": [
    "mapCol=(0.67, 0.8, 0.64) # rgb\n",
    "cmb=cmocean.tools.crop_by_percent(cmocean.cm.balance, 45, which='both', N=None)\n",
    "cmb.set_bad(mapCol)\n",
    "cmc=cmocean.tools.crop_by_percent(cmocean.cm.tarn_r, 40, which='both', N=None)\n",
    "cmc.set_bad(mapCol)"
   ]
  },
  {
   "cell_type": "code",
   "execution_count": 13,
   "metadata": {},
   "outputs": [
    {
     "name": "stdout",
     "output_type": "stream",
     "text": [
      "0 118.25862130595658\n",
      "1 64.69582252022084\n",
      "2 -105.97627904544878\n",
      "3 68.34303244168134\n",
      "4 -2.8576949543716967\n",
      "5 61.686409115281705\n"
     ]
    }
   ],
   "source": [
    "for el in BBound.keys():\n",
    "    print(el,np.mean(np.sum(BBound[el][:,:k]+BBoundMix[el][:,:k],1))*1e-3)"
   ]
  },
  {
   "cell_type": "markdown",
   "metadata": {},
   "source": [
    "#### Sum of vertical mixing and transport NO3 supply to region in boxes:"
   ]
  },
  {
   "cell_type": "code",
   "execution_count": 14,
   "metadata": {},
   "outputs": [
    {
     "data": {
      "text/plain": [
       "204.14991138331996"
      ]
     },
     "execution_count": 14,
     "metadata": {},
     "output_type": "execute_result"
    }
   ],
   "source": [
    "np.mean(np.sum(BBound[0][:,:k]+BBoundMix[0][:,:k]+\\\n",
    "               BBound[1][:,:k]+BBoundMix[1][:,:k]+\\\n",
    "               BBound[2][:,:k]+BBoundMix[2][:,:k]+\\\n",
    "               BBound[3][:,:k]+BBoundMix[3][:,:k]+\\\n",
    "               BBound[4][:,:k]+BBoundMix[4][:,:k]+\\\n",
    "               BBound[5][:,:k]+BBoundMix[5][:,:k],1))*1e-3"
   ]
  },
  {
   "cell_type": "markdown",
   "metadata": {},
   "source": [
    "##### Divide by area:"
   ]
  },
  {
   "cell_type": "code",
   "execution_count": 15,
   "metadata": {},
   "outputs": [
    {
     "name": "stdout",
     "output_type": "stream",
     "text": [
      "volumes: \n",
      "(40, 130, 97)\n",
      "0 vol: 232834007.16923195 m3\n",
      "0 north face area: 0.017903174399708822 km2\n",
      "0 south face area: 0.023887115963210383 km2\n",
      "0 east face area: 0.0 km2\n",
      "0 floor area: 38.10316762126778 km2\n",
      "0 floor area: 38.10316762126778 km2\n",
      "(40, 130, 97)\n",
      "1 vol: 475501033.2591236 m3\n",
      "1 north face area: 0.051981996171633744 km2\n",
      "1 south face area: 0.0660928789851366 km2\n",
      "1 east face area: 0.04443908484818648 km2\n",
      "1 floor area: 76.65649877674242 km2\n",
      "1 floor area: 76.65649877674242 km2\n",
      "(40, 130, 97)\n",
      "2 vol: 467855857.4262955 m3\n",
      "2 north face area: 0.0660928789851366 km2\n",
      "2 south face area: 0.058877382444252245 km2\n",
      "2 east face area: 0.044474769797453136 km2\n",
      "2 floor area: 76.13281888160705 km2\n",
      "2 floor area: 76.13281888160705 km2\n",
      "(40, 130, 97)\n",
      "3 vol: 475349561.3011287 m3\n",
      "3 north face area: 0.0691002936013758 km2\n",
      "3 south face area: 0.05633497645148102 km2\n",
      "3 east face area: 0.044501987470235926 km2\n",
      "3 floor area: 77.68207812856889 km2\n",
      "3 floor area: 77.68207812856889 km2\n",
      "(40, 130, 97)\n",
      "4 vol: 460253674.3391861 m3\n",
      "4 north face area: 0.06656271287114815 km2\n",
      "4 south face area: 0.05892732464151781 km2\n",
      "4 east face area: 0.04453044828517323 km2\n",
      "4 floor area: 76.70622481510526 km2\n",
      "4 floor area: 76.70622481510526 km2\n",
      "(40, 130, 97)\n",
      "5 vol: 468674561.80761874 m3\n",
      "5 north face area: 0.07171871451380164 km2\n",
      "5 south face area: 0.05339660783873324 km2\n",
      "5 east face area: 0.04455783029196595 km2\n",
      "5 floor area: 76.99707667445263 km2\n",
      "5 floor area: 76.99707667445263 km2\n"
     ]
    }
   ],
   "source": [
    "ABoxes=nn.boxAreas(k)"
   ]
  },
  {
   "cell_type": "code",
   "execution_count": 16,
   "metadata": {},
   "outputs": [
    {
     "data": {
      "text/plain": [
       "0.48344923651812893"
      ]
     },
     "execution_count": 16,
     "metadata": {},
     "output_type": "execute_result"
    }
   ],
   "source": [
    "# units are umol/m2/s\n",
    "Asum=ABoxes[0]+ABoxes[1]+ABoxes[2]+ABoxes[3]+ABoxes[4]+ABoxes[5]\n",
    "np.mean(np.sum(BBound[0][:,:k]+BBoundMix[0][:,:k]+\\\n",
    "               BBound[1][:,:k]+BBoundMix[1][:,:k]+\\\n",
    "               BBound[2][:,:k]+BBoundMix[2][:,:k]+\\\n",
    "               BBound[3][:,:k]+BBoundMix[3][:,:k]+\\\n",
    "               BBound[4][:,:k]+BBoundMix[4][:,:k]+\\\n",
    "               BBound[5][:,:k]+BBoundMix[5][:,:k],1))/Asum*1e3"
   ]
  },
  {
   "cell_type": "code",
   "execution_count": 17,
   "metadata": {},
   "outputs": [
    {
     "name": "stdout",
     "output_type": "stream",
     "text": [
      "units now mol/s\n",
      "0\n",
      "12.4165832066872 -31.65829609946118 0.0\n",
      "-0.005180450337778597 58.54883826297081 0.0\n",
      "1\n",
      "-19.484615112092047 2.1021624394552925 -3.770476332754742\n",
      "0.0071035156561673075 26.19818259117475 0.009895694646295557\n",
      "2\n",
      "-43.8722950220776 -43.561666793421765 -5.194417959911601\n",
      "0.01954443858148582 10.828914373048864 0.018155411774140928\n",
      "3\n",
      "-5.7729217147063805 18.77739163322735 -2.397192437198338\n",
      "0.010848994083621182 3.9192176249644404 0.01856288425014696\n",
      "4\n",
      "-21.17436127112313 -4.460038945876043 5.912550413009991\n",
      "0.006410463767778579 2.893611412104478 0.021512262360861907\n",
      "5\n",
      "-3.5783155850244373 15.498274764943783 6.319968303690096\n",
      "0.014091323067220073 3.2484178721007906 0.019464459629298568\n"
     ]
    }
   ],
   "source": [
    "NBoundC, SBoundC, EBoundC, BBoundC, NBoundMixC, SBoundMixC, EBoundMixC, BBoundMixC = \\\n",
    "    nn.transpConversions(boxes,NBound,SBound,EBound,BBound,NBoundMix,SBoundMix,EBoundMix,BBoundMix,k)"
   ]
  },
  {
   "cell_type": "code",
   "execution_count": 18,
   "metadata": {},
   "outputs": [
    {
     "data": {
      "text/plain": [
       "{0: -31.65829609946118,\n",
       " 1: 2.1021624394552925,\n",
       " 2: -43.561666793421765,\n",
       " 3: 18.77739163322735,\n",
       " 4: -4.460038945876043,\n",
       " 5: 15.498274764943783}"
      ]
     },
     "execution_count": 18,
     "metadata": {},
     "output_type": "execute_result"
    }
   ],
   "source": [
    "BBoundC"
   ]
  },
  {
   "cell_type": "code",
   "execution_count": 19,
   "metadata": {},
   "outputs": [],
   "source": [
    "mask=dict()\n",
    "mask['V']=vmask0\n",
    "mask['U']=umask0\n",
    "mask['W']=tmask[k,:,:]"
   ]
  },
  {
   "cell_type": "code",
   "execution_count": 26,
   "metadata": {},
   "outputs": [
    {
     "name": "stdout",
     "output_type": "stream",
     "text": [
      "0 12.4165832066872\n",
      "1 -19.484615112092047\n",
      "2 -43.8722950220776\n",
      "3 -5.7729217147063805\n",
      "4 -21.17436127112313\n",
      "5 -3.5783155850244373\n"
     ]
    }
   ],
   "source": [
    "# NBoundC:\n",
    "for el in NBoundC:\n",
    "    print(el,NBoundC[el])"
   ]
  },
  {
   "cell_type": "code",
   "execution_count": 29,
   "metadata": {},
   "outputs": [
    {
     "name": "stdout",
     "output_type": "stream",
     "text": [
      "0 -11.98575050670815\n",
      "1 -43.8722950220776\n",
      "2 -8.062186779212674\n",
      "3 -22.518779678528087\n",
      "4 -4.9180807523362455\n",
      "5 -6.728118199384702\n"
     ]
    }
   ],
   "source": [
    "# SBoundC:\n",
    "for el in SBoundC:\n",
    "    print(el,SBoundC[el])"
   ]
  },
  {
   "cell_type": "code",
   "execution_count": 36,
   "metadata": {},
   "outputs": [
    {
     "data": {
      "text/plain": [
       "-7.498864605383897"
      ]
     },
     "execution_count": 36,
     "metadata": {},
     "output_type": "execute_result"
    }
   ],
   "source": [
    "-19.484615112092047+11.98575050670815"
   ]
  },
  {
   "cell_type": "code",
   "execution_count": 37,
   "metadata": {},
   "outputs": [
    {
     "data": {
      "text/plain": [
       "2.289265064506293"
      ]
     },
     "execution_count": 37,
     "metadata": {},
     "output_type": "execute_result"
    }
   ],
   "source": [
    "-5.7729217147063805+8.062186779212674"
   ]
  },
  {
   "cell_type": "code",
   "execution_count": 38,
   "metadata": {},
   "outputs": [
    {
     "data": {
      "text/plain": [
       "-1.3444184074049588"
      ]
     },
     "execution_count": 38,
     "metadata": {},
     "output_type": "execute_result"
    }
   ],
   "source": [
    "-22.518779678528087+21.17436127112313"
   ]
  },
  {
   "cell_type": "code",
   "execution_count": 41,
   "metadata": {},
   "outputs": [
    {
     "data": {
      "text/plain": [
       "1.3397651673118083"
      ]
     },
     "execution_count": 41,
     "metadata": {},
     "output_type": "execute_result"
    }
   ],
   "source": [
    "-3.5783155850244373+4.9180807523362455"
   ]
  },
  {
   "cell_type": "code",
   "execution_count": 42,
   "metadata": {},
   "outputs": [
    {
     "name": "stdout",
     "output_type": "stream",
     "text": [
      "0 0.0\n",
      "1 -3.770476332754742\n",
      "2 -5.194417959911601\n",
      "3 -2.397192437198338\n",
      "4 5.912550413009991\n",
      "5 6.319968303690096\n"
     ]
    }
   ],
   "source": [
    "# EBoundC:\n",
    "for el in EBoundC:\n",
    "    print(el,EBoundC[el])"
   ]
  },
  {
   "cell_type": "code",
   "execution_count": 33,
   "metadata": {},
   "outputs": [
    {
     "name": "stdout",
     "output_type": "stream",
     "text": [
      "0 58.54883826297081\n",
      "1 26.19818259117475\n",
      "2 10.828914373048864\n",
      "3 3.9192176249644404\n",
      "4 2.893611412104478\n",
      "5 3.2484178721007906\n"
     ]
    }
   ],
   "source": [
    "# BBoundMixC:\n",
    "for el in BBoundMixC:\n",
    "    print(el,BBoundMixC[el])"
   ]
  },
  {
   "cell_type": "code",
   "execution_count": 30,
   "metadata": {},
   "outputs": [
    {
     "name": "stdout",
     "output_type": "stream",
     "text": [
      "0 -31.65829609946118\n",
      "1 2.1021624394552925\n",
      "2 -43.561666793421765\n",
      "3 18.77739163322735\n",
      "4 -4.460038945876043\n",
      "5 15.498274764943783\n"
     ]
    }
   ],
   "source": [
    "# BBoundC:\n",
    "for el in NBoundC:\n",
    "    print(el,BBoundC[el])"
   ]
  },
  {
   "cell_type": "code",
   "execution_count": 20,
   "metadata": {},
   "outputs": [
    {
     "name": "stdout",
     "output_type": "stream",
     "text": [
      "/data/eolson/results/MEOPAR/biomodelevalpaper/figsNNut/Ntransports_k6_2017.pdf\n"
     ]
    },
    {
     "data": {
      "image/png": "[encoded data removed]",
      "text/plain": [
       "<Figure size 540x374.4 with 8 Axes>"
      ]
     },
     "metadata": {
      "needs_background": "light"
     },
     "output_type": "display_data"
    }
   ],
   "source": [
    "fig=plt.figure(figsize=(7.5,5.2))\n",
    "gs0=gridspec.GridSpec(2,2,hspace=0.24,wspace=.13,left=.01,right=.93,bottom=.022,top=.92,\n",
    "                      width_ratios=[1,1],height_ratios=[1,1])\n",
    "ax=list()\n",
    "cbax=list()\n",
    "for jx in range(0,2):\n",
    "    if jx==0:\n",
    "        gsi=gridspec.GridSpecFromSubplotSpec(1, 3, subplot_spec=gs0[0,jx],\n",
    "                                         width_ratios=[10,10*(ig1-ig0-.5)/(ig1-ig0+13),11-10*(ig1-ig0-.5)/(ig1-ig0+13)],wspace=.1)\n",
    "        gsl=gridspec.GridSpecFromSubplotSpec(1, 3, subplot_spec=gs0[1,jx],\n",
    "                                         width_ratios=[10,10,1],wspace=.1)\n",
    "    elif jx==1:\n",
    "        gsi=gridspec.GridSpecFromSubplotSpec(1, 3, subplot_spec=gs0[0,jx],\n",
    "                                         width_ratios=[10,10,1],wspace=.1)\n",
    "        gsl2=gridspec.GridSpecFromSubplotSpec(1, 3, subplot_spec=gs0[1,jx],\n",
    "                                         width_ratios=[10,10,1],wspace=.1)\n",
    "    ax1=fig.add_subplot(gsi[0])\n",
    "    ax1.get_xaxis().set_visible(False)\n",
    "    ax1.get_yaxis().set_visible(False)\n",
    "    viz_tools.set_aspect(ax1)\n",
    "    ax2=fig.add_subplot(gsi[1])\n",
    "    ax2.get_xaxis().set_visible(False)\n",
    "    ax2.get_yaxis().set_visible(False)\n",
    "    viz_tools.set_aspect(ax2)\n",
    "    ax3=fig.add_subplot(gsi[2])\n",
    "    ax.append(ax1,)\n",
    "    ax.append(ax2,)\n",
    "    cbax.append(ax3,)\n",
    "\n",
    "ax7=fig.add_subplot(gsl[0])\n",
    "viz_tools.set_aspect(ax7)\n",
    "ax9=fig.add_subplot(gsl[2])\n",
    "ax.append(ax3,)\n",
    "ax.append(ax3,)\n",
    "ax.append(ax7,)\n",
    "cbax.append(ax9,)\n",
    "cbax.append(ax9,)\n",
    "\n",
    "v1=3000\n",
    "m=ax[0].pcolormesh(np.ma.masked_where(mask['V']==0,1000*(meanT['V']+meanM['V'])),cmap=cmb,vmin=-1*v1,vmax=v1)\n",
    "ax[0].set_title('Northward NO$_3$\\nFlux ($\\muup$mol N m$^{-2}$ s$^{-1}$)\\nAdvection + Mixing')\n",
    "m=ax[1].pcolormesh(np.ma.masked_where(mask['U']==0,1000*(meanT['U']+meanM['U'])),cmap=cmb,vmin=-1*v1,vmax=v1)\n",
    "cb0=fig.colorbar(m,cax=cbax[0])\n",
    "ax[1].set_title('Eastward NO$_3$\\nFlux ($\\muup$mol N m$^{-2}$ s$^{-1}$)\\nAdvection + Mixing')\n",
    "v2=15\n",
    "m=ax[2].pcolormesh(np.ma.masked_where(mask['W']==0,1000*(meanT['W'])),cmap=cmc,vmin=-1*v2,vmax=v2)\n",
    "ax[2].set_title('Vertical NO$_3$\\nFlux ($\\muup$mol N m$^{-2}$ s$^{-1}$)\\nAdvection')\n",
    "m=ax[3].pcolormesh(np.ma.masked_where(mask['W']==0,1000*(meanM['W'])),cmap=cmc,vmin=-1*v2,vmax=v2)\n",
    "cb1=fig.colorbar(m,cax=cbax[1])\n",
    "ax[3].set_title('Vertical NO$_3$\\nFlux ($\\muup$mol N m$^{-2}$ s$^{-1}$)\\nMixing')\n",
    "\n",
    "nn.drawboxesV(ax[0],boxes,boxCol)\n",
    "nn.drawboxesU(ax[1],boxes,boxCol)\n",
    "nn.drawboxesT(ax[2],boxes,boxCol)\n",
    "nn.drawboxesT(ax[3],boxes,boxCol)\n",
    "for iax in ax:\n",
    "    iax.set_facecolor(mapCol)\n",
    "ax[0].set_xlim(-13,ig1-ig0)\n",
    "ax[1].set_xlim(0,ig1-ig0-.5)\n",
    "ax[2].set_xlim(-13,ig1-ig0)\n",
    "ax[3].set_xlim(-13,ig1-ig0)\n",
    "\n",
    "ax[0].set_ylim(.5,jg1-jg0-.5)\n",
    "ax[1].set_ylim(1,jg1-jg0)\n",
    "ax[2].set_ylim(1,jg1-jg0)\n",
    "ax[3].set_ylim(1,jg1-jg0)\n",
    "\n",
    "nn.annotYTranspUpper(ax[0],boxes,NBoundC,SBoundC,NBoundMixC,SBoundMixC)\n",
    "nn.annotXTranspUpper(ax[1],boxes,EBoundC,EBoundMixC)\n",
    "nn.annotWTTranspUpper(ax[2],boxes,BBoundC)\n",
    "nn.annotWMTranspUpper(ax[3],boxes,BBoundMixC)\n",
    "\n",
    "x1=ax[1].get_position()\n",
    "xc1=cbax[0].get_position()\n",
    "cbax[0].set_position(mpl.transforms.Bbox.from_bounds(xc1.bounds[0],x1.bounds[1],.015,x1.bounds[3]))\n",
    "x2=ax[3].get_position()\n",
    "xc2=cbax[1].get_position()\n",
    "cbax[1].set_position(mpl.transforms.Bbox.from_bounds(xc2.bounds[0],x2.bounds[1],.015,x2.bounds[3]))\n",
    "\n",
    "fig.canvas.draw()\n",
    "for icb in (cb0,cb1):\n",
    "    test=icb.ax.yaxis.get_ticklabels()\n",
    "    test[0].set_text('$\\leq$'+(test[0].get_text()))\n",
    "    test[-1].set_text('$\\geq$'+(test[-1].get_text()))\n",
    "    icb.ax.yaxis.set_ticklabels(test)\n",
    "\n",
    "cm0=cmocean.cm.thermal\n",
    "cm0.set_bad(mapCol)\n",
    "cm1=cmocean.cm.dense_r\n",
    "cm1.set_bad(mapCol)\n",
    "\n",
    "\n",
    "\n",
    "iax=ax[6]\n",
    "ii0=6\n",
    "#log scale arrow magnitude without ruining vector directions:\n",
    "clim=(0,3.5)\n",
    "subN=9\n",
    "sh=np.shape(mUT)#mUT\n",
    "shx,shy=np.meshgrid(np.arange(ii0,sh[1],subN),np.arange(ii0,sh[0],subN))\n",
    "#log scale arrow magnitude without ruining vector directions:\n",
    "ugrd=mUT\n",
    "vgrd=mVT\n",
    "mesh=iax.contourf(np.ma.masked_where(tmask[0,:,:]==0,\n",
    "    np.sqrt(ugrd[:,:]**2+vgrd[:,:]**2)),\n",
    "    np.linspace(clim[0],clim[1],200),vmin=clim[0],vmax=clim[1],cmap=cm1,extend='max')\n",
    "mag0=np.sqrt(ugrd**2+vgrd**2)\n",
    "ugrd2=np.ma.masked_where(tmask[0,:,:]==0,ugrd)#np.where(mag0==0,0,ugrd*mag2/mag0))\n",
    "vgrd2=np.ma.masked_where(tmask[0,:,:]==0,vgrd)#np.where(mag0==0,0,vgrd*mag2/mag0))\n",
    "Q = iax.quiver(shx,shy,ugrd2[ii0::subN, ii0::subN], vgrd2[ii0::subN, ii0::subN],\n",
    "                               pivot='mid', units='inches',width=.03,color='w',scale=7,alpha=.7)#scale=4000\n",
    "iax.set_title('Vertically Integrated\\nVelocity (m$^2$ s$^{-1}$)')\n",
    "iax.set_xticks([],[]);\n",
    "iax.set_yticks([],[]);\n",
    "cb=fig.colorbar(mesh,cax=cbax[3],ticks=np.linspace(clim[0],clim[1],6))\n",
    "bb=cbax[3].get_position()\n",
    "cbax[3].set_position([bb.x0-.205,bb.y0,bb.width,bb.height])\n",
    "#p0=ax1.get_position()\n",
    "\n",
    "\n",
    "fig.savefig('/data/eolson/results/MEOPAR/biomodelevalpaper/figsNNut/Ntransports_k'+str(k)+'_2017.png',dpi=300)\n",
    "fig.savefig('/data/eolson/results/MEOPAR/biomodelevalpaper/figsNNut/Ntransports_k'+str(k)+'_2017.pdf',dpi=300)\n",
    "print('/data/eolson/results/MEOPAR/biomodelevalpaper/figsNNut/Ntransports_k'+str(k)+'_2017.pdf')"
   ]
  },
  {
   "cell_type": "markdown",
   "metadata": {},
   "source": [
    "### look at total upward N transports"
   ]
  },
  {
   "cell_type": "code",
   "execution_count": 21,
   "metadata": {},
   "outputs": [
    {
     "data": {
      "image/png": "[encoded data removed]",
      "text/plain": [
       "<Figure size 432x288 with 1 Axes>"
      ]
     },
     "metadata": {
      "needs_background": "light"
     },
     "output_type": "display_data"
    }
   ],
   "source": [
    "fig,ax=plt.subplots(1,1)\n",
    "ax.pcolormesh(np.ma.masked_where(mask['W']==0,1000*(meanT['W']+meanM['W'])),\n",
    "               cmap=cmc,vmin=-1,vmax=1)\n",
    "nn.drawboxesV(ax,boxes,boxCol)"
   ]
  },
  {
   "cell_type": "code",
   "execution_count": 22,
   "metadata": {},
   "outputs": [
    {
     "data": {
      "text/plain": [
       "99.0209765008167"
      ]
     },
     "execution_count": 22,
     "metadata": {},
     "output_type": "execute_result"
    }
   ],
   "source": [
    "## total net N transport in moles N / s\n",
    "np.sum(np.sum(np.ma.masked_where(mask['W']==0,1000*(meanT['W']+meanM['W'])*e12t),1),0)*1e-6\n"
   ]
  },
  {
   "cell_type": "code",
   "execution_count": 23,
   "metadata": {},
   "outputs": [
    {
     "data": {
      "text/plain": [
       "140.9110217213536"
      ]
     },
     "execution_count": 23,
     "metadata": {},
     "output_type": "execute_result"
    }
   ],
   "source": [
    "## total net N transport in moles N / s\n",
    "np.sum(np.sum(np.ma.masked_where(mask['W'][:-3,:]==0,1000*(meanT['W'][:-3,:]+meanM['W'][:-3,:])*e12t[:-3,:]),1),0)*1e-6\n"
   ]
  },
  {
   "cell_type": "markdown",
   "metadata": {},
   "source": [
    "##### divide both by area:"
   ]
  },
  {
   "cell_type": "code",
   "execution_count": 24,
   "metadata": {},
   "outputs": [
    {
     "data": {
      "text/plain": [
       "0.06231395731940909"
      ]
     },
     "execution_count": 24,
     "metadata": {},
     "output_type": "execute_result"
    }
   ],
   "source": [
    "# whole range, umol/m2/s\n",
    "np.sum(np.sum(np.ma.masked_where(mask['W']==0,1000*(meanT['W']+meanM['W'])*e12t),1),0)/np.sum(np.sum(e12t*mask['W']))"
   ]
  },
  {
   "cell_type": "code",
   "execution_count": 25,
   "metadata": {},
   "outputs": [
    {
     "data": {
      "text/plain": [
       "0.08962758060145454"
      ]
     },
     "execution_count": 25,
     "metadata": {},
     "output_type": "execute_result"
    }
   ],
   "source": [
    "# cut off 3, umol/m2/s\n",
    "np.sum(np.sum(np.ma.masked_where(mask['W'][:-3,:]==0,1000*(meanT['W'][:-3,:]+meanM['W'][:-3,:])*e12t[:-3,:]),1),0)/np.sum(np.sum(e12t[:-3,:]*mask['W'][:-3,:]))"
   ]
  },
  {
   "cell_type": "code",
   "execution_count": null,
   "metadata": {},
   "outputs": [],
   "source": []
  },
  {
   "cell_type": "code",
   "execution_count": null,
   "metadata": {},
   "outputs": [],
   "source": []
  }
 ],
 "metadata": {
  "anaconda-cloud": {},
  "kernelspec": {
   "display_name": "Python (py38)",
   "language": "python",
   "name": "py38"
  },
  "language_info": {
   "codemirror_mode": {
    "name": "ipython",
    "version": 3
   },
   "file_extension": ".py",
   "mimetype": "text/x-python",
   "name": "python",
   "nbconvert_exporter": "python",
   "pygments_lexer": "ipython3",
   "version": "3.8.1"
  }
 },
 "nbformat": 4,
 "nbformat_minor": 1
}
