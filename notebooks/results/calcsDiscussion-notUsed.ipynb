{
 "cells": [
  {
   "cell_type": "code",
   "execution_count": 11,
   "metadata": {
    "collapsed": false
   },
   "outputs": [],
   "source": [
    "import matplotlib.pyplot as plt\n",
    "import netCDF4 as nc\n",
    "import numpy as np\n",
    "import os\n",
    "import glob\n",
    "import datetime as dt\n",
    "from salishsea_tools import viz_tools\n",
    "from matplotlib.ticker import FormatStrFormatter\n",
    "import cmocean\n",
    "from salishsea_tools import viz_tools, evaltools as et\n",
    "from salishsea_tools import visualisations\n",
    "import NorthNut as nn\n",
    "import matplotlib.gridspec as gridspec\n",
    "import pickle\n",
    "import matplotlib as mpl\n",
    "import matplotlib.patheffects as path_effects\n",
    "import matplotlib.colors as colors\n",
    "from matplotlib.mlab import bivariate_normal\n",
    "import matplotlib.gridspec as gridspec\n",
    "import gsw\n",
    "fs=8 # fs=8\n",
    "mpl.rc('xtick', labelsize=fs)\n",
    "mpl.rc('ytick', labelsize=fs)\n",
    "mpl.rc('legend', fontsize=fs)\n",
    "mpl.rc('axes', titlesize=fs)\n",
    "mpl.rc('axes', labelsize=fs)\n",
    "mpl.rc('figure', titlesize=fs)\n",
    "mpl.rc('font', size=fs)\n",
    "mpl.rc('text', usetex=True)\n",
    "mpl.rc('text.latex', preamble = ','.join(r'''\n",
    " \\usepackage{txfonts}\n",
    " \\usepackage{lmodern}\n",
    " '''.split()))\n",
    "mpl.rc('font', family='sans-serif', weight='normal', style='normal')\n",
    "%matplotlib inline"
   ]
  },
  {
   "cell_type": "code",
   "execution_count": 4,
   "metadata": {
    "collapsed": false
   },
   "outputs": [],
   "source": [
    "start=dt.datetime(2015,8,1) # make sure start and end are consistent between hindcast and GLS files\n",
    "end=dt.datetime(2015,8,31) # end quickly for now- calculations too long\n",
    "mod_basedir='/data/eolson/results/MEOPAR/SS36runs/linkHC201812/'\n",
    "mod_basedir_GLS='/data/eolson/results/MEOPAR/SS36runs/CedarRuns/GLS_Summer15/'\n",
    "mod_nam_fmt='nowcast'\n",
    "mod_nam_fmt_GLS='long'\n",
    "mod_flen=1\n",
    "mod_flen_GLS=10\n",
    "saveloc='/data/eolson/results/MEOPAR/SS36runs/calcFiles/NTransport/'\n",
    "fver='HC201812'"
   ]
  },
  {
   "cell_type": "code",
   "execution_count": 5,
   "metadata": {
    "collapsed": true
   },
   "outputs": [],
   "source": [
    "ig0=nn.ig0\n",
    "ig1=nn.ig1\n",
    "jg0=nn.jg0\n",
    "jg1=nn.jg1\n",
    "tmaskDIAN=nn.tmask\n",
    "umaskDIAN=nn.umask\n",
    "vmaskDIAN=nn.vmask"
   ]
  },
  {
   "cell_type": "code",
   "execution_count": 10,
   "metadata": {
    "collapsed": false
   },
   "outputs": [],
   "source": [
    "fV=nc.Dataset('/data/eolson/results/MEOPAR/SS36runs/linkHC201812/01jul15/SalishSea_1h_20150701_20150701_grid_V.nc')\n",
    "fT=nc.Dataset('/data/eolson/results/MEOPAR/SS36runs/linkHC201812/01jul15/SalishSea_1h_20150701_20150701_grid_T.nc')"
   ]
  },
  {
   "cell_type": "code",
   "execution_count": 23,
   "metadata": {
    "collapsed": false
   },
   "outputs": [],
   "source": [
    "mesh=nc.Dataset('/ocean/eolson/MEOPAR/NEMO-forcing/grid/mesh_mask201702_noLPE.nc')\n",
    "#bathyf=nc.Dataset('/ocean/eolson/MEOPAR/NEMO-forcing/grid/bathymetry_201702.nc')\n",
    "depthT = mesh.variables['gdept_0'][0, ...]\n",
    "depthU = mesh.variables['gdepu'][0, ...]\n",
    "depthV = mesh.variables['gdepv'][0, ...]\n",
    "depthW = mesh.variables['gdepw_0'][0, ...]\n",
    "e1t=mesh.variables['e1t'][0,...]\n",
    "e2t=mesh.variables['e2t'][0,...]\n",
    "mbathyT=mesh.variables['mbathy'][0,...]\n",
    "mbathyU=np.sum(mesh.variables['umask'][0,:,:,:],0)\n",
    "mbathyV=np.sum(mesh.variables['vmask'][0,:,:,:],0)\n",
    "tmask=mesh.variables['tmask'][0,:,:,:]\n",
    "umask=mesh.variables['umask'][0,:,:,:]\n",
    "vmask=mesh.variables['vmask'][0,:,:,:]\n",
    "fmask=mesh.variables['fmask'][0,:,:,:]\n",
    "e1f=np.copy(mesh.variables['e1f'][0,jg0:jg1,ig0:ig1])\n",
    "e2f=np.copy(mesh.variables['e2f'][0,jg0:jg1,ig0:ig1])\n",
    "e3t_0=np.copy(mesh.variables['e3t_0'][0,:,:,:])\n",
    "e3w_0=np.copy(mesh.variables['e3w_0'][0,:,:,:])\n",
    "tmaska=mesh.variables['tmask'][:,:,jg0:jg1,ig0:ig1]"
   ]
  },
  {
   "cell_type": "code",
   "execution_count": 88,
   "metadata": {
    "collapsed": false
   },
   "outputs": [
    {
     "data": {
      "text/plain": [
       "[<matplotlib.lines.Line2D at 0x7f19d9b2b358>]"
      ]
     },
     "execution_count": 88,
     "metadata": {},
     "output_type": "execute_result"
    },
    {
     "data": {
      "image/png": "[encoded data removed]",
      "text/plain": [
       "<Figure size 432x288 with 1 Axes>"
      ]
     },
     "metadata": {
      "needs_background": "light"
     },
     "output_type": "display_data"
    }
   ],
   "source": [
    "plt.pcolormesh(tmaskDIAN[0,:,:])\n",
    "plt.plot((8,15),(123,123),'r-')"
   ]
  },
  {
   "cell_type": "code",
   "execution_count": 90,
   "metadata": {
    "collapsed": false
   },
   "outputs": [
    {
     "data": {
      "text/plain": [
       "3.640423"
      ]
     },
     "execution_count": 90,
     "metadata": {},
     "output_type": "execute_result"
    },
    {
     "data": {
      "image/png": "[encoded data removed]",
      "text/plain": [
       "<Figure size 432x288 with 2 Axes>"
      ]
     },
     "metadata": {
      "needs_background": "light"
     },
     "output_type": "display_data"
    }
   ],
   "source": [
    "plt.pcolormesh(np.max(np.abs(fV.variables['vomecrty'][:,:,jg0+100,(ig0+10):(ig0+18)]),0))\n",
    "plt.colorbar()\n",
    "np.max(np.max(np.max(np.abs(fV.variables['vomecrty'][:,:,jg0+100,(ig0+10):(ig0+18)]),0)))"
   ]
  },
  {
   "cell_type": "code",
   "execution_count": 36,
   "metadata": {
    "collapsed": false
   },
   "outputs": [
    {
     "data": {
      "text/plain": [
       "(-100, 0)"
      ]
     },
     "execution_count": 36,
     "metadata": {},
     "output_type": "execute_result"
    },
    {
     "data": {
      "image/png": "[encoded data removed]",
      "text/plain": [
       "<Figure size 288x432 with 1 Axes>"
      ]
     },
     "metadata": {
      "needs_background": "light"
     },
     "output_type": "display_data"
    }
   ],
   "source": [
    "fig,ax=plt.subplots(1,1,figsize=(4,6))\n",
    "ax.plot(np.max(fV.variables['vomecrty'][:,:,jg0+100,ig0+14],0),-1*depthV[:,jg0+100,ig0+14])\n",
    "ax.set_ylim(-100,0)"
   ]
  },
  {
   "cell_type": "code",
   "execution_count": 38,
   "metadata": {
    "collapsed": false
   },
   "outputs": [],
   "source": [
    "SA=fT.variables['vosaline'][:,:,jg0+100,ig0+14]\n",
    "CT=fT.variables['votemper'][:,:,jg0+100,ig0+14]\n",
    "rho=gsw.density.rho(SA,CT,70*np.ones(np.shape(SA)))\n"
   ]
  },
  {
   "cell_type": "code",
   "execution_count": 105,
   "metadata": {
    "collapsed": true
   },
   "outputs": [],
   "source": [
    "CT2=np.copy(CT)\n",
    "CT2[:,0]=CT[:,0]+5\n",
    "rho2=gsw.density.rho(SA,CT2,70*np.ones(np.shape(SA)))"
   ]
  },
  {
   "cell_type": "code",
   "execution_count": 106,
   "metadata": {
    "collapsed": false
   },
   "outputs": [
    {
     "data": {
      "text/plain": [
       "1022.2146263626064"
      ]
     },
     "execution_count": 106,
     "metadata": {},
     "output_type": "execute_result"
    },
    {
     "data": {
      "image/png": "[encoded data removed]",
      "text/plain": [
       "<Figure size 432x288 with 2 Axes>"
      ]
     },
     "metadata": {
      "needs_background": "light"
     },
     "output_type": "display_data"
    }
   ],
   "source": [
    "plt.pcolormesh(np.flipud(np.transpose(rho[:,:26])))\n",
    "plt.colorbar()\n",
    "np.mean(rho[:,:26])"
   ]
  },
  {
   "cell_type": "code",
   "execution_count": 110,
   "metadata": {
    "collapsed": false
   },
   "outputs": [
    {
     "data": {
      "text/plain": [
       "masked_array(data=[11.502548 , 12.065757 , 15.1470785, 14.290495 ,\n",
       "                   15.638288 , 15.932125 , 16.203033 , 15.136778 ,\n",
       "                   13.208365 , 12.564472 , 11.73221  , 11.627055 ,\n",
       "                   11.632663 , 13.443609 , 13.900567 , 15.09379  ,\n",
       "                   15.477892 , 14.948895 , 13.952021 , 13.2486725,\n",
       "                   11.893248 , 11.469323 , 11.547125 , 11.471854 ],\n",
       "             mask=False,\n",
       "       fill_value=1e+20,\n",
       "            dtype=float32)"
      ]
     },
     "execution_count": 110,
     "metadata": {},
     "output_type": "execute_result"
    },
    {
     "data": {
      "image/png": "[encoded data removed]",
      "text/plain": [
       "<Figure size 432x288 with 2 Axes>"
      ]
     },
     "metadata": {
      "needs_background": "light"
     },
     "output_type": "display_data"
    }
   ],
   "source": [
    "plt.pcolormesh(np.flipud(np.transpose(fT.variables['votemper'][:,:26,jg0+100,ig0+14])))\n",
    "plt.colorbar()\n",
    "fT.variables['votemper'][:,0,jg0+100,ig0+14]"
   ]
  },
  {
   "cell_type": "code",
   "execution_count": 107,
   "metadata": {
    "collapsed": false
   },
   "outputs": [
    {
     "data": {
      "text/plain": [
       "(-3.9602287479181086, -5.131453037956021)"
      ]
     },
     "execution_count": 107,
     "metadata": {},
     "output_type": "execute_result"
    },
    {
     "data": {
      "image/png": "[encoded data removed]",
      "text/plain": [
       "<Figure size 432x288 with 1 Axes>"
      ]
     },
     "metadata": {
      "needs_background": "light"
     },
     "output_type": "display_data"
    }
   ],
   "source": [
    "plt.plot(rho[:,0]-rho[:,25])\n",
    "np.min(rho[:,0]-rho[:,25]),np.min(rho2[:,0]-rho[:,25])"
   ]
  },
  {
   "cell_type": "code",
   "execution_count": 62,
   "metadata": {
    "collapsed": false
   },
   "outputs": [
    {
     "data": {
      "text/plain": [
       "26"
      ]
     },
     "execution_count": 62,
     "metadata": {},
     "output_type": "execute_result"
    }
   ],
   "source": [
    "np.sum(tmask[:,jg0+100,ig0+14])"
   ]
  },
  {
   "cell_type": "code",
   "execution_count": 68,
   "metadata": {
    "collapsed": false
   },
   "outputs": [
    {
     "data": {
      "text/plain": [
       "69.46838995464037"
      ]
     },
     "execution_count": 68,
     "metadata": {},
     "output_type": "execute_result"
    }
   ],
   "source": [
    "np.sum(e3t_0[:26,jg0+100,ig0+14])"
   ]
  },
  {
   "cell_type": "code",
   "execution_count": 99,
   "metadata": {
    "collapsed": false
   },
   "outputs": [
    {
     "data": {
      "text/plain": [
       "0.10684931506849318"
      ]
     },
     "execution_count": 99,
     "metadata": {},
     "output_type": "execute_result"
    }
   ],
   "source": [
    "(3.65-3.26)/3.65"
   ]
  },
  {
   "cell_type": "code",
   "execution_count": 100,
   "metadata": {
    "collapsed": false
   },
   "outputs": [
    {
     "data": {
      "text/plain": [
       "0.06666666666666667"
      ]
     },
     "execution_count": 100,
     "metadata": {},
     "output_type": "execute_result"
    }
   ],
   "source": [
    ".2/3"
   ]
  },
  {
   "cell_type": "code",
   "execution_count": 98,
   "metadata": {
    "collapsed": false
   },
   "outputs": [
    {
     "data": {
      "text/plain": [
       "0.2500623020169815"
      ]
     },
     "execution_count": 98,
     "metadata": {},
     "output_type": "execute_result"
    }
   ],
   "source": [
    "# depth is ~70 m; vmax~3.65 m/s; delta rho~ -3.96; rho_0= 1022.2\n",
    "Ri=9.8/1022.2*3.96/70/(3.26/70)**2\n",
    "Ri"
   ]
  },
  {
   "cell_type": "code",
   "execution_count": 108,
   "metadata": {
    "collapsed": false
   },
   "outputs": [
    {
     "data": {
      "text/plain": [
       "0.323944345794726"
      ]
     },
     "execution_count": 108,
     "metadata": {},
     "output_type": "execute_result"
    }
   ],
   "source": [
    "# depth is ~70 m; vmax~3.65 m/s; delta rho~ -3.96; rho_0= 1022.2\n",
    "Ri2=9.8/1022.2*5.13/70/(3.26/70)**2\n",
    "Ri2"
   ]
  },
  {
   "cell_type": "code",
   "execution_count": 132,
   "metadata": {
    "collapsed": false
   },
   "outputs": [
    {
     "data": {
      "text/plain": [
       "[<matplotlib.lines.Line2D at 0x7f19d951eef0>]"
      ]
     },
     "execution_count": 132,
     "metadata": {},
     "output_type": "execute_result"
    },
    {
     "data": {
      "image/png": "[encoded data removed]",
      "text/plain": [
       "<Figure size 432x288 with 1 Axes>"
      ]
     },
     "metadata": {
      "needs_background": "light"
     },
     "output_type": "display_data"
    }
   ],
   "source": [
    "plt.pcolormesh(tmask[0,:,:])\n",
    "plt.xlim(90,250)\n",
    "plt.ylim(650,800)\n",
    "plt.plot(125,745,'r*')\n",
    "plt.plot(128,710,'b*')\n",
    "plt.plot(155,730,'g*')\n",
    "plt.plot(150,690,'c*')"
   ]
  },
  {
   "cell_type": "code",
   "execution_count": null,
   "metadata": {
    "collapsed": true
   },
   "outputs": [],
   "source": []
  }
 ],
 "metadata": {
  "anaconda-cloud": {},
  "kernelspec": {
   "display_name": "Python [conda env:py37]",
   "language": "python",
   "name": "conda-env-py37-py"
  },
  "language_info": {
   "codemirror_mode": {
    "name": "ipython",
    "version": 3
   },
   "file_extension": ".py",
   "mimetype": "text/x-python",
   "name": "python",
   "nbconvert_exporter": "python",
   "pygments_lexer": "ipython3",
   "version": "3.7.2"
  }
 },
 "nbformat": 4,
 "nbformat_minor": 1
}
