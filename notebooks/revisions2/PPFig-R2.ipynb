{
 "cells": [
  {
   "cell_type": "code",
   "execution_count": 1,
   "metadata": {},
   "outputs": [
    {
     "name": "stdout",
     "output_type": "stream",
     "text": [
      "NorthNut defined variables: ig0,ig1,jg0,jg1,fformat0\n",
      "NorthNut defined variables: vmask, vmask0, umask, umask0, tmask, fmask, gdept,  gdept_1d, e1t, e2t, e12t, e1f, e2f, e1v, e2u, e3t_1d\n",
      "NorthNut defined variables: boxCol, colL, colR, arrowwidth, headwidth, headlength, alen, toff, apw, apk\n"
     ]
    }
   ],
   "source": [
    "import matplotlib.pyplot as plt\n",
    "import netCDF4 as nc\n",
    "import numpy as np\n",
    "import os\n",
    "import glob\n",
    "import datetime as dt\n",
    "from salishsea_tools import viz_tools\n",
    "from matplotlib.ticker import FormatStrFormatter\n",
    "import cmocean\n",
    "from salishsea_tools import viz_tools, evaltools as et\n",
    "from salishsea_tools import visualisations\n",
    "import NorthNut as nn\n",
    "import matplotlib.gridspec as gridspec\n",
    "import pickle\n",
    "import matplotlib as mpl\n",
    "import matplotlib.patheffects as path_effects\n",
    "import matplotlib.colors as colors\n",
    "#from matplotlib.mlab import bivariate_normal\n",
    "import gsw\n",
    "fs=8 # fs=8\n",
    "mpl.rc('xtick', labelsize=fs)\n",
    "mpl.rc('ytick', labelsize=fs)\n",
    "mpl.rc('legend', fontsize=fs)\n",
    "mpl.rc('axes', titlesize=fs)\n",
    "mpl.rc('axes', labelsize=fs)\n",
    "mpl.rc('figure', titlesize=fs)\n",
    "mpl.rc('font', size=fs)\n",
    "mpl.rc('text', usetex=True)\n",
    "mpl.rc('text.latex', preamble =r'''\n",
    " \\usepackage{txfonts}\n",
    " \\usepackage{lmodern}\n",
    " ''')\n",
    "mpl.rc('font', family='sans-serif', weight='normal', style='normal')\n",
    "%matplotlib inline"
   ]
  },
  {
   "cell_type": "code",
   "execution_count": 2,
   "metadata": {},
   "outputs": [],
   "source": [
    "ig0=nn.ig0\n",
    "ig1=nn.ig1\n",
    "jg0=nn.jg0\n",
    "jg1=nn.jg1\n",
    "tmaskDIAN=nn.tmask\n",
    "umaskDIAN=nn.umask\n",
    "vmaskDIAN=nn.vmask"
   ]
  },
  {
   "cell_type": "code",
   "execution_count": 3,
   "metadata": {},
   "outputs": [],
   "source": [
    "e12t=nn.e12t"
   ]
  },
  {
   "cell_type": "code",
   "execution_count": 4,
   "metadata": {},
   "outputs": [],
   "source": [
    "def vvl_interp_T_to_V(pe3_in,e1v,e2v,e1t,e2t,vmask,e3t_0,e3v_0):\n",
    "    # keep extra dimensions in mesh variables\n",
    "    e12v = e1v[0,:,:]*e2v[0,:,:]\n",
    "    e12t = e1t[0,:,:]*e2t[0,:,:]\n",
    "    pe3_out=np.zeros(np.shape(pe3_in))\n",
    "    pe3_out[:,:,:-1,:-1]=.5*vmask[:,:,:-1,:-1]/e12v[:-1,:-1]*(e12t[:-1,:-1]*(pe3_in[:,:,:-1,:-1]-e3t_0[:,:,:-1,:-1])+e12t[1:,:-1]*(pe3_in[:,:,1:,:-1]-e3t_0[:,:,1:,:-1]))\n",
    "    pe3_out=pe3_out+e3v_0\n",
    "    #DO jk = 1, jpk\n",
    "    #        DO jj = 1, jpjm1\n",
    "    #           DO ji = 1, fs_jpim1   ! vector opt.\n",
    "    #              pe3_out(ji,jj,jk) = 0.5_wp * vmask(ji,jj,jk) * r1_e12v(ji,jj)                                   &\n",
    "    #                 &                       * (   e12t(ji,jj  ) * ( pe3_in(ji,jj  ,jk) - e3t_0(ji,jj  ,jk) )     &\n",
    "    #                 &                           + e12t(ji,jj+1) * ( pe3_in(ji,jj+1,jk) - e3t_0(ji,jj+1,jk) ) )\n",
    "    #           END DO\n",
    "    #        END DO\n",
    "    #     END DO\n",
    "    #pe3_out(:,:,:) = pe3_out(:,:,:) + e3v_0(:,:,:)\n",
    "    return pe3_out"
   ]
  },
  {
   "cell_type": "code",
   "execution_count": 5,
   "metadata": {},
   "outputs": [],
   "source": [
    "def vvl_interp_T_to_W(pe3_in,e3w_0,e3t_0,tmask):\n",
    "    pe3_out=np.zeros(np.shape(pe3_in))\n",
    "    pe3_out[:,0,:,:] = e3w_0[:,0,:,:] + pe3_in[:,0,:,:] - e3t_0[0,:,:]\n",
    "    pe3_out[:,1:,:,:] = e3w_0[:,1:,:,:]+(1-.5*tmask[:,1:,:,:])*(pe3_in[:,:-1,:,:]-e3t_0[:,:-1,:,:])+.5*tmask[:,1:,:,:]*(pe3_in[:,1:,:,:]-e3t_0[:,1:,:,:])\n",
    "    #     ! - ML - The use of mask in this formaula enables the special treatment of the last w- point without indirect adressing\n",
    "    #     DO jk = 2, jpk\n",
    "    #        pe3_out(:,:,jk) = e3w_0(:,:,jk) + ( 1.0_wp - 0.5_wp * tmask(:,:,jk) ) * ( pe3_in(:,:,jk-1) - e3t_0(:,:,jk-1) )   &\n",
    "    #           &                            +            0.5_wp * tmask(:,:,jk)   * ( pe3_in(:,:,jk  ) - e3t_0(:,:,jk  ) )\n",
    "    #     END DO\n",
    "    return pe3_out"
   ]
  },
  {
   "cell_type": "code",
   "execution_count": 6,
   "metadata": {},
   "outputs": [],
   "source": [
    "# based on Nancy's code in visualisations.py:\n",
    "def fill_in(variable, kbathy):\n",
    "    \"\"\"For each horizontal point in variable, fill in first vertically masked\n",
    "    point with the value just above.\n",
    "    Use mbathy in mesh_mask file to determine level of vertical masking\n",
    "\n",
    "    :arg variable: the variable to be filled\n",
    "    :type variable: 2D numpy array\n",
    "\n",
    "    :arg kbathy: array of index of first bathymetry cell corresponding to variable\n",
    "    :type variable: 2D numpy array\n",
    "\n",
    "    :returns: newvar, the filled numpy array\n",
    "    \"\"\"\n",
    "    newvar = np.copy(variable)\n",
    "    for i, level in enumerate(kbathy):\n",
    "        newvar[level, i] = variable[level-1, i]\n",
    "    return newvar"
   ]
  },
  {
   "cell_type": "code",
   "execution_count": 7,
   "metadata": {},
   "outputs": [
    {
     "data": {
      "text/plain": [
       "datetime.datetime(2015, 8, 21, 0, 0)"
      ]
     },
     "execution_count": 7,
     "metadata": {},
     "output_type": "execute_result"
    }
   ],
   "source": [
    "dt.datetime(2015,5,15)+dt.timedelta(days=14*7)"
   ]
  },
  {
   "cell_type": "code",
   "execution_count": 8,
   "metadata": {},
   "outputs": [],
   "source": [
    "start=dt.datetime(2015,5,15) # use even number of fortnights (6, end is included)\n",
    "end=dt.datetime(2015,8,20) # end quickly for now- calculations too long\n",
    "#t0_GLS=dt.datetime(2015,5,11) # start of GLS runs\n",
    "\n",
    "#start=dt.datetime(2015,5,11) # make sure start and end are consistent between hindcast and GLS files\n",
    "#end=dt.datetime(2015,5,12) # end quickly for now- calculations too long\n",
    "mod_basedir='/results/SalishSea/nowcast-green.201812/'\n",
    "#'/data/eolson/results/MEOPAR/SS36runs/linkHC201812/'\n",
    "mod_basedir_GLS='/data/eolson/results/MEOPAR/SS36runs/CedarRuns/GLS_Summer15/'\n",
    "mod_nam_fmt='nowcast'\n",
    "mod_nam_fmt_GLS='long'\n",
    "mod_flen=1\n",
    "mod_flen_GLS=10\n",
    "saveloc='/data/eolson/results/MEOPAR/SS36runs/calcFiles/NTransport/'\n",
    "fver='HC201812'"
   ]
  },
  {
   "cell_type": "code",
   "execution_count": 9,
   "metadata": {},
   "outputs": [],
   "source": [
    "ig0=nn.ig0\n",
    "ig1=nn.ig1\n",
    "jg0=nn.jg0\n",
    "jg1=nn.jg1\n",
    "tmaskDIAN=nn.tmask\n",
    "umaskDIAN=nn.umask\n",
    "vmaskDIAN=nn.vmask"
   ]
  },
  {
   "cell_type": "code",
   "execution_count": 10,
   "metadata": {},
   "outputs": [],
   "source": [
    "mesh=nc.Dataset('/ocean/eolson/MEOPAR/NEMO-forcing/grid/mesh_mask201702_noLPE.nc')\n",
    "#bathyf=nc.Dataset('/ocean/eolson/MEOPAR/NEMO-forcing/grid/bathymetry_201702.nc')\n",
    "depthT = mesh.variables['gdept_0'][0, ...]\n",
    "depthU = mesh.variables['gdepu'][0, ...]\n",
    "depthV = mesh.variables['gdepv'][0, ...]\n",
    "depthW = mesh.variables['gdepw_0'][0, ...]\n",
    "mbathyT=mesh.variables['mbathy'][0,...]\n",
    "mbathyU=np.sum(mesh.variables['umask'][0,:,:,:],0)\n",
    "mbathyV=np.sum(mesh.variables['vmask'][0,:,:,:],0)\n",
    "tmask=mesh.variables['tmask'][:,:,:,:]\n",
    "vmask=mesh.variables['vmask'][:,:,:,:]\n",
    "e1t=mesh.variables['e1t'][:,:,:]\n",
    "e2t=mesh.variables['e2t'][:,:,:]\n",
    "e1v=mesh.variables['e1v'][:,:,:]\n",
    "e2v=mesh.variables['e2v'][:,:,:]\n",
    "e3t_0=mesh.variables['e3t_0'][:,:,:,:]\n",
    "e3v_0=mesh.variables['e3v_0'][:,:,:,:]\n",
    "e3w_0=mesh.variables['e3w_0'][:,:,:,:]\n",
    "navlon=mesh.variables['nav_lon'][:,:]\n",
    "navlat=mesh.variables['nav_lat'][:,:]"
   ]
  },
  {
   "cell_type": "code",
   "execution_count": 11,
   "metadata": {},
   "outputs": [],
   "source": [
    "iso90_pts=np.loadtxt('/ocean/eolson/MEOPAR/northernNO3PaperCalcs/notebooks/results/ts90.txt', delimiter=' ', dtype=int)\n",
    "iso90=np.array([[a,b] for (a,b) in iso90_pts if ((a-644)<130)])\n",
    "iso90_DIAN=np.array([[a-644,b-112] for (a,b) in iso90])"
   ]
  },
  {
   "cell_type": "code",
   "execution_count": 12,
   "metadata": {},
   "outputs": [],
   "source": [
    "lat=np.copy(mesh.variables['nav_lat'])\n",
    "thLatT = lat[iso90[:,0],iso90[:,1]]\n",
    "dep_thalT, distanceT, thTmask = visualisations.load_thalweg(\n",
    "            depthT, mesh.variables['tmask'][0,:,:,:], mesh.variables['nav_lon'][:], mesh.variables['nav_lat'][:],\n",
    "            iso90)"
   ]
  },
  {
   "cell_type": "code",
   "execution_count": 13,
   "metadata": {},
   "outputs": [],
   "source": [
    "bathyT=np.sum(np.ma.masked_where(mesh.variables['tmask'][0,:,:,:]==0,mesh.variables['e3t_0'][0,:,:,:]),0)\n",
    "bathyU=np.sum(np.ma.masked_where(mesh.variables['umask'][0,:,:,:]==0,mesh.variables['e3u_0'][0,:,:,:]),0)\n",
    "bathyV=np.sum(np.ma.masked_where(mesh.variables['vmask'][0,:,:,:]==0,mesh.variables['e3v_0'][0,:,:,:]),0)"
   ]
  },
  {
   "cell_type": "code",
   "execution_count": 14,
   "metadata": {},
   "outputs": [
    {
     "data": {
      "text/plain": [
       "<matplotlib.colorbar.Colorbar at 0x7f9073fa1a60>"
      ]
     },
     "execution_count": 14,
     "metadata": {},
     "output_type": "execute_result"
    },
    {
     "data": {
      "image/png": "[encoded data removed]",
      "text/plain": [
       "<Figure size 576x288 with 6 Axes>"
      ]
     },
     "metadata": {
      "needs_background": "light"
     },
     "output_type": "display_data"
    }
   ],
   "source": [
    "fig,ax=plt.subplots(1,3,figsize=(8,4))\n",
    "m=ax[0].pcolormesh(bathyT)\n",
    "fig.colorbar(m,ax=ax[0])\n",
    "m=ax[1].pcolormesh(bathyV)\n",
    "fig.colorbar(m,ax=ax[1])\n",
    "m=ax[2].pcolormesh(bathyU)\n",
    "fig.colorbar(m,ax=ax[2])"
   ]
  },
  {
   "cell_type": "code",
   "execution_count": 15,
   "metadata": {},
   "outputs": [],
   "source": [
    "thTmbathy=mbathyT[iso90[:,0],iso90[:,1]]\n",
    "thUmbathy=mbathyU[iso90[:,0],iso90[:,1]]\n",
    "thVmbathy=mbathyV[iso90[:,0],iso90[:,1]]"
   ]
  },
  {
   "cell_type": "code",
   "execution_count": 16,
   "metadata": {},
   "outputs": [
    {
     "name": "stdout",
     "output_type": "stream",
     "text": [
      "ftype=dian_W, are you sure? (if yes, add to list)\n",
      "ftype=dian_U, are you sure? (if yes, add to list)\n",
      "ftype=dian_V, are you sure? (if yes, add to list)\n",
      "ftype=prod_T, are you sure? (if yes, add to list)\n"
     ]
    }
   ],
   "source": [
    "# load from hindcast\n",
    "fliste3t=et.index_model_files(start,end,mod_basedir,mod_nam_fmt,mod_flen,'carp_T',1)\n",
    "flistU=et.index_model_files(start,end,mod_basedir,mod_nam_fmt,mod_flen,'grid_U',1)\n",
    "flistV=et.index_model_files(start,end,mod_basedir,mod_nam_fmt,mod_flen,'grid_V',1)\n",
    "flistW=et.index_model_files(start,end,mod_basedir,mod_nam_fmt,mod_flen,'grid_W',1)\n",
    "flistT=et.index_model_files(start,end,mod_basedir,mod_nam_fmt,mod_flen,'grid_T',1)\n",
    "flistB=et.index_model_files(start,end,mod_basedir,mod_nam_fmt,mod_flen,'ptrc_T',1)\n",
    "flistNW=et.index_model_files(start,end,mod_basedir,mod_nam_fmt,mod_flen,'dian_W',1)\n",
    "flistNU=et.index_model_files(start,end,mod_basedir,mod_nam_fmt,mod_flen,'dian_U',1)\n",
    "flistNV=et.index_model_files(start,end,mod_basedir,mod_nam_fmt,mod_flen,'dian_V',1)\n",
    "flistR=et.index_model_files(start,end,mod_basedir,mod_nam_fmt,mod_flen,'prod_T',1)"
   ]
  },
  {
   "cell_type": "code",
   "execution_count": 17,
   "metadata": {},
   "outputs": [],
   "source": [
    "recalc=False\n",
    "if recalc==True:\n",
    "    PAR_i=list()\n",
    "    NO3_i=list()\n",
    "    tc_i=list()\n",
    "    for iif in range(0,len(flistT)):\n",
    "        print('iif=',iif)\n",
    "        with nc.Dataset(flistB.loc[iif,['paths']].values[0]) as fB,\\\n",
    "                  nc.Dataset(fliste3t.loc[iif,['paths']].values[0]) as fR:\n",
    "            # extract fields to numpy variables for faster transect extraction:\n",
    "            PARe=np.copy(fR.variables['PAR'][:,:,jg0:jg1,ig0:ig1])*tmask[:,:,jg0:jg1,ig0:ig1]\n",
    "            NO3e=np.copy(fB.variables['nitrate'][:,:,jg0:jg1,ig0:ig1])*tmask[:,:,jg0:jg1,ig0:ig1]\n",
    "            tc_i.append(fB.variables['time_centered'][:])\n",
    "        PAR_i.append(PARe[:,:, iso90_DIAN[:, 0], iso90_DIAN[:, 1]])\n",
    "        NO3_i.append(NO3e[:,:, iso90_DIAN[:, 0], iso90_DIAN[:, 1]])\n",
    "\n",
    "    PAR=np.concatenate(PAR_i,axis=0)\n",
    "    NO3=np.concatenate(NO3_i,axis=0)\n",
    "    with open('../../save/isobathNO3PAR.pkl','wb') as ff:\n",
    "        pickle.dump([PAR,NO3],ff)\n",
    "else:\n",
    "    with open('../../save/isobathNO3PAR.pkl','rb') as ff:\n",
    "        [PAR,NO3]=pickle.load(ff)"
   ]
  },
  {
   "cell_type": "code",
   "execution_count": 18,
   "metadata": {},
   "outputs": [],
   "source": [
    "recalc=False\n",
    "if recalc==True:\n",
    "    sti=list()\n",
    "    sti1=list()\n",
    "    sti2=list()\n",
    "    e3t_i=list()\n",
    "    e3v_i=list()\n",
    "    tc_i=list()\n",
    "    e3ta_i=list()\n",
    "    rho_i=list()\n",
    "    for iif in range(0,len(flistT)):\n",
    "        print('iif=',iif)\n",
    "        with nc.Dataset(fliste3t.loc[iif,['paths']].values[0]) as fe3t,\\\n",
    "                  nc.Dataset(flistT.loc[iif,['paths']].values[0]) as fT:\n",
    "            # extract fields to numpy variables for faster transect extraction:\n",
    "            sshe=np.copy(fT.variables['sossheig'][:,jg0:jg1,ig0:ig1])\n",
    "            e3te=np.copy(fe3t.variables['e3t'][:,:,jg0:jg1,ig0:ig1])*tmask[:,:,jg0:jg1,ig0:ig1]\n",
    "            tc_i.append(fT.variables['time_centered'][:])\n",
    "            SAe=fT.variables['vosaline'][:,:,jg0:jg1,ig0:ig1]\n",
    "            CTe=fT.variables['votemper'][:,:,jg0:jg1,ig0:ig1]\n",
    "            rhoe=gsw.sigma0(SAe,CTe)\n",
    "        e3ve=vvl_interp_T_to_V(e3te,e1v[:,jg0:jg1,ig0:ig1],e2v[:,jg0:jg1,ig0:ig1],\n",
    "                              e1t[:,jg0:jg1,ig0:ig1],e2t[:,jg0:jg1,ig0:ig1],\n",
    "                              vmask[:,:,jg0:jg1,ig0:ig1],e3t_0[:,:,jg0:jg1,ig0:ig1],e3v_0[:,:,jg0:jg1,ig0:ig1])\n",
    "        # 1st extract Discovery mouth transect for diagnosing tidal phase:\n",
    "        sti.append(np.sum(tmaskDIAN[0,93,9:16]*sshe[:,93,9:16],1)/np.sum(tmaskDIAN[0,93,9:16]))\n",
    "        sti1.append(sshe[:,iso90_DIAN[-1,0],iso90_DIAN[-1,1]])\n",
    "        sti2.append(sshe[:,iso90_DIAN[0,0],iso90_DIAN[0,1]])\n",
    "        e3t_i.append(e3te[:,:, iso90_DIAN[:, 0], iso90_DIAN[:, 1]])\n",
    "        e3ta_i.append(e3te[:,:,:,:])\n",
    "        e3v_i.append(e3ve[:,:, iso90_DIAN[:, 0], iso90_DIAN[:, 1]])\n",
    "        rho_i.append(rhoe[:,:, iso90_DIAN[:, 0], iso90_DIAN[:, 1]])\n",
    "\n",
    "    st=np.concatenate(sti,axis=0)\n",
    "    st1=np.concatenate(sti1,axis=0)\n",
    "    st2=np.concatenate(sti2,axis=0)\n",
    "    e3t=np.concatenate(e3t_i,axis=0)\n",
    "    e3ta=np.concatenate(e3ta_i,axis=0)\n",
    "    e3v=np.concatenate(e3v_i,axis=0)\n",
    "    tc=np.concatenate(tc_i,axis=0)\n",
    "    sigma0=np.concatenate(rho_i,axis=0)\n",
    "    del sti, sti1, sti2, e3t_i, tc_i,rho_i\n",
    "\n",
    "\n",
    "    PPTot_i=list()\n",
    "    app_i=list()\n",
    "    BPPTot_i=list()\n",
    "    Bapp_i=list()\n",
    "\n",
    "    for iif in range(0,len(flistV)):\n",
    "        print('iif=',iif)\n",
    "        with nc.Dataset(flistR.loc[iif,['paths']].values[0]) as fR:\n",
    "            # extract fields to numpy variables for faster transect extraction:'GLS_G', 'GLS_P', 'eps', 'bfN2',rhop\n",
    "            PPDiate=np.copy(fR['PPDIATNO3'][:,:,jg0:jg1,ig0:ig1])\n",
    "            PPMrube=np.copy(fR['PPMRUBNO3'][:,:,jg0:jg1,ig0:ig1])\n",
    "            PPPhye=np.copy(fR['PPPHYNO3'][:,:,jg0:jg1,ig0:ig1])\n",
    "            BPPDiate=np.copy(fR['PPDIAT'][:,:,jg0:jg1,ig0:ig1])\n",
    "            BPPMrube=np.copy(fR['PPMRUB'][:,:,jg0:jg1,ig0:ig1])\n",
    "            BPPPhye=np.copy(fR['PPPHY'][:,:,jg0:jg1,ig0:ig1])\n",
    "        PPTot_i.append(PPDiate[:,:,iso90_DIAN[:, 0], iso90_DIAN[:, 1]]+\\\n",
    "                       PPMrube[:,:,iso90_DIAN[:, 0], iso90_DIAN[:, 1]]+\\\n",
    "                       PPPhye[:,:,iso90_DIAN[:, 0], iso90_DIAN[:, 1]])\n",
    "        BPPTot_i.append(BPPDiate[:,:,iso90_DIAN[:, 0], iso90_DIAN[:, 1]]+\\\n",
    "                       BPPMrube[:,:,iso90_DIAN[:, 0], iso90_DIAN[:, 1]]+\\\n",
    "                       BPPPhye[:,:,iso90_DIAN[:, 0], iso90_DIAN[:, 1]])\n",
    "        app_i.append(PPDiate[:,:,:,:]+PPMrube[:,:,:,:]+PPPhye[:,:,:,:])\n",
    "        Bapp_i.append(BPPDiate[:,:,:,:]+BPPMrube[:,:,:,:]+BPPPhye[:,:,:,:])\n",
    "    PPTot=np.concatenate(PPTot_i,axis=0)\n",
    "    AIPP=np.sum(np.concatenate(app_i,axis=0)*e3ta,1)\n",
    "    AIPPZ=np.concatenate(app_i,axis=0)*e3ta[:,:,:,:]*np.expand_dims(tmaskDIAN[:,:,:],0)\n",
    "    AIPP6=np.sum(AIPPZ[:,:6,:,:],1)\n",
    "    AIPPMean=np.mean(AIPP,0)\n",
    "    PPTotMean=np.mean(PPTot,0)\n",
    "    sig0Mean=np.mean(sigma0,0)\n",
    "    AIPPSTD=np.std(AIPP,0)\n",
    "    PPTotSTD=np.std(PPTot,0)\n",
    "    sig0STD=np.std(sigma0,0)\n",
    "    \n",
    "    BPPTot=np.concatenate(BPPTot_i,axis=0)\n",
    "    BAIPP=np.sum(np.concatenate(Bapp_i,axis=0)*e3ta,1)\n",
    "    BAIPPZ=np.concatenate(Bapp_i,axis=0)*e3ta[:,:,:,:]*np.expand_dims(tmaskDIAN[:,:,:],0)\n",
    "    BAIPP6=np.sum(BAIPPZ[:,:6,:,:],1)\n",
    "    BAIPPMean=np.mean(BAIPP,0)\n",
    "    BPPTotMean=np.mean(BPPTot,0)\n",
    "    BAIPPSTD=np.std(BAIPP,0)\n",
    "    BPPTotSTD=np.std(BPPTot,0)\n",
    "    with open('/data/eolson/MEOPAR/biomodelevalpaper/figsNNut/isobathAerialPP.pkl','wb') as ff:\n",
    "        pickle.dump([AIPPMean,AIPP6,PPTotMean,sig0Mean,AIPPSTD,PPTotSTD,sig0STD,\n",
    "                     BAIPPMean,BAIPP6,BPPTotMean,BAIPPSTD,BPPTotSTD],ff)\n",
    "else:\n",
    "    with open('/data/eolson/MEOPAR/biomodelevalpaper/figsNNut/isobathAerialPP.pkl','rb') as ff:\n",
    "        [AIPPMean,AIPP6,PPTotMean,sig0Mean,AIPPSTD,PPTotSTD,sig0STD,\n",
    "            BAIPPMean,BAIPP6,BPPTotMean,BAIPPSTD,BPPTotSTD]=pickle.load(ff)"
   ]
  },
  {
   "cell_type": "code",
   "execution_count": 19,
   "metadata": {},
   "outputs": [],
   "source": [
    "bgcol='Wheat'\n",
    "cm1=cmocean.cm.tempo"
   ]
  },
  {
   "cell_type": "code",
   "execution_count": 20,
   "metadata": {},
   "outputs": [
    {
     "data": {
      "text/plain": [
       "((2352, 40, 105), (2352, 40, 105))"
      ]
     },
     "execution_count": 20,
     "metadata": {},
     "output_type": "execute_result"
    }
   ],
   "source": [
    "np.shape(PAR),np.shape(NO3)"
   ]
  },
  {
   "cell_type": "code",
   "execution_count": 21,
   "metadata": {},
   "outputs": [],
   "source": [
    "PARmean=np.mean(PAR,0)"
   ]
  },
  {
   "cell_type": "code",
   "execution_count": 22,
   "metadata": {},
   "outputs": [],
   "source": [
    "LL=PARmean/PARmean[0,:]"
   ]
  },
  {
   "cell_type": "code",
   "execution_count": 23,
   "metadata": {},
   "outputs": [
    {
     "data": {
      "text/plain": [
       "(40, 105)"
      ]
     },
     "execution_count": 23,
     "metadata": {},
     "output_type": "execute_result"
    }
   ],
   "source": [
    "np.shape(LL)"
   ]
  },
  {
   "cell_type": "code",
   "execution_count": 24,
   "metadata": {},
   "outputs": [],
   "source": [
    "NO3mean=np.mean(NO3,0)"
   ]
  },
  {
   "cell_type": "code",
   "execution_count": 25,
   "metadata": {},
   "outputs": [
    {
     "data": {
      "text/plain": [
       "(40, 105)"
      ]
     },
     "execution_count": 25,
     "metadata": {},
     "output_type": "execute_result"
    }
   ],
   "source": [
    "np.shape(NO3mean)"
   ]
  },
  {
   "cell_type": "code",
   "execution_count": 26,
   "metadata": {},
   "outputs": [
    {
     "data": {
      "text/plain": [
       "<matplotlib.colorbar.Colorbar at 0x7f908ddc1580>"
      ]
     },
     "execution_count": 26,
     "metadata": {},
     "output_type": "execute_result"
    },
    {
     "data": {
      "image/png": "[encoded data removed]",
      "text/plain": [
       "<Figure size 432x288 with 2 Axes>"
      ]
     },
     "metadata": {
      "needs_background": "light"
     },
     "output_type": "display_data"
    }
   ],
   "source": [
    "plt.pcolormesh(NO3mean)\n",
    "plt.colorbar()"
   ]
  },
  {
   "cell_type": "code",
   "execution_count": 27,
   "metadata": {},
   "outputs": [
    {
     "data": {
      "text/plain": [
       "<matplotlib.colorbar.Colorbar at 0x7f908dd502e0>"
      ]
     },
     "execution_count": 27,
     "metadata": {},
     "output_type": "execute_result"
    },
    {
     "data": {
      "image/png": "[encoded data removed]",
      "text/plain": [
       "<Figure size 432x288 with 2 Axes>"
      ]
     },
     "metadata": {
      "needs_background": "light"
     },
     "output_type": "display_data"
    }
   ],
   "source": [
    "plt.pcolormesh(LL)\n",
    "plt.colorbar()"
   ]
  },
  {
   "cell_type": "code",
   "execution_count": 28,
   "metadata": {},
   "outputs": [
    {
     "data": {
      "image/png": "[encoded data removed]",
      "text/plain": [
       "<Figure size 576x158.4 with 8 Axes>"
      ]
     },
     "metadata": {
      "needs_background": "light"
     },
     "output_type": "display_data"
    }
   ],
   "source": [
    "fig = plt.figure(figsize=(8,2.2))\n",
    "gs0 = gridspec.GridSpec(1,3,left=.08,right=.95,wspace=.3,bottom=.08,top=.83,width_ratios=[1,1,2.5])\n",
    "gs1=gridspec.GridSpecFromSubplotSpec(1,2,subplot_spec=gs0[0],width_ratios=[10,1],wspace=.1)\n",
    "gs2=gridspec.GridSpecFromSubplotSpec(1,2,subplot_spec=gs0[1],width_ratios=[10,1],wspace=.1)\n",
    "gs3=gridspec.GridSpecFromSubplotSpec(3,3,subplot_spec=gs0[2],width_ratios=[1,20,1],height_ratios=[1,1,.1],wspace=.1,hspace=.5)\n",
    "ax1=fig.add_subplot(gs1[0])\n",
    "ax2=fig.add_subplot(gs2[0])\n",
    "ax3=fig.add_subplot(gs3[0,1])\n",
    "ax4=fig.add_subplot(gs3[1,1])\n",
    "cbax1=fig.add_subplot(gs1[1])\n",
    "cbax2=fig.add_subplot(gs2[1])\n",
    "cbax3=fig.add_subplot(gs3[0,2])\n",
    "cbax4=fig.add_subplot(gs3[1,2])\n",
    "viz_tools.set_aspect(ax1)\n",
    "viz_tools.set_aspect(ax2)\n",
    "ax1.set_facecolor(bgcol)\n",
    "ax2.set_facecolor(bgcol)\n",
    "\n",
    "iax=ax1 # PP Mean\n",
    "cbax=cbax1\n",
    "clim=[0,31]\n",
    "#clim=[0,28]\n",
    "iax.set_facecolor(bgcol)\n",
    "mesh0=iax.contourf(np.ma.masked_where(tmask[0,0,jg0:jg1,ig0:ig1]==0,AIPPMean*24*3600*1.11),\n",
    "                   np.linspace(clim[0],clim[1],101),vmin=clim[0],vmax=clim[1],\n",
    "                         cmap=cmocean.cm.tempo,extend='max')\n",
    "for c in mesh0.collections:\n",
    "    c.set_edgecolor(\"face\")\n",
    "iax.contour(navlat[jg0:jg1,ig0:ig1],levels=(49.8,50,50.2),colors='k',linewidths=1,linestyles=':')\n",
    "iax.annotate('49.8$^{\\circ}$N',(-43,45),annotation_clip=False)\n",
    "iax.annotate('50.0$^{\\circ}$N',(-43,95),annotation_clip=False)\n",
    "cb=fig.colorbar(mesh0,cax=cbax,ticks=np.linspace(clim[0],clim[1],6))\n",
    "iax.set_title('Mean New\\nPP (mmol N m$^{-2}$ day$^{-1}$)',fontsize=10)\n",
    "\n",
    "\n",
    "iax=ax2 # PP Mean\n",
    "cbax=cbax2\n",
    "clim=[0,31]\n",
    "#clim=[0,28]\n",
    "mesh0=iax.contourf(np.ma.masked_where(tmask[0,0,jg0:jg1,ig0:ig1]==0,AIPPSTD*24*3600*1.11),\n",
    "                   np.linspace(clim[0],clim[1],101),vmin=clim[0],vmax=clim[1],\n",
    "                         cmap=cmocean.cm.tempo,extend='max')\n",
    "for c in mesh0.collections:\n",
    "    c.set_edgecolor(\"face\")\n",
    "cb=fig.colorbar(mesh0,cax=cbax,ticks=np.linspace(clim[0],clim[1],6))\n",
    "iax.set_title('Standard Deviation New\\nPP (mmol N m$^{-2}$ day$^{-1}$)',fontsize=10)\n",
    "\n",
    "iax=ax3 # PP Mean\n",
    "cbax=cbax3\n",
    "extend='neither'\n",
    "pcol='grey'\n",
    "amp=4#3.5\n",
    "m=iax.contourf(thLatT, dep_thalT[:,0],fill_in(PPTotMean*24*3600*1.11, thTmbathy),vmin=0,vmax=amp,\n",
    "              levels=np.linspace(0,amp,101),cmap=cmocean.cm.tempo,extend='neither')\n",
    "for c in m.collections:\n",
    "    c.set_edgecolor(\"face\")\n",
    "m2=iax.contour(thLatT, dep_thalT[:,0],fill_in(LL,thTmbathy),levels=[.1,],linestyles='--')\n",
    "m3=iax.contour(thLatT, dep_thalT[:,0],fill_in(NO3mean,thTmbathy),levels=[10,],linestyles=':')\n",
    "visualisations._add_bathy_patch(distanceT,bathyT,iso90,iax,pcol)\n",
    "iax.set_ylim(40,0)\n",
    "cb=fig.colorbar(m,cax=cbax)\n",
    "cb.set_ticks((0,1,2,3))\n",
    "iax.set_title('New PP ($\\muup$M N day$^{-1}$)',fontsize=10)\n",
    "#iax.set_title('New PP ($\\mu$M N day$^{-1}$)',fontsize=10)\n",
    "iax.set_ylabel('Depth (m)',fontsize=10)\n",
    "\n",
    "\n",
    "iax=ax4 \n",
    "cbax=cbax4\n",
    "extend='neither'\n",
    "pcol='grey'\n",
    "clim=[19,23]\n",
    "m=iax.contourf(thLatT, dep_thalT[:,0],fill_in(sig0Mean, thTmbathy),vmin=clim[0],vmax=clim[1],\n",
    "              levels=np.linspace(clim[0],clim[1],101),cmap=cmocean.cm.dense)\n",
    "for c in m.collections:\n",
    "    c.set_edgecolor(\"face\")\n",
    "m2=iax.contour(thLatT, dep_thalT[:,0],fill_in(LL,thTmbathy),levels=[.1,],linestyles='--')\n",
    "m3=iax.contour(thLatT, dep_thalT[:,0],fill_in(NO3mean,thTmbathy),levels=[10,],linestyles=':')\n",
    "visualisations._add_bathy_patch(distanceT,bathyT,iso90,iax,pcol)\n",
    "iax.set_ylim(30,0)\n",
    "cb=fig.colorbar(m,cax=cbax)\n",
    "cb.set_ticks((19,21,23))\n",
    "iax.set_title('$\\sigma$ (g kg$^{-1}$)',fontsize=10)\n",
    "iax.set_xlabel('Latitude ($^{\\circ}$N)',fontsize=10)\n",
    "iax.set_ylabel('Depth (m)',fontsize=10)\n",
    "\n",
    "ax1.get_xaxis().set_visible(False)\n",
    "ax1.get_yaxis().set_visible(False)\n",
    "ax2.get_xaxis().set_visible(False)\n",
    "ax2.get_yaxis().set_visible(False)\n",
    "ax3.get_xaxis().set_visible(False)\n",
    "\n",
    "fig.savefig('/data/eolson/MEOPAR/biomodelevalpaper/response/PPR2.png',dpi = 200, transparent=False)\n",
    "fig.savefig('/data/eolson/MEOPAR/biomodelevalpaper/response/PPR2.eps',dpi = 300, transparent=False)"
   ]
  },
  {
   "cell_type": "code",
   "execution_count": 29,
   "metadata": {},
   "outputs": [
    {
     "data": {
      "text/plain": [
       "[<matplotlib.lines.Line2D at 0x7f908d3eaca0>]"
      ]
     },
     "execution_count": 29,
     "metadata": {},
     "output_type": "execute_result"
    },
    {
     "data": {
      "image/png": "[encoded data removed]",
      "text/plain": [
       "<Figure size 432x288 with 1 Axes>"
      ]
     },
     "metadata": {
      "needs_background": "light"
     },
     "output_type": "display_data"
    }
   ],
   "source": [
    "plt.pcolormesh(np.mean(AIPP6*e12t,0))\n",
    "plt.plot(10,90,'r*')"
   ]
  },
  {
   "cell_type": "code",
   "execution_count": 30,
   "metadata": {},
   "outputs": [
    {
     "data": {
      "text/plain": [
       "164.76381035709372"
      ]
     },
     "execution_count": 30,
     "metadata": {},
     "output_type": "execute_result"
    }
   ],
   "source": [
    "#mol/s, total area NO3 prod\n",
    "np.sum(np.sum(np.mean(AIPP6*e12t,0),1),0)*1e-3"
   ]
  },
  {
   "cell_type": "code",
   "execution_count": 31,
   "metadata": {},
   "outputs": [
    {
     "data": {
      "text/plain": [
       "182.88782949637405"
      ]
     },
     "execution_count": 31,
     "metadata": {},
     "output_type": "execute_result"
    }
   ],
   "source": [
    "#mol/s, total area NO3 prod\n",
    "np.sum(np.sum(np.mean(AIPP6*e12t,0),1),0)*1e-3*1.11"
   ]
  },
  {
   "cell_type": "code",
   "execution_count": 32,
   "metadata": {},
   "outputs": [
    {
     "data": {
      "text/plain": [
       "162.49150666081343"
      ]
     },
     "execution_count": 32,
     "metadata": {},
     "output_type": "execute_result"
    }
   ],
   "source": [
    "#mol/s, total area NO3 prod\n",
    "np.sum(np.sum(np.mean(AIPP6[:,:-3,:]*e12t[:-3,:],0),1),0)*1e-3"
   ]
  },
  {
   "cell_type": "code",
   "execution_count": 33,
   "metadata": {},
   "outputs": [
    {
     "data": {
      "text/plain": [
       "180.36557239350293"
      ]
     },
     "execution_count": 33,
     "metadata": {},
     "output_type": "execute_result"
    }
   ],
   "source": [
    "#mol/s, total area NO3 prod\n",
    "np.sum(np.sum(np.mean(AIPP6[:,:-3,:]*e12t[:-3,:],0),1),0)*1e-3*1.11"
   ]
  },
  {
   "cell_type": "code",
   "execution_count": 34,
   "metadata": {},
   "outputs": [
    {
     "data": {
      "text/plain": [
       "250.5251074505402"
      ]
     },
     "execution_count": 34,
     "metadata": {},
     "output_type": "execute_result"
    }
   ],
   "source": [
    "#mol/s, total area all prod\n",
    "np.sum(np.sum(np.mean(BAIPP6*e12t,0),1),0)*1e-3"
   ]
  },
  {
   "cell_type": "code",
   "execution_count": 35,
   "metadata": {},
   "outputs": [
    {
     "data": {
      "text/plain": [
       "278.08286927009965"
      ]
     },
     "execution_count": 35,
     "metadata": {},
     "output_type": "execute_result"
    }
   ],
   "source": [
    "#mol/s, total area all prod\n",
    "np.sum(np.sum(np.mean(BAIPP6*e12t,0),1),0)*1e-3*1.11"
   ]
  },
  {
   "cell_type": "code",
   "execution_count": 36,
   "metadata": {},
   "outputs": [
    {
     "data": {
      "text/plain": [
       "247.63711867330247"
      ]
     },
     "execution_count": 36,
     "metadata": {},
     "output_type": "execute_result"
    }
   ],
   "source": [
    "#mol/s, total area all prod\n",
    "np.sum(np.sum(np.mean(BAIPP6[:,:-3,:]*e12t[:-3,:],0),1),0)*1e-3"
   ]
  },
  {
   "cell_type": "code",
   "execution_count": 37,
   "metadata": {},
   "outputs": [
    {
     "data": {
      "text/plain": [
       "274.8772017273658"
      ]
     },
     "execution_count": 37,
     "metadata": {},
     "output_type": "execute_result"
    }
   ],
   "source": [
    "#mol/s, total area all prod\n",
    "np.sum(np.sum(np.mean(BAIPP6[:,:-3,:]*e12t[:-3,:],0),1),0)*1e-3*1.11"
   ]
  },
  {
   "cell_type": "code",
   "execution_count": 38,
   "metadata": {},
   "outputs": [
    {
     "data": {
      "text/plain": [
       "14"
      ]
     },
     "execution_count": 38,
     "metadata": {},
     "output_type": "execute_result"
    }
   ],
   "source": [
    "iso90_DIAN[3,0]"
   ]
  },
  {
   "cell_type": "code",
   "execution_count": 39,
   "metadata": {},
   "outputs": [],
   "source": [
    "r90mask=np.copy(tmaskDIAN[0,:,:])\n",
    "r90mask[:iso90_DIAN[3,0],:]=0\n",
    "r90mask[91:,:]=0\n",
    "jj=iso90_DIAN[3,0]\n",
    "ind=3\n",
    "while jj<91:\n",
    "    r90mask[iso90_DIAN[ind,0],(iso90_DIAN[ind,1]+1):]=0\n",
    "    ind=ind+1\n",
    "    jj=iso90_DIAN[ind,0]"
   ]
  },
  {
   "cell_type": "code",
   "execution_count": 40,
   "metadata": {},
   "outputs": [
    {
     "ename": "NameError",
     "evalue": "name 'thw_DIAN' is not defined",
     "output_type": "error",
     "traceback": [
      "\u001b[0;31m---------------------------------------------------------------------------\u001b[0m",
      "\u001b[0;31mNameError\u001b[0m                                 Traceback (most recent call last)",
      "\u001b[0;32m<ipython-input-40-875877e980e3>\u001b[0m in \u001b[0;36m<module>\u001b[0;34m\u001b[0m\n\u001b[1;32m      1\u001b[0m \u001b[0mrmask\u001b[0m\u001b[0;34m=\u001b[0m\u001b[0mnp\u001b[0m\u001b[0;34m.\u001b[0m\u001b[0mcopy\u001b[0m\u001b[0;34m(\u001b[0m\u001b[0mtmaskDIAN\u001b[0m\u001b[0;34m[\u001b[0m\u001b[0;36m0\u001b[0m\u001b[0;34m,\u001b[0m\u001b[0;34m:\u001b[0m\u001b[0;34m,\u001b[0m\u001b[0;34m:\u001b[0m\u001b[0;34m]\u001b[0m\u001b[0;34m)\u001b[0m\u001b[0;34m\u001b[0m\u001b[0;34m\u001b[0m\u001b[0m\n\u001b[0;32m----> 2\u001b[0;31m \u001b[0mrmask\u001b[0m\u001b[0;34m[\u001b[0m\u001b[0;34m:\u001b[0m\u001b[0mthw_DIAN\u001b[0m\u001b[0;34m[\u001b[0m\u001b[0;36m3\u001b[0m\u001b[0;34m,\u001b[0m\u001b[0;36m0\u001b[0m\u001b[0;34m]\u001b[0m\u001b[0;34m,\u001b[0m\u001b[0;34m:\u001b[0m\u001b[0;34m]\u001b[0m\u001b[0;34m=\u001b[0m\u001b[0;36m0\u001b[0m\u001b[0;34m\u001b[0m\u001b[0;34m\u001b[0m\u001b[0m\n\u001b[0m\u001b[1;32m      3\u001b[0m \u001b[0mrmask\u001b[0m\u001b[0;34m[\u001b[0m\u001b[0;36m91\u001b[0m\u001b[0;34m:\u001b[0m\u001b[0;34m,\u001b[0m\u001b[0;34m:\u001b[0m\u001b[0;34m]\u001b[0m\u001b[0;34m=\u001b[0m\u001b[0;36m0\u001b[0m\u001b[0;34m\u001b[0m\u001b[0;34m\u001b[0m\u001b[0m\n\u001b[1;32m      4\u001b[0m \u001b[0mjj\u001b[0m\u001b[0;34m=\u001b[0m\u001b[0mthw_DIAN\u001b[0m\u001b[0;34m[\u001b[0m\u001b[0;36m3\u001b[0m\u001b[0;34m,\u001b[0m\u001b[0;36m0\u001b[0m\u001b[0;34m]\u001b[0m\u001b[0;34m\u001b[0m\u001b[0;34m\u001b[0m\u001b[0m\n\u001b[1;32m      5\u001b[0m \u001b[0mind\u001b[0m\u001b[0;34m=\u001b[0m\u001b[0;36m3\u001b[0m\u001b[0;34m\u001b[0m\u001b[0;34m\u001b[0m\u001b[0m\n",
      "\u001b[0;31mNameError\u001b[0m: name 'thw_DIAN' is not defined"
     ]
    }
   ],
   "source": [
    "rmask=np.copy(tmaskDIAN[0,:,:])\n",
    "rmask[:thw_DIAN[3,0],:]=0\n",
    "rmask[91:,:]=0\n",
    "jj=thw_DIAN[3,0]\n",
    "ind=3\n",
    "while jj<91:\n",
    "    rmask[thw_DIAN[ind,0],(thw_DIAN[ind,1]+1):]=0\n",
    "    ind=ind+1\n",
    "    jj=thw_DIAN[ind,0]"
   ]
  },
  {
   "cell_type": "code",
   "execution_count": null,
   "metadata": {},
   "outputs": [],
   "source": [
    "r2mask=np.copy(tmaskDIAN[0,:,:])\n",
    "r2mask[:iso90_DIAN[3,0],:]=0\n",
    "r2mask[91:,:]=0"
   ]
  },
  {
   "cell_type": "code",
   "execution_count": null,
   "metadata": {},
   "outputs": [],
   "source": [
    "iso90_DIAN[-1,0]"
   ]
  },
  {
   "cell_type": "code",
   "execution_count": null,
   "metadata": {},
   "outputs": [],
   "source": [
    "plt.pcolormesh(rmask)\n",
    "plt.plot(thw_DIAN[:,1],thw_DIAN[:,0],'r-')\n",
    "plt.plot(iso90_DIAN[:,1],iso90_DIAN[:,0],'c-')"
   ]
  },
  {
   "cell_type": "code",
   "execution_count": null,
   "metadata": {},
   "outputs": [],
   "source": [
    "plt.pcolormesh(tmaskDIAN[0,:,:])"
   ]
  },
  {
   "cell_type": "code",
   "execution_count": null,
   "metadata": {},
   "outputs": [],
   "source": [
    "np.sum(rmask*e12t)/np.sum(r2mask*e12t)"
   ]
  },
  {
   "cell_type": "code",
   "execution_count": null,
   "metadata": {},
   "outputs": [],
   "source": [
    "np.sum(rmask*e12t*BAIPPMean)/np.sum(r2mask*e12t*BAIPPMean)"
   ]
  },
  {
   "cell_type": "code",
   "execution_count": null,
   "metadata": {},
   "outputs": [],
   "source": [
    "np.sum(rmask*e12t*AIPPMean)/np.sum(r2mask*e12t*AIPPMean)"
   ]
  },
  {
   "cell_type": "code",
   "execution_count": null,
   "metadata": {},
   "outputs": [],
   "source": [
    "np.sum(r90mask*e12t)/np.sum(r2mask*e12t)"
   ]
  },
  {
   "cell_type": "code",
   "execution_count": null,
   "metadata": {},
   "outputs": [],
   "source": [
    "np.sum(r90mask*e12t*BAIPPMean)/np.sum(r2mask*e12t*BAIPPMean)"
   ]
  },
  {
   "cell_type": "code",
   "execution_count": null,
   "metadata": {},
   "outputs": [],
   "source": [
    "np.sum(r90mask*e12t*AIPPMean)/np.sum(r2mask*e12t*AIPPMean)"
   ]
  },
  {
   "cell_type": "code",
   "execution_count": null,
   "metadata": {},
   "outputs": [],
   "source": []
  }
 ],
 "metadata": {
  "anaconda-cloud": {},
  "kernelspec": {
   "display_name": "Python (py38)",
   "language": "python",
   "name": "py38"
  },
  "language_info": {
   "codemirror_mode": {
    "name": "ipython",
    "version": 3
   },
   "file_extension": ".py",
   "mimetype": "text/x-python",
   "name": "python",
   "nbconvert_exporter": "python",
   "pygments_lexer": "ipython3",
   "version": "3.8.1"
  }
 },
 "nbformat": 4,
 "nbformat_minor": 1
}
