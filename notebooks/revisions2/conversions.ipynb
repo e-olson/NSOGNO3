{
 "cells": [
  {
   "cell_type": "code",
   "execution_count": 1,
   "metadata": {},
   "outputs": [],
   "source": [
    "import numpy as np"
   ]
  },
  {
   "cell_type": "markdown",
   "metadata": {
    "collapsed": true
   },
   "source": [
    "## unit conversions"
   ]
  },
  {
   "cell_type": "code",
   "execution_count": 2,
   "metadata": {},
   "outputs": [
    {
     "data": {
      "text/plain": [
       "(7.2180174075346875, 31.952740299460082)"
      ]
     },
     "execution_count": 2,
     "metadata": {},
     "output_type": "execute_result"
    }
   ],
   "source": [
    "### Kh2018:\n",
    "# verify that units are kg N /s not kg NO3/s: \n",
    "# if you use molecular mass for N, you get back a reasonable mean nitrate concentration:\n",
    "# 64 kg/s / (143*10^3 m3/s) * (1000 g/kg) / (62.0049 g/mol)*(10*3mmol/mol) = kg/s*s/m3*g/kg*mol/g*mmol/mol=mmol/m3 = ug/L\n",
    "64/143/62.0049*10**3, 64/143/14.0067*10**3"
   ]
  },
  {
   "cell_type": "code",
   "execution_count": 3,
   "metadata": {},
   "outputs": [
    {
     "data": {
      "text/plain": [
       "4.355058650502974"
      ]
     },
     "execution_count": 3,
     "metadata": {},
     "output_type": "execute_result"
    }
   ],
   "source": [
    "# now convert SJDF flux of 61 kg/s to kmol/s:\n",
    "# 61 kg/s  * (1000 g/kg) / (14.0067 g N/mol) *(1e-3 kmol/mol) = kmol/s\n",
    "61/14.0067"
   ]
  },
  {
   "cell_type": "code",
   "execution_count": 4,
   "metadata": {},
   "outputs": [
    {
     "data": {
      "text/plain": [
       "137.43519886911264"
      ]
     },
     "execution_count": 4,
     "metadata": {},
     "output_type": "execute_result"
    }
   ],
   "source": [
    "# now convert SJDF flux of 61 kg/s to Gmol/yr:\n",
    "# kmol/s * 1e-6 Gmol/kmol *3600 s/hr * 24 hr/day *365.25 d/yr = Gmol/yr\n",
    "61/14.0067*1e-6*3600*24*365.25"
   ]
  },
  {
   "cell_type": "code",
   "execution_count": 5,
   "metadata": {},
   "outputs": [
    {
     "data": {
      "text/plain": [
       "0.21418321231981838"
      ]
     },
     "execution_count": 5,
     "metadata": {},
     "output_type": "execute_result"
    }
   ],
   "source": [
    "# additional 3 kg/s from north (kmol/s):\n",
    "3/14.0067 "
   ]
  },
  {
   "cell_type": "code",
   "execution_count": 6,
   "metadata": {},
   "outputs": [
    {
     "data": {
      "text/plain": [
       "6.7591081411039"
      ]
     },
     "execution_count": 6,
     "metadata": {},
     "output_type": "execute_result"
    }
   ],
   "source": [
    "# additional 3 kg/s from north (Gmol/yr):\n",
    "3/14.0067 *1e-6*3600*24*365.25"
   ]
  },
  {
   "cell_type": "code",
   "execution_count": 7,
   "metadata": {},
   "outputs": [
    {
     "data": {
      "text/plain": [
       "(2148.4427161710173, 2396.339952652289)"
      ]
     },
     "execution_count": 7,
     "metadata": {},
     "output_type": "execute_result"
    }
   ],
   "source": [
    "### unit conversion:\n",
    "#Mackas and Harrison: 2600-2900 tonnes N/day JDFS deep estuarine circulation nitrate\n",
    "# 1 tonne = 1e3 kg\n",
    "#14.0067 g/mol N\n",
    "2600*1e3/(24*3600)*1e3/14.0067,2900*1e3/(24*3600)*1e3/14.0067 # mol/s"
   ]
  },
  {
   "cell_type": "code",
   "execution_count": 8,
   "metadata": {},
   "outputs": [
    {
     "data": {
      "text/plain": [
       "(67.79969585983851, 75.62273768981986)"
      ]
     },
     "execution_count": 8,
     "metadata": {},
     "output_type": "execute_result"
    }
   ],
   "source": [
    "### unit conversion: to Gmol/yr\n",
    "#Mackas and Harrison: 2600-2900 tonnes N/day JDFS deep estuarine circulation nitrate\n",
    "# 1 tonne = 1e3 kg\n",
    "#14.0067 g/mol N\n",
    "# tonnes N/day * 1e3 kg/tonne * 1/14.0067 kmol/kgN * 1e-6 Gmol/kmol * 365.25 days/yr\n",
    "2600*1e3/14.0067*1e-6*365.25,2900*1e3/14.0067*1e-6*365.25"
   ]
  },
  {
   "cell_type": "code",
   "execution_count": 9,
   "metadata": {},
   "outputs": [
    {
     "data": {
      "text/plain": [
       "4.62962962962963"
      ]
     },
     "execution_count": 9,
     "metadata": {},
     "output_type": "execute_result"
    }
   ],
   "source": [
    "#net:\n",
    "400*1e3/(24*3600)"
   ]
  },
  {
   "cell_type": "code",
   "execution_count": 10,
   "metadata": {},
   "outputs": [
    {
     "data": {
      "text/plain": [
       "array([0.27885517, 1.26118589])"
      ]
     },
     "execution_count": 10,
     "metadata": {},
     "output_type": "execute_result"
    }
   ],
   "source": [
    "# Sutton surface DIN export Mmol/yr to kmol/s\n",
    "np.array((8800,39800))*1e3/(24*3600*365.25)"
   ]
  },
  {
   "cell_type": "code",
   "execution_count": 11,
   "metadata": {},
   "outputs": [
    {
     "data": {
      "text/plain": [
       "array([0.04594773, 0.01552716])"
      ]
     },
     "execution_count": 11,
     "metadata": {},
     "output_type": "execute_result"
    }
   ],
   "source": [
    "# Sutton total DIN/particulate to sediment:\n",
    "np.array((1450,490))*1e3/(24*3600*365.25)"
   ]
  },
  {
   "cell_type": "code",
   "execution_count": 12,
   "metadata": {},
   "outputs": [
    {
     "data": {
      "text/plain": [
       "6.944444444444445"
      ]
     },
     "execution_count": 12,
     "metadata": {},
     "output_type": "execute_result"
    }
   ],
   "source": [
    "600*1e3/(24*3600)"
   ]
  },
  {
   "cell_type": "code",
   "execution_count": 13,
   "metadata": {},
   "outputs": [
    {
     "data": {
      "text/plain": [
       "array([0.11138363, 0.02142115])"
      ]
     },
     "execution_count": 13,
     "metadata": {},
     "output_type": "execute_result"
    }
   ],
   "source": [
    "## Sutton marine PN to buried sediment, South and North, upper bound:\n",
    "np.array((3515,676))*1e3/(24*3600*365.25)"
   ]
  },
  {
   "cell_type": "code",
   "execution_count": null,
   "metadata": {},
   "outputs": [],
   "source": [
    "## Sutton marine PN to buried sediment, South and North, upper bound, to nmol/m2/s\n",
    "np.array((3515,676))*1e3/(24*3600*365.25)*1e12/(7735*1e6)"
   ]
  },
  {
   "cell_type": "code",
   "execution_count": 14,
   "metadata": {},
   "outputs": [
    {
     "data": {
      "text/plain": [
       "0.6971379319086369"
      ]
     },
     "execution_count": 14,
     "metadata": {},
     "output_type": "execute_result"
    }
   ],
   "source": [
    "## Sutton remineralization:\n",
    "22000*1e3/(24*3600*365.25)"
   ]
  },
  {
   "cell_type": "code",
   "execution_count": 15,
   "metadata": {},
   "outputs": [
    {
     "data": {
      "text/plain": [
       "array([0.74150125, 0.05386975])"
      ]
     },
     "execution_count": 15,
     "metadata": {},
     "output_type": "execute_result"
    }
   ],
   "source": [
    "## Sutton PP: 23400 +/-1700 Mmol/yr from figure and text\n",
    "np.array((23400,1700))*1e3/(24*3600*365.25)"
   ]
  },
  {
   "cell_type": "code",
   "execution_count": 16,
   "metadata": {},
   "outputs": [
    {
     "data": {
      "text/plain": [
       "array([95.8631228,  6.9644149])"
      ]
     },
     "execution_count": 16,
     "metadata": {},
     "output_type": "execute_result"
    }
   ],
   "source": [
    "## Sutton PP: 23400 +/-1700 Mmol/yr from figure and text: convert to nmol N/m2/s\n",
    "# Mmol/yr* 1e12 umol/Mmol* 1/(24*3600*365.25 yr/s)/(7735*1e6 m^2)\n",
    "np.array((23400,1700))*1e12/(24*3600*365.25)/(7735*1e6)*1e3"
   ]
  },
  {
   "cell_type": "code",
   "execution_count": 17,
   "metadata": {},
   "outputs": [
    {
     "data": {
      "text/plain": [
       "array([159.95924605, 151.80845644, 141.61996943])"
      ]
     },
     "execution_count": 17,
     "metadata": {},
     "output_type": "execute_result"
    }
   ],
   "source": [
    "# model kmol/s to nmol/m2/s:\n",
    "np.array((1.57, 1.49, 1.39))*1e12/(9815*1e6)"
   ]
  },
  {
   "cell_type": "code",
   "execution_count": 18,
   "metadata": {},
   "outputs": [
    {
     "data": {
      "text/plain": [
       "array([159.95924605, 151.80845644, 141.61996943])"
      ]
     },
     "execution_count": 18,
     "metadata": {},
     "output_type": "execute_result"
    }
   ],
   "source": [
    "# model PP kmol/s to nmol/m2/s:\n",
    "np.array((1.57, 1.49, 1.39))*1e12/(9815*1e6)"
   ]
  },
  {
   "cell_type": "code",
   "execution_count": 19,
   "metadata": {},
   "outputs": [
    {
     "data": {
      "text/plain": [
       "array([0.80392853, 0.92760985])"
      ]
     },
     "execution_count": 19,
     "metadata": {},
     "output_type": "execute_result"
    }
   ],
   "source": [
    "## Sutton PP: 260-300 gC/m2/yr from text to kmol/s\n",
    "np.array((260,300))*1/12.0107/6.6*7735*1e6*1e-3/(24*3600*365.25)"
   ]
  },
  {
   "cell_type": "markdown",
   "metadata": {},
   "source": [
    "##### sutton PP range to nmol"
   ]
  },
  {
   "cell_type": "code",
   "execution_count": 20,
   "metadata": {},
   "outputs": [
    {
     "data": {
      "text/plain": [
       "array([103.93387653, 119.92370369])"
      ]
     },
     "execution_count": 20,
     "metadata": {},
     "output_type": "execute_result"
    }
   ],
   "source": [
    "## Sutton PP: 260-300 gC/m2/yr from text to nmol/m2/s:\n",
    "# \n",
    "np.array((260,300))*1/12.0107/6.6*1e9/(24*3600*365.25)"
   ]
  },
  {
   "cell_type": "code",
   "execution_count": 21,
   "metadata": {},
   "outputs": [
    {
     "data": {
      "text/plain": [
       "27321.597837887482"
      ]
     },
     "execution_count": 21,
     "metadata": {},
     "output_type": "execute_result"
    }
   ],
   "source": [
    "## try to reproduce Sutton's conversion:\n",
    "# 280 gC/m2/yr * 1molC/12.0107 gC * 1mol N/ 6.6mol C * 7735*1e6 m2 * 1e-6 Mmol/mol -> Mmol/yr\n",
    "# ~=23 400 Mmol yr 1\n",
    "280/12.0107/6.6*7735"
   ]
  },
  {
   "cell_type": "code",
   "execution_count": 22,
   "metadata": {},
   "outputs": [
    {
     "data": {
      "text/plain": [
       "239.8102789915966"
      ]
     },
     "execution_count": 22,
     "metadata": {},
     "output_type": "execute_result"
    }
   ],
   "source": [
    "## reversing this,\n",
    "# 23400 Mmol/yr converts to:\n",
    "23400/7735*6.6*12.0107 # 240 gC/m2/yr"
   ]
  },
  {
   "cell_type": "code",
   "execution_count": 23,
   "metadata": {},
   "outputs": [
    {
     "data": {
      "text/plain": [
       "119.9207083432193"
      ]
     },
     "execution_count": 23,
     "metadata": {},
     "output_type": "execute_result"
    }
   ],
   "source": [
    "## Mackas PP: actually Harrison PP 300 gC/m2/yr from text to nmolN /m2/s:\n",
    "300/12.011/6.6*1e9/(24*3600*365.25)"
   ]
  },
  {
   "cell_type": "code",
   "execution_count": 24,
   "metadata": {},
   "outputs": [
    {
     "data": {
      "text/plain": [
       "111.92599445367135"
      ]
     },
     "execution_count": 24,
     "metadata": {},
     "output_type": "execute_result"
    }
   ],
   "source": [
    "## Mackas PP: actually Harrison PP 300 gC/m2/yr from text to nmolN /m2/s:\n",
    "280/12.011/6.6*1e9/(24*3600*365.25)"
   ]
  },
  {
   "cell_type": "code",
   "execution_count": 25,
   "metadata": {},
   "outputs": [
    {
     "data": {
      "text/plain": [
       "12.151825317709376"
      ]
     },
     "execution_count": 25,
     "metadata": {},
     "output_type": "execute_result"
    }
   ],
   "source": [
    "#Mackas N buiral: 100 tonnes N/day, 6800 km2; 1tonne=1e3kg\n",
    "#100 tonnes N/day* 1e6g/tonne * 1mol/14.0067gN * 1day/(24*3600 s) * 1e9/(6800*1e6 m2) nmol/mol-> nmol/m2/s\n",
    "100*1e6/14.0067/(24*3600)*1e9/(6800*1e6)"
   ]
  },
  {
   "cell_type": "code",
   "execution_count": 26,
   "metadata": {},
   "outputs": [
    {
     "data": {
      "text/plain": [
       "159.89427779095908"
      ]
     },
     "execution_count": 26,
     "metadata": {},
     "output_type": "execute_result"
    }
   ],
   "source": [
    "#400 gC/m2/yr to nmol N/m2/s:\n",
    "# 400 gC/m2/yr * 1/12.011 molC/gC *1e9 nmol/mol *(1/(24*3600*365.25) yr/s)\n",
    "400/12.011/6.6*1e9/(24*3600*365.25)"
   ]
  },
  {
   "cell_type": "code",
   "execution_count": 27,
   "metadata": {},
   "outputs": [
    {
     "data": {
      "text/plain": [
       "204.2649398779502"
      ]
     },
     "execution_count": 27,
     "metadata": {},
     "output_type": "execute_result"
    }
   ],
   "source": [
    "#511 (Stockner maximum at 1 station)gC/m2/yr to nmol N/m2/s:\n",
    "# 511 gC/m2/yr * 1/12.011 molC/gC *1e9 nmol/mol *(1/(24*3600*365.25) yr/s)\n",
    "511/12.011/6.6*1e9/(24*3600*365.25)"
   ]
  },
  {
   "cell_type": "code",
   "execution_count": 28,
   "metadata": {},
   "outputs": [
    {
     "ename": "SyntaxError",
     "evalue": "invalid syntax (<ipython-input-28-e92f85ea196d>, line 2)",
     "output_type": "error",
     "traceback": [
      "\u001b[0;36m  File \u001b[0;32m\"<ipython-input-28-e92f85ea196d>\"\u001b[0;36m, line \u001b[0;32m2\u001b[0m\n\u001b[0;31m    280* 1/12.011*\u001b[0m\n\u001b[0m                   ^\u001b[0m\n\u001b[0;31mSyntaxError\u001b[0m\u001b[0;31m:\u001b[0m invalid syntax\n"
     ]
    }
   ],
   "source": [
    "#280 gC/m2/yr to nmol/m2/s:\n",
    "280* 1/12.011* "
   ]
  },
  {
   "cell_type": "code",
   "execution_count": null,
   "metadata": {},
   "outputs": [],
   "source": [
    "# PON flux: 0.2 kmolN/s model 9815 area\n",
    "0.2*1e12/(9815*1e6)"
   ]
  },
  {
   "cell_type": "code",
   "execution_count": null,
   "metadata": {},
   "outputs": [],
   "source": [
    "# PON flux:  0.11 kmolN/s Sutton 7735 area\n",
    "0.11*1e12/(7735*1e6)"
   ]
  },
  {
   "cell_type": "code",
   "execution_count": null,
   "metadata": {},
   "outputs": [],
   "source": [
    "# Harrison gC/m2/d to mmolN/m2/d:\n",
    "# gC/m2/d * (1/12.011 molC/gC) * (1mol N/ 6.6mol C) * (1e3 mmol/mol)-> mmolN/m2/d\n",
    "np.array((1.2,0.2))/12.001/6.6*1e3"
   ]
  },
  {
   "cell_type": "code",
   "execution_count": null,
   "metadata": {},
   "outputs": [],
   "source": []
  },
  {
   "cell_type": "code",
   "execution_count": null,
   "metadata": {},
   "outputs": [],
   "source": []
  },
  {
   "cell_type": "code",
   "execution_count": null,
   "metadata": {},
   "outputs": [],
   "source": [
    " The calculated PNMar implies a total pro- duction of 23400 Mmol yr 1 PNMar for the entire strait as- suming a surface area of 7735 km2 . "
   ]
  },
  {
   "cell_type": "code",
   "execution_count": null,
   "metadata": {},
   "outputs": [],
   "source": [
    "#Sutton PP:\n",
    "# 23400+/11700 Mmol N/yr * 1e6 mol/Mmol *6.6 molC/molN* 12.01 g/molC /(7735*1e6 m2)= ?? gC/m2/yr\n",
    "np.array((23400,1700))*1e6*6.6* 12.01/(7735*1e6)"
   ]
  },
  {
   "cell_type": "code",
   "execution_count": null,
   "metadata": {},
   "outputs": [],
   "source": [
    "# assume they actually used 6800 km2:\n",
    "# 23400 Mmol N/yr * 1e6 mol/Mmol *6.6 molC/molN* 12.01 g/molC /(7735*1e6 m2)= ?? gC/m2/yr\n",
    "23400*1e6*6.6* 12.01/(6800*1e6)"
   ]
  },
  {
   "cell_type": "code",
   "execution_count": null,
   "metadata": {},
   "outputs": [],
   "source": []
  },
  {
   "cell_type": "code",
   "execution_count": null,
   "metadata": {},
   "outputs": [],
   "source": [
    "# Sutton annual influx of din by advection from pacific to SalishSea: 85300+/-55700 Mmol/yr\n",
    "# and 69500+/-44200 Mmol/yr out\n",
    "# kmol/s:"
   ]
  },
  {
   "cell_type": "code",
   "execution_count": null,
   "metadata": {},
   "outputs": [],
   "source": [
    "85300/(365.25*24*3600)*1e3,55700/(365.25*24*3600)*1e3"
   ]
  },
  {
   "cell_type": "code",
   "execution_count": null,
   "metadata": {},
   "outputs": [],
   "source": [
    "# Sutton annual influx of din by advection from pacific to SoG: 29900+/-19500 Mmol/yr\n",
    "# and 24300+/-15500 Mmol/yr out"
   ]
  },
  {
   "cell_type": "code",
   "execution_count": null,
   "metadata": {},
   "outputs": [],
   "source": [
    "# Mmol/yr *(1 yr /365 days)*(1 day / 24*3600 s) *1e6 = mol/s\n",
    "29900/(365.25*24*3600)*1e6,19500/(365.25*24*3600)*1e6"
   ]
  },
  {
   "cell_type": "code",
   "execution_count": null,
   "metadata": {},
   "outputs": [],
   "source": [
    "# Mmol/yr*1e6 mol/Mmol*62.0049 g/mol * 1yr/(365.25*24*3600 s)*1kg/(1e3g)=kg/s\n",
    "29900*1e6*62.0049/(365.25*24*3600)*1e-3"
   ]
  },
  {
   "cell_type": "code",
   "execution_count": null,
   "metadata": {},
   "outputs": [],
   "source": [
    "# Mmol/yr*1e6 mol/Mmol*62.0049 g/mol * 1yr/(365.25*24*3600 s)*1kg/(1e3g)=kg/s\n",
    "24300*1e6*62.0049/(365.25*24*3600)*1e-3"
   ]
  },
  {
   "cell_type": "code",
   "execution_count": null,
   "metadata": {},
   "outputs": [],
   "source": [
    "58.7480198113925-47.745046201232036"
   ]
  },
  {
   "cell_type": "code",
   "execution_count": null,
   "metadata": {},
   "outputs": [],
   "source": [
    "15500*1e6*62.0049/(365.25*24*3600)*1e-3"
   ]
  },
  {
   "cell_type": "code",
   "execution_count": null,
   "metadata": {},
   "outputs": [],
   "source": [
    "19500*1e6*62.0049/(365.25*24*3600)*1e-3"
   ]
  },
  {
   "cell_type": "code",
   "execution_count": null,
   "metadata": {},
   "outputs": [],
   "source": []
  }
 ],
 "metadata": {
  "anaconda-cloud": {},
  "kernelspec": {
   "display_name": "Python (py38)",
   "language": "python",
   "name": "py38"
  },
  "language_info": {
   "codemirror_mode": {
    "name": "ipython",
    "version": 3
   },
   "file_extension": ".py",
   "mimetype": "text/x-python",
   "name": "python",
   "nbconvert_exporter": "python",
   "pygments_lexer": "ipython3",
   "version": "3.8.1"
  }
 },
 "nbformat": 4,
 "nbformat_minor": 1
}
