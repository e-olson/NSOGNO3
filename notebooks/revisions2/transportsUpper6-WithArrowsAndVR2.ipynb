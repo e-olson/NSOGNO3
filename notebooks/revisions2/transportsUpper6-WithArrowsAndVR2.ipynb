{
 "cells": [
  {
   "cell_type": "markdown",
   "metadata": {},
   "source": [
    "### 6 m is mean nitricline depth and just below 10% light level"
   ]
  },
  {
   "cell_type": "code",
   "execution_count": 1,
   "metadata": {},
   "outputs": [
    {
     "name": "stdout",
     "output_type": "stream",
     "text": [
      "NorthNut defined variables: ig0,ig1,jg0,jg1,fformat0\n",
      "NorthNut defined variables: vmask, vmask0, umask, umask0, tmask, fmask, gdept,  gdept_1d, e1t, e2t, e12t, e1f, e2f, e1v, e2u, e3t_1d\n",
      "NorthNut defined variables: boxCol, colL, colR, arrowwidth, headwidth, headlength, alen, toff, apw, apk\n"
     ]
    }
   ],
   "source": [
    "import matplotlib.pyplot as plt\n",
    "import netCDF4 as nc\n",
    "import numpy as np\n",
    "import os\n",
    "import glob\n",
    "import datetime as dt\n",
    "from salishsea_tools import viz_tools\n",
    "from matplotlib.ticker import FormatStrFormatter\n",
    "import cmocean\n",
    "from salishsea_tools import viz_tools, evaltools as et\n",
    "import NorthNut as nn\n",
    "import matplotlib.gridspec as gridspec\n",
    "import pickle\n",
    "import matplotlib as mpl\n",
    "import matplotlib.patheffects as path_effects\n",
    "mpl.rc('xtick', labelsize=8)\n",
    "mpl.rc('ytick', labelsize=8)\n",
    "mpl.rc('legend', fontsize=8)\n",
    "mpl.rc('axes', titlesize=8)\n",
    "mpl.rc('axes', labelsize=8)\n",
    "mpl.rc('figure', titlesize=8)\n",
    "mpl.rc('font', size=8)\n",
    "mpl.rc('text', usetex=True)\n",
    "mpl.rc('text.latex', preamble = r'''\n",
    " \\usepackage{txfonts}\n",
    " \\usepackage{lmodern}\n",
    " ''')\n",
    "mpl.rc('font', family='sans-serif', weight='normal', style='normal')\n",
    "from pandas.plotting import register_matplotlib_converters\n",
    "register_matplotlib_converters()\n",
    "%matplotlib inline"
   ]
  },
  {
   "cell_type": "code",
   "execution_count": 2,
   "metadata": {},
   "outputs": [],
   "source": [
    "ig0=nn.ig0\n",
    "ig1=nn.ig1\n",
    "jg0=nn.jg0\n",
    "jg1=nn.jg1\n",
    "tmask=nn.tmask\n",
    "umask=nn.umask\n",
    "vmask=nn.vmask\n",
    "umask0=nn.umask0\n",
    "vmask0=nn.vmask0\n",
    "boxCol=nn.boxCol\n",
    "colL=nn.colL\n",
    "colR=nn.colR"
   ]
  },
  {
   "cell_type": "code",
   "execution_count": 3,
   "metadata": {},
   "outputs": [],
   "source": [
    "e12t=nn.e12t"
   ]
  },
  {
   "cell_type": "code",
   "execution_count": 4,
   "metadata": {},
   "outputs": [],
   "source": [
    "k=6 #depth presented here\n",
    "k1=30 # max depth to do calcs to\n",
    "start=dt.datetime(2015,5,15) # originally 5/15-8/15,  but changed to even number of fortnights (6, end is included)\n",
    "end=dt.datetime(2015,8,20)\n",
    "#mod_basedir='/data/eolson/results/MEOPAR/SS36runs/linkHC201812/'\n",
    "mod_basedir='/results/SalishSea/nowcast-green.201812/'\n",
    "mod_nam_fmt='nowcast'\n",
    "mod_flen=1\n",
    "saveloc='/data/eolson/results/MEOPAR/SS36runs/calcFiles/NTransport/'\n",
    "fver='HC201812'"
   ]
  },
  {
   "cell_type": "markdown",
   "metadata": {},
   "source": [
    "made interval a multiple of a fortnight in attempt to minimize aliasing of tidal cycle:"
   ]
  },
  {
   "cell_type": "code",
   "execution_count": 5,
   "metadata": {},
   "outputs": [
    {
     "data": {
      "text/plain": [
       "datetime.datetime(2015, 8, 21, 0, 0)"
      ]
     },
     "execution_count": 5,
     "metadata": {},
     "output_type": "execute_result"
    }
   ],
   "source": [
    "dt.datetime(2015,5,15)+dt.timedelta(days=7*14)"
   ]
  },
  {
   "cell_type": "code",
   "execution_count": 6,
   "metadata": {},
   "outputs": [
    {
     "name": "stdout",
     "output_type": "stream",
     "text": [
      "volumes: \n",
      "(40, 130, 97)\n",
      "0 vol: 232834007.16923195 m3\n",
      "0 north face area: 0.017903174399708822 km2\n",
      "0 south face area: 0.023887115963210383 km2\n",
      "0 east face area: 0.0 km2\n",
      "0 floor area: 38.10316762126778 km2\n",
      "0 floor area: 38.10316762126778 km2\n",
      "(40, 130, 97)\n",
      "1 vol: 475501033.2591236 m3\n",
      "1 north face area: 0.051981996171633744 km2\n",
      "1 south face area: 0.0660928789851366 km2\n",
      "1 east face area: 0.04443908484818648 km2\n",
      "1 floor area: 76.65649877674242 km2\n",
      "1 floor area: 76.65649877674242 km2\n",
      "(40, 130, 97)\n",
      "2 vol: 467855857.4262955 m3\n",
      "2 north face area: 0.0660928789851366 km2\n",
      "2 south face area: 0.058877382444252245 km2\n",
      "2 east face area: 0.044474769797453136 km2\n",
      "2 floor area: 76.13281888160705 km2\n",
      "2 floor area: 76.13281888160705 km2\n",
      "(40, 130, 97)\n",
      "3 vol: 475349561.3011287 m3\n",
      "3 north face area: 0.0691002936013758 km2\n",
      "3 south face area: 0.05633497645148102 km2\n",
      "3 east face area: 0.044501987470235926 km2\n",
      "3 floor area: 77.68207812856889 km2\n",
      "3 floor area: 77.68207812856889 km2\n",
      "(40, 130, 97)\n",
      "4 vol: 460253674.3391861 m3\n",
      "4 north face area: 0.06656271287114815 km2\n",
      "4 south face area: 0.05892732464151781 km2\n",
      "4 east face area: 0.04453044828517323 km2\n",
      "4 floor area: 76.70622481510526 km2\n",
      "4 floor area: 76.70622481510526 km2\n",
      "(40, 130, 97)\n",
      "5 vol: 468674561.80761874 m3\n",
      "5 north face area: 0.07171871451380164 km2\n",
      "5 south face area: 0.05339660783873324 km2\n",
      "5 east face area: 0.04455783029196595 km2\n",
      "5 floor area: 76.99707667445263 km2\n",
      "5 floor area: 76.99707667445263 km2\n"
     ]
    }
   ],
   "source": [
    "# calc transports: boxes in full model coords\n",
    "boxes,boxesS=nn.defboxes(k)"
   ]
  },
  {
   "cell_type": "code",
   "execution_count": 7,
   "metadata": {},
   "outputs": [
    {
     "data": {
      "text/plain": [
       "426.7161561188531"
      ]
     },
     "execution_count": 7,
     "metadata": {},
     "output_type": "execute_result"
    }
   ],
   "source": [
    "np.mean(nn.e1t[boxesS[4]['j'][1],boxesS[4]['i'][0]:boxesS[4]['i'][1]])"
   ]
  },
  {
   "cell_type": "code",
   "execution_count": 8,
   "metadata": {},
   "outputs": [
    {
     "data": {
      "text/plain": [
       "0.077714"
      ]
     },
     "execution_count": 8,
     "metadata": {},
     "output_type": "execute_result"
    }
   ],
   "source": [
    "np.sum(tmask[6,boxesS[4]['j'][1],(boxesS[4]['i'][0]):(boxesS[4]['i'][1])])*427*7/1e6"
   ]
  },
  {
   "cell_type": "code",
   "execution_count": 9,
   "metadata": {},
   "outputs": [
    {
     "data": {
      "text/plain": [
       "masked_array(data=[7.00043229, 7.00043229, 7.00043229, 7.00043229,\n",
       "                   7.00043229, 7.00043229, 7.00043229, 7.00043229,\n",
       "                   7.00043229, 7.00043229, 7.00043229, 7.00043229,\n",
       "                   7.00043229, 7.00043229, 7.00043229, 7.00043229,\n",
       "                   7.00043229, 7.00043229, 7.00043229, 7.00043229,\n",
       "                   7.00043229, 7.00043229, 7.00043229, 7.00043229,\n",
       "                   7.00043229, 7.00043229, 7.00043229, 7.00043229],\n",
       "             mask=False,\n",
       "       fill_value=1e+20)"
      ]
     },
     "execution_count": 9,
     "metadata": {},
     "output_type": "execute_result"
    }
   ],
   "source": [
    "np.sum(nn.e3t_0[:7,boxesS[4]['j'][1],boxesS[4]['i'][0]:boxesS[4]['i'][1]],0)"
   ]
  },
  {
   "cell_type": "code",
   "execution_count": 10,
   "metadata": {},
   "outputs": [
    {
     "data": {
      "text/plain": [
       "array([-27, -15, -15, -15, -15, -15])"
      ]
     },
     "execution_count": 10,
     "metadata": {},
     "output_type": "execute_result"
    }
   ],
   "source": [
    "np.diff(np.array(([boxes[0]['j'][1]]+[boxes[el]['j'][0] for el in range(0,6)])))"
   ]
  },
  {
   "cell_type": "code",
   "execution_count": 11,
   "metadata": {},
   "outputs": [
    {
     "data": {
      "image/png": "[encoded data removed]",
      "text/plain": [
       "<Figure size 216x360 with 1 Axes>"
      ]
     },
     "metadata": {
      "needs_background": "light"
     },
     "output_type": "display_data"
    }
   ],
   "source": [
    "fig,ax=plt.subplots(1,1,figsize=(3,5))\n",
    "viz_tools.set_aspect(ax)\n",
    "ax.pcolormesh(nn.vmask0)\n",
    "ax.pcolormesh(nn.tmask[0,:,:])\n",
    "#ax.contour(tmask[k,:,:],[.5])\n",
    "ax.contour(tmask[0,:,:],[.5])\n",
    "for el in boxes.keys():\n",
    "    iii,jjj=nn.makebox(nn.boxcoordsT(boxes[el]))\n",
    "    ax.plot(iii-ig0,jjj-jg0,'-',color='w',linewidth=1)"
   ]
  },
  {
   "cell_type": "code",
   "execution_count": 12,
   "metadata": {},
   "outputs": [
    {
     "name": "stdout",
     "output_type": "stream",
     "text": [
      "ftype=dian_V, are you sure? (if yes, add to list)\n",
      "ftype=dian_U, are you sure? (if yes, add to list)\n",
      "ftype=dian_W, are you sure? (if yes, add to list)\n",
      "ftype=prod_T, are you sure? (if yes, add to list)\n"
     ]
    }
   ],
   "source": [
    "flistV=et.index_model_files(start,end,mod_basedir,mod_nam_fmt,mod_flen,'dian_V',1)\n",
    "flistU=et.index_model_files(start,end,mod_basedir,mod_nam_fmt,mod_flen,'dian_U',1)\n",
    "flistW=et.index_model_files(start,end,mod_basedir,mod_nam_fmt,mod_flen,'dian_W',1)\n",
    "flistC=et.index_model_files(start,end,mod_basedir,mod_nam_fmt,mod_flen,'carp_T',1)\n",
    "flistT=et.index_model_files(start,end,mod_basedir,mod_nam_fmt,mod_flen,'ptrc_T',1)\n",
    "flistR=et.index_model_files(start,end,mod_basedir,mod_nam_fmt,mod_flen,'prod_T',1)\n",
    "flistP=et.index_model_files(start,end,mod_basedir,mod_nam_fmt,mod_flen,'grid_T',1)\n",
    "flistGV=et.index_model_files(start,end,mod_basedir,mod_nam_fmt,mod_flen,'grid_V',1)\n",
    "flistGU=et.index_model_files(start,end,mod_basedir,mod_nam_fmt,mod_flen,'grid_U',1)"
   ]
  },
  {
   "cell_type": "code",
   "execution_count": 13,
   "metadata": {},
   "outputs": [],
   "source": [
    "NBound, SBound, EBound, BBound, NBoundMix, SBoundMix, EBoundMix, BBoundMix, Content, Vol, A_N, A_S, A_E, times, boxes = nn.calcTransps(\n",
    "    start,end,k1,mod_flen,fver,saveloc,boxes,boxesS,flistV,flistU,flistW,flistC,flistT,recalc=False)"
   ]
  },
  {
   "cell_type": "code",
   "execution_count": 14,
   "metadata": {},
   "outputs": [],
   "source": [
    "boxPP,boxNPP,times2,boxes2=nn.calcProdBoxes(start,end,k1,mod_flen,fver,saveloc,boxes,boxesS,flistR,flistC,\n",
    "                                                    recalc=False) #mol/s"
   ]
  },
  {
   "cell_type": "code",
   "execution_count": 15,
   "metadata": {},
   "outputs": [
    {
     "name": "stdout",
     "output_type": "stream",
     "text": [
      "0 7.223274893229817\n",
      "1 18.737292954204385\n",
      "2 19.286175688861828\n",
      "3 20.43032780816475\n",
      "4 19.997127255868186\n",
      "5 19.872812874265904\n",
      "0 7.223274893229817\n",
      "1 18.737292954204385\n",
      "2 19.286175688861828\n",
      "3 20.43032780816475\n",
      "4 19.997127255868186\n",
      "5 19.872812874265904\n"
     ]
    }
   ],
   "source": [
    "for el in boxNPP:\n",
    "    boxNPP[el]=boxNPP[el]*1.11\n",
    "    print(el,np.mean(boxNPP[el]))\n",
    "for el in boxPP:\n",
    "    boxPP[el]=boxPP[el]*1.11\n",
    "    print(el,np.mean(boxNPP[el]))"
   ]
  },
  {
   "cell_type": "code",
   "execution_count": 16,
   "metadata": {},
   "outputs": [
    {
     "data": {
      "text/plain": [
       "(2352, 30)"
      ]
     },
     "execution_count": 16,
     "metadata": {},
     "output_type": "execute_result"
    }
   ],
   "source": [
    "# vertical transport into 4th box\n",
    "np.shape(BBound[3])"
   ]
  },
  {
   "cell_type": "raw",
   "metadata": {},
   "source": [
    "# get ssh\n",
    "vti=list()\n",
    "vti2=list()\n",
    "sti=list()\n",
    "sti2=list()\n",
    "\n",
    "for iif in range(0,len(flistV)):\n",
    "    print('iif=',iif)\n",
    "    with nc.Dataset(flistGV.loc[iif,['paths']].values[0]) as fV,\\\n",
    "          nc.Dataset(flistP.loc[iif,['paths']].values[0]) as fT:\n",
    "        # extract fields to numpy variables for faster transect extraction:\n",
    "        sshe=np.copy(fT.variables['sossheig'][:,jg0:jg1,ig0:ig1])\n",
    "        vvele=np.copy(fV.variables['vomecrty'][:,:,jg0:jg1,ig0:ig1])\n",
    "    # 1st extract Discovery mouth transect for diagnosing tidal phase:\n",
    "    vti.append(np.sum(vmask[6,93,9:16]*vvele[:,6,93,9:16],1)/np.sum(vmask[6,93,9:16]))\n",
    "    sti.append(np.sum(tmask[0,93,9:16]*sshe[:,93,9:16],1)/np.sum(tmask[0,93,9:16]))\n",
    "    sti2.append(np.sum(np.sum(tmask[0,boxesS[3]['j'][0]:boxesS[3]['j'][1],boxesS[3]['i'][0]:boxesS[3]['i'][1]]*\\\n",
    "                       sshe[:,boxesS[3]['j'][0]:boxesS[3]['j'][1],boxesS[3]['i'][0]:boxesS[3]['i'][1]],2),1)\\\n",
    "                /np.sum(tmask[0,boxesS[3]['j'][0]:boxesS[3]['j'][1],boxesS[3]['i'][0]:boxesS[3]['i'][1]]))\n",
    "    vti2.append(np.sum(np.sum(vmask[6,boxesS[3]['j'][0]:boxesS[3]['j'][1],boxesS[3]['i'][0]:boxesS[3]['i'][1]]*\\\n",
    "                              vvele[:,6,boxesS[3]['j'][0]:boxesS[3]['j'][1],boxesS[3]['i'][0]:boxesS[3]['i'][1]],2),1)\\\n",
    "                /np.sum(np.sum(vmask[6,boxesS[3]['j'][0]:boxesS[3]['j'][1],boxesS[3]['i'][0]:boxesS[3]['i'][1]],0),0))\n",
    "\n",
    "vt=np.concatenate(vti,axis=0)\n",
    "st=np.concatenate(sti,axis=0)\n",
    "st2=np.concatenate(sti2,axis=0)\n",
    "vt2=np.concatenate(vti2,axis=0)\n",
    "\n",
    "del vti, sti, sti2"
   ]
  },
  {
   "cell_type": "raw",
   "metadata": {},
   "source": [
    "np.shape(st2),np.shape(vt2)"
   ]
  },
  {
   "cell_type": "raw",
   "metadata": {
    "scrolled": true
   },
   "source": [
    "fig,ax=plt.subplots(1,1,figsize=(16,3))\n",
    "ax.plot(times[:24*10],BBound[3][:24*10,5],'b-',label='wN')\n",
    "ax.plot(times[:24*10],st[:24*10]*100000,'k-',label='ssh Disc')\n",
    "ax.plot(times[:24*10],st2[:24*10]*2000000,'k--',label='ssh local')\n",
    "ax.plot(times[:24*10],vt2[:24*10]*500000,'r--',label='v local')"
   ]
  },
  {
   "cell_type": "raw",
   "metadata": {
    "collapsed": true
   },
   "source": [
    "NO3_VT    v*dx*dz*C =                         mmol N/s  \n",
    "NO3_UT    u*dy*dz*C = m/s*m2*mmol/m3 =        mmol N/s \n",
    "VLDFNO3   dC/dt= (F1-F0)/(dx*dy*dz) => F in   mmol N/s \n",
    "ULDFNO3                                       mmol N/s\n",
    "NO3_WT    w*dx*dy*C =                         mmol N/s\n",
    "VMIXNO3   ~(Cadz-Cbdz)/dt=mmol/m3*1/s*m =     mmol N/m2/s "
   ]
  },
  {
   "cell_type": "code",
   "execution_count": 17,
   "metadata": {},
   "outputs": [],
   "source": [
    "meanT, meanM = nn.calcFluxFields(flistV,flistU,flistW,flistC,k,saveloc,start,end,fver,recalc=False)"
   ]
  },
  {
   "cell_type": "code",
   "execution_count": 18,
   "metadata": {},
   "outputs": [],
   "source": [
    "recalc=False\n",
    "fformat0='%Y%m%d'\n",
    "savepathT=saveloc+'saveVolTransp_'+fver+'_k'+str(k)+'_'+start.strftime(fformat0)+\\\n",
    "                                                               '-'+end.strftime(fformat0)+'.pkl'\n",
    "# calc mean velocities upper k\n",
    "if recalc==True:\n",
    "    VT_i=np.zeros((len(flistGV)*24,jg1-jg0,ig1-ig0))\n",
    "    UT_i=np.zeros((len(flistGV)*24,jg1-jg0,ig1-ig0))\n",
    "    for iif in range(0,len(flistGV)):\n",
    "        with nc.Dataset(flistGV.loc[iif,['paths']].values[0]) as fv, \\\n",
    "              nc.Dataset(flistGU.loc[iif,['paths']].values[0]) as fu, \\\n",
    "                nc.Dataset(flistC.loc[iif,['paths']].values[0]) as fc:\n",
    "            e3te=fc.variables['e3t'][:,:k,jg0:jg1,ig0:ig1]\n",
    "            VTe=np.sum(0.5*(fv.variables['vomecrty'][:,:k,(jg0-1):(jg1-1),ig0:ig1]+fv.variables['vomecrty'][:,:k,jg0:jg1,ig0:ig1])*e3te,1)\n",
    "            UTe=np.sum(0.5*(fu.variables['vozocrtx'][:,:k,jg0:jg1,(ig0-1):(ig1-1)]+fu.variables['vozocrtx'][:,:k,jg0:jg1,ig0:ig1])*e3te,1)\n",
    "        VT_i[(iif*24):(iif*24+24),:,:]=VTe\n",
    "        UT_i[(iif*24):(iif*24+24),:,:]=UTe\n",
    "    mVT=np.mean(VT_i,0)\n",
    "    mUT=np.mean(UT_i,0)\n",
    "    fformat0='%Y%m%d'\n",
    "    pickle.dump({'mVT':mVT,'mUT':mUT},open(savepathT,'wb'))\n",
    "else:\n",
    "    data=pickle.load(open(savepathT,'rb'))\n",
    "    mVT=data['mVT']\n",
    "    mUT=data['mUT']"
   ]
  },
  {
   "cell_type": "code",
   "execution_count": 19,
   "metadata": {},
   "outputs": [],
   "source": [
    "recalc=False\n",
    "savepathV=saveloc+'saveVel_'+fver+'_k'+str(k)+'_'+start.strftime(fformat0)+\\\n",
    "                                                               '-'+end.strftime(fformat0)+'.pkl'\n",
    "# calc mean velocities upper k\n",
    "if recalc==True:\n",
    "    V_i=np.zeros((len(flistGV)*24,jg1-jg0,ig1-ig0))\n",
    "    U_i=np.zeros((len(flistGV)*24,jg1-jg0,ig1-ig0))\n",
    "    for iif in range(0,len(flistGV)):\n",
    "        with nc.Dataset(flistGV.loc[iif,['paths']].values[0]) as fv, \\\n",
    "              nc.Dataset(flistGU.loc[iif,['paths']].values[0]) as fu, \\\n",
    "                nc.Dataset(flistC.loc[iif,['paths']].values[0]) as fc:\n",
    "            e3te=fc.variables['e3t'][:,:k,jg0:jg1,ig0:ig1]\n",
    "            Ve=np.sum(0.5*(fv.variables['vomecrty'][:,:k,(jg0-1):(jg1-1),ig0:ig1]+fv.variables['vomecrty'][:,:k,jg0:jg1,ig0:ig1])*e3te,1)/np.sum(e3te,1)\n",
    "            Ue=np.sum(0.5*(fu.variables['vozocrtx'][:,:k,jg0:jg1,(ig0-1):(ig1-1)]+fu.variables['vozocrtx'][:,:k,jg0:jg1,ig0:ig1])*e3te,1)/np.sum(e3te,1)\n",
    "        V_i[(iif*24):(iif*24+24),:,:]=Ve\n",
    "        U_i[(iif*24):(iif*24+24),:,:]=Ue\n",
    "    mV=np.mean(V_i,0)\n",
    "    mU=np.mean(U_i,0)\n",
    "    fformat0='%Y%m%d'\n",
    "    pickle.dump({'mV':mV,'mU':mU},open(savepathV,'wb'))\n",
    "else:\n",
    "    data=pickle.load(open(savepathV,'rb'))\n",
    "    mV=data['mV']\n",
    "    mU=data['mU']"
   ]
  },
  {
   "cell_type": "code",
   "execution_count": 20,
   "metadata": {},
   "outputs": [
    {
     "name": "stdout",
     "output_type": "stream",
     "text": [
      "2015-06-17 09:00:00\n"
     ]
    }
   ],
   "source": [
    "print(dt.datetime(2015, 6, 8)+dt.timedelta(hours=25*9))"
   ]
  },
  {
   "cell_type": "code",
   "execution_count": 21,
   "metadata": {},
   "outputs": [
    {
     "name": "stdout",
     "output_type": "stream",
     "text": [
      "ftype=dian_V, are you sure? (if yes, add to list)\n",
      "ftype=dian_U, are you sure? (if yes, add to list)\n",
      "ftype=dian_W, are you sure? (if yes, add to list)\n"
     ]
    }
   ],
   "source": [
    "flistVE=et.index_model_files(dt.datetime(2015, 6, 8),dt.datetime(2015, 6, 17),mod_basedir,mod_nam_fmt,mod_flen,'dian_V',1)\n",
    "flistUE=et.index_model_files(dt.datetime(2015, 6, 8),dt.datetime(2015, 6, 17),mod_basedir,mod_nam_fmt,mod_flen,'dian_U',1)\n",
    "flistWE=et.index_model_files(dt.datetime(2015, 6, 8),dt.datetime(2015, 6, 17),mod_basedir,mod_nam_fmt,mod_flen,'dian_W',1)\n",
    "flistCE=et.index_model_files(dt.datetime(2015, 6, 8),dt.datetime(2015, 6, 17),mod_basedir,mod_nam_fmt,mod_flen,'carp_T',1)\n",
    "flistTE=et.index_model_files(dt.datetime(2015, 6, 8),dt.datetime(2015, 6, 17),mod_basedir,mod_nam_fmt,mod_flen,'ptrc_T',1)"
   ]
  },
  {
   "cell_type": "code",
   "execution_count": 22,
   "metadata": {},
   "outputs": [],
   "source": [
    "# selected times based on NEWind2; shorten to start and end at midnight UTC\n",
    "#(datetime.datetime(2015, 6, 7, 12, 0), datetime.datetime(2015, 6, 17, 22, 0))\n",
    "meanTE, meanME = nn.calcFluxFields(flistVE,flistUE,flistWE,flistCE,k,saveloc,dt.datetime(2015, 6, 8),dt.datetime(2015, 6, 17),fver,recalc=False)"
   ]
  },
  {
   "cell_type": "code",
   "execution_count": 23,
   "metadata": {},
   "outputs": [
    {
     "name": "stdout",
     "output_type": "stream",
     "text": [
      "ftype=dian_V, are you sure? (if yes, add to list)\n",
      "ftype=dian_U, are you sure? (if yes, add to list)\n",
      "ftype=dian_W, are you sure? (if yes, add to list)\n"
     ]
    }
   ],
   "source": [
    "#repeat for relaxation period between upwelling events\n",
    "flistVR=et.index_model_files(dt.datetime(2015, 6, 21),dt.datetime(2015, 6, 27),mod_basedir,mod_nam_fmt,mod_flen,'dian_V',1)\n",
    "flistUR=et.index_model_files(dt.datetime(2015, 6, 21),dt.datetime(2015, 6, 27),mod_basedir,mod_nam_fmt,mod_flen,'dian_U',1)\n",
    "flistWR=et.index_model_files(dt.datetime(2015, 6, 21),dt.datetime(2015, 6, 27),mod_basedir,mod_nam_fmt,mod_flen,'dian_W',1)\n",
    "flistCR=et.index_model_files(dt.datetime(2015, 6, 21),dt.datetime(2015, 6, 27),mod_basedir,mod_nam_fmt,mod_flen,'carp_T',1)\n",
    "flistTR=et.index_model_files(dt.datetime(2015, 6, 21),dt.datetime(2015, 6, 27),mod_basedir,mod_nam_fmt,mod_flen,'ptrc_T',1)\n",
    "# selected times based on NEWind2; shorten to start and end at midnight UTC\n",
    "#(datetime.datetime(2015, 6, 7, 12, 0), datetime.datetime(2015, 6, 17, 22, 0))\n",
    "meanTR, meanMR = nn.calcFluxFields(flistVR,flistUR,flistWR,flistCR,k,saveloc,dt.datetime(2015, 6, 21),dt.datetime(2015, 6, 27),fver,recalc=False)"
   ]
  },
  {
   "cell_type": "code",
   "execution_count": 24,
   "metadata": {},
   "outputs": [],
   "source": [
    "mapCol=(0.67, 0.8, 0.64) # rgb\n",
    "cmb=cmocean.tools.crop_by_percent(cmocean.cm.balance, 45, which='both', N=None)\n",
    "cmb.set_bad(mapCol)\n",
    "cmc=cmocean.tools.crop_by_percent(cmocean.cm.tarn_r, 40, which='both', N=None)\n",
    "cmc.set_bad(mapCol)"
   ]
  },
  {
   "cell_type": "code",
   "execution_count": 25,
   "metadata": {},
   "outputs": [
    {
     "name": "stdout",
     "output_type": "stream",
     "text": [
      "0 97.12116205406923\n",
      "1 92.09112734907879\n",
      "2 -107.35764618425657\n",
      "3 65.36713935950493\n",
      "4 -0.8400263821804402\n",
      "5 48.092731012886\n"
     ]
    }
   ],
   "source": [
    "for el in BBound.keys():\n",
    "    print(el,np.mean(np.sum(BBound[el][:,:k]+BBoundMix[el][:,:k],1))*1e-3)"
   ]
  },
  {
   "cell_type": "markdown",
   "metadata": {},
   "source": [
    "#### Sum of vertical mixing and transport NO3 supply to region in boxes:"
   ]
  },
  {
   "cell_type": "code",
   "execution_count": 26,
   "metadata": {},
   "outputs": [
    {
     "data": {
      "text/plain": [
       "194.47448720910194"
      ]
     },
     "execution_count": 26,
     "metadata": {},
     "output_type": "execute_result"
    }
   ],
   "source": [
    "np.mean(np.sum(BBound[0][:,:k]+BBoundMix[0][:,:k]+\\\n",
    "               BBound[1][:,:k]+BBoundMix[1][:,:k]+\\\n",
    "               BBound[2][:,:k]+BBoundMix[2][:,:k]+\\\n",
    "               BBound[3][:,:k]+BBoundMix[3][:,:k]+\\\n",
    "               BBound[4][:,:k]+BBoundMix[4][:,:k]+\\\n",
    "               BBound[5][:,:k]+BBoundMix[5][:,:k],1))*1e-3"
   ]
  },
  {
   "cell_type": "markdown",
   "metadata": {},
   "source": [
    "##### Divide by area:"
   ]
  },
  {
   "cell_type": "code",
   "execution_count": 27,
   "metadata": {},
   "outputs": [
    {
     "name": "stdout",
     "output_type": "stream",
     "text": [
      "volumes: \n",
      "(40, 130, 97)\n",
      "0 vol: 232834007.16923195 m3\n",
      "0 north face area: 0.017903174399708822 km2\n",
      "0 south face area: 0.023887115963210383 km2\n",
      "0 east face area: 0.0 km2\n",
      "0 floor area: 38.10316762126778 km2\n",
      "0 floor area: 38.10316762126778 km2\n",
      "(40, 130, 97)\n",
      "1 vol: 475501033.2591236 m3\n",
      "1 north face area: 0.051981996171633744 km2\n",
      "1 south face area: 0.0660928789851366 km2\n",
      "1 east face area: 0.04443908484818648 km2\n",
      "1 floor area: 76.65649877674242 km2\n",
      "1 floor area: 76.65649877674242 km2\n",
      "(40, 130, 97)\n",
      "2 vol: 467855857.4262955 m3\n",
      "2 north face area: 0.0660928789851366 km2\n",
      "2 south face area: 0.058877382444252245 km2\n",
      "2 east face area: 0.044474769797453136 km2\n",
      "2 floor area: 76.13281888160705 km2\n",
      "2 floor area: 76.13281888160705 km2\n",
      "(40, 130, 97)\n",
      "3 vol: 475349561.3011287 m3\n",
      "3 north face area: 0.0691002936013758 km2\n",
      "3 south face area: 0.05633497645148102 km2\n",
      "3 east face area: 0.044501987470235926 km2\n",
      "3 floor area: 77.68207812856889 km2\n",
      "3 floor area: 77.68207812856889 km2\n",
      "(40, 130, 97)\n",
      "4 vol: 460253674.3391861 m3\n",
      "4 north face area: 0.06656271287114815 km2\n",
      "4 south face area: 0.05892732464151781 km2\n",
      "4 east face area: 0.04453044828517323 km2\n",
      "4 floor area: 76.70622481510526 km2\n",
      "4 floor area: 76.70622481510526 km2\n",
      "(40, 130, 97)\n",
      "5 vol: 468674561.80761874 m3\n",
      "5 north face area: 0.07171871451380164 km2\n",
      "5 south face area: 0.05339660783873324 km2\n",
      "5 east face area: 0.04455783029196595 km2\n",
      "5 floor area: 76.99707667445263 km2\n",
      "5 floor area: 76.99707667445263 km2\n"
     ]
    }
   ],
   "source": [
    "ABoxes=nn.boxAreas(k)"
   ]
  },
  {
   "cell_type": "code",
   "execution_count": 28,
   "metadata": {},
   "outputs": [
    {
     "data": {
      "text/plain": [
       "0.1351066027235024"
      ]
     },
     "execution_count": 28,
     "metadata": {},
     "output_type": "execute_result"
    }
   ],
   "source": [
    "# units are umol/m2/s\n",
    "Asum=ABoxes[0]+ABoxes[1]+ABoxes[2]+ABoxes[3]+ABoxes[4]+ABoxes[5]\n",
    "np.mean(BBound[0][:,k-1]+BBoundMix[0][:,k-1]+\\\n",
    "               BBound[1][:,k-1]+BBoundMix[1][:,k-1]+\\\n",
    "               BBound[2][:,k-1]+BBoundMix[2][:,k-1]+\\\n",
    "               BBound[3][:,k-1]+BBoundMix[3][:,k-1]+\\\n",
    "               BBound[4][:,k-1]+BBoundMix[4][:,k-1]+\\\n",
    "               BBound[5][:,k-1]+BBoundMix[5][:,k-1],0)/Asum*1e3"
   ]
  },
  {
   "cell_type": "code",
   "execution_count": 29,
   "metadata": {},
   "outputs": [
    {
     "name": "stdout",
     "output_type": "stream",
     "text": [
      "units now mol/s\n",
      "0\n",
      "7.39300341644674 -41.378174652504235 0.0\n",
      "-0.00423133967227319 62.44237898198768 0.0\n",
      "1\n",
      "-23.83794554675026 4.770518232849538 -3.8229758801964495\n",
      "-0.003950799751368105 30.772049966378315 0.013124230748825082\n",
      "2\n",
      "-52.0977795323746 -45.202608013749035 -5.643747348079804\n",
      "0.021918495494385674 12.150808837694095 0.008276160547742781\n",
      "3\n",
      "-12.768916939366115 16.854874454971412 -1.8655704060618172\n",
      "0.0011224418975013283 4.15932001806212 0.004729961873096263\n",
      "4\n",
      "-24.2239356581983 -5.46075012890744 1.908029003914207\n",
      "0.00035714024465087013 3.4055359620951 0.0022939313103942757\n",
      "5\n",
      "-9.906736267796912 10.433125493240455 3.6044078905157537\n",
      "0.014825382070140185 4.105448579550347 0.00842065142436018\n"
     ]
    }
   ],
   "source": [
    "NBoundC, SBoundC, EBoundC, BBoundC, NBoundMixC, SBoundMixC, EBoundMixC, BBoundMixC = \\\n",
    "    nn.transpConversions(boxes,NBound,SBound,EBound,BBound,NBoundMix,SBoundMix,EBoundMix,BBoundMix,k)"
   ]
  },
  {
   "cell_type": "code",
   "execution_count": 30,
   "metadata": {},
   "outputs": [
    {
     "data": {
      "text/plain": [
       "{0: -41.378174652504235,\n",
       " 1: 4.770518232849538,\n",
       " 2: -45.202608013749035,\n",
       " 3: 16.854874454971412,\n",
       " 4: -5.46075012890744,\n",
       " 5: 10.433125493240455}"
      ]
     },
     "execution_count": 30,
     "metadata": {},
     "output_type": "execute_result"
    }
   ],
   "source": [
    "BBoundC"
   ]
  },
  {
   "cell_type": "code",
   "execution_count": 31,
   "metadata": {},
   "outputs": [
    {
     "data": {
      "text/plain": [
       "0.13510660272350247"
      ]
     },
     "execution_count": 31,
     "metadata": {},
     "output_type": "execute_result"
    }
   ],
   "source": [
    "# all 6 boxes:\n",
    "# umol n/m2/s:\n",
    "(BBoundC[0]+BBoundMixC[0]+\\\n",
    "               BBoundC[1]+BBoundMixC[1]+\\\n",
    "               BBoundC[2]+BBoundMixC[2]+\\\n",
    "               BBoundC[3]+BBoundMixC[3]+\\\n",
    "               BBoundC[4]+BBoundMixC[4]+\\\n",
    "               BBoundC[5]+BBoundMixC[5])/Asum*1e6"
   ]
  },
  {
   "cell_type": "code",
   "execution_count": 32,
   "metadata": {},
   "outputs": [
    {
     "data": {
      "text/plain": [
       "0.49326365530191885"
      ]
     },
     "execution_count": 32,
     "metadata": {},
     "output_type": "execute_result"
    }
   ],
   "source": [
    "# first 2 boxes:\n",
    "# umol n/m2/s:\n",
    "Asum2=ABoxes[0]+ABoxes[1]\n",
    "(BBoundC[0]+BBoundMixC[0]+\\\n",
    "               BBoundC[1]+BBoundMixC[1])/Asum2*1e6"
   ]
  },
  {
   "cell_type": "code",
   "execution_count": 33,
   "metadata": {},
   "outputs": [
    {
     "data": {
      "text/plain": [
       "56.6067725287113"
      ]
     },
     "execution_count": 33,
     "metadata": {},
     "output_type": "execute_result"
    }
   ],
   "source": [
    "BBoundC[0]+BBoundMixC[0]+\\\n",
    "               BBoundC[1]+BBoundMixC[1]"
   ]
  },
  {
   "cell_type": "code",
   "execution_count": 34,
   "metadata": {},
   "outputs": [
    {
     "data": {
      "text/plain": [
       "{0: -41.378174652504235,\n",
       " 1: 4.770518232849538,\n",
       " 2: -45.202608013749035,\n",
       " 3: 16.854874454971412,\n",
       " 4: -5.46075012890744,\n",
       " 5: 10.433125493240455}"
      ]
     },
     "execution_count": 34,
     "metadata": {},
     "output_type": "execute_result"
    }
   ],
   "source": [
    "BBoundC"
   ]
  },
  {
   "cell_type": "code",
   "execution_count": 35,
   "metadata": {},
   "outputs": [],
   "source": [
    "mask=dict()\n",
    "mask['V']=vmask0\n",
    "mask['U']=umask0\n",
    "mask['W']=tmask[k,:,:]"
   ]
  },
  {
   "cell_type": "code",
   "execution_count": 36,
   "metadata": {
    "scrolled": true
   },
   "outputs": [
    {
     "name": "stdout",
     "output_type": "stream",
     "text": [
      "/data/eolson/results/MEOPAR/biomodelevalpaper/figsNNut/Ntransports_k6R2.pdf\n"
     ]
    },
    {
     "data": {
      "image/png": "[encoded data removed]",
      "text/plain": [
       "<Figure size 540x374.4 with 12 Axes>"
      ]
     },
     "metadata": {
      "needs_background": "light"
     },
     "output_type": "display_data"
    }
   ],
   "source": [
    "fig=plt.figure(figsize=(7.5,5.2))\n",
    "gs0=gridspec.GridSpec(2,2,hspace=0.24,wspace=.13,left=.01,right=.93,bottom=.022,top=.92,\n",
    "                      width_ratios=[1,1],height_ratios=[1,1])\n",
    "ax=list()\n",
    "cbax=list()\n",
    "for jx in range(0,2):\n",
    "    if jx==0:\n",
    "        gsi=gridspec.GridSpecFromSubplotSpec(1, 3, subplot_spec=gs0[0,jx],\n",
    "                                         width_ratios=[10,10*(ig1-ig0-.5)/(ig1-ig0+13),11-10*(ig1-ig0-.5)/(ig1-ig0+13)],wspace=.1)\n",
    "        gsl=gridspec.GridSpecFromSubplotSpec(1, 3, subplot_spec=gs0[1,jx],\n",
    "                                         width_ratios=[10,10,1],wspace=.1)\n",
    "    elif jx==1:\n",
    "        gsi=gridspec.GridSpecFromSubplotSpec(1, 3, subplot_spec=gs0[0,jx],\n",
    "                                         width_ratios=[10,10,1],wspace=.1)\n",
    "        gsl2=gridspec.GridSpecFromSubplotSpec(1, 3, subplot_spec=gs0[1,jx],\n",
    "                                         width_ratios=[10,10,1],wspace=.1)\n",
    "    ax1=fig.add_subplot(gsi[0])\n",
    "    ax1.get_xaxis().set_visible(False)\n",
    "    ax1.get_yaxis().set_visible(False)\n",
    "    viz_tools.set_aspect(ax1)\n",
    "    ax2=fig.add_subplot(gsi[1])\n",
    "    ax2.get_xaxis().set_visible(False)\n",
    "    ax2.get_yaxis().set_visible(False)\n",
    "    viz_tools.set_aspect(ax2)\n",
    "    ax3=fig.add_subplot(gsi[2])\n",
    "    ax.append(ax1,)\n",
    "    ax.append(ax2,)\n",
    "    cbax.append(ax3,)\n",
    "ax4=fig.add_subplot(gsl2[0])\n",
    "ax4.get_xaxis().set_visible(False)\n",
    "ax4.get_yaxis().set_visible(False)\n",
    "viz_tools.set_aspect(ax4)\n",
    "ax5=fig.add_subplot(gsl2[1])\n",
    "ax5.get_xaxis().set_visible(False)\n",
    "ax5.get_yaxis().set_visible(False)\n",
    "viz_tools.set_aspect(ax5)\n",
    "ax6=fig.add_subplot(gsl2[2])\n",
    "ax7=fig.add_subplot(gsl[0])\n",
    "viz_tools.set_aspect(ax7)\n",
    "ax9=fig.add_subplot(gsl[2])\n",
    "ax.append(ax4,)\n",
    "ax.append(ax5,)\n",
    "ax.append(ax7,)\n",
    "cbax.append(ax6,)\n",
    "cbax.append(ax9,)\n",
    "\n",
    "v1=3000\n",
    "m=ax[0].pcolormesh(np.ma.masked_where(mask['V']==0,1000*(meanT['V']+meanM['V'])),cmap=cmb,vmin=-1*v1,vmax=v1)\n",
    "ax[0].set_title('Northward NO$_3$\\nFlux ($\\muup$mol N m$^{-2}$ s$^{-1}$)\\nAdvection + Mixing')\n",
    "m=ax[1].pcolormesh(np.ma.masked_where(mask['U']==0,1000*(meanT['U']+meanM['U'])),cmap=cmb,vmin=-1*v1,vmax=v1)\n",
    "cb0=fig.colorbar(m,cax=cbax[0])\n",
    "ax[1].set_title('Eastward NO$_3$\\nFlux ($\\muup$mol N m$^{-2}$ s$^{-1}$)\\nAdvection + Mixing')\n",
    "v2=15\n",
    "m=ax[2].pcolormesh(np.ma.masked_where(mask['W']==0,1000*(meanT['W'])),cmap=cmc,vmin=-1*v2,vmax=v2)\n",
    "ax[2].set_title('Vertical NO$_3$\\nFlux ($\\muup$mol N m$^{-2}$ s$^{-1}$)\\nAdvection')\n",
    "m=ax[3].pcolormesh(np.ma.masked_where(mask['W']==0,1000*(meanM['W'])),cmap=cmc,vmin=-1*v2,vmax=v2)\n",
    "cb1=fig.colorbar(m,cax=cbax[1])\n",
    "ax[3].set_title('Vertical NO$_3$\\nFlux ($\\muup$mol N m$^{-2}$ s$^{-1}$)\\nMixing')\n",
    "\n",
    "nn.drawboxesV(ax[0],boxes,boxCol)\n",
    "nn.drawboxesU(ax[1],boxes,boxCol)\n",
    "nn.drawboxesT(ax[2],boxes,boxCol)\n",
    "nn.drawboxesT(ax[3],boxes,boxCol)\n",
    "for iax in ax:\n",
    "    iax.set_facecolor(mapCol)\n",
    "ax[0].set_xlim(-13,ig1-ig0)\n",
    "ax[1].set_xlim(0,ig1-ig0-.5)\n",
    "ax[2].set_xlim(-13,ig1-ig0)\n",
    "ax[3].set_xlim(-13,ig1-ig0)\n",
    "\n",
    "ax[0].set_ylim(.5,jg1-jg0-.5)\n",
    "ax[1].set_ylim(1,jg1-jg0)\n",
    "ax[2].set_ylim(1,jg1-jg0)\n",
    "ax[3].set_ylim(1,jg1-jg0)\n",
    "\n",
    "nn.annotYTranspUpper(ax[0],boxes,NBoundC,SBoundC,NBoundMixC,SBoundMixC)\n",
    "nn.annotXTranspUpper(ax[1],boxes,EBoundC,EBoundMixC)\n",
    "nn.annotWTTranspUpper(ax[2],boxes,BBoundC)\n",
    "nn.annotWMTranspUpper(ax[3],boxes,BBoundMixC)\n",
    "#nn.annotPPUpper(iax,boxes,NPP,prec=1)\n",
    "\n",
    "x1=ax[1].get_position()\n",
    "xc1=cbax[0].get_position()\n",
    "cbax[0].set_position(mpl.transforms.Bbox.from_bounds(xc1.bounds[0],x1.bounds[1],.015,x1.bounds[3]))\n",
    "x2=ax[3].get_position()\n",
    "xc2=cbax[1].get_position()\n",
    "cbax[1].set_position(mpl.transforms.Bbox.from_bounds(xc2.bounds[0],x2.bounds[1],.015,x2.bounds[3]))\n",
    "\n",
    "fig.canvas.draw()\n",
    "for icb in (cb0,cb1):\n",
    "    test=icb.ax.yaxis.get_ticklabels()\n",
    "    test[0].set_text('$\\leq$'+(test[0].get_text()))\n",
    "    test[-1].set_text('$\\geq$'+(test[-1].get_text()))\n",
    "    icb.ax.yaxis.set_ticklabels(test)\n",
    "\n",
    "cm0=cmocean.cm.thermal\n",
    "cm0.set_bad(mapCol)\n",
    "cm1=cmocean.cm.dense_r\n",
    "cm1.set_bad(mapCol)\n",
    "iax=ax[5]\n",
    "clim=(0,5000)\n",
    "subN=9\n",
    "sh=np.shape(meanT['V'])\n",
    "shx,shy=np.meshgrid(np.arange(1,sh[1],subN),np.arange(1,sh[0],subN))\n",
    "#log scale arrow magnitude without ruining vector directions:\n",
    "ugrd=1000*0.5*(meanTR['U'][1:,:-1]+meanTR['U'][1:,1:])\n",
    "vgrd=1000*0.5*(meanTR['V'][:-1,1:]+meanTR['V'][1:,1:])\n",
    "mesh=iax.contourf(np.ma.masked_where(tmask[0,1:,1:]==0,\n",
    "    np.sqrt(ugrd[:,:]**2+vgrd[:,:]**2)),\n",
    "    np.linspace(clim[0],clim[1],200),vmin=clim[0],vmax=clim[1],cmap=cm0,extend='max')\n",
    "mag0=np.sqrt(ugrd**2+vgrd**2)\n",
    "#mag2=np.log10(mag0+100)-np.log10(100)\n",
    "ugrd2=np.ma.masked_where(tmask[0,1:,1:]==0,ugrd)#np.where(mag0==0,0,ugrd*mag2/mag0))\n",
    "vgrd2=np.ma.masked_where(tmask[0,1:,1:]==0,vgrd)#np.where(mag0==0,0,vgrd*mag2/mag0))\n",
    "Q = iax.quiver(shx,shy,ugrd2[1::subN, 1::subN], vgrd2[1::subN, 1::subN],\n",
    "                               pivot='mid', units='inches',width=.03,color='w',scale=8000,alpha=.7)#scale=4000\n",
    "iax.set_title('Horizontal NO$_3$\\nFlux ($\\muup$mol N m$^{-2}$ s$^{-1}$)\\nRelaxed')\n",
    "iax.set_xticks([],[]);\n",
    "iax.set_yticks([],[]);\n",
    "\n",
    "iax=ax[4]\n",
    "#log scale arrow magnitude without ruining vector directions:\n",
    "ugrd=1000*0.5*(meanTE['U'][1:,:-1]+meanTE['U'][1:,1:])\n",
    "vgrd=1000*0.5*(meanTE['V'][:-1,1:]+meanTE['V'][1:,1:])\n",
    "mesh=iax.contourf(np.ma.masked_where(tmask[0,1:,1:]==0,\n",
    "    np.sqrt(ugrd[:,:]**2+vgrd[:,:]**2)),\n",
    "    np.linspace(clim[0],clim[1],200),vmin=clim[0],vmax=clim[1],cmap=cm0,extend='max')\n",
    "mag0=np.sqrt(ugrd**2+vgrd**2)\n",
    "#mag2=np.log10(mag0+100)-np.log10(100)\n",
    "ugrd2=np.ma.masked_where(tmask[0,1:,1:]==0,ugrd)#np.where(mag0==0,0,ugrd*mag2/mag0))\n",
    "vgrd2=np.ma.masked_where(tmask[0,1:,1:]==0,vgrd)#np.where(mag0==0,0,vgrd*mag2/mag0))\n",
    "Q = iax.quiver(shx,shy,ugrd2[1::subN, 1::subN], vgrd2[1::subN, 1::subN],\n",
    "                               pivot='mid', units='inches',width=.03,color='w',scale=8000,alpha=.7)#scale=4000\n",
    "iax.set_title('Horizontal NO$_3$\\nFlux ($\\muup$mol N m$^{-2}$ s$^{-1}$)\\nUpwelling')\n",
    "iax.set_xticks([],[]);\n",
    "iax.set_yticks([],[]);\n",
    "cb=fig.colorbar(mesh,cax=cbax[2],ticks=np.linspace(clim[0],clim[1],6))\n",
    "\n",
    "iax=ax[6]\n",
    "ii0=6\n",
    "#log scale arrow magnitude without ruining vector directions:\n",
    "clim=(0,3.5)\n",
    "subN=9\n",
    "sh=np.shape(mUT)#mUT\n",
    "shx,shy=np.meshgrid(np.arange(ii0,sh[1],subN),np.arange(ii0,sh[0],subN))\n",
    "#log scale arrow magnitude without ruining vector directions:\n",
    "ugrd=mUT\n",
    "vgrd=mVT\n",
    "mesh=iax.contourf(np.ma.masked_where(tmask[0,:,:]==0,\n",
    "    np.sqrt(ugrd[:,:]**2+vgrd[:,:]**2)),\n",
    "    np.linspace(clim[0],clim[1],200),vmin=clim[0],vmax=clim[1],cmap=cm1,extend='max')\n",
    "mag0=np.sqrt(ugrd**2+vgrd**2)\n",
    "ugrd2=np.ma.masked_where(tmask[0,:,:]==0,ugrd)#np.where(mag0==0,0,ugrd*mag2/mag0))\n",
    "vgrd2=np.ma.masked_where(tmask[0,:,:]==0,vgrd)#np.where(mag0==0,0,vgrd*mag2/mag0))\n",
    "Q = iax.quiver(shx,shy,ugrd2[ii0::subN, ii0::subN], vgrd2[ii0::subN, ii0::subN],\n",
    "                               pivot='mid', units='inches',width=.03,color='w',scale=7,alpha=.7)#scale=4000\n",
    "iax.set_title('Vertically Integrated\\nVelocity (m$^2$ s$^{-1}$)')\n",
    "iax.set_xticks([],[]);\n",
    "iax.set_yticks([],[]);\n",
    "cb=fig.colorbar(mesh,cax=cbax[3],ticks=np.linspace(clim[0],clim[1],6))\n",
    "bb=cbax[3].get_position()\n",
    "cbax[3].set_position([bb.x0-.205,bb.y0,bb.width,bb.height])\n",
    "#p0=ax1.get_position()\n",
    "\n",
    "x1=ax[4].get_position()\n",
    "axP=fig.add_axes(mpl.transforms.Bbox.from_bounds(x1.bounds[1]+.33,x1.bounds[1],x1.bounds[2]-.06,x1.bounds[3]-.03))\n",
    "fformatA='%Y%m%d'\n",
    "savepath='../../save/transpDiscovery2'+start.strftime(fformatA)+'-'+end.strftime(fformatA)+'.pkl'\n",
    "dataT=pickle.load(open(savepath,'rb'))\n",
    "masksT=dataT['masks']\n",
    "gdept_1dT=dataT['gdept_1d']\n",
    "e3t_1dT=dataT['e3t_1d']\n",
    "no3TD=dataT['no3TD']\n",
    "iikb=np.sum(np.amax(masksT['N'],1))+1\n",
    "axP.plot(np.mean(np.sum(no3TD['N'],2)/e3t_1dT,0)[:iikb]*1e-3,-1*gdept_1dT[:iikb],'k-')\n",
    "iikb=np.sum(np.amax(masksT['S'],1))+1\n",
    "axP.plot(np.mean(np.sum(no3TD['S'],2)/e3t_1dT,0)[:iikb]*1e-3,-1*gdept_1dT[:iikb],'k--')\n",
    "axP.plot((0,0),(-100,0),'k-',lw=1)\n",
    "axP.set_xlabel('NO$_3$ Transport\\n(mol m$^{-1}$ s$^{-1}$)')\n",
    "axP.set_ylabel('z (m)',labelpad=-.2)\n",
    "axP.set_ylim(-100,0)\n",
    "axP.xaxis.tick_top()\n",
    "axP.xaxis.set_label_position('top')\n",
    "axP.text(-.24/(24*3600)*1e6,-72,'DS',fontsize=8)\n",
    "axP.text(-.29/(24*3600)*1e6,-32,'DN',fontsize=8)\n",
    "axP.axhspan(-100, -6, color='gainsboro')\n",
    "\n",
    "fig.savefig('/data/eolson/results/MEOPAR/biomodelevalpaper/figsNNut/Ntransports_k'+str(k)+'R2.png',dpi=300)\n",
    "fig.savefig('/data/eolson/results/MEOPAR/biomodelevalpaper/figsNNut/Ntransports_k'+str(k)+'R2.pdf',dpi=300)\n",
    "print('/data/eolson/results/MEOPAR/biomodelevalpaper/figsNNut/Ntransports_k'+str(k)+'R2.pdf')"
   ]
  },
  {
   "cell_type": "code",
   "execution_count": 37,
   "metadata": {},
   "outputs": [
    {
     "data": {
      "text/plain": [
       "1.651922113888235"
      ]
     },
     "execution_count": 37,
     "metadata": {},
     "output_type": "execute_result"
    }
   ],
   "source": [
    "np.max(meanTE['V']-meanT['V'])"
   ]
  },
  {
   "cell_type": "markdown",
   "metadata": {},
   "source": [
    "vertical transports, summed over boxes:"
   ]
  },
  {
   "cell_type": "code",
   "execution_count": 38,
   "metadata": {},
   "outputs": [
    {
     "name": "stdout",
     "output_type": "stream",
     "text": [
      "all boxes: 57.05252773166835 mol/s\n",
      "first 2 boxes: 56.6067725287113 mol/s\n"
     ]
    }
   ],
   "source": [
    "totVert=0\n",
    "for el in range(0,len(boxes)):\n",
    "    totVert=totVert+BBoundC[el]+BBoundMixC[el]\n",
    "print('all boxes:',totVert, 'mol/s')\n",
    "totVert=0\n",
    "for el in range(0,2):\n",
    "    totVert=totVert+BBoundC[el]+BBoundMixC[el]\n",
    "print('first 2 boxes:',totVert, 'mol/s')"
   ]
  },
  {
   "cell_type": "markdown",
   "metadata": {},
   "source": [
    "### look at total upward N transports"
   ]
  },
  {
   "cell_type": "code",
   "execution_count": 39,
   "metadata": {},
   "outputs": [
    {
     "data": {
      "image/png": "[encoded data removed]",
      "text/plain": [
       "<Figure size 432x288 with 1 Axes>"
      ]
     },
     "metadata": {
      "needs_background": "light"
     },
     "output_type": "display_data"
    }
   ],
   "source": [
    "fig,ax=plt.subplots(1,1)\n",
    "ax.pcolormesh(np.ma.masked_where(mask['W']==0,1000*(meanT['W']+meanM['W'])),\n",
    "               cmap=cmc,vmin=-1,vmax=1)\n",
    "nn.drawboxesV(ax,boxes,boxCol)"
   ]
  },
  {
   "cell_type": "code",
   "execution_count": 40,
   "metadata": {},
   "outputs": [
    {
     "data": {
      "text/plain": [
       "166.36271299016"
      ]
     },
     "execution_count": 40,
     "metadata": {},
     "output_type": "execute_result"
    }
   ],
   "source": [
    "## total net N transport in moles N / s\n",
    "np.sum(np.sum(np.ma.masked_where(mask['W']==0,1000*(meanT['W']+meanM['W'])*e12t),1),0)*1e-6\n"
   ]
  },
  {
   "cell_type": "code",
   "execution_count": 41,
   "metadata": {},
   "outputs": [
    {
     "data": {
      "text/plain": [
       "205.84008102914285"
      ]
     },
     "execution_count": 41,
     "metadata": {},
     "output_type": "execute_result"
    }
   ],
   "source": [
    "## total net N transport in moles N / s\n",
    "np.sum(np.sum(np.ma.masked_where(mask['W'][:-3,:]==0,1000*(meanT['W'][:-3,:]+meanM['W'][:-3,:])*e12t[:-3,:]),1),0)*1e-6\n"
   ]
  },
  {
   "cell_type": "code",
   "execution_count": null,
   "metadata": {},
   "outputs": [],
   "source": []
  },
  {
   "cell_type": "markdown",
   "metadata": {},
   "source": [
    "##### divide both by area:"
   ]
  },
  {
   "cell_type": "code",
   "execution_count": 42,
   "metadata": {},
   "outputs": [
    {
     "data": {
      "text/plain": [
       "0.1046921507255024"
      ]
     },
     "execution_count": 42,
     "metadata": {},
     "output_type": "execute_result"
    }
   ],
   "source": [
    "# whole range, umol/m2/s\n",
    "np.sum(np.sum(np.ma.masked_where(mask['W']==0,1000*(meanT['W']+meanM['W'])*e12t),1),0)/np.sum(np.sum(e12t*mask['W']))"
   ]
  },
  {
   "cell_type": "code",
   "execution_count": 43,
   "metadata": {},
   "outputs": [
    {
     "data": {
      "text/plain": [
       "0.13092622726085656"
      ]
     },
     "execution_count": 43,
     "metadata": {},
     "output_type": "execute_result"
    }
   ],
   "source": [
    "# cut off 3, umol/m2/s\n",
    "np.sum(np.sum(np.ma.masked_where(mask['W'][:-3,:]==0,1000*(meanT['W'][:-3,:]+meanM['W'][:-3,:])*e12t[:-3,:]),1),0)/np.sum(np.sum(e12t[:-3,:]*mask['W'][:-3,:]))"
   ]
  },
  {
   "cell_type": "markdown",
   "metadata": {},
   "source": [
    "### look at depths/ e3ts"
   ]
  },
  {
   "cell_type": "code",
   "execution_count": 44,
   "metadata": {},
   "outputs": [],
   "source": [
    "Zs, tmk = nn.compileZ_k(start,end,k,mod_basedir,mod_nam_fmt,mod_flen,fver,saveloc,recalc=False)"
   ]
  },
  {
   "cell_type": "code",
   "execution_count": 45,
   "metadata": {},
   "outputs": [
    {
     "data": {
      "text/plain": [
       "2.9834394"
      ]
     },
     "execution_count": 45,
     "metadata": {},
     "output_type": "execute_result"
    }
   ],
   "source": [
    "np.min(np.ma.masked_where(Zs==0,Zs))"
   ]
  },
  {
   "cell_type": "code",
   "execution_count": 46,
   "metadata": {},
   "outputs": [
    {
     "data": {
      "text/plain": [
       "7.6821146"
      ]
     },
     "execution_count": 46,
     "metadata": {},
     "output_type": "execute_result"
    }
   ],
   "source": [
    "np.max(np.ma.masked_where(Zs==0,Zs))"
   ]
  },
  {
   "cell_type": "code",
   "execution_count": 47,
   "metadata": {},
   "outputs": [
    {
     "data": {
      "text/plain": [
       "(2352, 130, 97)"
      ]
     },
     "execution_count": 47,
     "metadata": {},
     "output_type": "execute_result"
    }
   ],
   "source": [
    "np.shape(Zs)"
   ]
  },
  {
   "cell_type": "code",
   "execution_count": 48,
   "metadata": {},
   "outputs": [],
   "source": [
    "iso90_pts=np.loadtxt('../results/ts90.txt', delimiter=' ', dtype=int)\n",
    "iso90=np.array([[a,b] for (a,b) in iso90_pts if ((a-644)<130)])\n",
    "iso90_DIAN=np.array([[a-644,b-112] for (a,b) in iso90])"
   ]
  },
  {
   "cell_type": "code",
   "execution_count": null,
   "metadata": {},
   "outputs": [],
   "source": []
  },
  {
   "cell_type": "code",
   "execution_count": 49,
   "metadata": {},
   "outputs": [
    {
     "data": {
      "text/plain": [
       "(5.7595634, 6.157359)"
      ]
     },
     "execution_count": 49,
     "metadata": {},
     "output_type": "execute_result"
    }
   ],
   "source": [
    "np.min(Zs[:,iso90_DIAN[:, 0], iso90_DIAN[:, 1]]),np.max(Zs[:,iso90_DIAN[:, 0], iso90_DIAN[:, 1]])"
   ]
  },
  {
   "cell_type": "code",
   "execution_count": 50,
   "metadata": {},
   "outputs": [
    {
     "data": {
      "text/plain": [
       "[<matplotlib.lines.Line2D at 0x7f099a2855e0>]"
      ]
     },
     "execution_count": 50,
     "metadata": {},
     "output_type": "execute_result"
    },
    {
     "data": {
      "image/png": "[encoded data removed]",
      "text/plain": [
       "<Figure size 432x288 with 1 Axes>"
      ]
     },
     "metadata": {
      "needs_background": "light"
     },
     "output_type": "display_data"
    }
   ],
   "source": [
    "plt.pcolormesh(Zs[0,:,:])\n",
    "plt.plot(iso90_DIAN[:, 1],iso90_DIAN[:, 0])"
   ]
  },
  {
   "cell_type": "code",
   "execution_count": 51,
   "metadata": {},
   "outputs": [
    {
     "data": {
      "image/png": "[encoded data removed]",
      "text/plain": [
       "<Figure size 432x288 with 1 Axes>"
      ]
     },
     "metadata": {
      "needs_background": "light"
     },
     "output_type": "display_data"
    }
   ],
   "source": [
    "fig,ax=plt.subplots(1,1)\n",
    "ax.pcolormesh(np.ma.masked_where(mask['W']==0,1000*(meanT['W']+meanM['W'])),\n",
    "               cmap=cmc,vmin=-5,vmax=5)\n",
    "ax.plot(iso90_DIAN[:, 1],iso90_DIAN[:, 0],'k-')\n",
    "nn.drawboxesV(ax,boxes,boxCol)"
   ]
  },
  {
   "cell_type": "code",
   "execution_count": null,
   "metadata": {},
   "outputs": [],
   "source": []
  },
  {
   "cell_type": "code",
   "execution_count": 52,
   "metadata": {},
   "outputs": [
    {
     "data": {
      "text/plain": [
       "[<matplotlib.lines.Line2D at 0x7f098f515f10>]"
      ]
     },
     "execution_count": 52,
     "metadata": {},
     "output_type": "execute_result"
    },
    {
     "data": {
      "image/png": "[encoded data removed]",
      "text/plain": [
       "<Figure size 432x288 with 1 Axes>"
      ]
     },
     "metadata": {
      "needs_background": "light"
     },
     "output_type": "display_data"
    }
   ],
   "source": [
    "plt.plot(Zs[0,iso90_DIAN[:, 0], iso90_DIAN[:, 1]],'k.')"
   ]
  },
  {
   "cell_type": "code",
   "execution_count": 53,
   "metadata": {},
   "outputs": [
    {
     "data": {
      "text/plain": [
       "<matplotlib.colorbar.Colorbar at 0x7f098f5a16d0>"
      ]
     },
     "execution_count": 53,
     "metadata": {},
     "output_type": "execute_result"
    },
    {
     "data": {
      "image/png": "[encoded data removed]",
      "text/plain": [
       "<Figure size 432x288 with 2 Axes>"
      ]
     },
     "metadata": {
      "needs_background": "light"
     },
     "output_type": "display_data"
    }
   ],
   "source": [
    "plt.pcolormesh(np.min(Zs[:,:,:],0))\n",
    "plt.colorbar()"
   ]
  },
  {
   "cell_type": "code",
   "execution_count": 54,
   "metadata": {},
   "outputs": [
    {
     "data": {
      "text/plain": [
       "(2352, 130, 97)"
      ]
     },
     "execution_count": 54,
     "metadata": {},
     "output_type": "execute_result"
    }
   ],
   "source": [
    "np.shape(Zs)"
   ]
  },
  {
   "cell_type": "code",
   "execution_count": 55,
   "metadata": {},
   "outputs": [
    {
     "data": {
      "text/plain": [
       "<matplotlib.colorbar.Colorbar at 0x7f098fe6c9d0>"
      ]
     },
     "execution_count": 55,
     "metadata": {},
     "output_type": "execute_result"
    },
    {
     "data": {
      "image/png": "[encoded data removed]",
      "text/plain": [
       "<Figure size 432x288 with 2 Axes>"
      ]
     },
     "metadata": {
      "needs_background": "light"
     },
     "output_type": "display_data"
    }
   ],
   "source": [
    "plt.pcolormesh(np.max(Zs[:,:,:],0))\n",
    "plt.colorbar()"
   ]
  },
  {
   "cell_type": "code",
   "execution_count": 56,
   "metadata": {},
   "outputs": [],
   "source": [
    "with nc.Dataset('/ocean/eolson/MEOPAR/NEMO-forcing/grid/mesh_mask201702_noLPE.nc') as mesh:\n",
    "    e3t0=np.copy(mesh.variables['e3t_0'][0,:,jg0:jg1,ig0:ig1])"
   ]
  },
  {
   "cell_type": "code",
   "execution_count": 57,
   "metadata": {},
   "outputs": [],
   "source": [
    "bathy=np.sum(e3t0*tmask,0)"
   ]
  },
  {
   "cell_type": "code",
   "execution_count": 58,
   "metadata": {},
   "outputs": [
    {
     "data": {
      "text/plain": [
       "<matplotlib.colorbar.Colorbar at 0x7f098fd846a0>"
      ]
     },
     "execution_count": 58,
     "metadata": {},
     "output_type": "execute_result"
    },
    {
     "data": {
      "image/png": "[encoded data removed]",
      "text/plain": [
       "<Figure size 432x288 with 2 Axes>"
      ]
     },
     "metadata": {
      "needs_background": "light"
     },
     "output_type": "display_data"
    }
   ],
   "source": [
    "plt.pcolormesh(bathy)\n",
    "plt.colorbar()"
   ]
  },
  {
   "cell_type": "code",
   "execution_count": 59,
   "metadata": {},
   "outputs": [
    {
     "data": {
      "text/plain": [
       "3.703252"
      ]
     },
     "execution_count": 59,
     "metadata": {},
     "output_type": "execute_result"
    }
   ],
   "source": [
    "shallowMin=np.ma.masked_where(np.logical_or(tmask[k,:,:]==0,bathy>50),np.min(Zs,0))\n",
    "np.min(shallowMin)"
   ]
  },
  {
   "cell_type": "code",
   "execution_count": 60,
   "metadata": {},
   "outputs": [
    {
     "data": {
      "text/plain": [
       "7.496758"
      ]
     },
     "execution_count": 60,
     "metadata": {},
     "output_type": "execute_result"
    }
   ],
   "source": [
    "shallowMax=np.ma.masked_where(np.logical_or(tmask[k,:,:]==0,bathy>50),np.max(Zs,0))\n",
    "np.max(shallowMax)"
   ]
  },
  {
   "cell_type": "code",
   "execution_count": 61,
   "metadata": {},
   "outputs": [
    {
     "data": {
      "text/plain": [
       "5.689685"
      ]
     },
     "execution_count": 61,
     "metadata": {},
     "output_type": "execute_result"
    }
   ],
   "source": [
    "deepMin=np.ma.masked_where(np.logical_or(tmask[k,:,:]==0,bathy<50),np.min(Zs,0))\n",
    "np.min(deepMin)"
   ]
  },
  {
   "cell_type": "code",
   "execution_count": 62,
   "metadata": {},
   "outputs": [
    {
     "data": {
      "text/plain": [
       "6.2035074"
      ]
     },
     "execution_count": 62,
     "metadata": {},
     "output_type": "execute_result"
    }
   ],
   "source": [
    "deepMax=np.ma.masked_where(np.logical_or(tmask[k,:,:]==0,bathy<50),np.max(Zs,0))\n",
    "np.max(deepMax)"
   ]
  },
  {
   "cell_type": "code",
   "execution_count": 63,
   "metadata": {},
   "outputs": [
    {
     "data": {
      "text/plain": [
       "56.888446492905295"
      ]
     },
     "execution_count": 63,
     "metadata": {},
     "output_type": "execute_result"
    }
   ],
   "source": [
    "np.min(bathy[iso90_DIAN[:, 0], iso90_DIAN[:, 1]])"
   ]
  },
  {
   "cell_type": "code",
   "execution_count": 64,
   "metadata": {},
   "outputs": [
    {
     "name": "stdout",
     "output_type": "stream",
     "text": [
      "0\n",
      "20\n",
      "40\n",
      "60\n",
      "80\n"
     ]
    }
   ],
   "source": [
    "## check ssh in this area\n",
    "#start,end,k,mod_basedir,mod_nam_fmt,mod_flen,fver,saveloc,recalc=False\n",
    "flistC=et.index_model_files(start,end,mod_basedir,mod_nam_fmt,mod_flen,'grid_T',1)\n",
    "ti=start\n",
    "ssh_i=list()\n",
    "for iif in range(0,len(flistC)):\n",
    "    if iif%20==0:\n",
    "        print(iif)\n",
    "    with nc.Dataset(flistC.loc[iif,['paths']].values[0]) as f:\n",
    "        ssh_i.append(tmk*f.variables['sossheig'][:,jg0:jg1,ig0:ig1])\n",
    "ssh=np.concatenate(ssh_i,axis=0)"
   ]
  },
  {
   "cell_type": "code",
   "execution_count": 65,
   "metadata": {},
   "outputs": [
    {
     "data": {
      "text/plain": [
       "-2.5927854"
      ]
     },
     "execution_count": 65,
     "metadata": {},
     "output_type": "execute_result"
    }
   ],
   "source": [
    "deepMin=np.ma.masked_where(np.logical_or(tmask[k,:,:]==0,bathy<50),np.min(ssh,0))\n",
    "np.min(deepMin)"
   ]
  },
  {
   "cell_type": "code",
   "execution_count": 66,
   "metadata": {},
   "outputs": [
    {
     "data": {
      "text/plain": [
       "1.7149043"
      ]
     },
     "execution_count": 66,
     "metadata": {},
     "output_type": "execute_result"
    }
   ],
   "source": [
    "deepMax=np.ma.masked_where(np.logical_or(tmask[k,:,:]==0,bathy<50),np.max(ssh,0))\n",
    "np.max(deepMax)"
   ]
  },
  {
   "cell_type": "code",
   "execution_count": 67,
   "metadata": {},
   "outputs": [
    {
     "data": {
      "text/plain": [
       "6.000212830817757"
      ]
     },
     "execution_count": 67,
     "metadata": {},
     "output_type": "execute_result"
    }
   ],
   "source": [
    "deepMax=np.ma.masked_where(np.logical_or(tmask[k,:,:]==0,bathy<50),np.sum(e3t0[:k,:,:],0))\n",
    "np.max(deepMax)"
   ]
  },
  {
   "cell_type": "code",
   "execution_count": 68,
   "metadata": {},
   "outputs": [
    {
     "data": {
      "text/plain": [
       "(1326, 23, 89)"
      ]
     },
     "execution_count": 68,
     "metadata": {},
     "output_type": "execute_result"
    }
   ],
   "source": [
    "np.unravel_index(np.argmax(np.ma.masked_where(np.logical_or(tmask[k,:,:]*np.ones(np.shape(ssh))==0,bathy<50),ssh)),np.shape(ssh))"
   ]
  },
  {
   "cell_type": "code",
   "execution_count": 69,
   "metadata": {},
   "outputs": [
    {
     "data": {
      "text/plain": [
       "((130, 97), (40, 130, 97))"
      ]
     },
     "execution_count": 69,
     "metadata": {},
     "output_type": "execute_result"
    }
   ],
   "source": [
    "np.shape(bathy),np.shape(tmask)"
   ]
  },
  {
   "cell_type": "code",
   "execution_count": 70,
   "metadata": {},
   "outputs": [
    {
     "data": {
      "text/plain": [
       "(76.42097569231265, 76.42097569231264)"
      ]
     },
     "execution_count": 70,
     "metadata": {},
     "output_type": "execute_result"
    }
   ],
   "source": [
    "bathy[23,89],np.sum(e3t0[:,23,89]*tmask[:,23,89])"
   ]
  },
  {
   "cell_type": "code",
   "execution_count": 71,
   "metadata": {},
   "outputs": [
    {
     "data": {
      "text/plain": [
       "6.000212830817757"
      ]
     },
     "execution_count": 71,
     "metadata": {},
     "output_type": "execute_result"
    }
   ],
   "source": [
    "np.sum(e3t0[:k,23,89])"
   ]
  },
  {
   "cell_type": "code",
   "execution_count": 72,
   "metadata": {},
   "outputs": [
    {
     "data": {
      "text/plain": [
       "6.1348589890389436"
      ]
     },
     "execution_count": 72,
     "metadata": {},
     "output_type": "execute_result"
    }
   ],
   "source": [
    "1.7149043*np.sum(e3t0[:k,23,89])/bathy[23,89]+np.sum(e3t0[:k,23,89])"
   ]
  },
  {
   "cell_type": "code",
   "execution_count": 73,
   "metadata": {},
   "outputs": [
    {
     "data": {
      "text/plain": [
       "6.1348586"
      ]
     },
     "execution_count": 73,
     "metadata": {},
     "output_type": "execute_result"
    }
   ],
   "source": [
    "Zs[1326,23,89]"
   ]
  },
  {
   "cell_type": "code",
   "execution_count": 74,
   "metadata": {},
   "outputs": [
    {
     "data": {
      "text/plain": [
       "(2352, 130, 97)"
      ]
     },
     "execution_count": 74,
     "metadata": {},
     "output_type": "execute_result"
    }
   ],
   "source": [
    "np.shape(Zs)"
   ]
  },
  {
   "cell_type": "code",
   "execution_count": 75,
   "metadata": {},
   "outputs": [
    {
     "data": {
      "text/plain": [
       "(2352, 130, 97)"
      ]
     },
     "execution_count": 75,
     "metadata": {},
     "output_type": "execute_result"
    }
   ],
   "source": [
    "np.shape(ssh)"
   ]
  },
  {
   "cell_type": "code",
   "execution_count": 76,
   "metadata": {},
   "outputs": [
    {
     "name": "stdout",
     "output_type": "stream",
     "text": [
      "e3t: 6.1348586\n",
      "(1+ssh/H)*e3t0: 6.134858989692119\n"
     ]
    }
   ],
   "source": [
    "#e3t=(1+ssh/H)*e3t0\n",
    "print('e3t:',Zs[1326, 23, 89])\n",
    "print('(1+ssh/H)*e3t0:',(1+ssh[1326, 23, 89]/bathy[23,89])*np.sum(e3t0[:k,23,89]))"
   ]
  },
  {
   "cell_type": "code",
   "execution_count": null,
   "metadata": {},
   "outputs": [],
   "source": []
  },
  {
   "cell_type": "code",
   "execution_count": null,
   "metadata": {},
   "outputs": [],
   "source": []
  },
  {
   "cell_type": "code",
   "execution_count": null,
   "metadata": {},
   "outputs": [],
   "source": []
  }
 ],
 "metadata": {
  "anaconda-cloud": {},
  "kernelspec": {
   "display_name": "Python (py38)",
   "language": "python",
   "name": "py38"
  },
  "language_info": {
   "codemirror_mode": {
    "name": "ipython",
    "version": 3
   },
   "file_extension": ".py",
   "mimetype": "text/x-python",
   "name": "python",
   "nbconvert_exporter": "python",
   "pygments_lexer": "ipython3",
   "version": "3.8.1"
  }
 },
 "nbformat": 4,
 "nbformat_minor": 1
}
