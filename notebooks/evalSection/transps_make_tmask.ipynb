{
 "cells": [
  {
   "cell_type": "code",
   "execution_count": 6,
   "metadata": {},
   "outputs": [],
   "source": [
    "import numpy as np\n",
    "from matplotlib import pyplot as plt\n",
    "import matplotlib.gridspec as gridspec\n",
    "import matplotlib.dates as mdates\n",
    "import netCDF4 as nc\n",
    "import datetime as dt\n",
    "import cmocean\n",
    "import string\n",
    "import glob\n",
    "import pickle\n",
    "import matplotlib as mpl\n",
    "from salishsea_tools import evaltools as et\n",
    "mpl.rc('xtick', labelsize=8)\n",
    "mpl.rc('ytick', labelsize=8)\n",
    "mpl.rc('legend', fontsize=8)\n",
    "mpl.rc('axes', titlesize=8)\n",
    "mpl.rc('axes', labelsize=8)\n",
    "mpl.rc('figure', titlesize=8)\n",
    "mpl.rc('font', size=8)\n",
    "mpl.rc('text', usetex=True)\n",
    "mpl.rc('text.latex', preamble = r'''\n",
    " \\usepackage{txfonts}\n",
    " \\usepackage{lmodern}\n",
    " ''')\n",
    "mpl.rc('font', family='sans-serif', weight='normal', style='normal')\n",
    "from scipy.ndimage import gaussian_filter\n",
    "from matplotlib.ticker import FormatStrFormatter\n",
    "from NorthNut import vvl_interp_T_to_V, vvl_interp_T_to_U;\n",
    "\n",
    "%matplotlib inline"
   ]
  },
  {
   "cell_type": "markdown",
   "metadata": {},
   "source": [
    "calculations have been moved to calcTranspsEstuarineExchange.py"
   ]
  },
  {
   "cell_type": "code",
   "execution_count": 7,
   "metadata": {},
   "outputs": [],
   "source": [
    "fformat0='%Y%m%d'\n",
    "mod_start=dt.datetime(2015,1,1)\n",
    "mod_end=dt.datetime(2015,12,31)\n",
    "savepath='../../save/transpLines'+mod_start.strftime(fformat0)+'-'+mod_end.strftime(fformat0)+'.pkl'"
   ]
  },
  {
   "cell_type": "code",
   "execution_count": 8,
   "metadata": {},
   "outputs": [],
   "source": [
    "data=pickle.load(open(savepath,'rb'))\n",
    "mod_start=data['mod_start']\n",
    "mod_end=data['mod_end']\n",
    "volT=data['volT']\n",
    "no3T=data['no3T']\n",
    "no3=data['no3']\n",
    "masks=data['masks']\n",
    "gdept_1d=data['gdept_1d']\n",
    "e3t_1d=data['e3t_1d']\n",
    "ulines=data['ulines']\n",
    "vlines=data['vlines']"
   ]
  },
  {
   "cell_type": "code",
   "execution_count": 20,
   "metadata": {},
   "outputs": [],
   "source": [
    "with nc.Dataset('/ocean/eolson/MEOPAR/NEMO-forcing/grid/mesh_mask201702_noLPE.nc') as fm:\n",
    "    umask=np.copy(fm.variables['umask'])\n",
    "    vmask=np.copy(fm.variables['vmask'])\n",
    "    tmask=np.copy(fm.variables['tmask'])\n",
    "    navlon=np.copy(fm.variables['nav_lon'])\n",
    "    navlat=np.copy(fm.variables['nav_lat'])"
   ]
  },
  {
   "cell_type": "code",
   "execution_count": 14,
   "metadata": {},
   "outputs": [
    {
     "data": {
      "text/plain": [
       "{'SJDFK': {'i': 140, 'j': (253, 308)},\n",
       " 'SJDFW': {'i': 20, 'j': (360, 438)},\n",
       " 'SJDFE': {'i': 186, 'j': (228, 315)},\n",
       " 'Malaspina': {'i': 187, 'j': (722, 746)}}"
      ]
     },
     "execution_count": 14,
     "metadata": {},
     "output_type": "execute_result"
    }
   ],
   "source": [
    "ulines"
   ]
  },
  {
   "cell_type": "code",
   "execution_count": 15,
   "metadata": {},
   "outputs": [
    {
     "data": {
      "text/plain": [
       "{'Haro': {'i': (213, 246), 'j': 305},\n",
       " 'SJC': {'i': (258, 270), 'j': 281},\n",
       " 'Rosario': {'i': (280, 311), 'j': 265},\n",
       " 'Discovery': {'i': (120, 131), 'j': 737},\n",
       " 'Sutil': {'i': (138, 164), 'j': 749}}"
      ]
     },
     "execution_count": 15,
     "metadata": {},
     "output_type": "execute_result"
    }
   ],
   "source": [
    "vlines"
   ]
  },
  {
   "cell_type": "code",
   "execution_count": 64,
   "metadata": {},
   "outputs": [],
   "source": [
    "# t grid point jt, it is bounded by u/v point jt-1 below and jt above\n",
    "# so next t point greater is u/v grid + 1, and domain ends at u/v \n",
    "tmaskSOG=np.copy(tmask)\n",
    "tmaskSOG[:,:,:500,:180]=0 # SJC\n",
    "tmaskSOG[:,:,:(vlines['Rosario']['j']+1),:(vlines['Rosario']['i'][1])]=0 #west to rosario\n",
    "tmaskSOG[:,:,:(vlines['Haro']['j']+1),:vlines['SJC']['i'][0]]=0 # west to haro\n",
    "tmaskSOG[:,:,300:320,180:200]=0\n",
    "tmaskSOG[:,:,:(vlines['SJC']['j']+1),:275]=0\n",
    "tmaskSOG[:,:,:250,:325]=0\n",
    "tmaskSOG[:,:,:230,:]=0\n",
    "tmaskSOG[:,:,(vlines['Sutil']['j']+1):,:]=0\n",
    "tmaskSOG[:,:,ulines['Malaspina']['j'][0]:,(ulines['Malaspina']['i']+1):]=0\n",
    "tmaskSOG[:,:,710:,190:]=0\n",
    "tmaskSOG[:,:,730:,170:180]=0\n",
    "tmaskSOG[:,:,(vlines['Discovery']['j']+1):,110:135]=0"
   ]
  },
  {
   "cell_type": "code",
   "execution_count": 69,
   "metadata": {},
   "outputs": [
    {
     "data": {
      "text/plain": [
       "(200, 760)"
      ]
     },
     "execution_count": 69,
     "metadata": {},
     "output_type": "execute_result"
    },
    {
     "data": {
      "image/png": "[encoded data removed]",
      "text/plain": [
       "<Figure size 504x720 with 1 Axes>"
      ]
     },
     "metadata": {
      "needs_background": "light"
     },
     "output_type": "display_data"
    }
   ],
   "source": [
    "cm1=plt.get_cmap('autumn')\n",
    "cm2=plt.get_cmap('winter')\n",
    "fig,ax=plt.subplots(1,1,figsize=(7,10))\n",
    "ax.pcolormesh(tmask[0,0,:,:],cmap=cm1)\n",
    "ax.pcolormesh(np.ma.masked_where(tmaskSOG[0,0,:,:]==0,tmaskSOG[0,0,:,:]),cmap=cm2)\n",
    "for el in ulines.keys():\n",
    "    ax.plot((ulines[el]['i'],ulines[el]['i']),(ulines[el]['j'][0],ulines[el]['j'][1]),'r-')\n",
    "for el in vlines.keys():\n",
    "    ax.plot((vlines[el]['i'][0],vlines[el]['i'][1]),(vlines[el]['j'],vlines[el]['j']),'m-')\n",
    "ax.set_xlim(100,398)\n",
    "ax.set_ylim(200,760)"
   ]
  },
  {
   "cell_type": "code",
   "execution_count": 76,
   "metadata": {
    "scrolled": true
   },
   "outputs": [
    {
     "data": {
      "text/plain": [
       "(240, 755)"
      ]
     },
     "execution_count": 76,
     "metadata": {},
     "output_type": "execute_result"
    },
    {
     "data": {
      "image/png": "[encoded data removed]",
      "text/plain": [
       "<Figure size 504x720 with 1 Axes>"
      ]
     },
     "metadata": {
      "needs_background": "light"
     },
     "output_type": "display_data"
    }
   ],
   "source": [
    "cm1=plt.get_cmap('autumn')\n",
    "cm2=plt.get_cmap('winter')\n",
    "fig,ax=plt.subplots(1,1,figsize=(7,10))\n",
    "ax.pcolormesh(np.ma.masked_where(tmaskSOG[0,0,:,:]==0,tmaskSOG[0,0,:,:]),cmap=cm2)\n",
    "for el in ulines.keys():\n",
    "    ax.plot((ulines[el]['i']+.5,ulines[el]['i']+.5),(ulines[el]['j'][0],ulines[el]['j'][1]),'r-')\n",
    "for el in vlines.keys():\n",
    "    ax.plot((vlines[el]['i'][0],vlines[el]['i'][1]),(vlines[el]['j']+.5,vlines[el]['j']+.5),'m-')\n",
    "ax.set_xlim(110,398)\n",
    "ax.set_ylim(240,755)"
   ]
  },
  {
   "cell_type": "code",
   "execution_count": 79,
   "metadata": {},
   "outputs": [],
   "source": [
    "ig0=110\n",
    "ig1=398\n",
    "jg0=240\n",
    "jg1=755"
   ]
  },
  {
   "cell_type": "code",
   "execution_count": 80,
   "metadata": {},
   "outputs": [],
   "source": [
    "SOGtmaskPath='../../save/SOGtmask.pkl'\n",
    "pickle.dump((tmaskSOG,ig0,ig1,jg0,jg1),open(SOGtmaskPath,'wb'))"
   ]
  },
  {
   "cell_type": "code",
   "execution_count": null,
   "metadata": {},
   "outputs": [],
   "source": []
  }
 ],
 "metadata": {
  "anaconda-cloud": {},
  "kernelspec": {
   "display_name": "Python (py38)",
   "language": "python",
   "name": "py38"
  },
  "language_info": {
   "codemirror_mode": {
    "name": "ipython",
    "version": 3
   },
   "file_extension": ".py",
   "mimetype": "text/x-python",
   "name": "python",
   "nbconvert_exporter": "python",
   "pygments_lexer": "ipython3",
   "version": "3.8.1"
  }
 },
 "nbformat": 4,
 "nbformat_minor": 1
}
