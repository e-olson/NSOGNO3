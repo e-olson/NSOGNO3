{
 "cells": [
  {
   "cell_type": "code",
   "execution_count": 2,
   "metadata": {},
   "outputs": [],
   "source": [
    "import numpy as np\n",
    "import netCDF4 as nc\n",
    "import pickle\n",
    "import pandas as pd"
   ]
  },
  {
   "cell_type": "code",
   "execution_count": 28,
   "metadata": {},
   "outputs": [],
   "source": [
    "data=pickle.load(open('/data/eolson/MEOPAR/SS36runs/calcFiles/evalMatches/dataDFOwithUVSSH.pkl','rb'))"
   ]
  },
  {
   "cell_type": "code",
   "execution_count": 29,
   "metadata": {},
   "outputs": [
    {
     "data": {
      "text/plain": [
       "Index(['Year', 'Month', 'Day', 'Hour', 'Lat', 'Lon', 'Pressure', 'Depth',\n",
       "       'Ammonium', 'Ammonium_units', 'Chlorophyll_Extracted',\n",
       "       'Chlorophyll_Extracted_units', 'N', 'Si', 'Silicate_units', 'AbsSal',\n",
       "       'ConsT', 'Z', 'dtUTC', 'j', 'i', 'mod_nitrate', 'mod_silicon',\n",
       "       'mod_ammonium', 'mod_diatoms', 'mod_ciliates', 'mod_flagellates',\n",
       "       'mod_vosaline', 'mod_votemper', 'mod_vomecrty', 'k', 'mod_vozocrtx',\n",
       "       'mod_sossheig'],\n",
       "      dtype='object')"
      ]
     },
     "execution_count": 29,
     "metadata": {},
     "output_type": "execute_result"
    }
   ],
   "source": [
    "data.keys()"
   ]
  },
  {
   "cell_type": "code",
   "execution_count": 30,
   "metadata": {},
   "outputs": [],
   "source": [
    "data.drop(columns=['AbsSal','ConsT','Chlorophyll_Extracted','Chlorophyll_Extracted_units','Si','Silicate_units','Ammonium', 'Ammonium_units','Pressure','N','k'],inplace=True)"
   ]
  },
  {
   "cell_type": "code",
   "execution_count": 31,
   "metadata": {},
   "outputs": [
    {
     "data": {
      "text/plain": [
       "Index(['Year', 'Month', 'Day', 'Hour', 'Lat', 'Lon', 'Depth', 'Z', 'dtUTC',\n",
       "       'j', 'i', 'mod_nitrate', 'mod_silicon', 'mod_ammonium', 'mod_diatoms',\n",
       "       'mod_ciliates', 'mod_flagellates', 'mod_vosaline', 'mod_votemper',\n",
       "       'mod_vomecrty', 'mod_vozocrtx', 'mod_sossheig'],\n",
       "      dtype='object')"
      ]
     },
     "execution_count": 31,
     "metadata": {},
     "output_type": "execute_result"
    }
   ],
   "source": [
    "data.keys()"
   ]
  },
  {
   "cell_type": "code",
   "execution_count": 33,
   "metadata": {},
   "outputs": [],
   "source": [
    "pickle.dump(data,open('/data/eolson/MEOPAR/SS36runs/calcFiles/evalMatches/dataDFOwithUVSSHNoObs.pkl','wb'))"
   ]
  },
  {
   "cell_type": "code",
   "execution_count": 34,
   "metadata": {},
   "outputs": [],
   "source": [
    "data=pickle.load(open('/data/eolson/MEOPAR/SS36runs/calcFiles/evalMatches/dataHakai.pkl','rb'))"
   ]
  },
  {
   "cell_type": "code",
   "execution_count": 35,
   "metadata": {},
   "outputs": [
    {
     "data": {
      "text/plain": [
       "Index(['NO2+NO3 (uM)', 'PO4', 'SiO2', 'dtUTC', 'Station', 'Lat', 'Lon', 'Z',\n",
       "       'SA', 'CT', 'pZ', 'j', 'i', 'mod_nitrate', 'mod_silicon',\n",
       "       'mod_ammonium', 'mod_diatoms', 'mod_ciliates', 'mod_flagellates',\n",
       "       'mod_vosaline', 'mod_votemper'],\n",
       "      dtype='object')"
      ]
     },
     "execution_count": 35,
     "metadata": {},
     "output_type": "execute_result"
    }
   ],
   "source": [
    "data.keys()"
   ]
  },
  {
   "cell_type": "code",
   "execution_count": 36,
   "metadata": {},
   "outputs": [],
   "source": [
    "data.drop(columns=['NO2+NO3 (uM)','PO4','SiO2','SA','CT'],inplace=True)"
   ]
  },
  {
   "cell_type": "code",
   "execution_count": 37,
   "metadata": {},
   "outputs": [
    {
     "data": {
      "text/plain": [
       "Index(['dtUTC', 'Station', 'Lat', 'Lon', 'Z', 'pZ', 'j', 'i', 'mod_nitrate',\n",
       "       'mod_silicon', 'mod_ammonium', 'mod_diatoms', 'mod_ciliates',\n",
       "       'mod_flagellates', 'mod_vosaline', 'mod_votemper'],\n",
       "      dtype='object')"
      ]
     },
     "execution_count": 37,
     "metadata": {},
     "output_type": "execute_result"
    }
   ],
   "source": [
    "data.keys()"
   ]
  },
  {
   "cell_type": "code",
   "execution_count": 38,
   "metadata": {},
   "outputs": [],
   "source": [
    "pickle.dump(data,open('/data/eolson/MEOPAR/SS36runs/calcFiles/evalMatches/dataHakaiNoObs.pkl','wb'))"
   ]
  },
  {
   "cell_type": "code",
   "execution_count": 39,
   "metadata": {},
   "outputs": [],
   "source": [
    "data=pickle.load(open('/data/eolson/MEOPAR/SS36runs/calcFiles/evalMatches/dataPSF.pkl','rb'))"
   ]
  },
  {
   "cell_type": "code",
   "execution_count": 40,
   "metadata": {},
   "outputs": [
    {
     "data": {
      "text/plain": [
       "Index(['Lat', 'Lon', 'NO23', 'PO4', 'Si', 'Station', 'Z', 'dtUTC', 'Chl',\n",
       "       'Depth_m', 'Phaeo', 'j', 'i', 'mod_nitrate', 'mod_silicon',\n",
       "       'mod_ammonium', 'mod_diatoms', 'mod_ciliates', 'mod_flagellates',\n",
       "       'mod_vosaline', 'mod_votemper'],\n",
       "      dtype='object')"
      ]
     },
     "execution_count": 40,
     "metadata": {},
     "output_type": "execute_result"
    }
   ],
   "source": [
    "data.keys()"
   ]
  },
  {
   "cell_type": "code",
   "execution_count": 41,
   "metadata": {},
   "outputs": [],
   "source": [
    "data.drop(columns=['NO23', 'PO4', 'Si', 'Chl','Phaeo'],inplace=True)"
   ]
  },
  {
   "cell_type": "code",
   "execution_count": 42,
   "metadata": {},
   "outputs": [
    {
     "data": {
      "text/plain": [
       "Index(['Lat', 'Lon', 'Station', 'Z', 'dtUTC', 'Depth_m', 'j', 'i',\n",
       "       'mod_nitrate', 'mod_silicon', 'mod_ammonium', 'mod_diatoms',\n",
       "       'mod_ciliates', 'mod_flagellates', 'mod_vosaline', 'mod_votemper'],\n",
       "      dtype='object')"
      ]
     },
     "execution_count": 42,
     "metadata": {},
     "output_type": "execute_result"
    }
   ],
   "source": [
    "data.keys()"
   ]
  },
  {
   "cell_type": "code",
   "execution_count": 43,
   "metadata": {},
   "outputs": [],
   "source": [
    "pickle.dump(data,open('/data/eolson/MEOPAR/SS36runs/calcFiles/evalMatches/dataPSFNoObs.pkl','wb'))"
   ]
  },
  {
   "cell_type": "code",
   "execution_count": null,
   "metadata": {},
   "outputs": [],
   "source": []
  }
 ],
 "metadata": {
  "kernelspec": {
   "display_name": "Python (py38)",
   "language": "python",
   "name": "py38"
  },
  "language_info": {
   "codemirror_mode": {
    "name": "ipython",
    "version": 3
   },
   "file_extension": ".py",
   "mimetype": "text/x-python",
   "name": "python",
   "nbconvert_exporter": "python",
   "pygments_lexer": "ipython3",
   "version": "3.8.1"
  }
 },
 "nbformat": 4,
 "nbformat_minor": 2
}
