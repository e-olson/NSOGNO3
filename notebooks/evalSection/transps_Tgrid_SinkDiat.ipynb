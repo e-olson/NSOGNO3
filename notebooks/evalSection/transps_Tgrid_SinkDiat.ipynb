{
 "cells": [
  {
   "cell_type": "code",
   "execution_count": 1,
   "metadata": {},
   "outputs": [],
   "source": [
    "import numpy as np\n",
    "from matplotlib import pyplot as plt\n",
    "import matplotlib.gridspec as gridspec\n",
    "import matplotlib.dates as mdates\n",
    "import netCDF4 as nc\n",
    "import datetime as dt\n",
    "import cmocean\n",
    "import string\n",
    "import glob\n",
    "import pickle\n",
    "import matplotlib as mpl\n",
    "from salishsea_tools import evaltools as et\n",
    "from salishsea_tools import bio_tools as bt\n",
    "mpl.rc('xtick', labelsize=8)\n",
    "mpl.rc('ytick', labelsize=8)\n",
    "mpl.rc('legend', fontsize=8)\n",
    "mpl.rc('axes', titlesize=8)\n",
    "mpl.rc('axes', labelsize=8)\n",
    "mpl.rc('figure', titlesize=8)\n",
    "mpl.rc('font', size=8)\n",
    "mpl.rc('text', usetex=True)\n",
    "mpl.rc('text.latex', preamble = r'''\n",
    " \\usepackage{txfonts}\n",
    " \\usepackage{lmodern}\n",
    " ''')\n",
    "mpl.rc('font', family='sans-serif', weight='normal', style='normal')\n",
    "from scipy.ndimage import gaussian_filter\n",
    "from matplotlib.ticker import FormatStrFormatter\n",
    "from pandas.plotting import register_matplotlib_converters\n",
    "register_matplotlib_converters()\n",
    "#from NorthNut import vvl_interp_T_to_V, vvl_interp_T_to_U;\n",
    "\n",
    "%matplotlib inline"
   ]
  },
  {
   "cell_type": "markdown",
   "metadata": {},
   "source": [
    "fluxes due to constant sinking rates (PON and bSi) can be calculated from daily mean concentrations"
   ]
  },
  {
   "cell_type": "code",
   "execution_count": 2,
   "metadata": {},
   "outputs": [],
   "source": [
    "SOGtmaskPath='../../save/SOGtmask.pkl'\n",
    "(tmaskSOG,ig0,ig1,jg0,jg1)=pickle.load(open(SOGtmaskPath,'rb'))"
   ]
  },
  {
   "cell_type": "code",
   "execution_count": 3,
   "metadata": {},
   "outputs": [
    {
     "data": {
      "text/plain": [
       "((1, 40, 898, 398), 110)"
      ]
     },
     "execution_count": 3,
     "metadata": {},
     "output_type": "execute_result"
    }
   ],
   "source": [
    "tmaskSOG.shape,ig0"
   ]
  },
  {
   "cell_type": "code",
   "execution_count": 4,
   "metadata": {},
   "outputs": [],
   "source": [
    "SOGmask=tmaskSOG[:,:,jg0:jg1,ig0:ig1]\n",
    "with nc.Dataset('/ocean/eolson/MEOPAR/NEMO-forcing/grid/mesh_mask201702_noLPE.nc') as fm:\n",
    "    A=np.expand_dims(fm.variables['e1t'][:,jg0:jg1,ig0:ig1]*fm.variables['e2t'][:,jg0:jg1,ig0:ig1],0)"
   ]
  },
  {
   "cell_type": "code",
   "execution_count": 5,
   "metadata": {},
   "outputs": [
    {
     "data": {
      "text/plain": [
       "(1, 1, 515, 288)"
      ]
     },
     "execution_count": 5,
     "metadata": {},
     "output_type": "execute_result"
    }
   ],
   "source": [
    "np.shape(A)"
   ]
  },
  {
   "cell_type": "code",
   "execution_count": 6,
   "metadata": {},
   "outputs": [
    {
     "data": {
      "text/plain": [
       "(1, 40, 515, 288)"
      ]
     },
     "execution_count": 6,
     "metadata": {},
     "output_type": "execute_result"
    }
   ],
   "source": [
    "# create mask for bottom concentration values\n",
    "dcmask=np.zeros_like(SOGmask)\n",
    "dcmask[:,:-1,:,:]=SOGmask[:,:-1,:,:]-SOGmask[:,1:,:,:]\n",
    "np.shape(dcmask)"
   ]
  },
  {
   "cell_type": "code",
   "execution_count": 7,
   "metadata": {},
   "outputs": [],
   "source": [
    "t0=dt.datetime(2015,1,1) # originally 5/15-8/15,  but changed to even number of fortnights (6, end is included)\n",
    "te=dt.datetime(2015,1,5)\n",
    "mod_basedir='/data/eolson/results/MEOPAR/SS36runs/linkHC201812/'\n",
    "mod_nam_fmt='nowcast'\n",
    "mod_flen=1\n",
    "saveloc='../../save/'\n",
    "fver='HC201812'\n",
    "fformat0='%Y%m%d'"
   ]
  },
  {
   "cell_type": "code",
   "execution_count": 8,
   "metadata": {},
   "outputs": [],
   "source": [
    "flistB=et.index_model_files(t0,te,mod_basedir,mod_nam_fmt,mod_flen,'ptrc_T',1)\n",
    "#flistT=et.index_model_files(t0,te,mod_basedir,mod_nam_fmt,mod_flen,'grid_T',1)"
   ]
  },
  {
   "cell_type": "code",
   "execution_count": 9,
   "metadata": {},
   "outputs": [
    {
     "data": {
      "text/plain": [
       "'/data/eolson/results/MEOPAR/SS36runs/linkHC201812/01jan15/SalishSea_1h_20150101_20150101_ptrc_T.nc'"
      ]
     },
     "execution_count": 9,
     "metadata": {},
     "output_type": "execute_result"
    }
   ],
   "source": [
    "flistB['paths'][0]"
   ]
  },
  {
   "cell_type": "code",
   "execution_count": 10,
   "metadata": {},
   "outputs": [],
   "source": [
    "zz_alpha_b_Si = 0.8          # fraction of bottom flux resuspended in bottom cell\n",
    "\n",
    "# for diatoms:\n",
    "zz_w_sink_Pmicro_min = 0.5  # m/d  microphyto minimum sinking rate # Alain CONVERTED TO M/S ON NAMELIST READ\n",
    "zz_w_sink_Pmicro_max = 1.2  # m/d microphyto maximum sinking rate # Alain CONVERTED TO M/S ON NAMELIST READ\n",
    "# diatom nut lim params:\n",
    "zz_rate_K_Si=1.2\n",
    "zz_rate_kapa=1.0\n",
    "zz_rate_k=2.0\n",
    "#              zz_Pmicro_w_sink(ji,jj,jk) = zz_w_sink_Pmicro_min * zz_micro_Nlimit(ji,jj,jk) &\n",
    "#                  + zz_w_sink_Pmicro_max * (1.0_wp - zz_micro_Nlimit(ji,jj,jk))\n",
    "#  w_diat = zz_w_sink_Pmicro_min*diatNutLim[:,:,:,:]+zz_w_sink_Pmicro_max*(1.0-diatNutLim[:,:,:,:])\n",
    "#    microNlim[:,:,:,:]=\n",
    "#            diatNutLim=bio_tools.calc_nutLim_2(zz_NO,zz_NH,zz_Si,zz_rate_K_Si,zz_rate_kapa,zz_rate_k)\n",
    "#                  fxn includes power of 0.2\n",
    "#      wsink=bio_tools.calc_diat_sink(wsinkmin,wsinkmax,diatNutLim)\n",
    "#for all:\n",
    "#                  zz_flux(ji,jj,jk) = - zz_w_sink(ji,jj,jk) * zz_qty(ji,jj,jk) * &\n",
    "#                          & ((1-zz_alpha_b)*tmask(ji,jj,jk)+zz_alpha_b*tmask(ji,jj,jk+1))\n",
    "#              dcmask = tmask(ji,jj,jk) - tmask(ji,jj,jk+1)=tmask-tmaskp\n",
    "#             flux= -w C (tmask -alpha*tmask + alpha*tmaskp) = -w C (tmask-alpha*dcmask) = - dcmask w C (1-alpha)\n",
    "#  m/s*mmol/m3=mmol/m2/s; multiply by 1e-3*A*24*3600 to get mol/d\n",
    "#SOGmask24=np.tile(SOGmask,(24,1,1,1))"
   ]
  },
  {
   "cell_type": "code",
   "execution_count": 11,
   "metadata": {},
   "outputs": [],
   "source": [
    "sinkDiat=np.empty((int((te-t0).days+1),))"
   ]
  },
  {
   "cell_type": "code",
   "execution_count": 16,
   "metadata": {},
   "outputs": [
    {
     "name": "stdout",
     "output_type": "stream",
     "text": [
      "0 2020-02-12 17:16:52.725653\n",
      "(24, 1, 515, 288)\n",
      "(24, 40, 515, 288)\n",
      "1 2020-02-12 17:17:19.734109\n",
      "(24, 1, 515, 288)\n",
      "(24, 40, 515, 288)\n",
      "2 2020-02-12 17:17:44.645277\n",
      "(24, 1, 515, 288)\n",
      "(24, 40, 515, 288)\n",
      "3 2020-02-12 17:18:10.007443\n",
      "(24, 1, 515, 288)\n",
      "(24, 40, 515, 288)\n",
      "4 2020-02-12 17:18:34.880854\n",
      "(24, 1, 515, 288)\n",
      "(24, 40, 515, 288)\n"
     ]
    }
   ],
   "source": [
    "times=[t0+dt.timedelta(days=ii) for ii in range(0,int((te-t0).total_seconds()/3600/24)+1)]\n",
    "## calculations\n",
    "for iif in range(0,len(flistB)):\n",
    "    print(iif,dt.datetime.now())\n",
    "    li0=iif*mod_flen\n",
    "    li1=(iif+1)*mod_flen\n",
    "    with nc.Dataset(flistB.loc[iif,['paths']].values[0]) as fB:\n",
    "        for ili0 in range(0,mod_flen): # mod_flen is number of days in file, in case calc on other runs\n",
    "                # flatten bottom concentrations in k\n",
    "            diatNutLim=bt.calc_nutLim_2(\\\n",
    "                    np.sum(dcmask*fB.variables['nitrate'][ili0*24:(ili0+1)*24,:,jg0:jg1,ig0:ig1],1,keepdims=True),\n",
    "                    np.sum(dcmask*fB.variables['ammonium'][ili0*24:(ili0+1)*24,:,jg0:jg1,ig0:ig1],1,keepdims=True),\n",
    "                    np.sum(dcmask*fB.variables['silicon'][ili0*24:(ili0+1)*24,:,jg0:jg1,ig0:ig1],1,keepdims=True),\n",
    "                                      zz_rate_K_Si,zz_rate_kapa,zz_rate_k)\n",
    "            ws=bt.calc_diat_sink(zz_w_sink_Pmicro_min,zz_w_sink_Pmicro_max,diatNutLim)\n",
    "            sinkDiat[ili0+li0]=1e-3*3600*(1.0-zz_alpha_b_Si)*\\\n",
    "                            np.sum(A*dcmask*ws*fB.variables['diatoms'][ili0*24:(ili0+1)*24,:,jg0:jg1,ig0:ig1])"
   ]
  },
  {
   "cell_type": "code",
   "execution_count": 25,
   "metadata": {},
   "outputs": [
    {
     "data": {
      "text/plain": [
       "datetime.timedelta(seconds=102)"
      ]
     },
     "execution_count": 25,
     "metadata": {},
     "output_type": "execute_result"
    }
   ],
   "source": [
    "(dt.datetime(2020,2,12,17,18,35)-dt.datetime(2020,2,12,17,16,53))"
   ]
  },
  {
   "cell_type": "code",
   "execution_count": 27,
   "metadata": {},
   "outputs": [
    {
     "data": {
      "text/plain": [
       "2.0683333333333334"
      ]
     },
     "execution_count": 27,
     "metadata": {},
     "output_type": "execute_result"
    }
   ],
   "source": [
    "102*365/3600/5"
   ]
  },
  {
   "cell_type": "code",
   "execution_count": 17,
   "metadata": {},
   "outputs": [],
   "source": [
    "times=np.array(times)\n",
    "dsinkPath='../../save/SOGsinkDiat'+t0.strftime(fformat0)+'-'+te.strftime(fformat0)+'.pkl'\n",
    "pickle.dump((times,sinkDiat),open(dsinkPath,'wb'))"
   ]
  },
  {
   "cell_type": "code",
   "execution_count": 28,
   "metadata": {},
   "outputs": [],
   "source": [
    "(times,sinkDiat)=pickle.load(open(dsinkPath,'rb'))"
   ]
  },
  {
   "cell_type": "code",
   "execution_count": 29,
   "metadata": {},
   "outputs": [
    {
     "data": {
      "text/plain": [
       "[<matplotlib.lines.Line2D at 0x7eff4b3fe4c0>]"
      ]
     },
     "execution_count": 29,
     "metadata": {},
     "output_type": "execute_result"
    },
    {
     "data": {
      "image/png": "[encoded data removed]",
      "text/plain": [
       "<Figure size 432x288 with 1 Axes>"
      ]
     },
     "metadata": {
      "needs_background": "light"
     },
     "output_type": "display_data"
    }
   ],
   "source": [
    "plt.plot(times,sinkDiat)"
   ]
  },
  {
   "cell_type": "code",
   "execution_count": null,
   "metadata": {},
   "outputs": [],
   "source": []
  }
 ],
 "metadata": {
  "anaconda-cloud": {},
  "kernelspec": {
   "display_name": "Python (py38)",
   "language": "python",
   "name": "py38"
  },
  "language_info": {
   "codemirror_mode": {
    "name": "ipython",
    "version": 3
   },
   "file_extension": ".py",
   "mimetype": "text/x-python",
   "name": "python",
   "nbconvert_exporter": "python",
   "pygments_lexer": "ipython3",
   "version": "3.8.1"
  }
 },
 "nbformat": 4,
 "nbformat_minor": 1
}
