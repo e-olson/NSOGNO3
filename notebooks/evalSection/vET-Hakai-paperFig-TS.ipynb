{
 "cells": [
  {
   "cell_type": "markdown",
   "metadata": {},
   "source": [
    "## DFO Nutrient Comparison"
   ]
  },
  {
   "cell_type": "code",
   "execution_count": 1,
   "metadata": {
    "collapsed": false
   },
   "outputs": [],
   "source": [
    "import numpy as np\n",
    "import matplotlib.pyplot as plt\n",
    "import os\n",
    "import pandas as pd\n",
    "import netCDF4 as nc\n",
    "import datetime as dt\n",
    "from salishsea_tools import evaltools as et, viz_tools\n",
    "import gsw\n",
    "import matplotlib.gridspec as gridspec\n",
    "import matplotlib as mpl\n",
    "import matplotlib.dates as mdates\n",
    "import cmocean as cmo\n",
    "import scipy.interpolate as sinterp\n",
    "import pytz\n",
    "import warnings\n",
    "\n",
    "mpl.rc('xtick', labelsize=10)\n",
    "mpl.rc('ytick', labelsize=10)\n",
    "mpl.rc('legend', fontsize=10)\n",
    "mpl.rc('axes', titlesize=10)\n",
    "mpl.rc('axes', labelsize=10)\n",
    "mpl.rc('figure', titlesize=10)\n",
    "mpl.rc('font', size=10)\n",
    "%matplotlib inline"
   ]
  },
  {
   "cell_type": "code",
   "execution_count": 2,
   "metadata": {
    "collapsed": false
   },
   "outputs": [],
   "source": [
    "PATH= '/data/eolson/results/MEOPAR/SS36runs/linkHC201812/'\n",
    "#PATH= '/results2/SalishSea/hindcast/'\n",
    "start_date = dt.datetime(2015,1,1)\n",
    "end_date = dt.datetime(2018,1,1)\n",
    "flen=1\n",
    "namfmt='nowcast'\n",
    "filemapP={'vosaline':'grid_T','votemper':'grid_T'}\n",
    "fdict={'ptrc_T':1,'grid_T':1}\n"
   ]
  },
  {
   "cell_type": "code",
   "execution_count": 3,
   "metadata": {
    "collapsed": false
   },
   "outputs": [
    {
     "name": "stdout",
     "output_type": "stream",
     "text": [
      "Note: CTD depths (pZ) may vary from bottle depths (Z) by up to  1.5  m.\n"
     ]
    },
    {
     "data": {
      "text/html": [
       "<div>\n",
       "<style scoped>\n",
       "    .dataframe tbody tr th:only-of-type {\n",
       "        vertical-align: middle;\n",
       "    }\n",
       "\n",
       "    .dataframe tbody tr th {\n",
       "        vertical-align: top;\n",
       "    }\n",
       "\n",
       "    .dataframe thead th {\n",
       "        text-align: right;\n",
       "    }\n",
       "</style>\n",
       "<table border=\"1\" class=\"dataframe\">\n",
       "  <thead>\n",
       "    <tr style=\"text-align: right;\">\n",
       "      <th></th>\n",
       "      <th>NO2+NO3 (uM)</th>\n",
       "      <th>PO4</th>\n",
       "      <th>SiO2</th>\n",
       "      <th>dtUTC</th>\n",
       "      <th>Station</th>\n",
       "      <th>Lat</th>\n",
       "      <th>Lon</th>\n",
       "      <th>Z</th>\n",
       "      <th>SA</th>\n",
       "      <th>CT</th>\n",
       "      <th>pZ</th>\n",
       "    </tr>\n",
       "  </thead>\n",
       "  <tbody>\n",
       "    <tr>\n",
       "      <th>0</th>\n",
       "      <td>17.528459</td>\n",
       "      <td>1.480</td>\n",
       "      <td>37.597988</td>\n",
       "      <td>2014-11-07 19:30:39</td>\n",
       "      <td>QU5</td>\n",
       "      <td>50.1183</td>\n",
       "      <td>-125.2122</td>\n",
       "      <td>0.0</td>\n",
       "      <td>26.161950</td>\n",
       "      <td>11.063901</td>\n",
       "      <td>0.977</td>\n",
       "    </tr>\n",
       "    <tr>\n",
       "      <th>1</th>\n",
       "      <td>19.534208</td>\n",
       "      <td>1.637</td>\n",
       "      <td>39.536296</td>\n",
       "      <td>2014-11-07 18:30:30</td>\n",
       "      <td>QU17</td>\n",
       "      <td>50.1200</td>\n",
       "      <td>-125.1300</td>\n",
       "      <td>0.0</td>\n",
       "      <td>26.653561</td>\n",
       "      <td>10.967601</td>\n",
       "      <td>0.959</td>\n",
       "    </tr>\n",
       "    <tr>\n",
       "      <th>2</th>\n",
       "      <td>20.243301</td>\n",
       "      <td>1.671</td>\n",
       "      <td>38.212329</td>\n",
       "      <td>2014-11-07 17:30:32</td>\n",
       "      <td>QU24</td>\n",
       "      <td>50.0300</td>\n",
       "      <td>-125.0800</td>\n",
       "      <td>0.0</td>\n",
       "      <td>27.444017</td>\n",
       "      <td>11.171578</td>\n",
       "      <td>0.940</td>\n",
       "    </tr>\n",
       "    <tr>\n",
       "      <th>3</th>\n",
       "      <td>19.414687</td>\n",
       "      <td>1.621</td>\n",
       "      <td>38.879558</td>\n",
       "      <td>2014-11-07 19:30:39</td>\n",
       "      <td>QU5</td>\n",
       "      <td>50.1183</td>\n",
       "      <td>-125.2122</td>\n",
       "      <td>5.0</td>\n",
       "      <td>27.139286</td>\n",
       "      <td>11.176216</td>\n",
       "      <td>4.860</td>\n",
       "    </tr>\n",
       "    <tr>\n",
       "      <th>4</th>\n",
       "      <td>19.728054</td>\n",
       "      <td>1.646</td>\n",
       "      <td>39.173135</td>\n",
       "      <td>2014-11-07 18:30:30</td>\n",
       "      <td>QU17</td>\n",
       "      <td>50.1200</td>\n",
       "      <td>-125.1300</td>\n",
       "      <td>5.0</td>\n",
       "      <td>26.902988</td>\n",
       "      <td>10.976844</td>\n",
       "      <td>4.895</td>\n",
       "    </tr>\n",
       "  </tbody>\n",
       "</table>\n",
       "</div>"
      ],
      "text/plain": [
       "   NO2+NO3 (uM)    PO4       SiO2               dtUTC Station      Lat  \\\n",
       "0     17.528459  1.480  37.597988 2014-11-07 19:30:39     QU5  50.1183   \n",
       "1     19.534208  1.637  39.536296 2014-11-07 18:30:30    QU17  50.1200   \n",
       "2     20.243301  1.671  38.212329 2014-11-07 17:30:32    QU24  50.0300   \n",
       "3     19.414687  1.621  38.879558 2014-11-07 19:30:39     QU5  50.1183   \n",
       "4     19.728054  1.646  39.173135 2014-11-07 18:30:30    QU17  50.1200   \n",
       "\n",
       "        Lon    Z         SA         CT     pZ  \n",
       "0 -125.2122  0.0  26.161950  11.063901  0.977  \n",
       "1 -125.1300  0.0  26.653561  10.967601  0.959  \n",
       "2 -125.0800  0.0  27.444017  11.171578  0.940  \n",
       "3 -125.2122  5.0  27.139286  11.176216  4.860  \n",
       "4 -125.1300  5.0  26.902988  10.976844  4.895  "
      ]
     },
     "execution_count": 3,
     "metadata": {},
     "output_type": "execute_result"
    }
   ],
   "source": [
    "datelims=(dt.datetime(1900,1,1),dt.datetime(2100,1,1))\n",
    "fdata=et.loadHakai(datelims,loadCTD=True)\n",
    "fdata.head()"
   ]
  },
  {
   "cell_type": "code",
   "execution_count": 4,
   "metadata": {
    "collapsed": false
   },
   "outputs": [],
   "source": [
    "fdata['AbsSal']=fdata['SA']\n",
    "fdata['ConsT']=fdata['CT']\n",
    "df1=fdata\n",
    "df1['NO23']=df1['NO2+NO3 (uM)']\n",
    "df1['Si']=df1['SiO2']"
   ]
  },
  {
   "cell_type": "code",
   "execution_count": 5,
   "metadata": {
    "collapsed": false
   },
   "outputs": [
    {
     "data": {
      "text/plain": [
       "[<matplotlib.lines.Line2D at 0x7f96c0de9048>]"
      ]
     },
     "execution_count": 5,
     "metadata": {},
     "output_type": "execute_result"
    },
    {
     "data": {
      "image/png": "[encoded data removed]",
      "text/plain": [
       "<matplotlib.figure.Figure at 0x7f96f80a2a20>"
      ]
     },
     "metadata": {},
     "output_type": "display_data"
    }
   ],
   "source": [
    "plt.plot(df1['SA'],df1['NO23'],'k.')"
   ]
  },
  {
   "cell_type": "code",
   "execution_count": 6,
   "metadata": {
    "collapsed": false
   },
   "outputs": [
    {
     "data": {
      "text/plain": [
       "[<matplotlib.lines.Line2D at 0x7f96c099b5c0>]"
      ]
     },
     "execution_count": 6,
     "metadata": {},
     "output_type": "execute_result"
    },
    {
     "data": {
      "image/png": "[encoded data removed]",
      "text/plain": [
       "<matplotlib.figure.Figure at 0x7f96c0d0b2e8>"
      ]
     },
     "metadata": {},
     "output_type": "display_data"
    }
   ],
   "source": [
    "plt.plot(df1['SA'],df1['CT'],'k.')"
   ]
  },
  {
   "cell_type": "code",
   "execution_count": 7,
   "metadata": {
    "collapsed": false
   },
   "outputs": [
    {
     "data": {
      "text/plain": [
       "SA    3489\n",
       "dtype: int64"
      ]
     },
     "execution_count": 7,
     "metadata": {},
     "output_type": "execute_result"
    }
   ],
   "source": [
    "df1.loc[(~np.isnan(df1.SA)),['SA']].count()"
   ]
  },
  {
   "cell_type": "code",
   "execution_count": 8,
   "metadata": {
    "collapsed": false
   },
   "outputs": [
    {
     "data": {
      "text/plain": [
       "SA    431\n",
       "dtype: int64"
      ]
     },
     "execution_count": 8,
     "metadata": {},
     "output_type": "execute_result"
    }
   ],
   "source": [
    "df1.loc[(~np.isnan(df1.SA))&(np.isnan(df1.NO23)),['SA']].count()"
   ]
  },
  {
   "cell_type": "code",
   "execution_count": 9,
   "metadata": {
    "collapsed": false
   },
   "outputs": [
    {
     "data": {
      "text/plain": [
       "NO23    363\n",
       "dtype: int64"
      ]
     },
     "execution_count": 9,
     "metadata": {},
     "output_type": "execute_result"
    }
   ],
   "source": [
    "df1.loc[(np.isnan(df1.SA))&(~np.isnan(df1.NO23)),['NO23']].count()"
   ]
  },
  {
   "cell_type": "code",
   "execution_count": 10,
   "metadata": {
    "collapsed": false
   },
   "outputs": [
    {
     "data": {
      "text/plain": [
       "CT    3489\n",
       "dtype: int64"
      ]
     },
     "execution_count": 10,
     "metadata": {},
     "output_type": "execute_result"
    }
   ],
   "source": [
    "df1.loc[~np.isnan(df1['CT']),['CT']].count()"
   ]
  },
  {
   "cell_type": "code",
   "execution_count": 11,
   "metadata": {
    "collapsed": false
   },
   "outputs": [
    {
     "data": {
      "text/plain": [
       "CT    431\n",
       "dtype: int64"
      ]
     },
     "execution_count": 11,
     "metadata": {},
     "output_type": "execute_result"
    }
   ],
   "source": [
    "df1.loc[(~np.isnan(df1['CT']))&(np.isnan(df1.NO23)),['CT']].count()"
   ]
  },
  {
   "cell_type": "code",
   "execution_count": 12,
   "metadata": {
    "collapsed": false
   },
   "outputs": [
    {
     "data": {
      "text/plain": [
       "NO23    363\n",
       "dtype: int64"
      ]
     },
     "execution_count": 12,
     "metadata": {},
     "output_type": "execute_result"
    }
   ],
   "source": [
    "df1.loc[(np.isnan(df1['CT']))&(~np.isnan(df1.NO23)),['NO23']].count()"
   ]
  },
  {
   "cell_type": "code",
   "execution_count": 13,
   "metadata": {
    "collapsed": false
   },
   "outputs": [
    {
     "data": {
      "text/plain": [
       "NO23    3421\n",
       "dtype: int64"
      ]
     },
     "execution_count": 13,
     "metadata": {},
     "output_type": "execute_result"
    }
   ],
   "source": [
    "df1.loc[(~np.isnan(df1.NO23)),['NO23']].count()"
   ]
  },
  {
   "cell_type": "code",
   "execution_count": 14,
   "metadata": {
    "collapsed": false
   },
   "outputs": [
    {
     "name": "stdout",
     "output_type": "stream",
     "text": [
      "% of N values without S:\n",
      "[10.61093248]\n"
     ]
    }
   ],
   "source": [
    "print('% of N values without S:')\n",
    "print(df1.loc[(np.isnan(df1.SA))&(~np.isnan(df1.NO23)),['NO23']].count().values/df1.loc[(~np.isnan(df1.NO23)),['NO23']].count().values*100)"
   ]
  },
  {
   "cell_type": "code",
   "execution_count": 15,
   "metadata": {
    "collapsed": false
   },
   "outputs": [
    {
     "data": {
      "text/plain": [
       "['NO2+NO3 (uM)',\n",
       " 'PO4',\n",
       " 'SiO2',\n",
       " 'dtUTC',\n",
       " 'Station',\n",
       " 'Lat',\n",
       " 'Lon',\n",
       " 'Z',\n",
       " 'SA',\n",
       " 'CT',\n",
       " 'pZ',\n",
       " 'AbsSal',\n",
       " 'ConsT',\n",
       " 'NO23',\n",
       " 'Si']"
      ]
     },
     "execution_count": 15,
     "metadata": {},
     "output_type": "execute_result"
    }
   ],
   "source": [
    "list(df1)"
   ]
  },
  {
   "cell_type": "code",
   "execution_count": 16,
   "metadata": {
    "collapsed": false
   },
   "outputs": [],
   "source": [
    "# use only matched locs. \n",
    "df2=df1.loc[(df1.NO23>=0)|(df1.Si>=0),['Z', 'dtUTC', 'Station', 'Lat', 'Lon', 'SA', 'CT', 'pZ', 'AbsSal', 'ConsT']].copy(deep=True)"
   ]
  },
  {
   "cell_type": "code",
   "execution_count": 17,
   "metadata": {
    "collapsed": true
   },
   "outputs": [],
   "source": [
    "df2['Z']=df2['pZ']"
   ]
  },
  {
   "cell_type": "code",
   "execution_count": 18,
   "metadata": {
    "collapsed": false
   },
   "outputs": [],
   "source": [
    "dataHakaiPhys=et.matchData(df2,filemapP, fdict, start_date, end_date, namfmt, PATH, flen)\n",
    "dataHakai=dataHakaiPhys"
   ]
  },
  {
   "cell_type": "code",
   "execution_count": 19,
   "metadata": {
    "collapsed": true
   },
   "outputs": [],
   "source": [
    "def rotmap(lon,lat,lon0,lat0,phi):\n",
    "    # rotate around point (pick one near center of domain)\n",
    "    # phi in degrees\n",
    "    # first scale lats to match and center around lat0,lon0:\n",
    "    lon1=(lon-lon0)*np.cos(lat0*np.pi/180)\n",
    "    lat1=lat-lat0\n",
    "    # now rotate:\n",
    "    lon2=lon1*np.cos(phi*np.pi/180)-lat1*np.sin(phi*np.pi/180)\n",
    "    lat2=lon1*np.sin(phi*np.pi/180)+lat1*np.cos(phi*np.pi/180)\n",
    "    return lon2,lat2"
   ]
  },
  {
   "cell_type": "code",
   "execution_count": 20,
   "metadata": {
    "collapsed": true
   },
   "outputs": [],
   "source": [
    "cm1=plt.get_cmap('PuBuGn')\n",
    "#cm1=cmo.cm.matter\n",
    "theta=-30\n",
    "lon0=-123.9\n",
    "lat0=49.3\n",
    "with nc.Dataset('/data/eolson/results/MEOPAR/NEMO-forcing-new/grid/bathymetry_201702.nc') as bathy:\n",
    "    bathylon=np.copy(bathy.variables['nav_lon'][:,:])\n",
    "    bathylat=np.copy(bathy.variables['nav_lat'][:,:])\n",
    "    bathyZ=np.copy(bathy.variables['Bathymetry'][:,:])\n",
    "blon,blat=rotmap(bathylon,bathylat,lon0,lat0,theta)"
   ]
  },
  {
   "cell_type": "code",
   "execution_count": 21,
   "metadata": {
    "collapsed": false
   },
   "outputs": [
    {
     "data": {
      "image/png": "[encoded data removed]",
      "text/plain": [
       "<matplotlib.figure.Figure at 0x7f96b8be5438>"
      ]
     },
     "metadata": {},
     "output_type": "display_data"
    }
   ],
   "source": [
    "fig = plt.figure(figsize = (7.5,4.5))\n",
    "gs1=gridspec.GridSpec(2,4,left=.08,right=.98,bottom=.015,top=.94,\n",
    "                      wspace=.34,hspace=.34,height_ratios=[1,1],width_ratios=[1,1,1,.1])\n",
    "ax2015N=fig.add_subplot(gs1[0,0])\n",
    "ax2016N = fig.add_subplot(gs1[0,1])\n",
    "ax2017N = fig.add_subplot(gs1[0,2])\n",
    "ax2015Si= fig.add_subplot(gs1[1,0])\n",
    "ax2016Si= fig.add_subplot(gs1[1,1])\n",
    "ax2017Si= fig.add_subplot(gs1[1,2])\n",
    "gscb=gridspec.GridSpecFromSubplotSpec(5,1,subplot_spec=gs1[:,3])\n",
    "axcb = fig.add_subplot(gscb[1:-1])\n",
    "\n",
    "for ax in (ax2015N,ax2016N,ax2017N):\n",
    "    ax.plot((0,36),(0,36),'k-',alpha=.2)\n",
    "for ax in (ax2015Si,ax2016Si,ax2017Si):\n",
    "    ax.plot((0,25),(0,25),'k-',alpha=.2)\n",
    "\n",
    "vm0=-150\n",
    "args={'marker':'.','s':1,}\n",
    "dataHakai2015=dataHakai.loc[(dataHakai.dtUTC>=dt.datetime(2015,1,1))&(dataHakai.dtUTC<dt.datetime(2016,1,1))]\n",
    "ps=et.varvarScatter(ax2015N,dataHakai2015,'AbsSal','mod_vosaline','Z',vmin=vm0,vmax=450,cm=cm1,args=args)\n",
    "dataHakai2016=dataHakai.loc[(dataHakai.dtUTC>=dt.datetime(2016,1,1))&(dataHakai.dtUTC<dt.datetime(2017,1,1))]\n",
    "ps=et.varvarScatter(ax2016N,dataHakai2016,'AbsSal','mod_vosaline','Z',vmin=vm0,vmax=450,cm=cm1,args=args)\n",
    "dataHakai2017=dataHakai.loc[(dataHakai.dtUTC>=dt.datetime(2017,1,1))&(dataHakai.dtUTC<dt.datetime(2018,1,1))]\n",
    "ps=et.varvarScatter(ax2017N,dataHakai2017,'AbsSal','mod_vosaline','Z',vmin=vm0,vmax=450,cm=cm1,args=args)\n",
    "ps=et.varvarScatter(ax2015Si,dataHakai2015,'ConsT','mod_votemper','Z',vmin=vm0,vmax=450,cm=cm1,args=args)\n",
    "ps=et.varvarScatter(ax2016Si,dataHakai2016,'ConsT','mod_votemper','Z',vmin=vm0,vmax=450,cm=cm1,args=args)\n",
    "ps=et.varvarScatter(ax2017Si,dataHakai2017,'ConsT','mod_votemper','Z',vmin=vm0,vmax=450,cm=cm1,args=args)\n",
    "\n",
    "cb=fig.colorbar(ps,cax=axcb,boundaries=np.linspace(0,450,46))\n",
    "cb.set_label('Depth (m)')\n",
    "\n",
    "ntick=np.arange(0,36,10)\n",
    "ntickl=[str(i) for i in ntick]\n",
    "for ax in (ax2015N,ax2016N,ax2017N):\n",
    "    ax.set_xlim((0,36))\n",
    "    ax.set_ylim((0,36))\n",
    "    ax.set_xticks(ntick)\n",
    "    ax.set_xticklabels(ntickl)\n",
    "    ax.set_yticks(ntick)\n",
    "    ax.set_yticklabels(ntickl)\n",
    "    \n",
    "stick=np.arange(0,25,10)\n",
    "stickl=[str(i) for i in stick]\n",
    "for ax in (ax2015Si,ax2016Si,ax2017Si):\n",
    "    ax.set_xlim((0,25))\n",
    "    ax.set_ylim((0,25))\n",
    "    ax.set_xticks(stick)\n",
    "    ax.set_xticklabels(stickl)\n",
    "    ax.set_yticks(stick)\n",
    "    ax.set_yticklabels(stickl)\n",
    "    \n",
    "for ax in (ax2015N,ax2016N,ax2017N,ax2015Si,ax2016Si,ax2017Si):\n",
    "    ax.set_aspect(1, adjustable='box')\n",
    "    #ax.set_xlabel('Observed')\n",
    "    \n",
    "ax2015N.set_ylabel('Modeled',fontsize=12)\n",
    "ax2015Si.set_ylabel('Modeled',fontsize=12)\n",
    "ax2015Si.set_ylabel('Modeled',fontsize=12)\n",
    "ax2015Si.set_xlabel('Observed',fontsize=12)\n",
    "ax2016Si.set_xlabel('Observed',fontsize=12)\n",
    "ax2017Si.set_xlabel('Observed',fontsize=12)\n",
    "\n",
    "ax2015N.annotate('2015',xy=[.5,1.18],xycoords='axes fraction',ha='center',fontsize=12)\n",
    "ax2016N.annotate('2016',xy=[.5,1.18],xycoords='axes fraction',ha='center',fontsize=12)\n",
    "ax2017N.annotate('2017',xy=[.5,1.18],xycoords='axes fraction',ha='center',fontsize=12)\n",
    "ax2015N.set_title('SA (g/kg)')\n",
    "ax2016N.set_title('SA (g/kg)')\n",
    "ax2017N.set_title('SA (g/kg)')\n",
    "ax2015Si.set_title('$\\Theta$ ($^{\\circ}$C)')\n",
    "ax2016Si.set_title('$\\Theta$ ($^{\\circ}$C)')\n",
    "ax2017Si.set_title('$\\Theta$ ($^{\\circ}$C)')\n"
   ]
  },
  {
   "cell_type": "code",
   "execution_count": 22,
   "metadata": {
    "collapsed": true
   },
   "outputs": [],
   "source": [
    "import pickle\n",
    "pickle.dump(dataHakaiPhys,open('/data/eolson/MEOPAR/SS36runs/calcFiles/evalMatches/dataHakaiPhys.pkl','wb'))"
   ]
  }
 ],
 "metadata": {
  "anaconda-cloud": {},
  "kernelspec": {
   "display_name": "Python [conda env:python36]",
   "language": "python",
   "name": "conda-env-python36-py"
  },
  "language_info": {
   "codemirror_mode": {
    "name": "ipython",
    "version": 3
   },
   "file_extension": ".py",
   "mimetype": "text/x-python",
   "name": "python",
   "nbconvert_exporter": "python",
   "pygments_lexer": "ipython3",
   "version": "3.6.3"
  }
 },
 "nbformat": 4,
 "nbformat_minor": 2
}
