{
 "cells": [
  {
   "cell_type": "markdown",
   "metadata": {},
   "source": [
    "## make Stats Table and print to csv or LaTeX file"
   ]
  },
  {
   "cell_type": "code",
   "execution_count": 1,
   "metadata": {
    "collapsed": false
   },
   "outputs": [],
   "source": [
    "import numpy as np\n",
    "import matplotlib.pyplot as plt\n",
    "import os\n",
    "import pandas as pd\n",
    "import netCDF4 as nc\n",
    "import datetime as dt\n",
    "from salishsea_tools import evaltools as et\n",
    "import pickle\n",
    "%matplotlib inline"
   ]
  },
  {
   "cell_type": "code",
   "execution_count": 2,
   "metadata": {
    "collapsed": true
   },
   "outputs": [],
   "source": [
    "chlToN=2.0"
   ]
  },
  {
   "cell_type": "code",
   "execution_count": 3,
   "metadata": {
    "collapsed": true
   },
   "outputs": [],
   "source": [
    "data=dict()\n",
    "data['DFOBio']=pickle.load(open('/data/eolson/MEOPAR/SS36runs/calcFiles/evalMatches/dataDFO.pkl','rb'))\n",
    "data['HakaiBio']=pickle.load(open('/data/eolson/MEOPAR/SS36runs/calcFiles/evalMatches/dataHakai.pkl','rb'))\n",
    "data['PSFBio']=pickle.load(open('/data/eolson/MEOPAR/SS36runs/calcFiles/evalMatches/dataPSF.pkl','rb'))\n",
    "data['DFOPhys']=pickle.load(open('/data/eolson/MEOPAR/SS36runs/calcFiles/evalMatches/dataDFOPhys.pkl','rb'))\n",
    "data['HakaiPhys']=pickle.load(open('/data/eolson/MEOPAR/SS36runs/calcFiles/evalMatches/dataHakaiPhys.pkl','rb'))\n",
    "data['PSFPhys']=pickle.load(open('/data/eolson/MEOPAR/SS36runs/calcFiles/evalMatches/dataPSFPhys.pkl','rb'))"
   ]
  },
  {
   "cell_type": "code",
   "execution_count": 4,
   "metadata": {
    "collapsed": false
   },
   "outputs": [
    {
     "name": "stdout",
     "output_type": "stream",
     "text": [
      "Mean Sample Depths:\n",
      "    DFO:  72.29504450281287\n",
      "    Hakai:  50.0525334162263\n",
      "    PSF:  9.973274311410659\n",
      "Depth range: \n",
      "    DFO:  0.4 414.6\n",
      "    Hakai:  0.0 340.0\n",
      "    PSF:  0.51 30.0\n"
     ]
    }
   ],
   "source": [
    "print('Mean Sample Depths:')\n",
    "print('    DFO: ', np.mean(data['DFOBio']['Z']))\n",
    "print('    Hakai: ', np.mean(data['HakaiBio']['Z']))\n",
    "print('    PSF: ', np.mean(data['PSFBio']['Z']))\n",
    "print('Depth range: ')\n",
    "print('    DFO: ', np.min(data['DFOBio']['Z']),np.max(data['DFOBio']['Z']))\n",
    "print('    Hakai: ', np.min(data['HakaiBio']['Z']),np.max(data['HakaiBio']['Z']))\n",
    "print('    PSF: ', np.min(data['PSFBio']['Z']),np.max(data['PSFBio']['Z']))"
   ]
  },
  {
   "cell_type": "code",
   "execution_count": 5,
   "metadata": {
    "collapsed": false
   },
   "outputs": [
    {
     "data": {
      "text/plain": [
       "<class 'netCDF4._netCDF4.Variable'>\n",
       "float64 Bathymetry(y, x)\n",
       "    _FillValue: 0.0\n",
       "    least_significant_digit: 0.1\n",
       "    units: metres\n",
       "    long_name: sea_floor_depth\n",
       "unlimited dimensions: \n",
       "current shape = (898, 398)\n",
       "filling on"
      ]
     },
     "execution_count": 5,
     "metadata": {},
     "output_type": "execute_result"
    }
   ],
   "source": [
    "bathy=nc.Dataset('/data/eolson/results/MEOPAR/NEMO-forcing-new/grid/bathymetry_201702.nc')\n",
    "bathy.variables['Bathymetry']"
   ]
  },
  {
   "cell_type": "code",
   "execution_count": 6,
   "metadata": {
    "collapsed": true
   },
   "outputs": [],
   "source": [
    "for dset in ('DFOBio','HakaiBio','PSFBio'):\n",
    "    data[dset]['WCDepth']=[bathy.variables['Bathymetry'][jj,ii] for jj, ii in zip(data[dset]['j'],data[dset]['i'])]"
   ]
  },
  {
   "cell_type": "code",
   "execution_count": 7,
   "metadata": {
    "collapsed": false
   },
   "outputs": [
    {
     "name": "stdout",
     "output_type": "stream",
     "text": [
      "Mean Sample Water Column Depths:\n",
      "    DFO:  219.48455949137147\n",
      "    Hakai:  206.72221790488032\n",
      "    PSF:  143.72113898257447\n",
      "Water ColumnDepth range: \n",
      "    DFO:  5.8125 425.0\n",
      "    Hakai:  5.875 428.0\n",
      "    PSF:  4.0 401.9375\n"
     ]
    }
   ],
   "source": [
    "print('Mean Sample Water Column Depths:')\n",
    "print('    DFO: ', np.mean(data['DFOBio']['WCDepth']))\n",
    "print('    Hakai: ', np.mean(data['HakaiBio']['WCDepth']))\n",
    "print('    PSF: ', np.mean(data['PSFBio']['WCDepth']))\n",
    "print('Water ColumnDepth range: ')\n",
    "print('    DFO: ', np.min(data['DFOBio']['WCDepth']),np.max(data['DFOBio']['WCDepth']))\n",
    "print('    Hakai: ', np.min(data['HakaiBio']['WCDepth']),np.max(data['HakaiBio']['WCDepth']))\n",
    "print('    PSF: ', np.min(data['PSFBio']['WCDepth']),np.max(data['PSFBio']['WCDepth']))"
   ]
  },
  {
   "cell_type": "code",
   "execution_count": 8,
   "metadata": {
    "collapsed": false
   },
   "outputs": [],
   "source": [
    "grouped=dict()\n",
    "grouped['HakaiBio']=data['HakaiBio'].groupby(['dtUTC','Lat','Lon','WCDepth']).count().reset_index()\n",
    "grouped['DFOBio']=data['DFOBio'].groupby(['dtUTC','Lat','Lon','WCDepth']).count().reset_index()\n",
    "grouped['PSFBio']=data['PSFBio'].groupby(['dtUTC','Lat','Lon','WCDepth']).count().reset_index()"
   ]
  },
  {
   "cell_type": "code",
   "execution_count": 9,
   "metadata": {
    "collapsed": false
   },
   "outputs": [
    {
     "name": "stdout",
     "output_type": "stream",
     "text": [
      "By grouped profiles!!!\n",
      "Mean Sample Water Column Depths:\n",
      "    DFO:  212.19596354166666\n",
      "    Hakai:  187.49312015503875\n",
      "    PSF:  144.12362863411957\n",
      "Water ColumnDepth range: \n",
      "    DFO:  5.8125 425.0\n",
      "    Hakai:  5.875 428.0\n",
      "    PSF:  4.0 401.9375\n"
     ]
    }
   ],
   "source": [
    "print('By grouped profiles!!!')\n",
    "print('Mean Sample Water Column Depths:')\n",
    "print('    DFO: ', np.mean(grouped['DFOBio']['WCDepth']))\n",
    "print('    Hakai: ', np.mean(grouped['HakaiBio']['WCDepth']))\n",
    "print('    PSF: ', np.mean(grouped['PSFBio']['WCDepth']))\n",
    "print('Water ColumnDepth range: ')\n",
    "print('    DFO: ', np.min(grouped['DFOBio']['WCDepth']),np.max(grouped['DFOBio']['WCDepth']))\n",
    "print('    Hakai: ', np.min(grouped['HakaiBio']['WCDepth']),np.max(grouped['HakaiBio']['WCDepth']))\n",
    "print('    PSF: ', np.min(grouped['PSFBio']['WCDepth']),np.max(grouped['PSFBio']['WCDepth']))"
   ]
  },
  {
   "cell_type": "code",
   "execution_count": null,
   "metadata": {
    "collapsed": true
   },
   "outputs": [],
   "source": []
  }
 ],
 "metadata": {
  "anaconda-cloud": {},
  "kernelspec": {
   "display_name": "Python [conda env:python36]",
   "language": "python",
   "name": "conda-env-python36-py"
  },
  "language_info": {
   "codemirror_mode": {
    "name": "ipython",
    "version": 3
   },
   "file_extension": ".py",
   "mimetype": "text/x-python",
   "name": "python",
   "nbconvert_exporter": "python",
   "pygments_lexer": "ipython3",
   "version": "3.6.3"
  }
 },
 "nbformat": 4,
 "nbformat_minor": 2
}
