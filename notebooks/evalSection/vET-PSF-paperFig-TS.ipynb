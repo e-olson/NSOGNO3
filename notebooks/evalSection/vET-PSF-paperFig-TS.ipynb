{
 "cells": [
  {
   "cell_type": "markdown",
   "metadata": {},
   "source": [
    "## DFO Nutrient Comparison"
   ]
  },
  {
   "cell_type": "code",
   "execution_count": 1,
   "metadata": {
    "collapsed": false
   },
   "outputs": [],
   "source": [
    "import numpy as np\n",
    "import matplotlib.pyplot as plt\n",
    "import os\n",
    "import pandas as pd\n",
    "import netCDF4 as nc\n",
    "import datetime as dt\n",
    "from salishsea_tools import evaltools as et, viz_tools\n",
    "import gsw\n",
    "import matplotlib.gridspec as gridspec\n",
    "import matplotlib as mpl\n",
    "import matplotlib.dates as mdates\n",
    "import cmocean as cmo\n",
    "import scipy.interpolate as sinterp\n",
    "import pytz\n",
    "import warnings\n",
    "\n",
    "mpl.rc('xtick', labelsize=10)\n",
    "mpl.rc('ytick', labelsize=10)\n",
    "mpl.rc('legend', fontsize=10)\n",
    "mpl.rc('axes', titlesize=10)\n",
    "mpl.rc('axes', labelsize=10)\n",
    "mpl.rc('figure', titlesize=10)\n",
    "mpl.rc('font', size=10)\n",
    "%matplotlib inline"
   ]
  },
  {
   "cell_type": "code",
   "execution_count": 2,
   "metadata": {
    "collapsed": false
   },
   "outputs": [
    {
     "data": {
      "text/html": [
       "<div>\n",
       "<style scoped>\n",
       "    .dataframe tbody tr th:only-of-type {\n",
       "        vertical-align: middle;\n",
       "    }\n",
       "\n",
       "    .dataframe tbody tr th {\n",
       "        vertical-align: top;\n",
       "    }\n",
       "\n",
       "    .dataframe thead th {\n",
       "        text-align: right;\n",
       "    }\n",
       "</style>\n",
       "<table border=\"1\" class=\"dataframe\">\n",
       "  <thead>\n",
       "    <tr style=\"text-align: right;\">\n",
       "      <th></th>\n",
       "      <th>Lat</th>\n",
       "      <th>Lon</th>\n",
       "      <th>NO23</th>\n",
       "      <th>PO4</th>\n",
       "      <th>Si</th>\n",
       "      <th>Station</th>\n",
       "      <th>Z</th>\n",
       "      <th>dtUTC</th>\n",
       "      <th>Chl</th>\n",
       "      <th>Depth_m</th>\n",
       "      <th>Phaeo</th>\n",
       "      <th>SA</th>\n",
       "      <th>CT</th>\n",
       "      <th>pLat</th>\n",
       "      <th>pLon</th>\n",
       "      <th>tdiffH</th>\n",
       "    </tr>\n",
       "  </thead>\n",
       "  <tbody>\n",
       "    <tr>\n",
       "      <th>0</th>\n",
       "      <td>49.608333</td>\n",
       "      <td>-124.866667</td>\n",
       "      <td>18.65</td>\n",
       "      <td>1.459</td>\n",
       "      <td>68.43</td>\n",
       "      <td>BS1</td>\n",
       "      <td>2.0</td>\n",
       "      <td>2015-02-18 23:07:00</td>\n",
       "      <td>NaN</td>\n",
       "      <td>NaN</td>\n",
       "      <td>NaN</td>\n",
       "      <td>24.3455</td>\n",
       "      <td>8.986387</td>\n",
       "      <td>49.603803</td>\n",
       "      <td>-124.867129</td>\n",
       "      <td>0.059306</td>\n",
       "    </tr>\n",
       "    <tr>\n",
       "      <th>1</th>\n",
       "      <td>49.608333</td>\n",
       "      <td>-124.866667</td>\n",
       "      <td>26.62</td>\n",
       "      <td>2.175</td>\n",
       "      <td>55.73</td>\n",
       "      <td>BS1</td>\n",
       "      <td>20.0</td>\n",
       "      <td>2015-02-18 23:07:00</td>\n",
       "      <td>NaN</td>\n",
       "      <td>NaN</td>\n",
       "      <td>NaN</td>\n",
       "      <td>28.0035</td>\n",
       "      <td>8.810689</td>\n",
       "      <td>49.603803</td>\n",
       "      <td>-124.867129</td>\n",
       "      <td>0.059306</td>\n",
       "    </tr>\n",
       "    <tr>\n",
       "      <th>2</th>\n",
       "      <td>49.608333</td>\n",
       "      <td>-124.866667</td>\n",
       "      <td>16.25</td>\n",
       "      <td>1.809</td>\n",
       "      <td>39.14</td>\n",
       "      <td>BS1</td>\n",
       "      <td>2.0</td>\n",
       "      <td>2015-03-21 22:55:00</td>\n",
       "      <td>NaN</td>\n",
       "      <td>NaN</td>\n",
       "      <td>NaN</td>\n",
       "      <td>26.9730</td>\n",
       "      <td>9.675332</td>\n",
       "      <td>49.608083</td>\n",
       "      <td>-124.865769</td>\n",
       "      <td>0.060139</td>\n",
       "    </tr>\n",
       "    <tr>\n",
       "      <th>3</th>\n",
       "      <td>49.608333</td>\n",
       "      <td>-124.866667</td>\n",
       "      <td>16.83</td>\n",
       "      <td>2.069</td>\n",
       "      <td>39.11</td>\n",
       "      <td>BS1</td>\n",
       "      <td>20.0</td>\n",
       "      <td>2015-03-21 22:55:00</td>\n",
       "      <td>NaN</td>\n",
       "      <td>NaN</td>\n",
       "      <td>NaN</td>\n",
       "      <td>28.3310</td>\n",
       "      <td>9.113702</td>\n",
       "      <td>49.608083</td>\n",
       "      <td>-124.865769</td>\n",
       "      <td>0.060139</td>\n",
       "    </tr>\n",
       "    <tr>\n",
       "      <th>4</th>\n",
       "      <td>49.608333</td>\n",
       "      <td>-124.866667</td>\n",
       "      <td>24.27</td>\n",
       "      <td>0.551</td>\n",
       "      <td>49.90</td>\n",
       "      <td>BS1</td>\n",
       "      <td>20.0</td>\n",
       "      <td>2015-04-05 23:10:00</td>\n",
       "      <td>NaN</td>\n",
       "      <td>NaN</td>\n",
       "      <td>NaN</td>\n",
       "      <td>28.6415</td>\n",
       "      <td>9.296229</td>\n",
       "      <td>49.607844</td>\n",
       "      <td>-124.867737</td>\n",
       "      <td>0.029306</td>\n",
       "    </tr>\n",
       "    <tr>\n",
       "      <th>5</th>\n",
       "      <td>49.608333</td>\n",
       "      <td>-124.866667</td>\n",
       "      <td>10.53</td>\n",
       "      <td>1.033</td>\n",
       "      <td>34.71</td>\n",
       "      <td>BS1</td>\n",
       "      <td>2.0</td>\n",
       "      <td>2015-04-09 21:48:00</td>\n",
       "      <td>NaN</td>\n",
       "      <td>NaN</td>\n",
       "      <td>NaN</td>\n",
       "      <td>26.2325</td>\n",
       "      <td>11.677658</td>\n",
       "      <td>49.608379</td>\n",
       "      <td>-124.868711</td>\n",
       "      <td>0.047222</td>\n",
       "    </tr>\n",
       "    <tr>\n",
       "      <th>6</th>\n",
       "      <td>49.608333</td>\n",
       "      <td>-124.866667</td>\n",
       "      <td>22.40</td>\n",
       "      <td>2.081</td>\n",
       "      <td>43.40</td>\n",
       "      <td>BS1</td>\n",
       "      <td>20.0</td>\n",
       "      <td>2015-04-09 21:48:00</td>\n",
       "      <td>NaN</td>\n",
       "      <td>NaN</td>\n",
       "      <td>NaN</td>\n",
       "      <td>28.5885</td>\n",
       "      <td>9.424144</td>\n",
       "      <td>49.608379</td>\n",
       "      <td>-124.868711</td>\n",
       "      <td>0.047222</td>\n",
       "    </tr>\n",
       "    <tr>\n",
       "      <th>7</th>\n",
       "      <td>49.608333</td>\n",
       "      <td>-124.866667</td>\n",
       "      <td>0.17</td>\n",
       "      <td>0.209</td>\n",
       "      <td>5.79</td>\n",
       "      <td>BS1</td>\n",
       "      <td>2.0</td>\n",
       "      <td>2015-05-13 18:49:00</td>\n",
       "      <td>NaN</td>\n",
       "      <td>NaN</td>\n",
       "      <td>NaN</td>\n",
       "      <td>26.6700</td>\n",
       "      <td>15.248168</td>\n",
       "      <td>49.607559</td>\n",
       "      <td>-124.866625</td>\n",
       "      <td>0.034444</td>\n",
       "    </tr>\n",
       "    <tr>\n",
       "      <th>8</th>\n",
       "      <td>49.608333</td>\n",
       "      <td>-124.866667</td>\n",
       "      <td>8.93</td>\n",
       "      <td>1.295</td>\n",
       "      <td>19.48</td>\n",
       "      <td>BS1</td>\n",
       "      <td>20.0</td>\n",
       "      <td>2015-05-13 18:49:00</td>\n",
       "      <td>NaN</td>\n",
       "      <td>NaN</td>\n",
       "      <td>NaN</td>\n",
       "      <td>28.3320</td>\n",
       "      <td>10.742680</td>\n",
       "      <td>49.607559</td>\n",
       "      <td>-124.866625</td>\n",
       "      <td>0.034444</td>\n",
       "    </tr>\n",
       "    <tr>\n",
       "      <th>9</th>\n",
       "      <td>49.608333</td>\n",
       "      <td>-124.866667</td>\n",
       "      <td>0.05</td>\n",
       "      <td>0.198</td>\n",
       "      <td>6.45</td>\n",
       "      <td>BS1</td>\n",
       "      <td>2.0</td>\n",
       "      <td>2015-05-17 21:14:00</td>\n",
       "      <td>NaN</td>\n",
       "      <td>NaN</td>\n",
       "      <td>NaN</td>\n",
       "      <td>27.3665</td>\n",
       "      <td>15.824563</td>\n",
       "      <td>49.607524</td>\n",
       "      <td>-124.866523</td>\n",
       "      <td>0.027500</td>\n",
       "    </tr>\n",
       "  </tbody>\n",
       "</table>\n",
       "</div>"
      ],
      "text/plain": [
       "         Lat         Lon   NO23    PO4     Si Station     Z  \\\n",
       "0  49.608333 -124.866667  18.65  1.459  68.43     BS1   2.0   \n",
       "1  49.608333 -124.866667  26.62  2.175  55.73     BS1  20.0   \n",
       "2  49.608333 -124.866667  16.25  1.809  39.14     BS1   2.0   \n",
       "3  49.608333 -124.866667  16.83  2.069  39.11     BS1  20.0   \n",
       "4  49.608333 -124.866667  24.27  0.551  49.90     BS1  20.0   \n",
       "5  49.608333 -124.866667  10.53  1.033  34.71     BS1   2.0   \n",
       "6  49.608333 -124.866667  22.40  2.081  43.40     BS1  20.0   \n",
       "7  49.608333 -124.866667   0.17  0.209   5.79     BS1   2.0   \n",
       "8  49.608333 -124.866667   8.93  1.295  19.48     BS1  20.0   \n",
       "9  49.608333 -124.866667   0.05  0.198   6.45     BS1   2.0   \n",
       "\n",
       "                dtUTC  Chl Depth_m  Phaeo       SA         CT       pLat  \\\n",
       "0 2015-02-18 23:07:00  NaN     NaN    NaN  24.3455   8.986387  49.603803   \n",
       "1 2015-02-18 23:07:00  NaN     NaN    NaN  28.0035   8.810689  49.603803   \n",
       "2 2015-03-21 22:55:00  NaN     NaN    NaN  26.9730   9.675332  49.608083   \n",
       "3 2015-03-21 22:55:00  NaN     NaN    NaN  28.3310   9.113702  49.608083   \n",
       "4 2015-04-05 23:10:00  NaN     NaN    NaN  28.6415   9.296229  49.607844   \n",
       "5 2015-04-09 21:48:00  NaN     NaN    NaN  26.2325  11.677658  49.608379   \n",
       "6 2015-04-09 21:48:00  NaN     NaN    NaN  28.5885   9.424144  49.608379   \n",
       "7 2015-05-13 18:49:00  NaN     NaN    NaN  26.6700  15.248168  49.607559   \n",
       "8 2015-05-13 18:49:00  NaN     NaN    NaN  28.3320  10.742680  49.607559   \n",
       "9 2015-05-17 21:14:00  NaN     NaN    NaN  27.3665  15.824563  49.607524   \n",
       "\n",
       "         pLon    tdiffH  \n",
       "0 -124.867129  0.059306  \n",
       "1 -124.867129  0.059306  \n",
       "2 -124.865769  0.060139  \n",
       "3 -124.865769  0.060139  \n",
       "4 -124.867737  0.029306  \n",
       "5 -124.868711  0.047222  \n",
       "6 -124.868711  0.047222  \n",
       "7 -124.866625  0.034444  \n",
       "8 -124.866625  0.034444  \n",
       "9 -124.866523  0.027500  "
      ]
     },
     "execution_count": 2,
     "metadata": {},
     "output_type": "execute_result"
    }
   ],
   "source": [
    "df1=et.loadPSF(loadCTD=True)\n",
    "df1.head(10)"
   ]
  },
  {
   "cell_type": "code",
   "execution_count": 3,
   "metadata": {
    "collapsed": false
   },
   "outputs": [
    {
     "data": {
      "text/plain": [
       "0.01853616669999525"
      ]
     },
     "execution_count": 3,
     "metadata": {},
     "output_type": "execute_result"
    }
   ],
   "source": [
    "np.max(np.abs(df1['Lat']-df1['pLat']))"
   ]
  },
  {
   "cell_type": "code",
   "execution_count": 4,
   "metadata": {
    "collapsed": false
   },
   "outputs": [
    {
     "data": {
      "text/plain": [
       "0.021861333299995067"
      ]
     },
     "execution_count": 4,
     "metadata": {},
     "output_type": "execute_result"
    }
   ],
   "source": [
    "np.max(np.abs(df1['Lon']-df1['pLon']))"
   ]
  },
  {
   "cell_type": "code",
   "execution_count": 5,
   "metadata": {
    "collapsed": false
   },
   "outputs": [
    {
     "data": {
      "text/plain": [
       "0.9986111111111111"
      ]
     },
     "execution_count": 5,
     "metadata": {},
     "output_type": "execute_result"
    }
   ],
   "source": [
    "np.max(np.abs(df1['tdiffH']))"
   ]
  },
  {
   "cell_type": "code",
   "execution_count": 6,
   "metadata": {
    "collapsed": false
   },
   "outputs": [],
   "source": [
    "PATH= '/data/eolson/results/MEOPAR/SS36runs/linkHC201812/'\n",
    "#PATH= '/results2/SalishSea/hindcast/'\n",
    "start_date = dt.datetime(2015,1,1)\n",
    "end_date = dt.datetime(2018,1,1)\n",
    "flen=1\n",
    "namfmt='nowcast'\n",
    "#varmap={'N':'nitrate','Si':'silicon','Ammonium':'ammonium'}\n",
    "filemap={'nitrate':'ptrc_T','silicon':'ptrc_T','ammonium':'ptrc_T','diatoms':'ptrc_T','ciliates':'ptrc_T','flagellates':'ptrc_T','vosaline':'grid_T','votemper':'grid_T'}\n",
    "#gridmap={'nitrate':'tmask','silicon':'tmask','ammonium':'tmask'}\n",
    "fdict={'ptrc_T':1,'grid_T':1}\n",
    "#df1=et.loadDFO()\n",
    "#df1.head()\n",
    "df1['AbsSal']=df1['SA']\n",
    "df1['ConsT']=df1['CT']"
   ]
  },
  {
   "cell_type": "code",
   "execution_count": 7,
   "metadata": {
    "collapsed": false
   },
   "outputs": [
    {
     "data": {
      "text/plain": [
       "[<matplotlib.lines.Line2D at 0x7f5fa8137240>]"
      ]
     },
     "execution_count": 7,
     "metadata": {},
     "output_type": "execute_result"
    },
    {
     "data": {
      "image/png": "[encoded data removed]",
      "text/plain": [
       "<matplotlib.figure.Figure at 0x7f5fb03c2240>"
      ]
     },
     "metadata": {},
     "output_type": "display_data"
    }
   ],
   "source": [
    "plt.plot(df1['SA'],df1['NO23'],'k.')"
   ]
  },
  {
   "cell_type": "code",
   "execution_count": 8,
   "metadata": {
    "collapsed": false
   },
   "outputs": [
    {
     "data": {
      "text/plain": [
       "[<matplotlib.lines.Line2D at 0x7f5fb46047b8>]"
      ]
     },
     "execution_count": 8,
     "metadata": {},
     "output_type": "execute_result"
    },
    {
     "data": {
      "image/png": "[encoded data removed]",
      "text/plain": [
       "<matplotlib.figure.Figure at 0x7f5fa80f1128>"
      ]
     },
     "metadata": {},
     "output_type": "display_data"
    }
   ],
   "source": [
    "plt.plot(df1['SA'],df1['CT'],'k.')"
   ]
  },
  {
   "cell_type": "code",
   "execution_count": 9,
   "metadata": {
    "collapsed": false
   },
   "outputs": [
    {
     "data": {
      "text/plain": [
       "SA    2691\n",
       "dtype: int64"
      ]
     },
     "execution_count": 9,
     "metadata": {},
     "output_type": "execute_result"
    }
   ],
   "source": [
    "df1.loc[(~np.isnan(df1.SA)),['SA']].count()"
   ]
  },
  {
   "cell_type": "code",
   "execution_count": 10,
   "metadata": {
    "collapsed": false
   },
   "outputs": [
    {
     "data": {
      "text/plain": [
       "SA    368\n",
       "dtype: int64"
      ]
     },
     "execution_count": 10,
     "metadata": {},
     "output_type": "execute_result"
    }
   ],
   "source": [
    "df1.loc[(~np.isnan(df1.SA))&(np.isnan(df1.NO23)),['SA']].count()"
   ]
  },
  {
   "cell_type": "code",
   "execution_count": 11,
   "metadata": {
    "collapsed": false
   },
   "outputs": [
    {
     "data": {
      "text/plain": [
       "NO23    677\n",
       "dtype: int64"
      ]
     },
     "execution_count": 11,
     "metadata": {},
     "output_type": "execute_result"
    }
   ],
   "source": [
    "df1.loc[(np.isnan(df1.SA))&(~np.isnan(df1.NO23)),['NO23']].count()"
   ]
  },
  {
   "cell_type": "code",
   "execution_count": 12,
   "metadata": {
    "collapsed": false
   },
   "outputs": [
    {
     "data": {
      "text/plain": [
       "CT    2690\n",
       "dtype: int64"
      ]
     },
     "execution_count": 12,
     "metadata": {},
     "output_type": "execute_result"
    }
   ],
   "source": [
    "df1.loc[~np.isnan(df1['CT']),['CT']].count()"
   ]
  },
  {
   "cell_type": "code",
   "execution_count": 13,
   "metadata": {
    "collapsed": false
   },
   "outputs": [
    {
     "data": {
      "text/plain": [
       "CT    368\n",
       "dtype: int64"
      ]
     },
     "execution_count": 13,
     "metadata": {},
     "output_type": "execute_result"
    }
   ],
   "source": [
    "df1.loc[(~np.isnan(df1['CT']))&(np.isnan(df1.NO23)),['CT']].count()"
   ]
  },
  {
   "cell_type": "code",
   "execution_count": 14,
   "metadata": {
    "collapsed": false
   },
   "outputs": [
    {
     "data": {
      "text/plain": [
       "NO23    678\n",
       "dtype: int64"
      ]
     },
     "execution_count": 14,
     "metadata": {},
     "output_type": "execute_result"
    }
   ],
   "source": [
    "df1.loc[(np.isnan(df1['CT']))&(~np.isnan(df1.NO23)),['NO23']].count()"
   ]
  },
  {
   "cell_type": "code",
   "execution_count": 15,
   "metadata": {
    "collapsed": false
   },
   "outputs": [
    {
     "data": {
      "text/plain": [
       "NO23    3000\n",
       "dtype: int64"
      ]
     },
     "execution_count": 15,
     "metadata": {},
     "output_type": "execute_result"
    }
   ],
   "source": [
    "df1.loc[(~np.isnan(df1.NO23)),['NO23']].count()"
   ]
  },
  {
   "cell_type": "code",
   "execution_count": 16,
   "metadata": {
    "collapsed": false
   },
   "outputs": [
    {
     "name": "stdout",
     "output_type": "stream",
     "text": [
      "% of N values without S:\n",
      "[22.56666667]\n"
     ]
    }
   ],
   "source": [
    "print('% of N values without S:')\n",
    "print(df1.loc[(np.isnan(df1.SA))&(~np.isnan(df1.NO23)),['NO23']].count().values/df1.loc[(~np.isnan(df1.NO23)),['NO23']].count().values*100)"
   ]
  },
  {
   "cell_type": "code",
   "execution_count": 17,
   "metadata": {
    "collapsed": false
   },
   "outputs": [],
   "source": [
    "# use only matched locs. \n",
    "df2=df1.loc[(df1.NO23>=0)|(df1.Si>=0)]"
   ]
  },
  {
   "cell_type": "code",
   "execution_count": 18,
   "metadata": {
    "collapsed": false
   },
   "outputs": [],
   "source": [
    "dataPSFPhys=et.matchData(df2,filemap, fdict, start_date, end_date, namfmt, PATH, flen)\n",
    "dataPSF=dataPSFPhys"
   ]
  },
  {
   "cell_type": "code",
   "execution_count": null,
   "metadata": {
    "collapsed": true
   },
   "outputs": [],
   "source": []
  },
  {
   "cell_type": "code",
   "execution_count": 19,
   "metadata": {
    "collapsed": true
   },
   "outputs": [],
   "source": [
    "def rotmap(lon,lat,lon0,lat0,phi):\n",
    "    # rotate around point (pick one near center of domain)\n",
    "    # phi in degrees\n",
    "    # first scale lats to match and center around lat0,lon0:\n",
    "    lon1=(lon-lon0)*np.cos(lat0*np.pi/180)\n",
    "    lat1=lat-lat0\n",
    "    # now rotate:\n",
    "    lon2=lon1*np.cos(phi*np.pi/180)-lat1*np.sin(phi*np.pi/180)\n",
    "    lat2=lon1*np.sin(phi*np.pi/180)+lat1*np.cos(phi*np.pi/180)\n",
    "    return lon2,lat2"
   ]
  },
  {
   "cell_type": "code",
   "execution_count": 20,
   "metadata": {
    "collapsed": true
   },
   "outputs": [],
   "source": [
    "cm1=plt.get_cmap('PuBuGn')\n",
    "#cm1=cmo.cm.matter\n",
    "theta=-30\n",
    "lon0=-123.9\n",
    "lat0=49.3\n",
    "with nc.Dataset('/data/eolson/results/MEOPAR/NEMO-forcing-new/grid/bathymetry_201702.nc') as bathy:\n",
    "    bathylon=np.copy(bathy.variables['nav_lon'][:,:])\n",
    "    bathylat=np.copy(bathy.variables['nav_lat'][:,:])\n",
    "    bathyZ=np.copy(bathy.variables['Bathymetry'][:,:])\n",
    "blon,blat=rotmap(bathylon,bathylat,lon0,lat0,theta)"
   ]
  },
  {
   "cell_type": "code",
   "execution_count": 21,
   "metadata": {
    "collapsed": false
   },
   "outputs": [
    {
     "data": {
      "image/png": "[encoded data removed]",
      "text/plain": [
       "<matplotlib.figure.Figure at 0x7f5fa9c05400>"
      ]
     },
     "metadata": {},
     "output_type": "display_data"
    }
   ],
   "source": [
    "fig = plt.figure(figsize = (7.5,4.5))\n",
    "gs1=gridspec.GridSpec(2,4,left=.08,right=.98,bottom=.015,top=.94,\n",
    "                      wspace=.34,hspace=.34,height_ratios=[1,1],width_ratios=[1,1,1,.1])\n",
    "ax2015N=fig.add_subplot(gs1[0,0])\n",
    "ax2016N = fig.add_subplot(gs1[0,1])\n",
    "ax2017N = fig.add_subplot(gs1[0,2])\n",
    "ax2015Si= fig.add_subplot(gs1[1,0])\n",
    "ax2016Si= fig.add_subplot(gs1[1,1])\n",
    "ax2017Si= fig.add_subplot(gs1[1,2])\n",
    "gscb=gridspec.GridSpecFromSubplotSpec(5,1,subplot_spec=gs1[:,3])\n",
    "axcb = fig.add_subplot(gscb[1:-1])\n",
    "\n",
    "for ax in (ax2015N,ax2016N,ax2017N):\n",
    "    ax.plot((0,36),(0,36),'k-',alpha=.2)\n",
    "for ax in (ax2015Si,ax2016Si,ax2017Si):\n",
    "    ax.plot((0,25),(0,25),'k-',alpha=.2)\n",
    "\n",
    "vm0=-150\n",
    "args={'marker':'.','s':1,}\n",
    "dataPSF2015=dataPSF.loc[(dataPSF.dtUTC>=dt.datetime(2015,1,1))&(dataPSF.dtUTC<dt.datetime(2016,1,1))]\n",
    "ps=et.varvarScatter(ax2015N,dataPSF2015,'AbsSal','mod_vosaline','Z',vmin=vm0,vmax=450,cm=cm1,args=args)\n",
    "dataPSF2016=dataPSF.loc[(dataPSF.dtUTC>=dt.datetime(2016,1,1))&(dataPSF.dtUTC<dt.datetime(2017,1,1))]\n",
    "ps=et.varvarScatter(ax2016N,dataPSF2016,'AbsSal','mod_vosaline','Z',vmin=vm0,vmax=450,cm=cm1,args=args)\n",
    "dataPSF2017=dataPSF.loc[(dataPSF.dtUTC>=dt.datetime(2017,1,1))&(dataPSF.dtUTC<dt.datetime(2018,1,1))]\n",
    "ps=et.varvarScatter(ax2017N,dataPSF2017,'AbsSal','mod_vosaline','Z',vmin=vm0,vmax=450,cm=cm1,args=args)\n",
    "ps=et.varvarScatter(ax2015Si,dataPSF2015,'ConsT','mod_votemper','Z',vmin=vm0,vmax=450,cm=cm1,args=args)\n",
    "ps=et.varvarScatter(ax2016Si,dataPSF2016,'ConsT','mod_votemper','Z',vmin=vm0,vmax=450,cm=cm1,args=args)\n",
    "ps=et.varvarScatter(ax2017Si,dataPSF2017,'ConsT','mod_votemper','Z',vmin=vm0,vmax=450,cm=cm1,args=args)\n",
    "\n",
    "cb=fig.colorbar(ps,cax=axcb,boundaries=np.linspace(0,450,46))\n",
    "cb.set_label('Depth (m)')\n",
    "\n",
    "ntick=np.arange(0,36,10)\n",
    "ntickl=[str(i) for i in ntick]\n",
    "for ax in (ax2015N,ax2016N,ax2017N):\n",
    "    ax.set_xlim((0,36))\n",
    "    ax.set_ylim((0,36))\n",
    "    ax.set_xticks(ntick)\n",
    "    ax.set_xticklabels(ntickl)\n",
    "    ax.set_yticks(ntick)\n",
    "    ax.set_yticklabels(ntickl)\n",
    "    \n",
    "stick=np.arange(0,25,10)\n",
    "stickl=[str(i) for i in stick]\n",
    "for ax in (ax2015Si,ax2016Si,ax2017Si):\n",
    "    ax.set_xlim((0,25))\n",
    "    ax.set_ylim((0,25))\n",
    "    ax.set_xticks(stick)\n",
    "    ax.set_xticklabels(stickl)\n",
    "    ax.set_yticks(stick)\n",
    "    ax.set_yticklabels(stickl)\n",
    "    \n",
    "for ax in (ax2015N,ax2016N,ax2017N,ax2015Si,ax2016Si,ax2017Si):\n",
    "    ax.set_aspect(1, adjustable='box')\n",
    "    #ax.set_xlabel('Observed')\n",
    "    \n",
    "ax2015N.set_ylabel('Modeled',fontsize=12)\n",
    "ax2015Si.set_ylabel('Modeled',fontsize=12)\n",
    "ax2015Si.set_ylabel('Modeled',fontsize=12)\n",
    "ax2015Si.set_xlabel('Observed',fontsize=12)\n",
    "ax2016Si.set_xlabel('Observed',fontsize=12)\n",
    "ax2017Si.set_xlabel('Observed',fontsize=12)\n",
    "\n",
    "ax2015N.annotate('2015',xy=[.5,1.18],xycoords='axes fraction',ha='center',fontsize=12)\n",
    "ax2016N.annotate('2016',xy=[.5,1.18],xycoords='axes fraction',ha='center',fontsize=12)\n",
    "ax2017N.annotate('2017',xy=[.5,1.18],xycoords='axes fraction',ha='center',fontsize=12)\n",
    "ax2015N.set_title('SA (g/kg)')\n",
    "ax2016N.set_title('SA (g/kg)')\n",
    "ax2017N.set_title('SA (g/kg)')\n",
    "ax2015Si.set_title('\\Theta ($^{\\circ}$C)')\n",
    "ax2016Si.set_title('\\Theta ($^{\\circ}$C)')\n",
    "ax2017Si.set_title('\\Theta ($^{\\circ}$C)')\n"
   ]
  },
  {
   "cell_type": "code",
   "execution_count": 22,
   "metadata": {
    "collapsed": false
   },
   "outputs": [
    {
     "data": {
      "image/png": "[encoded data removed]",
      "text/plain": [
       "<matplotlib.figure.Figure at 0x7f5fb3792358>"
      ]
     },
     "metadata": {},
     "output_type": "display_data"
    }
   ],
   "source": [
    "plt.hist(dataPSF.Z,50);"
   ]
  },
  {
   "cell_type": "code",
   "execution_count": 23,
   "metadata": {
    "collapsed": true
   },
   "outputs": [],
   "source": [
    "import pickle\n",
    "pickle.dump(dataPSFPhys,open('/data/eolson/MEOPAR/SS36runs/calcFiles/evalMatches/dataPSFPhys.pkl','wb'))"
   ]
  }
 ],
 "metadata": {
  "anaconda-cloud": {},
  "kernelspec": {
   "display_name": "Python [conda env:python36]",
   "language": "python",
   "name": "conda-env-python36-py"
  },
  "language_info": {
   "codemirror_mode": {
    "name": "ipython",
    "version": 3
   },
   "file_extension": ".py",
   "mimetype": "text/x-python",
   "name": "python",
   "nbconvert_exporter": "python",
   "pygments_lexer": "ipython3",
   "version": "3.6.3"
  }
 },
 "nbformat": 4,
 "nbformat_minor": 2
}
