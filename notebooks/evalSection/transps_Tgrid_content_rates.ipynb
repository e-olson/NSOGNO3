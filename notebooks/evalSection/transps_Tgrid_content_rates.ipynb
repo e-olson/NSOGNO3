{
 "cells": [
  {
   "cell_type": "code",
   "execution_count": 1,
   "metadata": {},
   "outputs": [],
   "source": [
    "import numpy as np\n",
    "from matplotlib import pyplot as plt\n",
    "import matplotlib.gridspec as gridspec\n",
    "import matplotlib.dates as mdates\n",
    "import netCDF4 as nc\n",
    "import datetime as dt\n",
    "import cmocean\n",
    "import string\n",
    "import glob\n",
    "import pickle\n",
    "import matplotlib as mpl\n",
    "from salishsea_tools import evaltools as et\n",
    "mpl.rc('xtick', labelsize=8)\n",
    "mpl.rc('ytick', labelsize=8)\n",
    "mpl.rc('legend', fontsize=8)\n",
    "mpl.rc('axes', titlesize=8)\n",
    "mpl.rc('axes', labelsize=8)\n",
    "mpl.rc('figure', titlesize=8)\n",
    "mpl.rc('font', size=8)\n",
    "mpl.rc('text', usetex=True)\n",
    "mpl.rc('text.latex', preamble = r'''\n",
    " \\usepackage{txfonts}\n",
    " \\usepackage{lmodern}\n",
    " ''')\n",
    "mpl.rc('font', family='sans-serif', weight='normal', style='normal')\n",
    "from scipy.ndimage import gaussian_filter\n",
    "from matplotlib.ticker import FormatStrFormatter\n",
    "#from NorthNut import vvl_interp_T_to_V, vvl_interp_T_to_U;\n",
    "\n",
    "%matplotlib inline"
   ]
  },
  {
   "cell_type": "markdown",
   "metadata": {},
   "source": [
    "save only at daily intervals. snapshots of content and sums of hourly rates."
   ]
  },
  {
   "cell_type": "markdown",
   "metadata": {},
   "source": [
    "calculations have been moved to transps_calcContentsRates.py"
   ]
  },
  {
   "cell_type": "code",
   "execution_count": 2,
   "metadata": {},
   "outputs": [],
   "source": [
    "SOGtmaskPath='../../save/SOGtmask.pkl'\n",
    "(tmaskSOG,ig0,ig1,jg0,jg1)=pickle.load(open(SOGtmaskPath,'rb'))"
   ]
  },
  {
   "cell_type": "code",
   "execution_count": 3,
   "metadata": {},
   "outputs": [
    {
     "data": {
      "text/plain": [
       "((1, 40, 898, 398), 110)"
      ]
     },
     "execution_count": 3,
     "metadata": {},
     "output_type": "execute_result"
    }
   ],
   "source": [
    "tmaskSOG.shape,ig0"
   ]
  },
  {
   "cell_type": "code",
   "execution_count": 4,
   "metadata": {},
   "outputs": [],
   "source": [
    "SOGmask=tmaskSOG[:,:,jg0:jg1,ig0:ig1]\n",
    "with nc.Dataset('/ocean/eolson/MEOPAR/NEMO-forcing/grid/mesh_mask201702_noLPE.nc') as fm:\n",
    "    A=np.expand_dims(fm.variables['e1t'][:,jg0:jg1,ig0:ig1]*fm.variables['e2t'][:,jg0:jg1,ig0:ig1],0)"
   ]
  },
  {
   "cell_type": "code",
   "execution_count": 5,
   "metadata": {},
   "outputs": [
    {
     "data": {
      "text/plain": [
       "(1, 1, 515, 288)"
      ]
     },
     "execution_count": 5,
     "metadata": {},
     "output_type": "execute_result"
    }
   ],
   "source": [
    "np.shape(A)"
   ]
  },
  {
   "cell_type": "code",
   "execution_count": 6,
   "metadata": {},
   "outputs": [],
   "source": [
    "t0=dt.datetime(2015,1,1) # originally 5/15-8/15,  but changed to even number of fortnights (6, end is included)\n",
    "te=dt.datetime(2015,1,5)\n",
    "mod_basedir='/data/eolson/results/MEOPAR/SS36runs/linkHC201812/'\n",
    "mod_nam_fmt='nowcast'\n",
    "mod_flen=1\n",
    "saveloc='../../save/'\n",
    "fver='HC201812'\n",
    "fformat0='%Y%m%d'"
   ]
  },
  {
   "cell_type": "code",
   "execution_count": 7,
   "metadata": {},
   "outputs": [
    {
     "name": "stdout",
     "output_type": "stream",
     "text": [
      "ftype=prod_T, are you sure? (if yes, add to list)\n"
     ]
    }
   ],
   "source": [
    "fliste3t=et.index_model_files(t0,te,mod_basedir,mod_nam_fmt,mod_flen,'carp_T',1)\n",
    "flistPP=et.index_model_files(t0,te,mod_basedir,mod_nam_fmt,mod_flen,'prod_T',1)\n",
    "flistB=et.index_model_files(t0,te,mod_basedir,mod_nam_fmt,mod_flen,'ptrc_T',1)\n",
    "flistT=et.index_model_files(t0,te,mod_basedir,mod_nam_fmt,mod_flen,'grid_T',1)"
   ]
  },
  {
   "cell_type": "code",
   "execution_count": 8,
   "metadata": {},
   "outputs": [],
   "source": [
    "content=dict()\n",
    "tr={'NO3':'nitrate', 'NH4':'ammonium', 'SIL':'silicon', 'DIAT':'diatoms', \n",
    "    'FLAG':'flagellates', 'MRUB':'ciliates', 'MICZ':'microzooplankton', \n",
    "    'DON':'dissolved_organic_nitrogen', 'PON':'particulate_organic_nitrogen', \n",
    "    'BSI':'biogenic_silicon'}\n",
    "for el in tr.keys():\n",
    "    content[el]=np.empty((int((te-t0).days+1),))\n",
    "rates=dict()\n",
    "for el in ('PP','NPP','NHtoNO','PPDIAT','SIDIS'):\n",
    "    rates[el]=np.empty((int((te-t0).days+1),))"
   ]
  },
  {
   "cell_type": "code",
   "execution_count": 9,
   "metadata": {},
   "outputs": [],
   "source": [
    "# PP=PPPHY+PPDIAT+PPMRUB\n",
    "# NPP=PPPHYNO3+PPDIATNO3+PPMRUBNO3\n",
    "# NHtoNO=zz_remin_NH*ammonium^2*TQ10\n",
    "# SIDIS=zz_remin_D_bSi * bSi * TQ10\n",
    "zz_remin_NH = 4.0e-7\n",
    "zz_remin_D_bSi = 2.78e-6\n",
    "\n",
    "SOGmask24=np.tile(SOGmask,(24,1,1,1))"
   ]
  },
  {
   "cell_type": "code",
   "execution_count": 10,
   "metadata": {},
   "outputs": [
    {
     "name": "stdout",
     "output_type": "stream",
     "text": [
      "0 2020-02-12 13:11:18.241033\n",
      "1 2020-02-12 13:12:46.415543\n",
      "2 2020-02-12 13:14:18.054411\n",
      "3 2020-02-12 13:15:50.454404\n",
      "4 2020-02-12 13:17:22.682919\n"
     ]
    }
   ],
   "source": [
    "times=[t0+dt.timedelta(days=ii) for ii in range(0,int((te-t0).total_seconds()/3600/24)+1)]\n",
    "## calculations\n",
    "for iif in range(0,len(flistPP)):\n",
    "    print(iif,dt.datetime.now())\n",
    "    li0=iif*mod_flen\n",
    "    li1=(iif+1)*mod_flen\n",
    "    with nc.Dataset(flistPP.loc[iif,['paths']].values[0]) as fPP, \\\n",
    "          nc.Dataset(flistT.loc[iif,['paths']].values[0]) as fT, \\\n",
    "           nc.Dataset(flistB.loc[iif,['paths']].values[0]) as fB, \\\n",
    "            nc.Dataset(fliste3t.loc[iif,['paths']].values[0]) as fe3t:\n",
    "        # content\n",
    "        for ili0 in range(0,mod_flen): # mod_flen is number of days in file\n",
    "            for el in tr.keys():\n",
    "                content[el][ili0+li0]=np.sum(1e-3*SOGmask*fB.variables[tr[el]][0,:,jg0:jg1,ig0:ig1]\\\n",
    "                                        *A*fe3t.variables['e3t'][0,:,jg0:jg1,ig0:ig1])\n",
    "                # mol/mmol * mmol/m3*A*e3t = mol\n",
    "            # rates\n",
    "            rates['PP'][ili0+li0]=np.sum(1e-3*3600*SOGmask*(\\\n",
    "                                           fPP.variables['PPDIAT'][ili0*24:(ili0+1)*24,:,jg0:jg1,ig0:ig1]+\\\n",
    "                                           fPP.variables['PPPHY'][ili0*24:(ili0+1)*24,:,jg0:jg1,ig0:ig1]+\\\n",
    "                                           fPP.variables['PPMRUB'][ili0*24:(ili0+1)*24,:,jg0:jg1,ig0:ig1])*\\\n",
    "                                 A*fe3t.variables['e3t'][ili0*24:(ili0+1)*24,:,jg0:jg1,ig0:ig1])\n",
    "                # mmol/m3/s *m3 * 3600 s/hr * 1e-3 mol/mmol = mol/hr, per hour, then summed over 24 hrs = mol/day\n",
    "            rates['NPP'][ili0+li0]=np.sum(1e-3*3600*SOGmask*(\\\n",
    "                                           fPP.variables['PPDIATNO3'][ili0*24:(ili0+1)*24,:,jg0:jg1,ig0:ig1]+\\\n",
    "                                           fPP.variables['PPPHYNO3'][ili0*24:(ili0+1)*24,:,jg0:jg1,ig0:ig1]+\\\n",
    "                                           fPP.variables['PPMRUBNO3'][ili0*24:(ili0+1)*24,:,jg0:jg1,ig0:ig1])*\\\n",
    "                                 A*fe3t.variables['e3t'][ili0*24:(ili0+1)*24,:,jg0:jg1,ig0:ig1])\n",
    "            rates['PPDIAT'][ili0+li0]=np.sum(1e-3*3600*SOGmask*(fPP.variables['PPDIAT'][ili0*24:(ili0+1)*24,:,jg0:jg1,ig0:ig1])*\\\n",
    "                                 A*fe3t.variables['e3t'][ili0*24:(ili0+1)*24,:,jg0:jg1,ig0:ig1])\n",
    "            TQ10=np.where(SOGmask24==1,\n",
    "                 np.exp(0.07*(fT.variables['votemper'][ili0*24:(ili0+1)*24,:,jg0:jg1,ig0:ig1]-20.0)),0)\n",
    "            rates['NHtoNO'][ili0+li0]=np.sum(1e-3*3600*SOGmask*zz_remin_NH*\\\n",
    "                                        fB.variables['ammonium'][ili0*24:(ili0+1)*24,:,jg0:jg1,ig0:ig1]*\\\n",
    "                                        fB.variables['ammonium'][ili0*24:(ili0+1)*24,:,jg0:jg1,ig0:ig1]*\\\n",
    "                                 TQ10*A*fe3t.variables['e3t'][ili0*24:(ili0+1)*24,:,jg0:jg1,ig0:ig1])\n",
    "            rates['SIDIS'][ili0+li0]=np.sum(1e-3*3600*SOGmask*zz_remin_D_bSi*\\\n",
    "                                        fB.variables['biogenic_silicon'][ili0*24:(ili0+1)*24,:,jg0:jg1,ig0:ig1]*\\\n",
    "                                TQ10*A*fe3t.variables['e3t'][ili0*24:(ili0+1)*24,:,jg0:jg1,ig0:ig1])"
   ]
  },
  {
   "cell_type": "code",
   "execution_count": 11,
   "metadata": {},
   "outputs": [],
   "source": [
    "times=np.array(times)\n",
    "contentPath='../../save/SOGcontent'+t0.strftime(fformat0)+'-'+te.strftime(fformat0)+'.pkl'\n",
    "pickle.dump((times,content),open(contentPath,'wb'))\n",
    "ratesPath='../../save/SOGrates'+t0.strftime(fformat0)+'-'+te.strftime(fformat0)+'.pkl'\n",
    "pickle.dump((times,rates),open(ratesPath,'wb'))"
   ]
  },
  {
   "cell_type": "code",
   "execution_count": 19,
   "metadata": {},
   "outputs": [],
   "source": [
    "(timesA,rates)=pickle.load(open(ratesPath,'rb'))\n",
    "(times,content)=pickle.load(open(contentPath,'rb'))"
   ]
  },
  {
   "cell_type": "code",
   "execution_count": 27,
   "metadata": {},
   "outputs": [
    {
     "data": {
      "image/png": "[encoded data removed]",
      "text/plain": [
       "<Figure size 432x288 with 1 Axes>"
      ]
     },
     "metadata": {
      "needs_background": "light"
     },
     "output_type": "display_data"
    }
   ],
   "source": [
    "for el in rates.keys():\n",
    "    plt.plot(timesA,rates[el][:5])"
   ]
  },
  {
   "cell_type": "code",
   "execution_count": 29,
   "metadata": {},
   "outputs": [
    {
     "name": "stdout",
     "output_type": "stream",
     "text": [
      "[3.66657808e+10 3.67563869e+10 3.68437286e+10 3.68765566e+10\n",
      " 3.69371952e+10]\n",
      "[1.11480098e+09 1.11210312e+09 1.11023965e+09 1.10559702e+09\n",
      " 1.10232632e+09]\n",
      "[7.16401390e+10 7.18404396e+10 7.20112704e+10 7.20687349e+10\n",
      " 7.21448746e+10]\n",
      "[13398232.71706701 13347117.69293735 12715854.41707197 12339108.54861993\n",
      " 11630250.2813882 ]\n",
      "[2.43473330e+08 2.48330578e+08 2.44684491e+08 2.43197049e+08\n",
      " 2.34358721e+08]\n",
      "[80939882.4534958  82019251.39707573 80510702.56817044 79562506.77980176\n",
      " 76835027.17489038]\n",
      "[54195115.76699852 55045419.20023029 55897610.9352733  56365079.61312178\n",
      " 56328449.05589004]\n",
      "[85989138.78245701 88426452.25394607 90577480.48418468 91454910.92959091\n",
      " 91174487.68521976]\n",
      "[58088534.71748766 59984864.06574098 61669469.12402693 62378062.80372354\n",
      " 62515022.87584005]\n",
      "[11041033.89029182 11090982.42718662 11111335.2577212  10904132.01293439\n",
      " 10638671.12476308]\n"
     ]
    }
   ],
   "source": [
    "for el in content.keys():\n",
    "    print(content[el][:5])"
   ]
  },
  {
   "cell_type": "code",
   "execution_count": 24,
   "metadata": {},
   "outputs": [
    {
     "data": {
      "text/plain": [
       "dict_keys(['PP', 'NPP', 'NHtoNO', 'PPDIAT', 'SIDIS'])"
      ]
     },
     "execution_count": 24,
     "metadata": {},
     "output_type": "execute_result"
    }
   ],
   "source": [
    "rates.keys()"
   ]
  },
  {
   "cell_type": "code",
   "execution_count": 25,
   "metadata": {},
   "outputs": [
    {
     "data": {
      "text/plain": [
       "dict_keys(['NO3', 'NH4', 'SIL', 'DIAT', 'FLAG', 'MRUB', 'MICZ', 'DON', 'PON', 'BSI'])"
      ]
     },
     "execution_count": 25,
     "metadata": {},
     "output_type": "execute_result"
    }
   ],
   "source": [
    "content.keys()"
   ]
  },
  {
   "cell_type": "code",
   "execution_count": null,
   "metadata": {},
   "outputs": [],
   "source": []
  }
 ],
 "metadata": {
  "anaconda-cloud": {},
  "kernelspec": {
   "display_name": "Python (py38)",
   "language": "python",
   "name": "py38"
  },
  "language_info": {
   "codemirror_mode": {
    "name": "ipython",
    "version": 3
   },
   "file_extension": ".py",
   "mimetype": "text/x-python",
   "name": "python",
   "nbconvert_exporter": "python",
   "pygments_lexer": "ipython3",
   "version": "3.8.1"
  }
 },
 "nbformat": 4,
 "nbformat_minor": 1
}
