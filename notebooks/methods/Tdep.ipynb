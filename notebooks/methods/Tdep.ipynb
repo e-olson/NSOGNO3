{
 "cells": [
  {
   "cell_type": "code",
   "execution_count": 1,
   "metadata": {
    "collapsed": false
   },
   "outputs": [
    {
     "name": "stderr",
     "output_type": "stream",
     "text": [
      "/home/eolson/anaconda3/lib/python3.5/site-packages/matplotlib/font_manager.py:273: UserWarning: Matplotlib is building the font cache using fc-list. This may take a moment.\n",
      "  warnings.warn('Matplotlib is building the font cache using fc-list. This may take a moment.')\n",
      "/home/eolson/anaconda3/lib/python3.5/site-packages/matplotlib/font_manager.py:273: UserWarning: Matplotlib is building the font cache using fc-list. This may take a moment.\n",
      "  warnings.warn('Matplotlib is building the font cache using fc-list. This may take a moment.')\n"
     ]
    }
   ],
   "source": [
    "import numpy as np\n",
    "from matplotlib import pyplot as plt\n",
    "import matplotlib as mpl\n",
    "import datetime as dt\n",
    "mpl.rc('xtick', labelsize=10)\n",
    "mpl.rc('ytick', labelsize=10)\n",
    "mpl.rc('legend', fontsize=10)\n",
    "mpl.rc('axes', titlesize=10)\n",
    "mpl.rc('axes', labelsize=10)\n",
    "mpl.rc('figure', titlesize=10)\n",
    "mpl.rc('font', size=10)\n",
    "%matplotlib inline"
   ]
  },
  {
   "cell_type": "markdown",
   "metadata": {},
   "source": [
    "## Temperature Response - Phyto Growth"
   ]
  },
  {
   "cell_type": "code",
   "execution_count": 2,
   "metadata": {
    "collapsed": true
   },
   "outputs": [],
   "source": [
    "T=np.arange(-5,100,.1)"
   ]
  },
  {
   "cell_type": "code",
   "execution_count": 3,
   "metadata": {
    "collapsed": false
   },
   "outputs": [
    {
     "data": {
      "image/png": "[encoded data removed]",
      "text/plain": [
       "<matplotlib.figure.Figure at 0x7fcdcb557668>"
      ]
     },
     "metadata": {},
     "output_type": "display_data"
    }
   ],
   "source": [
    "#R3: match Khangaonkar max temps for diatoms (12 C) and dinoflagellates (18 C):\n",
    "fig,ax=plt.subplots(1,1,figsize=(3,2.3))\n",
    "tr1=14 # 12 C\n",
    "tr2=13 # 18 C\n",
    "tm1=26 \n",
    "tm2=31\n",
    "R=[1.0*np.exp(0.07 * (TT - 20)) * min(max((35 - TT), 0.0),5) / (5) for TT in T]\n",
    "R3_1=[1.0*np.exp(0.07 * (TT - 20)) * min(max((tm1 - TT), 0.0),tr1) / (tr1) for TT in T]\n",
    "R3_2=[1.0*np.exp(0.07 * (TT - 20)) * min(max((tm2 - TT), 0.0),tr2) / (tr2) for TT in T]\n",
    "ax.plot(T,R,'k:',label='1-d model')\n",
    "ax.plot(T,R3_1,'k-',label='diatoms')\n",
    "ax.plot(T,R3_2,'k--',label='flagellates')\n",
    "#plt.legend()\n",
    "ii1=np.argmax(R3_1)\n",
    "ii2=np.argmax(R3_2)\n",
    "#print(T[ii1],T[ii2])\n",
    "ax.set_ylabel('f($\\Theta$)')\n",
    "ax.set_xlabel('$\\Theta$ ($^\\circ$C)')\n",
    "ax.set_xlim(-.5,40)\n",
    "ax.set_ylim(0,2.2)\n",
    "disx=27\n",
    "# 1d annot:\n",
    "disy=1.0*np.exp(0.07 * (disx - 20)) * min(max((35 - disx), 0.0),5) / 5\n",
    "ax.annotate('1-d model', xy=(disx, disy), xytext=(disx-7, disy),color='k',\n",
    "            arrowprops=dict(color='k',width=.5,headwidth=5,headlength=6),fontsize=10,\n",
    "             horizontalalignment='right',verticalalignment='center')\n",
    "# flagellates annot:\n",
    "disx=16\n",
    "disy=1.0*np.exp(0.07 * (disx - 20)) * min(max((tm2 - disx), 0.0),tr2) / (tr2)\n",
    "ax.annotate('', xy=(disx, disy), xytext=(disx-5, disy+.3),color='k',\n",
    "             horizontalalignment='center',verticalalignment='center',\n",
    "            arrowprops=dict(color='k',width=.5,headwidth=5,headlength=6),fontsize=12)\n",
    "ax.annotate('flagellates', xy=(disx-5, disy+.4), xytext=(disx-5, disy+.4),color='k',\n",
    "             horizontalalignment='center',verticalalignment='center',fontsize=10)\n",
    "# diatoms annot:\n",
    "disx=20\n",
    "disy=1.0*np.exp(0.07 * (disx - 20)) * min(max((tm1 - disx), 0.0),tr1) / tr1\n",
    "ax.annotate('diatoms', xy=(disx, disy), xytext=(disx-4, disy-.22),color='k',\n",
    "            arrowprops=dict(color='k',width=.5,headwidth=5,headlength=6),fontsize=10,\n",
    "             horizontalalignment='right',verticalalignment='center')\n",
    "l, b, w, h = ax.get_position().bounds\n",
    "ax.set_position([l+.08*w, b+.08*h, w*.98, h*.97])\n",
    "fig.savefig('/data/eolson/results/MEOPAR/biomodelevalpaper/figsMod/Tdep.eps',dpi=200,transparent=True)"
   ]
  },
  {
   "cell_type": "code",
   "execution_count": null,
   "metadata": {
    "collapsed": true
   },
   "outputs": [],
   "source": []
  }
 ],
 "metadata": {
  "anaconda-cloud": {},
  "kernelspec": {
   "display_name": "Python [default]",
   "language": "python",
   "name": "python3"
  },
  "language_info": {
   "codemirror_mode": {
    "name": "ipython",
    "version": 3
   },
   "file_extension": ".py",
   "mimetype": "text/x-python",
   "name": "python",
   "nbconvert_exporter": "python",
   "pygments_lexer": "ipython3",
   "version": "3.5.2"
  }
 },
 "nbformat": 4,
 "nbformat_minor": 1
}
