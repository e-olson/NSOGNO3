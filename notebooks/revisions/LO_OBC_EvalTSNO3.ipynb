{
 "cells": [
  {
   "cell_type": "markdown",
   "metadata": {},
   "source": [
    "## DFO Nutrient Comparison"
   ]
  },
  {
   "cell_type": "code",
   "execution_count": 1,
   "metadata": {},
   "outputs": [],
   "source": [
    "import numpy as np\n",
    "import matplotlib.pyplot as plt\n",
    "import os\n",
    "from os.path import isfile\n",
    "import pandas as pd\n",
    "import netCDF4 as nc\n",
    "import datetime as dt\n",
    "from salishsea_tools import evaltools as et, viz_tools,geo_tools\n",
    "import datetime\n",
    "import glob\n",
    "import gsw\n",
    "import scipy.optimize as scopt\n",
    "import matplotlib.gridspec as gridspec\n",
    "import matplotlib as mpl\n",
    "fs=8\n",
    "mpl.rc('xtick', labelsize=fs)\n",
    "mpl.rc('ytick', labelsize=fs)\n",
    "mpl.rc('legend', fontsize=fs)\n",
    "mpl.rc('axes', titlesize=fs)\n",
    "mpl.rc('axes', labelsize=fs)\n",
    "mpl.rc('figure', titlesize=fs)\n",
    "mpl.rc('font', size=fs)\n",
    "mpl.rc('text', usetex=True)\n",
    "mpl.rc('text.latex', preamble = r'''\n",
    " \\usepackage{txfonts}\n",
    " \\usepackage{lmodern}\n",
    " ''')\n",
    "mpl.rc('font', family='sans-serif', weight='normal', style='normal')\n",
    "%matplotlib inline"
   ]
  },
  {
   "cell_type": "code",
   "execution_count": 2,
   "metadata": {
    "scrolled": true
   },
   "outputs": [
    {
     "data": {
      "text/html": [
       "<div>\n",
       "<style scoped>\n",
       "    .dataframe tbody tr th:only-of-type {\n",
       "        vertical-align: middle;\n",
       "    }\n",
       "\n",
       "    .dataframe tbody tr th {\n",
       "        vertical-align: top;\n",
       "    }\n",
       "\n",
       "    .dataframe thead th {\n",
       "        text-align: right;\n",
       "    }\n",
       "</style>\n",
       "<table border=\"1\" class=\"dataframe\">\n",
       "  <thead>\n",
       "    <tr style=\"text-align: right;\">\n",
       "      <th></th>\n",
       "      <th>Year</th>\n",
       "      <th>Month</th>\n",
       "      <th>Day</th>\n",
       "      <th>Hour</th>\n",
       "      <th>Lat</th>\n",
       "      <th>Lon</th>\n",
       "      <th>Z</th>\n",
       "      <th>SA</th>\n",
       "      <th>CT</th>\n",
       "      <th>dtUTC</th>\n",
       "    </tr>\n",
       "  </thead>\n",
       "  <tbody>\n",
       "    <tr>\n",
       "      <th>0</th>\n",
       "      <td>2015.0</td>\n",
       "      <td>2.0</td>\n",
       "      <td>11.0</td>\n",
       "      <td>5.296111</td>\n",
       "      <td>48.613333</td>\n",
       "      <td>-123.243833</td>\n",
       "      <td>1.983099</td>\n",
       "      <td>29.849611</td>\n",
       "      <td>8.942753</td>\n",
       "      <td>2015-02-11 05:17:46</td>\n",
       "    </tr>\n",
       "    <tr>\n",
       "      <th>1</th>\n",
       "      <td>2015.0</td>\n",
       "      <td>2.0</td>\n",
       "      <td>11.0</td>\n",
       "      <td>5.296111</td>\n",
       "      <td>48.613333</td>\n",
       "      <td>-123.243833</td>\n",
       "      <td>2.974641</td>\n",
       "      <td>29.852177</td>\n",
       "      <td>8.942511</td>\n",
       "      <td>2015-02-11 05:17:46</td>\n",
       "    </tr>\n",
       "    <tr>\n",
       "      <th>2</th>\n",
       "      <td>2015.0</td>\n",
       "      <td>2.0</td>\n",
       "      <td>11.0</td>\n",
       "      <td>5.296111</td>\n",
       "      <td>48.613333</td>\n",
       "      <td>-123.243833</td>\n",
       "      <td>3.966178</td>\n",
       "      <td>29.869012</td>\n",
       "      <td>8.941135</td>\n",
       "      <td>2015-02-11 05:17:46</td>\n",
       "    </tr>\n",
       "    <tr>\n",
       "      <th>3</th>\n",
       "      <td>2015.0</td>\n",
       "      <td>2.0</td>\n",
       "      <td>11.0</td>\n",
       "      <td>5.296111</td>\n",
       "      <td>48.613333</td>\n",
       "      <td>-123.243833</td>\n",
       "      <td>4.957711</td>\n",
       "      <td>29.915690</td>\n",
       "      <td>8.936661</td>\n",
       "      <td>2015-02-11 05:17:46</td>\n",
       "    </tr>\n",
       "    <tr>\n",
       "      <th>4</th>\n",
       "      <td>2015.0</td>\n",
       "      <td>2.0</td>\n",
       "      <td>11.0</td>\n",
       "      <td>5.296111</td>\n",
       "      <td>48.613333</td>\n",
       "      <td>-123.243833</td>\n",
       "      <td>5.949239</td>\n",
       "      <td>29.913935</td>\n",
       "      <td>8.936489</td>\n",
       "      <td>2015-02-11 05:17:46</td>\n",
       "    </tr>\n",
       "  </tbody>\n",
       "</table>\n",
       "</div>"
      ],
      "text/plain": [
       "     Year  Month   Day      Hour        Lat         Lon         Z         SA  \\\n",
       "0  2015.0    2.0  11.0  5.296111  48.613333 -123.243833  1.983099  29.849611   \n",
       "1  2015.0    2.0  11.0  5.296111  48.613333 -123.243833  2.974641  29.852177   \n",
       "2  2015.0    2.0  11.0  5.296111  48.613333 -123.243833  3.966178  29.869012   \n",
       "3  2015.0    2.0  11.0  5.296111  48.613333 -123.243833  4.957711  29.915690   \n",
       "4  2015.0    2.0  11.0  5.296111  48.613333 -123.243833  5.949239  29.913935   \n",
       "\n",
       "         CT               dtUTC  \n",
       "0  8.942753 2015-02-11 05:17:46  \n",
       "1  8.942511 2015-02-11 05:17:46  \n",
       "2  8.941135 2015-02-11 05:17:46  \n",
       "3  8.936661 2015-02-11 05:17:46  \n",
       "4  8.936489 2015-02-11 05:17:46  "
      ]
     },
     "execution_count": 2,
     "metadata": {},
     "output_type": "execute_result"
    }
   ],
   "source": [
    "PATH= '/data/eolson/MEOPAR/SS36runs/linkHC201812/'\n",
    "start_date = datetime.datetime(2015,1,1)\n",
    "end_date = datetime.datetime(2018,12,31)\n",
    "flen=1\n",
    "namfmt='nowcast'\n",
    "#varmap={'N':'nitrate','Si':'silicon','Ammonium':'ammonium'}\n",
    "filemap={'votemper':'grid_T','vosaline':'grid_T'}\n",
    "#gridmap={'nitrate':'tmask','silicon':'tmask','ammonium':'tmask'}\n",
    "fdict={'ptrc_T':1,'grid_T':1}\n",
    "\n",
    "df1=et.loadDFOCTD(datelims=(dt.datetime(2015,1,1),dt.datetime(2019,1,1)))\n",
    "df1.head()"
   ]
  },
  {
   "cell_type": "code",
   "execution_count": 3,
   "metadata": {},
   "outputs": [
    {
     "data": {
      "text/plain": [
       "[<matplotlib.lines.Line2D at 0x7fb1db237b80>]"
      ]
     },
     "execution_count": 3,
     "metadata": {},
     "output_type": "execute_result"
    },
    {
     "data": {
      "image/png": "[encoded data removed]",
      "text/plain": [
       "<Figure size 432x288 with 1 Axes>"
      ]
     },
     "metadata": {
      "needs_background": "light"
     },
     "output_type": "display_data"
    }
   ],
   "source": [
    "df2=df1.loc[(df1.Lat<48.6)&(df1.Lon<-124.6)]\n",
    "plt.plot(df1.Lon,df1.Lat,'k.')\n",
    "plt.plot(df2.Lon,df2.Lat,'r.')"
   ]
  },
  {
   "cell_type": "code",
   "execution_count": 4,
   "metadata": {},
   "outputs": [],
   "source": [
    "filemapN={'nitrate':'ptrc_T','vosaline':'grid_T','votemper':'grid_T'}\n",
    "fdictN={'ptrc_T':1,'grid_T':1}\n",
    "dfN1=et.loadDFO()"
   ]
  },
  {
   "cell_type": "code",
   "execution_count": 5,
   "metadata": {},
   "outputs": [
    {
     "data": {
      "text/plain": [
       "[<matplotlib.lines.Line2D at 0x7fb1e7fead90>]"
      ]
     },
     "execution_count": 5,
     "metadata": {},
     "output_type": "execute_result"
    },
    {
     "data": {
      "image/png": "[encoded data removed]",
      "text/plain": [
       "<Figure size 432x288 with 1 Axes>"
      ]
     },
     "metadata": {
      "needs_background": "light"
     },
     "output_type": "display_data"
    }
   ],
   "source": [
    "dfN2=dfN1.loc[(dfN1.Lat<48.6)&(dfN1.Lon<-124.6)]\n",
    "plt.plot(dfN1.Lon,dfN1.Lat,'k.')\n",
    "plt.plot(dfN2.Lon,dfN2.Lat,'r.')"
   ]
  },
  {
   "cell_type": "code",
   "execution_count": 6,
   "metadata": {},
   "outputs": [],
   "source": [
    "data=et.matchData(df2,filemap, fdict, start_date, end_date, namfmt, PATH, flen)"
   ]
  },
  {
   "cell_type": "code",
   "execution_count": 7,
   "metadata": {},
   "outputs": [],
   "source": [
    "dataN=et.matchData(dfN2,filemapN, fdictN, start_date, end_date, namfmt, PATH, flen)"
   ]
  },
  {
   "cell_type": "code",
   "execution_count": 8,
   "metadata": {},
   "outputs": [
    {
     "data": {
      "text/plain": [
       "(16, 7)"
      ]
     },
     "execution_count": 8,
     "metadata": {},
     "output_type": "execute_result"
    }
   ],
   "source": [
    "np.max(data['i']),np.min(data['i'])"
   ]
  },
  {
   "cell_type": "code",
   "execution_count": 9,
   "metadata": {},
   "outputs": [],
   "source": [
    "data['LOT']=np.zeros(np.shape(data['Lat']))\n",
    "data['LOS']=np.zeros(np.shape(data['Lat']))\n",
    "dataN['LON']=np.zeros(np.shape(dataN['Lat']))"
   ]
  },
  {
   "cell_type": "code",
   "execution_count": 10,
   "metadata": {},
   "outputs": [
    {
     "data": {
      "text/plain": [
       "dict_keys(['nav_lat', 'nav_lon', 'bounds_lon', 'bounds_lat', 'area', 'deptht', 'deptht_bounds', 'nitrate', 'time_centered', 'time_centered_bounds', 'time_counter', 'time_counter_bounds', 'ammonium', 'silicon', 'diatoms', 'flagellates', 'ciliates', 'microzooplankton', 'dissolved_organic_nitrogen', 'particulate_organic_nitrogen', 'biogenic_silicon', 'Fraser_tracer', 'mesozooplankton'])"
      ]
     },
     "execution_count": 10,
     "metadata": {},
     "output_type": "execute_result"
    }
   ],
   "source": [
    "zex=nc.Dataset('/data/eolson/results/MEOPAR/SS36runs/linkHC201812/05nov15/SalishSea_1d_20151105_20151105_ptrc_T.nc')\n",
    "zex.variables.keys()"
   ]
  },
  {
   "cell_type": "code",
   "execution_count": 11,
   "metadata": {},
   "outputs": [
    {
     "name": "stdout",
     "output_type": "stream",
     "text": [
      "dict_keys(['time_counter', 'deptht', 'yb', 'xbT', 'vosaline', 'votemper', 'NO3', 'Si', 'OXY', 'DIC', 'TA'])\n",
      "<class 'netCDF4._netCDF4.Variable'>\n",
      "int64 xbT(xbT)\n",
      "unlimited dimensions: \n",
      "current shape = (950,)\n",
      "filling on, default _FillValue of -9223372036854775806 used\n"
     ]
    }
   ],
   "source": [
    "f=nc.Dataset('/results/forcing/LiveOcean/boundary_conditions/LiveOcean_v201712_y2015m06d05.nc')\n",
    "print(f.variables.keys())\n",
    "print(f.variables['xbT'])\n",
    "f.close()"
   ]
  },
  {
   "cell_type": "code",
   "execution_count": 12,
   "metadata": {},
   "outputs": [],
   "source": [
    "mesh=nc.Dataset('/ocean/eolson/MEOPAR/NEMO-forcing/grid/mesh_mask201702_noLPE.nc')\n",
    "tmask=np.copy(mesh.variables['tmask'][0,:,:,:])\n",
    "mesh.close()"
   ]
  },
  {
   "cell_type": "code",
   "execution_count": 13,
   "metadata": {},
   "outputs": [
    {
     "data": {
      "text/plain": [
       "95"
      ]
     },
     "execution_count": 13,
     "metadata": {},
     "output_type": "execute_result"
    }
   ],
   "source": [
    "len(tmask[0,376:471,1])"
   ]
  },
  {
   "cell_type": "code",
   "execution_count": 14,
   "metadata": {},
   "outputs": [
    {
     "data": {
      "text/plain": [
       "masked_array(data=[0.e+00, 0.e+00, 0.e+00, 0.e+00, 0.e+00, 0.e+00, 0.e+00,\n",
       "                   0.e+00, 0.e+00, 0.e+00, 0.e+00, 0.e+00, 0.e+00, 1.e-08,\n",
       "                   1.e-08, 1.e-08, 1.e-08, 1.e-08, 1.e-08, 1.e-08, 1.e-08,\n",
       "                   1.e-08, 1.e-08, 1.e-08, 1.e-08, 1.e-08, 1.e-08, 1.e-08,\n",
       "                   1.e-08, 1.e-08, 1.e-08, 1.e-08, 1.e-08, 1.e-08, 1.e-08,\n",
       "                   1.e-08, 1.e-08, 1.e-08, 1.e-08, 1.e-08, 1.e-08, 1.e-08,\n",
       "                   1.e-08, 1.e-08, 1.e-08, 1.e-08, 1.e-08, 1.e-08, 1.e-08,\n",
       "                   1.e-08, 1.e-08, 1.e-08, 1.e-08, 1.e-08, 1.e-08, 1.e-08,\n",
       "                   1.e-08, 1.e-08, 1.e-08, 1.e-08, 1.e-08, 1.e-08, 1.e-08,\n",
       "                   1.e-08, 1.e-08, 1.e-08, 1.e-08, 1.e-08, 1.e-08, 1.e-08,\n",
       "                   1.e-08, 1.e-08, 1.e-08, 1.e-08, 1.e-08, 1.e-08, 1.e-08,\n",
       "                   1.e-08, 1.e-08, 1.e-08, 1.e-08, 1.e-08, 1.e-08, 1.e-08,\n",
       "                   1.e-08, 1.e-08, 1.e-08, 1.e-08, 1.e-08, 1.e-08, 0.e+00,\n",
       "                   0.e+00, 0.e+00, 0.e+00, 0.e+00],\n",
       "             mask=False,\n",
       "       fill_value=1e+20,\n",
       "            dtype=float32)"
      ]
     },
     "execution_count": 14,
     "metadata": {},
     "output_type": "execute_result"
    }
   ],
   "source": [
    "zex.variables['diatoms'][0,0,376:471,1]"
   ]
  },
  {
   "cell_type": "code",
   "execution_count": 15,
   "metadata": {},
   "outputs": [
    {
     "name": "stdout",
     "output_type": "stream",
     "text": [
      "0 11.292802036348784 28.403126022029856\n",
      "1 11.309100911788189 28.42112210812418\n",
      "2 11.323397671990476 28.468427137286234\n",
      "3 11.322674232939876 28.544871954760772\n",
      "4 11.31066803655307 28.644785523678088\n",
      "5 11.268476092658872 28.775684788519683\n",
      "6 11.223672406966093 28.909666451931592\n",
      "7 11.153274227048287 29.06574562115335\n",
      "8 11.081955298267932 29.222080920609233\n",
      "9 11.005842331606775 29.38181993911784\n"
     ]
    }
   ],
   "source": [
    "#'/results/forcing/LiveOcean/boundary_conditions/LiveOcean_v201712_y2016m09d26.nc'\n",
    "for i,r in data.iterrows():\n",
    "    stencil='/results/forcing/LiveOcean/boundary_conditions/LiveOcean_v201712_{}.nc'\n",
    "    try:\n",
    "        file=glob.glob(stencil.format(r['dtUTC'].strftime('y%Ym%md%d')))[0]\n",
    "\n",
    "    except:\n",
    "        print('file does not exist:  '+stencil.format(r['dtUTC'].strftime('y%Ym%md%d')))\n",
    "        raise\n",
    "    k=et._getZInd_bin(r['Z'],zex)\n",
    "    boundlats=zex.variables['nav_lat'][376:471,0:2]*tmask[k,376:471,0:2]\n",
    "    boundlons=zex.variables['nav_lon'][376:471,0:2]*tmask[k,376:471,0:2]\n",
    "    j,ix=geo_tools.find_closest_model_point(r['Lon'],r['Lat'],boundlons,boundlats,grid='BC',\n",
    "                                         tols={'BC':{'tol_lon':.1,'tol_lat':.1}});\n",
    "    with nc.Dataset(file) as f:\n",
    "        nT=f.variables['votemper'][0,k,0,j]\n",
    "        nS=f.variables['vosaline'][0,k,0,j]\n",
    "        if i<10:\n",
    "            print(i,nT,nS)\n",
    "    data.loc[i,['LOT']]=nT\n",
    "    data.loc[i,['LOS']]=nS"
   ]
  },
  {
   "cell_type": "code",
   "execution_count": 16,
   "metadata": {},
   "outputs": [
    {
     "name": "stdout",
     "output_type": "stream",
     "text": [
      "0 6.744222258917862 33.91430947653862\n",
      "1 6.744222258917862 33.91430947653862\n",
      "2 6.744222258917862 33.91430947653862\n",
      "3 6.744222258917862 33.91430947653862\n",
      "4 6.744222258917862 33.91430947653862\n",
      "5 6.744222258917862 33.91430947653862\n",
      "6 6.744222258917862 33.91430947653862\n",
      "7 6.744222258917862 33.91430947653862\n",
      "8 6.744222258917862 33.91430947653862\n",
      "9 6.744222258917862 33.91430947653862\n"
     ]
    }
   ],
   "source": [
    "for i,r in dataN.iterrows():\n",
    "    stencil='/results/forcing/LiveOcean/boundary_conditions/LiveOcean_v201712_{}.nc'\n",
    "    try:\n",
    "        file=glob.glob(stencil.format(r['dtUTC'].strftime('y%Ym%md%d')))[0]\n",
    "\n",
    "    except:\n",
    "        print('file does not exist:  '+stencil.format(r['dtUTC'].strftime('y%Ym%md%d')))\n",
    "        raise\n",
    "    k=et._getZInd_bin(r['Z'],zex)\n",
    "    boundlats=zex.variables['nav_lat'][376:471,0:2]*tmask[k,376:471,0:2]\n",
    "    boundlons=zex.variables['nav_lon'][376:471,0:2]*tmask[k,376:471,0:2]\n",
    "    j,ix=geo_tools.find_closest_model_point(r['Lon'],r['Lat'],boundlons,boundlats,grid='BC',\n",
    "                                         tols={'BC':{'tol_lon':.1,'tol_lat':.1}});\n",
    "    with nc.Dataset(file) as f:\n",
    "        #nT=f.variables['votemper'][0,k,0,j]\n",
    "        #nS=f.variables['vosaline'][0,k,0,j]\n",
    "        nN=f.variables['NO3'][0,k,0,j]\n",
    "        if i<10:\n",
    "            print(i,nT,nS)\n",
    "    #dataN.loc[i,['LOT']]=nT\n",
    "    #dataN.loc[i,['LOS']]=nS\n",
    "    dataN.loc[i,['LON']]=nN"
   ]
  },
  {
   "cell_type": "code",
   "execution_count": 17,
   "metadata": {},
   "outputs": [
    {
     "data": {
      "text/html": [
       "<div>\n",
       "<style scoped>\n",
       "    .dataframe tbody tr th:only-of-type {\n",
       "        vertical-align: middle;\n",
       "    }\n",
       "\n",
       "    .dataframe tbody tr th {\n",
       "        vertical-align: top;\n",
       "    }\n",
       "\n",
       "    .dataframe thead th {\n",
       "        text-align: right;\n",
       "    }\n",
       "</style>\n",
       "<table border=\"1\" class=\"dataframe\">\n",
       "  <thead>\n",
       "    <tr style=\"text-align: right;\">\n",
       "      <th></th>\n",
       "      <th>Year</th>\n",
       "      <th>Month</th>\n",
       "      <th>Day</th>\n",
       "      <th>Hour</th>\n",
       "      <th>Lat</th>\n",
       "      <th>Lon</th>\n",
       "      <th>Pressure</th>\n",
       "      <th>Depth</th>\n",
       "      <th>Ammonium</th>\n",
       "      <th>Ammonium_units</th>\n",
       "      <th>...</th>\n",
       "      <th>ConsT</th>\n",
       "      <th>Z</th>\n",
       "      <th>dtUTC</th>\n",
       "      <th>j</th>\n",
       "      <th>i</th>\n",
       "      <th>mod_nitrate</th>\n",
       "      <th>mod_vosaline</th>\n",
       "      <th>mod_votemper</th>\n",
       "      <th>k</th>\n",
       "      <th>LON</th>\n",
       "    </tr>\n",
       "  </thead>\n",
       "  <tbody>\n",
       "    <tr>\n",
       "      <th>0</th>\n",
       "      <td>2015.0</td>\n",
       "      <td>4.0</td>\n",
       "      <td>2.0</td>\n",
       "      <td>15.396111</td>\n",
       "      <td>48.499833</td>\n",
       "      <td>-124.733167</td>\n",
       "      <td>1.6</td>\n",
       "      <td>NaN</td>\n",
       "      <td>NaN</td>\n",
       "      <td>None</td>\n",
       "      <td>...</td>\n",
       "      <td>10.547005</td>\n",
       "      <td>1.586497</td>\n",
       "      <td>2015-04-02 15:23:46</td>\n",
       "      <td>413</td>\n",
       "      <td>7</td>\n",
       "      <td>5.142227</td>\n",
       "      <td>28.772097</td>\n",
       "      <td>11.000047</td>\n",
       "      <td>1</td>\n",
       "      <td>2.893599</td>\n",
       "    </tr>\n",
       "    <tr>\n",
       "      <th>1</th>\n",
       "      <td>2015.0</td>\n",
       "      <td>4.0</td>\n",
       "      <td>2.0</td>\n",
       "      <td>15.396111</td>\n",
       "      <td>48.499833</td>\n",
       "      <td>-124.733167</td>\n",
       "      <td>5.9</td>\n",
       "      <td>NaN</td>\n",
       "      <td>NaN</td>\n",
       "      <td>None</td>\n",
       "      <td>...</td>\n",
       "      <td>10.533526</td>\n",
       "      <td>5.850147</td>\n",
       "      <td>2015-04-02 15:23:46</td>\n",
       "      <td>413</td>\n",
       "      <td>7</td>\n",
       "      <td>5.293305</td>\n",
       "      <td>28.810715</td>\n",
       "      <td>11.014296</td>\n",
       "      <td>5</td>\n",
       "      <td>4.134447</td>\n",
       "    </tr>\n",
       "    <tr>\n",
       "      <th>2</th>\n",
       "      <td>2015.0</td>\n",
       "      <td>4.0</td>\n",
       "      <td>2.0</td>\n",
       "      <td>15.396111</td>\n",
       "      <td>48.499833</td>\n",
       "      <td>-124.733167</td>\n",
       "      <td>12.1</td>\n",
       "      <td>NaN</td>\n",
       "      <td>NaN</td>\n",
       "      <td>None</td>\n",
       "      <td>...</td>\n",
       "      <td>10.288851</td>\n",
       "      <td>11.997578</td>\n",
       "      <td>2015-04-02 15:23:46</td>\n",
       "      <td>413</td>\n",
       "      <td>7</td>\n",
       "      <td>6.475900</td>\n",
       "      <td>29.178440</td>\n",
       "      <td>10.988969</td>\n",
       "      <td>11</td>\n",
       "      <td>8.204390</td>\n",
       "    </tr>\n",
       "    <tr>\n",
       "      <th>3</th>\n",
       "      <td>2015.0</td>\n",
       "      <td>4.0</td>\n",
       "      <td>2.0</td>\n",
       "      <td>15.396111</td>\n",
       "      <td>48.499833</td>\n",
       "      <td>-124.733167</td>\n",
       "      <td>21.2</td>\n",
       "      <td>NaN</td>\n",
       "      <td>NaN</td>\n",
       "      <td>None</td>\n",
       "      <td>...</td>\n",
       "      <td>9.419869</td>\n",
       "      <td>21.020086</td>\n",
       "      <td>2015-04-02 15:23:46</td>\n",
       "      <td>413</td>\n",
       "      <td>7</td>\n",
       "      <td>13.461176</td>\n",
       "      <td>30.565741</td>\n",
       "      <td>10.128565</td>\n",
       "      <td>19</td>\n",
       "      <td>16.502173</td>\n",
       "    </tr>\n",
       "    <tr>\n",
       "      <th>4</th>\n",
       "      <td>2015.0</td>\n",
       "      <td>4.0</td>\n",
       "      <td>2.0</td>\n",
       "      <td>15.396111</td>\n",
       "      <td>48.499833</td>\n",
       "      <td>-124.733167</td>\n",
       "      <td>31.0</td>\n",
       "      <td>NaN</td>\n",
       "      <td>NaN</td>\n",
       "      <td>None</td>\n",
       "      <td>...</td>\n",
       "      <td>9.192741</td>\n",
       "      <td>30.736187</td>\n",
       "      <td>2015-04-02 15:23:46</td>\n",
       "      <td>413</td>\n",
       "      <td>7</td>\n",
       "      <td>16.946976</td>\n",
       "      <td>31.144781</td>\n",
       "      <td>9.624642</td>\n",
       "      <td>21</td>\n",
       "      <td>17.403508</td>\n",
       "    </tr>\n",
       "  </tbody>\n",
       "</table>\n",
       "<p>5 rows × 26 columns</p>\n",
       "</div>"
      ],
      "text/plain": [
       "     Year  Month  Day       Hour        Lat         Lon  Pressure  Depth  \\\n",
       "0  2015.0    4.0  2.0  15.396111  48.499833 -124.733167       1.6    NaN   \n",
       "1  2015.0    4.0  2.0  15.396111  48.499833 -124.733167       5.9    NaN   \n",
       "2  2015.0    4.0  2.0  15.396111  48.499833 -124.733167      12.1    NaN   \n",
       "3  2015.0    4.0  2.0  15.396111  48.499833 -124.733167      21.2    NaN   \n",
       "4  2015.0    4.0  2.0  15.396111  48.499833 -124.733167      31.0    NaN   \n",
       "\n",
       "   Ammonium Ammonium_units  ...      ConsT          Z               dtUTC  \\\n",
       "0       NaN           None  ...  10.547005   1.586497 2015-04-02 15:23:46   \n",
       "1       NaN           None  ...  10.533526   5.850147 2015-04-02 15:23:46   \n",
       "2       NaN           None  ...  10.288851  11.997578 2015-04-02 15:23:46   \n",
       "3       NaN           None  ...   9.419869  21.020086 2015-04-02 15:23:46   \n",
       "4       NaN           None  ...   9.192741  30.736187 2015-04-02 15:23:46   \n",
       "\n",
       "     j  i  mod_nitrate  mod_vosaline  mod_votemper   k        LON  \n",
       "0  413  7     5.142227     28.772097     11.000047   1   2.893599  \n",
       "1  413  7     5.293305     28.810715     11.014296   5   4.134447  \n",
       "2  413  7     6.475900     29.178440     10.988969  11   8.204390  \n",
       "3  413  7    13.461176     30.565741     10.128565  19  16.502173  \n",
       "4  413  7    16.946976     31.144781      9.624642  21  17.403508  \n",
       "\n",
       "[5 rows x 26 columns]"
      ]
     },
     "execution_count": 17,
     "metadata": {},
     "output_type": "execute_result"
    }
   ],
   "source": [
    "dataN.head()"
   ]
  },
  {
   "cell_type": "code",
   "execution_count": 19,
   "metadata": {},
   "outputs": [
    {
     "data": {
      "image/png": "[encoded data removed]",
      "text/plain": [
       "<Figure size 504x324 with 6 Axes>"
      ]
     },
     "metadata": {
      "needs_background": "light"
     },
     "output_type": "display_data"
    }
   ],
   "source": [
    "fig=plt.figure(figsize=(7,4.5))\n",
    "gs = gridspec.GridSpec(2,3,left=.1,right=.9,hspace=.4,wspace=.4,bottom=.1,top=.9)\n",
    "ax=list()\n",
    "ax.append(fig.add_subplot(gs[0,0]))\n",
    "ax.append(fig.add_subplot(gs[0,1]))\n",
    "ax.append(fig.add_subplot(gs[0,2]))\n",
    "ax.append(fig.add_subplot(gs[1,0]))\n",
    "ax.append(fig.add_subplot(gs[1,1]))\n",
    "ax.append(fig.add_subplot(gs[1,2]))\n",
    "ms=1\n",
    "ax[0].plot(data['SA'],data['mod_vosaline'],'k.',ms=ms)\n",
    "ax[0].set_xlabel('Observed S$_A$ (g kg$^{-1}$)')\n",
    "ax[0].set_ylabel('Model S$_A$ (g kg$^{-1}$)')\n",
    "\n",
    "ax[1].plot(data['CT'],data['mod_votemper'],'k.',ms=ms)\n",
    "ax[1].set_xlabel('Observed $\\Theta$ ($^{\\circ}$C)')\n",
    "ax[1].set_ylabel('Model $\\Theta$ ($^{\\circ}$C)')\n",
    "\n",
    "ax[2].plot(dataN['N'],dataN['mod_nitrate'],'k.',ms=ms)\n",
    "ax[2].set_xlabel('Observed Nitrate (M)')\n",
    "ax[2].set_ylabel('Model Nitrate (M)')\n",
    "\n",
    "ax[3].plot(data['SA'],data['LOS'],'k.',ms=ms)\n",
    "ax[3].set_xlabel('Observed S$_A$ (g kg$^{-1}$)')\n",
    "ax[3].set_ylabel('Boundary S$_A$ (g kg$^{-1}$)')\n",
    "\n",
    "ax[4].plot(data['CT'],data['LOT'],'k.',ms=ms)\n",
    "ax[4].set_xlabel('Observed $\\Theta$ ($^{\\circ}$C)')\n",
    "ax[4].set_ylabel('Boundary $\\Theta$ ($^{\\circ}$C)')\n",
    "\n",
    "ax[5].plot(dataN['N'],dataN['LON'],'k.',ms=ms)\n",
    "ax[5].set_xlabel('Observed Nitrate (M)')\n",
    "ax[5].set_ylabel('Boundary Nitrate (M)')\n",
    "for iax in (ax[0],ax[3]):\n",
    "    iax.set_aspect(1)\n",
    "    iax.set_xlim(27,35)\n",
    "    iax.set_ylim(27,35)\n",
    "    iax.plot((27,35),(27,35),'-',color='gray')\n",
    "for iax in (ax[1],ax[4]):\n",
    "    iax.set_aspect(1)\n",
    "    iax.set_xlim(5,15)\n",
    "    iax.set_ylim(5,15)\n",
    "    iax.plot((5,15),(5,15),'-',color='gray')\n",
    "for iax in (ax[2],ax[5]):\n",
    "    iax.set_aspect(1)\n",
    "    iax.set_xlim(2,45)\n",
    "    iax.set_ylim(2,45)\n",
    "    iax.plot((2,45),(2,45),'-',color='gray')\n",
    "fig.savefig('/data/eolson/results/MEOPAR/biomodelevalpaper/response/boundaryComp.pdf',dpi=300)"
   ]
  },
  {
   "cell_type": "code",
   "execution_count": null,
   "metadata": {},
   "outputs": [],
   "source": []
  }
 ],
 "metadata": {
  "anaconda-cloud": {},
  "kernelspec": {
   "display_name": "Python (py38)",
   "language": "python",
   "name": "py38"
  },
  "language_info": {
   "codemirror_mode": {
    "name": "ipython",
    "version": 3
   },
   "file_extension": ".py",
   "mimetype": "text/x-python",
   "name": "python",
   "nbconvert_exporter": "python",
   "pygments_lexer": "ipython3",
   "version": "3.8.1"
  }
 },
 "nbformat": 4,
 "nbformat_minor": 2
}
