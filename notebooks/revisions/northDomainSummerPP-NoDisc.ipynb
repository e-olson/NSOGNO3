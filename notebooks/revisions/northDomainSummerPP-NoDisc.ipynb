{
 "cells": [
  {
   "cell_type": "markdown",
   "metadata": {},
   "source": [
    "### 6 m is mean nitricline depth and just below 10% light level"
   ]
  },
  {
   "cell_type": "code",
   "execution_count": 1,
   "metadata": {},
   "outputs": [
    {
     "name": "stdout",
     "output_type": "stream",
     "text": [
      "NorthNut defined variables: ig0,ig1,jg0,jg1,fformat0\n",
      "NorthNut defined variables: vmask, vmask0, umask, umask0, tmask, fmask, gdept,  gdept_1d, e1t, e2t, e12t, e1f, e2f, e1v, e2u, e3t_1d\n",
      "NorthNut defined variables: boxCol, colL, colR, arrowwidth, headwidth, headlength, alen, toff, apw, apk\n"
     ]
    }
   ],
   "source": [
    "import matplotlib.pyplot as plt\n",
    "import netCDF4 as nc\n",
    "import numpy as np\n",
    "import os\n",
    "import glob\n",
    "import datetime as dt\n",
    "from salishsea_tools import viz_tools\n",
    "from matplotlib.ticker import FormatStrFormatter\n",
    "import cmocean\n",
    "from salishsea_tools import viz_tools, evaltools as et\n",
    "import NorthNut as nn\n",
    "import matplotlib.gridspec as gridspec\n",
    "import pickle\n",
    "import matplotlib as mpl\n",
    "import matplotlib.patheffects as path_effects\n",
    "mpl.rc('xtick', labelsize=8)\n",
    "mpl.rc('ytick', labelsize=8)\n",
    "mpl.rc('legend', fontsize=8)\n",
    "mpl.rc('axes', titlesize=8)\n",
    "mpl.rc('axes', labelsize=8)\n",
    "mpl.rc('figure', titlesize=8)\n",
    "mpl.rc('font', size=8)\n",
    "mpl.rc('text', usetex=True)\n",
    "mpl.rc('text.latex', preamble = r'''\n",
    " \\usepackage{txfonts}\n",
    " \\usepackage{lmodern}\n",
    " ''')\n",
    "mpl.rc('font', family='sans-serif', weight='normal', style='normal')\n",
    "from pandas.plotting import register_matplotlib_converters\n",
    "register_matplotlib_converters()\n",
    "%matplotlib inline"
   ]
  },
  {
   "cell_type": "code",
   "execution_count": 2,
   "metadata": {},
   "outputs": [],
   "source": [
    "ig0=nn.ig0\n",
    "ig1=nn.ig1\n",
    "jg0=nn.jg0\n",
    "jg1=nn.jg1\n",
    "tmask=nn.tmask\n",
    "umask=nn.umask\n",
    "vmask=nn.vmask\n",
    "umask0=nn.umask0\n",
    "vmask0=nn.vmask0\n",
    "boxCol=nn.boxCol\n",
    "colL=nn.colL\n",
    "colR=nn.colR"
   ]
  },
  {
   "cell_type": "code",
   "execution_count": 3,
   "metadata": {},
   "outputs": [],
   "source": [
    "e12t=nn.e12t"
   ]
  },
  {
   "cell_type": "code",
   "execution_count": 4,
   "metadata": {},
   "outputs": [],
   "source": [
    "k=6 #depth presented here\n",
    "k1=30 # max depth to do calcs to\n",
    "start=dt.datetime(2015,5,15) # originally 5/15-8/15,  but changed to even number of fortnights (6, end is included)\n",
    "end=dt.datetime(2015,8,20)\n",
    "mod_basedir='/data/eolson/results/MEOPAR/SS36runs/CedarRuns/rev_noDisc/'\n",
    "mod_nam_fmt='long'\n",
    "mod_flen=10\n",
    "saveloc='/data/eolson/results/MEOPAR/SS36runs/calcFiles/NTransport/'\n",
    "fver='noDisc'"
   ]
  },
  {
   "cell_type": "code",
   "execution_count": 5,
   "metadata": {},
   "outputs": [
    {
     "data": {
      "text/plain": [
       "(40, 130, 97)"
      ]
     },
     "execution_count": 5,
     "metadata": {},
     "output_type": "execute_result"
    }
   ],
   "source": [
    "tmask.shape"
   ]
  },
  {
   "cell_type": "code",
   "execution_count": 6,
   "metadata": {},
   "outputs": [
    {
     "data": {
      "text/plain": [
       "(1, 40, 130, 97)"
      ]
     },
     "execution_count": 6,
     "metadata": {},
     "output_type": "execute_result"
    }
   ],
   "source": [
    "tmask2=np.expand_dims(tmask,0)\n",
    "tmask2.shape"
   ]
  },
  {
   "cell_type": "code",
   "execution_count": 8,
   "metadata": {},
   "outputs": [],
   "source": [
    "t0=start\n",
    "te=end\n",
    "fformat0='%Y%m%d'\n",
    "recalc=True\n",
    "\n",
    "fliste3t=et.index_model_files(start,end,mod_basedir,mod_nam_fmt,mod_flen,'ptrc_T',1)\n",
    "flistPP=et.index_model_files(start,end,mod_basedir,mod_nam_fmt,mod_flen,'prod_T',1)"
   ]
  },
  {
   "cell_type": "code",
   "execution_count": 10,
   "metadata": {},
   "outputs": [],
   "source": [
    "savepath=saveloc+'IPP_'+fver+'_'+t0.strftime(fformat0)+'-'+te.strftime(fformat0)+'.pkl'\n",
    "times=[t0+dt.timedelta(hours=ii) for ii in range(0,int((te-t0).total_seconds()/3600)+24)]\n",
    "if recalc==True:\n",
    "    ## calculations\n",
    "    tf0=flistPP.loc[0,['t_0']].values[0]\n",
    "    tfe=flistPP.loc[len(flistPP)-1,['t_n']].values[0]-dt.timedelta(days=1)\n",
    "    IPPx=np.empty((int((tfe-tf0).days*24+24),jg1-jg0,ig1-ig0))\n",
    "    INPPx=np.empty((int((tfe-tf0).days*24+24),jg1-jg0,ig1-ig0))\n",
    "    iii0=int((t0-tf0).total_seconds()/3600)\n",
    "    iiie=int((te-tf0).days*24+24)\n",
    "    ti=t0\n",
    "    for iif in range(0,len(flistPP)):\n",
    "        li0=iif*mod_flen*24\n",
    "        li1=(iif+1)*mod_flen*24\n",
    "        with nc.Dataset(flistPP.loc[iif,['paths']].values[0]) as fPP, \\\n",
    "                nc.Dataset(fliste3t.loc[iif,['paths']].values[0]) as fe3t:\n",
    "            IPPx[li0:li1,...]=np.sum(tmask2*\\\n",
    "                    (fPP.variables['PPDIAT'][:,:,jg0:jg1,ig0:ig1]+fPP.variables['PPPHY'][:,:,jg0:jg1,ig0:ig1]+fPP.variables['PPMRUB'][:,:,jg0:jg1,ig0:ig1])*\\\n",
    "                                 fe3t.variables['e3t'][:,:,jg0:jg1,ig0:ig1],1)\n",
    "            INPPx[li0:li1,...]=np.sum(tmask2*\\\n",
    "                    (fPP.variables['PPDIATNO3'][:,:,jg0:jg1,ig0:ig1]+fPP.variables['PPPHYNO3'][:,:,jg0:jg1,ig0:ig1]+fPP.variables['PPMRUBNO3'][:,:,jg0:jg1,ig0:ig1])*\\\n",
    "                                 fe3t.variables['e3t'][:,:,jg0:jg1,ig0:ig1],1)\n",
    "\n",
    "    #constrain to correct times\n",
    "    IPP=IPPx[iii0:iiie,...]\n",
    "    INPP=INPPx[iii0:iiie,...]\n",
    "    data=dict()\n",
    "    data['IPP']=IPP\n",
    "    data['INPP']=INPP\n",
    "    pickle.dump(data,open(savepath,'wb'))\n",
    "else:\n",
    "    data=pickle.load(open(savepath,'rb'))\n",
    "    IPP=data['IPP']\n",
    "    INPP=data['INPP']"
   ]
  },
  {
   "cell_type": "code",
   "execution_count": 15,
   "metadata": {},
   "outputs": [
    {
     "data": {
      "text/plain": [
       "<matplotlib.colorbar.Colorbar at 0x7fc6652227c0>"
      ]
     },
     "execution_count": 15,
     "metadata": {},
     "output_type": "execute_result"
    },
    {
     "data": {
      "image/png": "[encoded data removed]",
      "text/plain": [
       "<Figure size 216x288 with 2 Axes>"
      ]
     },
     "metadata": {
      "needs_background": "light"
     },
     "output_type": "display_data"
    }
   ],
   "source": [
    "fig,ax=plt.subplots(1,1,figsize=(3,4))\n",
    "m=ax.pcolormesh(np.mean(IPP,0),vmin=0,vmax=.0005)\n",
    "fig.colorbar(m)"
   ]
  },
  {
   "cell_type": "code",
   "execution_count": null,
   "metadata": {},
   "outputs": [],
   "source": []
  },
  {
   "cell_type": "code",
   "execution_count": null,
   "metadata": {},
   "outputs": [],
   "source": []
  }
 ],
 "metadata": {
  "anaconda-cloud": {},
  "kernelspec": {
   "display_name": "Python (py38)",
   "language": "python",
   "name": "py38"
  },
  "language_info": {
   "codemirror_mode": {
    "name": "ipython",
    "version": 3
   },
   "file_extension": ".py",
   "mimetype": "text/x-python",
   "name": "python",
   "nbconvert_exporter": "python",
   "pygments_lexer": "ipython3",
   "version": "3.8.1"
  }
 },
 "nbformat": 4,
 "nbformat_minor": 1
}
