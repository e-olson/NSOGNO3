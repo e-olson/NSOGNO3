{
 "cells": [
  {
   "cell_type": "markdown",
   "metadata": {},
   "source": [
    "### 6 m is mean nitricline depth and just below 10% light level"
   ]
  },
  {
   "cell_type": "code",
   "execution_count": 1,
   "metadata": {},
   "outputs": [],
   "source": [
    "import matplotlib.pyplot as plt\n",
    "import netCDF4 as nc\n",
    "import numpy as np\n",
    "import os\n",
    "import glob\n",
    "import datetime as dt\n",
    "from salishsea_tools import viz_tools\n",
    "from matplotlib.ticker import FormatStrFormatter\n",
    "import cmocean\n",
    "from salishsea_tools import viz_tools, evaltools as et\n",
    "#import NorthNut as nn\n",
    "import matplotlib.gridspec as gridspec\n",
    "import pickle\n",
    "import matplotlib as mpl\n",
    "import matplotlib.patheffects as path_effects\n",
    "mpl.rc('xtick', labelsize=8)\n",
    "mpl.rc('ytick', labelsize=8)\n",
    "mpl.rc('legend', fontsize=8)\n",
    "mpl.rc('axes', titlesize=8)\n",
    "mpl.rc('axes', labelsize=8)\n",
    "mpl.rc('figure', titlesize=8)\n",
    "mpl.rc('font', size=8)\n",
    "mpl.rc('text', usetex=True)\n",
    "mpl.rc('text.latex', preamble = r'''\n",
    " \\usepackage{txfonts}\n",
    " \\usepackage{lmodern}\n",
    " ''')\n",
    "mpl.rc('font', family='sans-serif', weight='normal', style='normal')\n",
    "from pandas.plotting import register_matplotlib_converters\n",
    "register_matplotlib_converters()\n",
    "%matplotlib inline"
   ]
  },
  {
   "cell_type": "code",
   "execution_count": 2,
   "metadata": {},
   "outputs": [],
   "source": [
    "with nc.Dataset('/ocean/eolson/MEOPAR/NEMO-forcing/grid/mesh_mask201702_noLPE.nc') as m:\n",
    "    tmask=np.copy(m.variables['tmask'][0,:,:,:])"
   ]
  },
  {
   "cell_type": "code",
   "execution_count": 3,
   "metadata": {},
   "outputs": [],
   "source": [
    "ig0=105\n",
    "ig1=370\n",
    "jg0=200\n",
    "jg1=800\n",
    "tmask=tmask[:,jg0:jg1,ig0:ig1]"
   ]
  },
  {
   "cell_type": "code",
   "execution_count": 4,
   "metadata": {},
   "outputs": [],
   "source": [
    "start=dt.datetime(2015,5,15) # originally 5/15-8/15,  but changed to even number of fortnights (6, end is included)\n",
    "end=dt.datetime(2015,8,20)\n",
    "mod_basedir='/data/eolson/results/MEOPAR/SS36runs/CedarRuns/rev_noDisc/'\n",
    "mod_nam_fmt='long'\n",
    "mod_flen=10\n",
    "saveloc='/data/eolson/results/MEOPAR/SS36runs/calcFiles/NTransport/'\n",
    "fver='noDisc'"
   ]
  },
  {
   "cell_type": "code",
   "execution_count": 5,
   "metadata": {},
   "outputs": [
    {
     "data": {
      "text/plain": [
       "(40, 600, 265)"
      ]
     },
     "execution_count": 5,
     "metadata": {},
     "output_type": "execute_result"
    }
   ],
   "source": [
    "tmask.shape"
   ]
  },
  {
   "cell_type": "code",
   "execution_count": 6,
   "metadata": {},
   "outputs": [
    {
     "data": {
      "text/plain": [
       "(1, 40, 600, 265)"
      ]
     },
     "execution_count": 6,
     "metadata": {},
     "output_type": "execute_result"
    }
   ],
   "source": [
    "tmask2=np.expand_dims(tmask,0)\n",
    "tmask2.shape"
   ]
  },
  {
   "cell_type": "code",
   "execution_count": 7,
   "metadata": {},
   "outputs": [
    {
     "name": "stdout",
     "output_type": "stream",
     "text": [
      "first file starts on  2015-05-11 00:00:00\n",
      "ftype=prod_T, are you sure? (if yes, add to list)\n",
      "first file starts on  2015-05-11 00:00:00\n"
     ]
    }
   ],
   "source": [
    "t0=start\n",
    "te=end\n",
    "fformat0='%Y%m%d'\n",
    "recalc=True\n",
    "\n",
    "fliste3t=et.index_model_files(t0,te,mod_basedir,mod_nam_fmt,mod_flen,'ptrc_T',1)\n",
    "flistPP=et.index_model_files(t0,te,mod_basedir,mod_nam_fmt,mod_flen,'prod_T',1)"
   ]
  },
  {
   "cell_type": "code",
   "execution_count": 8,
   "metadata": {},
   "outputs": [
    {
     "data": {
      "text/html": [
       "<div>\n",
       "<style scoped>\n",
       "    .dataframe tbody tr th:only-of-type {\n",
       "        vertical-align: middle;\n",
       "    }\n",
       "\n",
       "    .dataframe tbody tr th {\n",
       "        vertical-align: top;\n",
       "    }\n",
       "\n",
       "    .dataframe thead th {\n",
       "        text-align: right;\n",
       "    }\n",
       "</style>\n",
       "<table border=\"1\" class=\"dataframe\">\n",
       "  <thead>\n",
       "    <tr style=\"text-align: right;\">\n",
       "      <th></th>\n",
       "      <th>paths</th>\n",
       "      <th>t_0</th>\n",
       "      <th>t_n</th>\n",
       "    </tr>\n",
       "  </thead>\n",
       "  <tbody>\n",
       "    <tr>\n",
       "      <th>0</th>\n",
       "      <td>/data/eolson/results/MEOPAR/SS36runs/CedarRuns...</td>\n",
       "      <td>2015-05-11</td>\n",
       "      <td>2015-05-21</td>\n",
       "    </tr>\n",
       "    <tr>\n",
       "      <th>1</th>\n",
       "      <td>/data/eolson/results/MEOPAR/SS36runs/CedarRuns...</td>\n",
       "      <td>2015-05-21</td>\n",
       "      <td>2015-05-31</td>\n",
       "    </tr>\n",
       "    <tr>\n",
       "      <th>2</th>\n",
       "      <td>/data/eolson/results/MEOPAR/SS36runs/CedarRuns...</td>\n",
       "      <td>2015-05-31</td>\n",
       "      <td>2015-06-10</td>\n",
       "    </tr>\n",
       "    <tr>\n",
       "      <th>3</th>\n",
       "      <td>/data/eolson/results/MEOPAR/SS36runs/CedarRuns...</td>\n",
       "      <td>2015-06-10</td>\n",
       "      <td>2015-06-20</td>\n",
       "    </tr>\n",
       "    <tr>\n",
       "      <th>4</th>\n",
       "      <td>/data/eolson/results/MEOPAR/SS36runs/CedarRuns...</td>\n",
       "      <td>2015-06-20</td>\n",
       "      <td>2015-06-30</td>\n",
       "    </tr>\n",
       "    <tr>\n",
       "      <th>5</th>\n",
       "      <td>/data/eolson/results/MEOPAR/SS36runs/CedarRuns...</td>\n",
       "      <td>2015-06-30</td>\n",
       "      <td>2015-07-10</td>\n",
       "    </tr>\n",
       "    <tr>\n",
       "      <th>6</th>\n",
       "      <td>/data/eolson/results/MEOPAR/SS36runs/CedarRuns...</td>\n",
       "      <td>2015-07-10</td>\n",
       "      <td>2015-07-20</td>\n",
       "    </tr>\n",
       "    <tr>\n",
       "      <th>7</th>\n",
       "      <td>/data/eolson/results/MEOPAR/SS36runs/CedarRuns...</td>\n",
       "      <td>2015-07-20</td>\n",
       "      <td>2015-07-30</td>\n",
       "    </tr>\n",
       "    <tr>\n",
       "      <th>8</th>\n",
       "      <td>/data/eolson/results/MEOPAR/SS36runs/CedarRuns...</td>\n",
       "      <td>2015-07-30</td>\n",
       "      <td>2015-08-09</td>\n",
       "    </tr>\n",
       "    <tr>\n",
       "      <th>9</th>\n",
       "      <td>/data/eolson/results/MEOPAR/SS36runs/CedarRuns...</td>\n",
       "      <td>2015-08-09</td>\n",
       "      <td>2015-08-19</td>\n",
       "    </tr>\n",
       "    <tr>\n",
       "      <th>10</th>\n",
       "      <td>/data/eolson/results/MEOPAR/SS36runs/CedarRuns...</td>\n",
       "      <td>2015-08-19</td>\n",
       "      <td>2015-08-29</td>\n",
       "    </tr>\n",
       "  </tbody>\n",
       "</table>\n",
       "</div>"
      ],
      "text/plain": [
       "                                                paths        t_0        t_n\n",
       "0   /data/eolson/results/MEOPAR/SS36runs/CedarRuns... 2015-05-11 2015-05-21\n",
       "1   /data/eolson/results/MEOPAR/SS36runs/CedarRuns... 2015-05-21 2015-05-31\n",
       "2   /data/eolson/results/MEOPAR/SS36runs/CedarRuns... 2015-05-31 2015-06-10\n",
       "3   /data/eolson/results/MEOPAR/SS36runs/CedarRuns... 2015-06-10 2015-06-20\n",
       "4   /data/eolson/results/MEOPAR/SS36runs/CedarRuns... 2015-06-20 2015-06-30\n",
       "5   /data/eolson/results/MEOPAR/SS36runs/CedarRuns... 2015-06-30 2015-07-10\n",
       "6   /data/eolson/results/MEOPAR/SS36runs/CedarRuns... 2015-07-10 2015-07-20\n",
       "7   /data/eolson/results/MEOPAR/SS36runs/CedarRuns... 2015-07-20 2015-07-30\n",
       "8   /data/eolson/results/MEOPAR/SS36runs/CedarRuns... 2015-07-30 2015-08-09\n",
       "9   /data/eolson/results/MEOPAR/SS36runs/CedarRuns... 2015-08-09 2015-08-19\n",
       "10  /data/eolson/results/MEOPAR/SS36runs/CedarRuns... 2015-08-19 2015-08-29"
      ]
     },
     "execution_count": 8,
     "metadata": {},
     "output_type": "execute_result"
    }
   ],
   "source": [
    "flistPP"
   ]
  },
  {
   "cell_type": "code",
   "execution_count": 9,
   "metadata": {},
   "outputs": [
    {
     "name": "stdout",
     "output_type": "stream",
     "text": [
      "0\n",
      "1\n",
      "2\n",
      "3\n",
      "4\n",
      "5\n",
      "6\n",
      "7\n",
      "8\n",
      "9\n",
      "10\n"
     ]
    }
   ],
   "source": [
    "savepath=saveloc+'IPP_LD_'+fver+'_'+t0.strftime(fformat0)+'-'+te.strftime(fformat0)+'.pkl'\n",
    "times=[t0+dt.timedelta(hours=ii) for ii in range(0,int((te-t0).total_seconds()/3600)+24)]\n",
    "if recalc==True:\n",
    "    ## calculations\n",
    "    tf0=flistPP.loc[0,['t_0']].values[0]\n",
    "    tfe=flistPP.loc[len(flistPP)-1,['t_n']].values[0]-dt.timedelta(days=1)\n",
    "    IPPx=np.empty((int((tfe-tf0).days*24+24),jg1-jg0,ig1-ig0))\n",
    "    INPPx=np.empty((int((tfe-tf0).days*24+24),jg1-jg0,ig1-ig0))\n",
    "    iii0=int((t0-tf0).total_seconds()/3600)\n",
    "    iiie=int((te-tf0).days*24+24)\n",
    "    ti=t0\n",
    "    for iif in range(0,len(flistPP)):\n",
    "        print(iif)\n",
    "        li0=iif*mod_flen*24\n",
    "        li1=(iif+1)*mod_flen*24\n",
    "        with nc.Dataset(flistPP.loc[iif,['paths']].values[0]) as fPP, \\\n",
    "                nc.Dataset(fliste3t.loc[iif,['paths']].values[0]) as fe3t:\n",
    "            # calc iincr hrs at a time to avoid running out of memory\n",
    "            ili0=0\n",
    "            iincr=72\n",
    "            for isub in range(0,int(np.ceil(mod_flen*24/iincr))):\n",
    "                ili1=min(mod_flen*24,ili0+iincr)\n",
    "                IPPx[(li0+ili0):(li0+ili1),...]=np.sum(tmask2*\\\n",
    "                        (fPP.variables['PPDIAT'][ili0:ili1,:,jg0:jg1,ig0:ig1]+\\\n",
    "                         fPP.variables['PPPHY'][ili0:ili1,:,jg0:jg1,ig0:ig1]+\\\n",
    "                         fPP.variables['PPMRUB'][ili0:ili1,:,jg0:jg1,ig0:ig1])*\\\n",
    "                            fe3t.variables['e3t'][ili0:ili1,:,jg0:jg1,ig0:ig1],1)\n",
    "                INPPx[(li0+ili0):(li0+ili1),...]=np.sum(tmask2*\\\n",
    "                        (fPP.variables['PPDIATNO3'][ili0:ili1,:,jg0:jg1,ig0:ig1]+\\\n",
    "                         fPP.variables['PPPHYNO3'][ili0:ili1,:,jg0:jg1,ig0:ig1]+\\\n",
    "                         fPP.variables['PPMRUBNO3'][ili0:ili1,:,jg0:jg1,ig0:ig1])*\\\n",
    "                             fe3t.variables['e3t'][ili0:ili1,:,jg0:jg1,ig0:ig1],1)\n",
    "                ili0=ili0+iincr\n",
    "\n",
    "    #constrain to correct times\n",
    "    IPP=IPPx[iii0:iiie,...]\n",
    "    INPP=INPPx[iii0:iiie,...]\n",
    "    del IPPx, INPPx\n",
    "    data=dict()\n",
    "    data['IPP']=IPP\n",
    "    data['INPP']=INPP\n",
    "    pickle.dump(data,open(savepath,'wb'))\n",
    "else:\n",
    "    data=pickle.load(open(savepath,'rb'))\n",
    "    IPP=data['IPP']\n",
    "    INPP=data['INPP']"
   ]
  },
  {
   "cell_type": "code",
   "execution_count": 10,
   "metadata": {},
   "outputs": [
    {
     "data": {
      "text/plain": [
       "<matplotlib.colorbar.Colorbar at 0x7fd64a5cc6d0>"
      ]
     },
     "execution_count": 10,
     "metadata": {},
     "output_type": "execute_result"
    },
    {
     "data": {
      "image/png": "[encoded data removed]",
      "text/plain": [
       "<Figure size 216x288 with 2 Axes>"
      ]
     },
     "metadata": {
      "needs_background": "light"
     },
     "output_type": "display_data"
    }
   ],
   "source": [
    "fig,ax=plt.subplots(1,1,figsize=(3,4))\n",
    "m=ax.pcolormesh(np.mean(IPP,0),vmin=0,vmax=.0005)\n",
    "fig.colorbar(m)"
   ]
  },
  {
   "cell_type": "code",
   "execution_count": 11,
   "metadata": {},
   "outputs": [
    {
     "data": {
      "text/plain": [
       "'/data/eolson/results/MEOPAR/SS36runs/calcFiles/NTransport/IPP_LD_noDisc_20150515-20150820.pkl'"
      ]
     },
     "execution_count": 11,
     "metadata": {},
     "output_type": "execute_result"
    }
   ],
   "source": [
    "savepath"
   ]
  },
  {
   "cell_type": "code",
   "execution_count": null,
   "metadata": {},
   "outputs": [],
   "source": []
  }
 ],
 "metadata": {
  "anaconda-cloud": {},
  "kernelspec": {
   "display_name": "Python (py38)",
   "language": "python",
   "name": "py38"
  },
  "language_info": {
   "codemirror_mode": {
    "name": "ipython",
    "version": 3
   },
   "file_extension": ".py",
   "mimetype": "text/x-python",
   "name": "python",
   "nbconvert_exporter": "python",
   "pygments_lexer": "ipython3",
   "version": "3.8.1"
  }
 },
 "nbformat": 4,
 "nbformat_minor": 1
}
