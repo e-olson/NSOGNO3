{
 "cells": [
  {
   "cell_type": "code",
   "execution_count": 1,
   "metadata": {},
   "outputs": [],
   "source": [
    "import numpy as np\n",
    "from matplotlib import pyplot as plt\n",
    "import netCDF4 as nc\n",
    "import re\n",
    "import shutil\n",
    "%matplotlib inline"
   ]
  },
  {
   "cell_type": "code",
   "execution_count": 2,
   "metadata": {},
   "outputs": [],
   "source": [
    "src='/ocean/eolson/MEOPAR/northernNO3PaperCalcs/bioModel/runFiles/01may15/SalishSea_01153440_restart_trc.nc'\n",
    "dst='/ocean/eolson/MEOPAR/northernNO3PaperCalcs/bioModel/runFiles/01may15/SalishSea_01153440_restart_trc_noMrubrum.nc'"
   ]
  },
  {
   "cell_type": "code",
   "execution_count": 3,
   "metadata": {},
   "outputs": [
    {
     "data": {
      "text/plain": [
       "'/ocean/eolson/MEOPAR/northernNO3PaperCalcs/bioModel/runFiles/01may15/SalishSea_01153440_restart_trc_noMrubrum.nc'"
      ]
     },
     "execution_count": 3,
     "metadata": {},
     "output_type": "execute_result"
    }
   ],
   "source": [
    "shutil.copy(src, dst)"
   ]
  },
  {
   "cell_type": "code",
   "execution_count": 4,
   "metadata": {},
   "outputs": [],
   "source": [
    "f=nc.Dataset(dst,'r+')"
   ]
  },
  {
   "cell_type": "code",
   "execution_count": 5,
   "metadata": {},
   "outputs": [
    {
     "name": "stdout",
     "output_type": "stream",
     "text": [
      "odict_keys(['nav_lon', 'nav_lat', 'nav_lev', 'time_counter', 'kt', 'ndastp', 'adatrj', 'rnf_pis_NO3_b', 'rnf_pis_NH4_b', 'rnf_pis_Si_b', 'rnf_pis_DIAT_b', 'rnf_pis_PHY_b', 'rnf_pis_MYRI_b', 'rnf_pis_MICZ_b', 'rnf_pis_DON_b', 'rnf_pis_PON_b', 'rnf_pis_bSi_b', 'rnf_pis_TRA_b', 'rnf_pis_DIC_b', 'rnf_pis_TA_b', 'rnf_pis_O2_b', 'sbc_NO3_b', 'sbc_NH4_b', 'sbc_Si_b', 'sbc_DIAT_b', 'sbc_PHY_b', 'sbc_MYRI_b', 'sbc_MICZ_b', 'sbc_DON_b', 'sbc_PON_b', 'sbc_bSi_b', 'sbc_TRA_b', 'sbc_DIC_b', 'sbc_TA_b', 'sbc_O2_b', 'sbc_MYTRC1_b', 'rdttrc1', 'TRNNO3', 'TRNNH4', 'TRNSi', 'TRNDIAT', 'TRNPHY', 'TRNMYRI', 'TRNMICZ', 'TRNDON', 'TRNPON', 'TRNbSi', 'TRNTRA', 'TRNDIC', 'TRNTA', 'TRNO2', 'TRNMYTRC1', 'TRBNO3', 'TRBNH4', 'TRBSi', 'TRBDIAT', 'TRBPHY', 'TRBMYRI', 'TRBMICZ', 'TRBDON', 'TRBPON', 'TRBbSi', 'TRBTRA', 'TRBDIC', 'TRBTA', 'TRBO2', 'TRBMYTRC1'])\n"
     ]
    }
   ],
   "source": [
    "print(f.variables.keys())"
   ]
  },
  {
   "cell_type": "code",
   "execution_count": 6,
   "metadata": {},
   "outputs": [
    {
     "data": {
      "text/plain": [
       "(1.2389185435192, 0.0)"
      ]
     },
     "execution_count": 6,
     "metadata": {},
     "output_type": "execute_result"
    }
   ],
   "source": [
    "np.max(f.variables['TRNPHY']), np.min(f.variables['TRNPHY'])"
   ]
  },
  {
   "cell_type": "code",
   "execution_count": 7,
   "metadata": {},
   "outputs": [
    {
     "data": {
      "text/plain": [
       "(0.7284181581751993, 0.0)"
      ]
     },
     "execution_count": 7,
     "metadata": {},
     "output_type": "execute_result"
    }
   ],
   "source": [
    "np.max(f.variables['TRNMYRI']), np.min(f.variables['TRNMYRI'])"
   ]
  },
  {
   "cell_type": "code",
   "execution_count": 9,
   "metadata": {},
   "outputs": [],
   "source": [
    "f.variables['TRNPHY'][:]=f.variables['TRNPHY'][:]+f.variables['TRNMYRI'][:]"
   ]
  },
  {
   "cell_type": "code",
   "execution_count": 10,
   "metadata": {},
   "outputs": [],
   "source": [
    "f.variables['TRNMYRI'][:]=0.0"
   ]
  },
  {
   "cell_type": "code",
   "execution_count": 11,
   "metadata": {},
   "outputs": [],
   "source": [
    "f.variables['TRBPHY'][:]=f.variables['TRBPHY'][:]+f.variables['TRBMYRI'][:]"
   ]
  },
  {
   "cell_type": "code",
   "execution_count": 12,
   "metadata": {},
   "outputs": [],
   "source": [
    "f.variables['TRNMYRI'][:]=0.0"
   ]
  },
  {
   "cell_type": "code",
   "execution_count": 13,
   "metadata": {},
   "outputs": [],
   "source": [
    "f.close()"
   ]
  },
  {
   "cell_type": "code",
   "execution_count": 14,
   "metadata": {},
   "outputs": [],
   "source": [
    "f=nc.Dataset(dst)"
   ]
  },
  {
   "cell_type": "code",
   "execution_count": 15,
   "metadata": {},
   "outputs": [
    {
     "data": {
      "text/plain": [
       "(1.8233053230787242, 0.0)"
      ]
     },
     "execution_count": 15,
     "metadata": {},
     "output_type": "execute_result"
    }
   ],
   "source": [
    "np.max(f.variables['TRNPHY']), np.min(f.variables['TRNPHY'])"
   ]
  },
  {
   "cell_type": "code",
   "execution_count": 16,
   "metadata": {},
   "outputs": [
    {
     "data": {
      "text/plain": [
       "(0.0, 0.0)"
      ]
     },
     "execution_count": 16,
     "metadata": {},
     "output_type": "execute_result"
    }
   ],
   "source": [
    "np.max(f.variables['TRNMYRI']), np.min(f.variables['TRNMYRI'])"
   ]
  },
  {
   "cell_type": "code",
   "execution_count": 17,
   "metadata": {},
   "outputs": [],
   "source": [
    "f.close()"
   ]
  },
  {
   "cell_type": "code",
   "execution_count": null,
   "metadata": {},
   "outputs": [],
   "source": []
  }
 ],
 "metadata": {
  "kernelspec": {
   "display_name": "Python (py37)",
   "language": "python",
   "name": "py37"
  },
  "language_info": {
   "codemirror_mode": {
    "name": "ipython",
    "version": 3
   },
   "file_extension": ".py",
   "mimetype": "text/x-python",
   "name": "python",
   "nbconvert_exporter": "python",
   "pygments_lexer": "ipython3",
   "version": "3.7.5"
  }
 },
 "nbformat": 4,
 "nbformat_minor": 2
}
