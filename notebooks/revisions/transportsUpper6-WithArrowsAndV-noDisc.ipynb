{
 "cells": [
  {
   "cell_type": "markdown",
   "metadata": {},
   "source": [
    "### 6 m is mean nitricline depth and just below 10% light level"
   ]
  },
  {
   "cell_type": "code",
   "execution_count": 1,
   "metadata": {},
   "outputs": [
    {
     "name": "stdout",
     "output_type": "stream",
     "text": [
      "NorthNut defined variables: ig0,ig1,jg0,jg1,fformat0\n",
      "NorthNut defined variables: vmask, vmask0, umask, umask0, tmask, fmask, gdept,  gdept_1d, e1t, e2t, e12t, e1f, e2f, e1v, e2u, e3t_1d\n",
      "NorthNut defined variables: boxCol, colL, colR, arrowwidth, headwidth, headlength, alen, toff, apw, apk\n"
     ]
    }
   ],
   "source": [
    "import matplotlib.pyplot as plt\n",
    "import netCDF4 as nc\n",
    "import numpy as np\n",
    "import os\n",
    "import glob\n",
    "import datetime as dt\n",
    "from salishsea_tools import viz_tools\n",
    "from matplotlib.ticker import FormatStrFormatter\n",
    "import cmocean\n",
    "from salishsea_tools import viz_tools, evaltools as et\n",
    "import NorthNut as nn\n",
    "import matplotlib.gridspec as gridspec\n",
    "import pickle\n",
    "import matplotlib as mpl\n",
    "import matplotlib.patheffects as path_effects\n",
    "mpl.rc('xtick', labelsize=8)\n",
    "mpl.rc('ytick', labelsize=8)\n",
    "mpl.rc('legend', fontsize=8)\n",
    "mpl.rc('axes', titlesize=8)\n",
    "mpl.rc('axes', labelsize=8)\n",
    "mpl.rc('figure', titlesize=8)\n",
    "mpl.rc('font', size=8)\n",
    "mpl.rc('text', usetex=True)\n",
    "mpl.rc('text.latex', preamble = r'''\n",
    " \\usepackage{txfonts}\n",
    " \\usepackage{lmodern}\n",
    " ''')\n",
    "mpl.rc('font', family='sans-serif', weight='normal', style='normal')\n",
    "from pandas.plotting import register_matplotlib_converters\n",
    "register_matplotlib_converters()\n",
    "%matplotlib inline"
   ]
  },
  {
   "cell_type": "code",
   "execution_count": 2,
   "metadata": {},
   "outputs": [],
   "source": [
    "ig0=nn.ig0\n",
    "ig1=nn.ig1\n",
    "jg0=nn.jg0\n",
    "jg1=nn.jg1\n",
    "tmask=nn.tmask\n",
    "umask=nn.umask\n",
    "vmask=nn.vmask\n",
    "umask0=nn.umask0\n",
    "vmask0=nn.vmask0\n",
    "boxCol=nn.boxCol\n",
    "colL=nn.colL\n",
    "colR=nn.colR"
   ]
  },
  {
   "cell_type": "code",
   "execution_count": 3,
   "metadata": {},
   "outputs": [],
   "source": [
    "e12t=nn.e12t"
   ]
  },
  {
   "cell_type": "code",
   "execution_count": 4,
   "metadata": {},
   "outputs": [],
   "source": [
    "k=6 #depth presented here\n",
    "k1=30 # max depth to do calcs to\n",
    "start=dt.datetime(2015,5,15) # originally 5/15-8/15,  but changed to even number of fortnights (6, end is included)\n",
    "end=dt.datetime(2015,8,20)\n",
    "mod_basedir='/data/eolson/results/MEOPAR/SS36runs/CedarRuns/rev_noDisc/'\n",
    "mod_nam_fmt='long'\n",
    "mod_flen=10\n",
    "saveloc='/data/eolson/results/MEOPAR/SS36runs/calcFiles/NTransport/'\n",
    "fver='noDisc'"
   ]
  },
  {
   "cell_type": "markdown",
   "metadata": {},
   "source": [
    "made interval a multiple of a fortnight in attempt to minimize aliasing of tidal cycle:"
   ]
  },
  {
   "cell_type": "code",
   "execution_count": 5,
   "metadata": {},
   "outputs": [
    {
     "data": {
      "text/plain": [
       "datetime.datetime(2015, 8, 21, 0, 0)"
      ]
     },
     "execution_count": 5,
     "metadata": {},
     "output_type": "execute_result"
    }
   ],
   "source": [
    "dt.datetime(2015,5,15)+dt.timedelta(days=7*14)"
   ]
  },
  {
   "cell_type": "code",
   "execution_count": 6,
   "metadata": {},
   "outputs": [
    {
     "name": "stdout",
     "output_type": "stream",
     "text": [
      "volumes: \n",
      "(40, 130, 97)\n",
      "0 vol: 232834007.16923195\n",
      "0 north face area: 0.017903174399708822\n",
      "0 floor area: 38.10316762126778\n",
      "(40, 130, 97)\n",
      "1 vol: 475501033.2591236\n",
      "1 north face area: 0.051981996171633744\n",
      "1 floor area: 76.65649877674242\n",
      "(40, 130, 97)\n",
      "2 vol: 467855857.4262955\n",
      "2 north face area: 0.0660928789851366\n",
      "2 floor area: 76.13281888160705\n",
      "(40, 130, 97)\n",
      "3 vol: 475349561.3011287\n",
      "3 north face area: 0.0691002936013758\n",
      "3 floor area: 77.68207812856889\n",
      "(40, 130, 97)\n",
      "4 vol: 460253674.3391861\n",
      "4 north face area: 0.06656271287114815\n",
      "4 floor area: 76.70622481510526\n",
      "(40, 130, 97)\n",
      "5 vol: 468674561.80761874\n",
      "5 north face area: 0.07171871451380164\n",
      "5 floor area: 76.99707667445263\n"
     ]
    }
   ],
   "source": [
    "# calc transports: boxes in full model coords\n",
    "boxes,boxesS=nn.defboxes(k)"
   ]
  },
  {
   "cell_type": "code",
   "execution_count": 7,
   "metadata": {},
   "outputs": [
    {
     "data": {
      "text/plain": [
       "426.7161561188531"
      ]
     },
     "execution_count": 7,
     "metadata": {},
     "output_type": "execute_result"
    }
   ],
   "source": [
    "np.mean(nn.e1t[boxesS[4]['j'][1],boxesS[4]['i'][0]:boxesS[4]['i'][1]])"
   ]
  },
  {
   "cell_type": "code",
   "execution_count": 8,
   "metadata": {},
   "outputs": [
    {
     "data": {
      "text/plain": [
       "0.077714"
      ]
     },
     "execution_count": 8,
     "metadata": {},
     "output_type": "execute_result"
    }
   ],
   "source": [
    "np.sum(tmask[6,boxesS[4]['j'][1],(boxesS[4]['i'][0]):(boxesS[4]['i'][1])])*427*7/1e6"
   ]
  },
  {
   "cell_type": "code",
   "execution_count": 9,
   "metadata": {},
   "outputs": [
    {
     "data": {
      "text/plain": [
       "masked_array(data=[7.00043229, 7.00043229, 7.00043229, 7.00043229,\n",
       "                   7.00043229, 7.00043229, 7.00043229, 7.00043229,\n",
       "                   7.00043229, 7.00043229, 7.00043229, 7.00043229,\n",
       "                   7.00043229, 7.00043229, 7.00043229, 7.00043229,\n",
       "                   7.00043229, 7.00043229, 7.00043229, 7.00043229,\n",
       "                   7.00043229, 7.00043229, 7.00043229, 7.00043229,\n",
       "                   7.00043229, 7.00043229, 7.00043229, 7.00043229],\n",
       "             mask=False,\n",
       "       fill_value=1e+20)"
      ]
     },
     "execution_count": 9,
     "metadata": {},
     "output_type": "execute_result"
    }
   ],
   "source": [
    "np.sum(nn.e3t_0[:7,boxesS[4]['j'][1],boxesS[4]['i'][0]:boxesS[4]['i'][1]],0)"
   ]
  },
  {
   "cell_type": "code",
   "execution_count": 10,
   "metadata": {},
   "outputs": [
    {
     "data": {
      "text/plain": [
       "array([-27, -15, -15, -15, -15, -15])"
      ]
     },
     "execution_count": 10,
     "metadata": {},
     "output_type": "execute_result"
    }
   ],
   "source": [
    "np.diff(np.array(([boxes[0]['j'][1]]+[boxes[el]['j'][0] for el in range(0,6)])))"
   ]
  },
  {
   "cell_type": "code",
   "execution_count": 11,
   "metadata": {},
   "outputs": [
    {
     "data": {
      "image/png": "[encoded data removed]",
      "text/plain": [
       "<Figure size 216x360 with 1 Axes>"
      ]
     },
     "metadata": {
      "needs_background": "light"
     },
     "output_type": "display_data"
    }
   ],
   "source": [
    "fig,ax=plt.subplots(1,1,figsize=(3,5))\n",
    "viz_tools.set_aspect(ax)\n",
    "ax.pcolormesh(nn.vmask0)\n",
    "ax.pcolormesh(nn.tmask[0,:,:])\n",
    "#ax.contour(tmask[k,:,:],[.5])\n",
    "ax.contour(tmask[0,:,:],[.5])\n",
    "for el in boxes.keys():\n",
    "    iii,jjj=nn.makebox(nn.boxcoordsT(boxes[el]))\n",
    "    ax.plot(iii-ig0,jjj-jg0,'-',color='w',linewidth=1)"
   ]
  },
  {
   "cell_type": "code",
   "execution_count": 12,
   "metadata": {},
   "outputs": [
    {
     "name": "stdout",
     "output_type": "stream",
     "text": [
      "ftype=dian_V, are you sure? (if yes, add to list)\n",
      "first file starts on  2015-05-11 00:00:00\n",
      "ftype=dian_U, are you sure? (if yes, add to list)\n",
      "first file starts on  2015-05-11 00:00:00\n",
      "ftype=dian_W, are you sure? (if yes, add to list)\n",
      "first file starts on  2015-05-11 00:00:00\n",
      "first file starts on  2015-05-11 00:00:00\n"
     ]
    }
   ],
   "source": [
    "flistV=et.index_model_files(start,end,mod_basedir,mod_nam_fmt,mod_flen,'dian_V',1)\n",
    "flistU=et.index_model_files(start,end,mod_basedir,mod_nam_fmt,mod_flen,'dian_U',1)\n",
    "flistW=et.index_model_files(start,end,mod_basedir,mod_nam_fmt,mod_flen,'dian_W',1)\n",
    "#flistC=et.index_model_files(start,end,mod_basedir,mod_nam_fmt,mod_flen,'carp_T',1)\n",
    "flistT=et.index_model_files(start,end,mod_basedir,mod_nam_fmt,mod_flen,'ptrc_T',1)\n",
    "#flistP=et.index_model_files(start,end,mod_basedir,mod_nam_fmt,mod_flen,'grid_T',1)\n",
    "#flistGV=et.index_model_files(start,end,mod_basedir,mod_nam_fmt,mod_flen,'grid_V',1)\n",
    "#flistGU=et.index_model_files(start,end,mod_basedir,mod_nam_fmt,mod_flen,'grid_U',1)"
   ]
  },
  {
   "cell_type": "code",
   "execution_count": 13,
   "metadata": {},
   "outputs": [
    {
     "data": {
      "text/plain": [
       "Timestamp('2015-05-11 00:00:00')"
      ]
     },
     "execution_count": 13,
     "metadata": {},
     "output_type": "execute_result"
    }
   ],
   "source": [
    "flistT.loc[0,['t_0']].values[0]"
   ]
  },
  {
   "cell_type": "code",
   "execution_count": 14,
   "metadata": {},
   "outputs": [
    {
     "data": {
      "text/plain": [
       "Timestamp('2015-08-28 00:00:00')"
      ]
     },
     "execution_count": 14,
     "metadata": {},
     "output_type": "execute_result"
    }
   ],
   "source": [
    "flistT.loc[len(flistT)-1,['t_n']].values[0]-dt.timedelta(days=1)"
   ]
  },
  {
   "cell_type": "code",
   "execution_count": 15,
   "metadata": {},
   "outputs": [
    {
     "data": {
      "text/plain": [
       "datetime.datetime(2015, 8, 20, 0, 0)"
      ]
     },
     "execution_count": 15,
     "metadata": {},
     "output_type": "execute_result"
    }
   ],
   "source": [
    "end"
   ]
  },
  {
   "cell_type": "code",
   "execution_count": 16,
   "metadata": {},
   "outputs": [],
   "source": [
    "NBound, SBound, EBound, BBound, NBoundMix, SBoundMix, EBoundMix, BBoundMix, times, boxes = nn.calcTranspsReduced(\n",
    "    start,end,k1,mod_flen,fver,saveloc,boxes,boxesS,flistV,flistU,flistW,flistT,recalc=False)"
   ]
  },
  {
   "cell_type": "code",
   "execution_count": 17,
   "metadata": {},
   "outputs": [
    {
     "data": {
      "text/plain": [
       "(2352, 30)"
      ]
     },
     "execution_count": 17,
     "metadata": {},
     "output_type": "execute_result"
    }
   ],
   "source": [
    "# vertical transport into 4th box\n",
    "np.shape(BBound[3])"
   ]
  },
  {
   "cell_type": "raw",
   "metadata": {
    "collapsed": true
   },
   "source": [
    "NO3_VT    v*dx*dz*C =                         mmol N/s  \n",
    "NO3_UT    u*dy*dz*C = m/s*m2*mmol/m3 =        mmol N/s \n",
    "VLDFNO3   dC/dt= (F1-F0)/(dx*dy*dz) => F in   mmol N/s \n",
    "ULDFNO3                                       mmol N/s\n",
    "NO3_WT    w*dx*dy*C =                         mmol N/s\n",
    "VMIXNO3   ~(Cadz-Cbdz)/dt=mmol/m3*1/s*m =     mmol N/m2/s "
   ]
  },
  {
   "cell_type": "code",
   "execution_count": 18,
   "metadata": {},
   "outputs": [],
   "source": [
    "mapCol=(0.67, 0.8, 0.64) # rgb\n",
    "cmb=cmocean.tools.crop_by_percent(cmocean.cm.balance, 45, which='both', N=None)\n",
    "cmb.set_bad(mapCol)\n",
    "cmc=cmocean.tools.crop_by_percent(cmocean.cm.tarn_r, 40, which='both', N=None)\n",
    "cmc.set_bad(mapCol)"
   ]
  },
  {
   "cell_type": "code",
   "execution_count": 19,
   "metadata": {},
   "outputs": [
    {
     "name": "stdout",
     "output_type": "stream",
     "text": [
      "0 0.0\n",
      "1 -0.9795762277633858\n",
      "2 -0.07218306753337561\n",
      "3 -0.562741470691431\n",
      "4 -0.21315006393333658\n",
      "5 -0.6892309231591282\n"
     ]
    }
   ],
   "source": [
    "for el in BBound.keys():\n",
    "    print(el,np.mean(np.sum(BBound[el][:,:k]+BBoundMix[el][:,:k],1))*1e-3)"
   ]
  },
  {
   "cell_type": "markdown",
   "metadata": {},
   "source": [
    "#### Sum of vertical mixing and transport NO3 supply to region in boxes:"
   ]
  },
  {
   "cell_type": "code",
   "execution_count": 20,
   "metadata": {},
   "outputs": [
    {
     "data": {
      "text/plain": [
       "-2.5168817530806584"
      ]
     },
     "execution_count": 20,
     "metadata": {},
     "output_type": "execute_result"
    }
   ],
   "source": [
    "np.mean(np.sum(BBound[0][:,:k]+BBoundMix[0][:,:k]+\\\n",
    "               BBound[1][:,:k]+BBoundMix[1][:,:k]+\\\n",
    "               BBound[2][:,:k]+BBoundMix[2][:,:k]+\\\n",
    "               BBound[3][:,:k]+BBoundMix[3][:,:k]+\\\n",
    "               BBound[4][:,:k]+BBoundMix[4][:,:k]+\\\n",
    "               BBound[5][:,:k]+BBoundMix[5][:,:k],1))*1e-3"
   ]
  },
  {
   "cell_type": "markdown",
   "metadata": {},
   "source": [
    "##### Divide by area:"
   ]
  },
  {
   "cell_type": "code",
   "execution_count": 21,
   "metadata": {},
   "outputs": [
    {
     "name": "stdout",
     "output_type": "stream",
     "text": [
      "volumes: \n",
      "(40, 130, 97)\n",
      "0 vol: 232834007.16923195\n",
      "0 north face area: 0.017903174399708822\n",
      "0 floor area: 38.10316762126778\n",
      "(40, 130, 97)\n",
      "1 vol: 475501033.2591236\n",
      "1 north face area: 0.051981996171633744\n",
      "1 floor area: 76.65649877674242\n",
      "(40, 130, 97)\n",
      "2 vol: 467855857.4262955\n",
      "2 north face area: 0.0660928789851366\n",
      "2 floor area: 76.13281888160705\n",
      "(40, 130, 97)\n",
      "3 vol: 475349561.3011287\n",
      "3 north face area: 0.0691002936013758\n",
      "3 floor area: 77.68207812856889\n",
      "(40, 130, 97)\n",
      "4 vol: 460253674.3391861\n",
      "4 north face area: 0.06656271287114815\n",
      "4 floor area: 76.70622481510526\n",
      "(40, 130, 97)\n",
      "5 vol: 468674561.80761874\n",
      "5 north face area: 0.07171871451380164\n",
      "5 floor area: 76.99707667445263\n"
     ]
    }
   ],
   "source": [
    "ABoxes=nn.boxAreas(k)"
   ]
  },
  {
   "cell_type": "code",
   "execution_count": 22,
   "metadata": {},
   "outputs": [
    {
     "data": {
      "text/plain": [
       "-0.005960250257706805"
      ]
     },
     "execution_count": 22,
     "metadata": {},
     "output_type": "execute_result"
    }
   ],
   "source": [
    "# units are umol/m2/s\n",
    "Asum=ABoxes[0]+ABoxes[1]+ABoxes[2]+ABoxes[3]+ABoxes[4]+ABoxes[5]\n",
    "np.mean(np.sum(BBound[0][:,:k]+BBoundMix[0][:,:k]+\\\n",
    "               BBound[1][:,:k]+BBoundMix[1][:,:k]+\\\n",
    "               BBound[2][:,:k]+BBoundMix[2][:,:k]+\\\n",
    "               BBound[3][:,:k]+BBoundMix[3][:,:k]+\\\n",
    "               BBound[4][:,:k]+BBoundMix[4][:,:k]+\\\n",
    "               BBound[5][:,:k]+BBoundMix[5][:,:k],1))/Asum*1e3"
   ]
  },
  {
   "cell_type": "code",
   "execution_count": 23,
   "metadata": {},
   "outputs": [
    {
     "name": "stdout",
     "output_type": "stream",
     "text": [
      "0\n",
      "0.0 0.0 0.0\n",
      "0.0 0.0 0.0\n",
      "1\n",
      "-0.4378507356838243 -0.020823825716819854 0.06512570768975945\n",
      "-0.00016273474620069107 0.022444307046106192 -0.0013930213915927228\n",
      "2\n",
      "-0.17285061765156096 0.0007372974770856719 0.004586488944110066\n",
      "-0.00014781253573528923 0.024617743872447344 -0.0005852842197399689\n",
      "3\n",
      "-0.16442932552233488 -0.016146534272876364 -0.08552533510189755\n",
      "-9.418057340255625e-05 0.027761020011738944 -0.0009963149756297232\n",
      "4\n",
      "-0.24955878026699027 -0.029879503516051033 -0.061318447143376933\n",
      "-9.919765242672008e-05 0.04911502585374354 -0.001447528327751936\n",
      "5\n",
      "-0.33046414049733536 -0.0675644683727893 -0.08280307241568174\n",
      "-6.600497569146892e-05 0.06869844288436652 -0.000840958684698951\n"
     ]
    }
   ],
   "source": [
    "NBoundC, SBoundC, EBoundC, BBoundC, NBoundMixC, SBoundMixC, EBoundMixC, BBoundMixC = \\\n",
    "    nn.transpConversions(boxes,NBound,SBound,EBound,BBound,NBoundMix,SBoundMix,EBoundMix,BBoundMix,k)"
   ]
  },
  {
   "cell_type": "code",
   "execution_count": 24,
   "metadata": {},
   "outputs": [
    {
     "data": {
      "text/plain": [
       "{0: 0.0,\n",
       " 1: -0.020823825716819854,\n",
       " 2: 0.0007372974770856719,\n",
       " 3: -0.016146534272876364,\n",
       " 4: -0.029879503516051033,\n",
       " 5: -0.0675644683727893}"
      ]
     },
     "execution_count": 24,
     "metadata": {},
     "output_type": "execute_result"
    }
   ],
   "source": [
    "BBoundC"
   ]
  },
  {
   "cell_type": "code",
   "execution_count": 25,
   "metadata": {},
   "outputs": [],
   "source": [
    "mask=dict()\n",
    "mask['V']=vmask0\n",
    "mask['U']=umask0\n",
    "mask['W']=tmask[k,:,:]"
   ]
  },
  {
   "cell_type": "code",
   "execution_count": 26,
   "metadata": {},
   "outputs": [
    {
     "name": "stderr",
     "output_type": "stream",
     "text": [
      "/ocean/eolson/MEOPAR/northernNO3PaperCalcs/notebooks/results/NorthNut.py:534: RuntimeWarning: invalid value encountered in double_scalars\n",
      "  dl=val/np.abs(val)\n"
     ]
    },
    {
     "data": {
      "image/png": "[encoded data removed]",
      "text/plain": [
       "<Figure size 540x374.4 with 11 Axes>"
      ]
     },
     "metadata": {
      "needs_background": "light"
     },
     "output_type": "display_data"
    }
   ],
   "source": [
    "fig=plt.figure(figsize=(7.5,5.2))\n",
    "gs0=gridspec.GridSpec(2,2,hspace=0.24,wspace=.13,left=.01,right=.93,bottom=.022,top=.92,\n",
    "                      width_ratios=[1,1],height_ratios=[1,1])\n",
    "ax=list()\n",
    "cbax=list()\n",
    "for jx in range(0,2):\n",
    "    if jx==0:\n",
    "        gsi=gridspec.GridSpecFromSubplotSpec(1, 3, subplot_spec=gs0[0,jx],\n",
    "                                         width_ratios=[10,10*(ig1-ig0-.5)/(ig1-ig0+13),11-10*(ig1-ig0-.5)/(ig1-ig0+13)],wspace=.1)\n",
    "        gsl=gridspec.GridSpecFromSubplotSpec(1, 3, subplot_spec=gs0[1,jx],\n",
    "                                         width_ratios=[10,10,1],wspace=.1)\n",
    "    elif jx==1:\n",
    "        gsi=gridspec.GridSpecFromSubplotSpec(1, 3, subplot_spec=gs0[0,jx],\n",
    "                                         width_ratios=[10,10,1],wspace=.1)\n",
    "        gsl2=gridspec.GridSpecFromSubplotSpec(1, 3, subplot_spec=gs0[1,jx],\n",
    "                                         width_ratios=[10,10,1],wspace=.1)\n",
    "    ax1=fig.add_subplot(gsi[0])\n",
    "    ax1.get_xaxis().set_visible(False)\n",
    "    ax1.get_yaxis().set_visible(False)\n",
    "    viz_tools.set_aspect(ax1)\n",
    "    ax2=fig.add_subplot(gsi[1])\n",
    "    ax2.get_xaxis().set_visible(False)\n",
    "    ax2.get_yaxis().set_visible(False)\n",
    "    viz_tools.set_aspect(ax2)\n",
    "    ax3=fig.add_subplot(gsi[2])\n",
    "    ax.append(ax1,)\n",
    "    ax.append(ax2,)\n",
    "    cbax.append(ax3,)\n",
    "ax4=fig.add_subplot(gsl2[0])\n",
    "ax4.get_xaxis().set_visible(False)\n",
    "ax4.get_yaxis().set_visible(False)\n",
    "viz_tools.set_aspect(ax4)\n",
    "ax5=fig.add_subplot(gsl2[1])\n",
    "ax5.get_xaxis().set_visible(False)\n",
    "ax5.get_yaxis().set_visible(False)\n",
    "viz_tools.set_aspect(ax5)\n",
    "ax6=fig.add_subplot(gsl2[2])\n",
    "ax7=fig.add_subplot(gsl[0])\n",
    "viz_tools.set_aspect(ax7)\n",
    "ax9=fig.add_subplot(gsl[2])\n",
    "ax.append(ax4,)\n",
    "ax.append(ax5,)\n",
    "ax.append(ax7,)\n",
    "cbax.append(ax6,)\n",
    "cbax.append(ax9,)\n",
    "\n",
    "v1=3000\n",
    "m=ax[0].pcolormesh(mask['V'],cmap=cmb)\n",
    "ax[0].set_title('Northward NO$_3$\\nFlux ($\\muup$mol Nm$^{-2}$s$^{-1}$)\\nAdvection + Mixing')\n",
    "m=ax[1].pcolormesh(mask['U'],cmap=cmb)\n",
    "cb0=fig.colorbar(m,cax=cbax[0])\n",
    "ax[1].set_title('Eastward NO$_3$\\nFlux ($\\muup$mol Nm$^{-2}$s$^{-1}$)\\nAdvection + Mixing')\n",
    "v2=15\n",
    "m=ax[2].pcolormesh(mask['W'],cmap=cmc)\n",
    "ax[2].set_title('Vertical NO$_3$\\nFlux ($\\muup$mol Nm$^{-2}$s$^{-1}$)\\nAdvection')\n",
    "m=ax[3].pcolormesh(mask['W'],cmap=cmc)\n",
    "cb1=fig.colorbar(m,cax=cbax[1])\n",
    "ax[3].set_title('Vertical NO$_3$\\nFlux ($\\muup$mol Nm$^{-2}$s$^{-1}$)\\nMixing')\n",
    "\n",
    "nn.drawboxesV(ax[0],boxes,boxCol)\n",
    "nn.drawboxesU(ax[1],boxes,boxCol)\n",
    "nn.drawboxesT(ax[2],boxes,boxCol)\n",
    "nn.drawboxesT(ax[3],boxes,boxCol)\n",
    "for iax in ax:\n",
    "    iax.set_facecolor(mapCol)\n",
    "ax[0].set_xlim(-13,ig1-ig0)\n",
    "ax[1].set_xlim(0,ig1-ig0-.5)\n",
    "ax[2].set_xlim(-13,ig1-ig0)\n",
    "ax[3].set_xlim(-13,ig1-ig0)\n",
    "\n",
    "ax[0].set_ylim(.5,jg1-jg0-.5)\n",
    "ax[1].set_ylim(1,jg1-jg0)\n",
    "ax[2].set_ylim(1,jg1-jg0)\n",
    "ax[3].set_ylim(1,jg1-jg0)\n",
    "\n",
    "nn.annotYTranspUpper(ax[0],boxes,NBoundC,SBoundC,NBoundMixC,SBoundMixC)\n",
    "nn.annotXTranspUpper(ax[1],boxes,EBoundC,EBoundMixC)\n",
    "nn.annotWTTranspUpper(ax[2],boxes,BBoundC)\n",
    "nn.annotWMTranspUpper(ax[3],boxes,BBoundMixC)\n",
    "\n",
    "x1=ax[1].get_position()\n",
    "xc1=cbax[0].get_position()\n",
    "cbax[0].set_position(mpl.transforms.Bbox.from_bounds(xc1.bounds[0],x1.bounds[1],.015,x1.bounds[3]))\n",
    "x2=ax[3].get_position()\n",
    "xc2=cbax[1].get_position()\n",
    "cbax[1].set_position(mpl.transforms.Bbox.from_bounds(xc2.bounds[0],x2.bounds[1],.015,x2.bounds[3]))\n",
    "\n",
    "fig.canvas.draw()\n",
    "\n",
    "#fig.savefig('/data/eolson/results/MEOPAR/biomodelevalpaper/figsNNut/Ntransports0_k'+str(k)+'.png',dpi=300)"
   ]
  },
  {
   "cell_type": "code",
   "execution_count": null,
   "metadata": {},
   "outputs": [],
   "source": []
  },
  {
   "cell_type": "code",
   "execution_count": null,
   "metadata": {},
   "outputs": [],
   "source": []
  },
  {
   "cell_type": "code",
   "execution_count": null,
   "metadata": {},
   "outputs": [],
   "source": []
  }
 ],
 "metadata": {
  "anaconda-cloud": {},
  "kernelspec": {
   "display_name": "Python (py38)",
   "language": "python",
   "name": "py38"
  },
  "language_info": {
   "codemirror_mode": {
    "name": "ipython",
    "version": 3
   },
   "file_extension": ".py",
   "mimetype": "text/x-python",
   "name": "python",
   "nbconvert_exporter": "python",
   "pygments_lexer": "ipython3",
   "version": "3.8.1"
  }
 },
 "nbformat": 4,
 "nbformat_minor": 1
}
