{
 "cells": [
  {
   "cell_type": "code",
   "execution_count": 26,
   "metadata": {},
   "outputs": [],
   "source": [
    "import numpy as np\n",
    "import pandas as pd\n",
    "import datetime as dt\n",
    "import netCDF4 as nc\n",
    "from matplotlib import pyplot as plt\n",
    "from salishsea_tools import geo_tools, evaltools as et\n",
    "\n",
    "%matplotlib inline"
   ]
  },
  {
   "cell_type": "code",
   "execution_count": 2,
   "metadata": {},
   "outputs": [],
   "source": [
    "df1=pd.read_csv('/ocean/eolson/MEOPAR/obs/ONC/node/search12730020/East_StraitofGeorgiaEastVENUSInstrumentPlatform_ConductivityTemperatureDepth_Temperature_20080901T000000Z_20200215T000000Z-NaN_clean_avg1day.csv',\n",
    "        skiprows=166,header=None,\n",
    "        names=('TimeUTC', 'Temperature', 'TemperatureQC' , 'TemperatureCount'),na_values=' NaN')"
   ]
  },
  {
   "cell_type": "code",
   "execution_count": 3,
   "metadata": {},
   "outputs": [
    {
     "data": {
      "text/html": [
       "<div>\n",
       "<style scoped>\n",
       "    .dataframe tbody tr th:only-of-type {\n",
       "        vertical-align: middle;\n",
       "    }\n",
       "\n",
       "    .dataframe tbody tr th {\n",
       "        vertical-align: top;\n",
       "    }\n",
       "\n",
       "    .dataframe thead th {\n",
       "        text-align: right;\n",
       "    }\n",
       "</style>\n",
       "<table border=\"1\" class=\"dataframe\">\n",
       "  <thead>\n",
       "    <tr style=\"text-align: right;\">\n",
       "      <th></th>\n",
       "      <th>TimeUTC</th>\n",
       "      <th>Temperature</th>\n",
       "      <th>TemperatureQC</th>\n",
       "      <th>TemperatureCount</th>\n",
       "    </tr>\n",
       "  </thead>\n",
       "  <tbody>\n",
       "    <tr>\n",
       "      <th>0</th>\n",
       "      <td>2008-09-01T12:00:00.000Z</td>\n",
       "      <td>9.742203</td>\n",
       "      <td>7</td>\n",
       "      <td>1395</td>\n",
       "    </tr>\n",
       "    <tr>\n",
       "      <th>1</th>\n",
       "      <td>2008-09-02T12:00:00.000Z</td>\n",
       "      <td>9.479952</td>\n",
       "      <td>7</td>\n",
       "      <td>1440</td>\n",
       "    </tr>\n",
       "    <tr>\n",
       "      <th>2</th>\n",
       "      <td>2008-09-03T12:00:00.000Z</td>\n",
       "      <td>9.099971</td>\n",
       "      <td>7</td>\n",
       "      <td>1440</td>\n",
       "    </tr>\n",
       "    <tr>\n",
       "      <th>3</th>\n",
       "      <td>2008-09-04T12:00:00.000Z</td>\n",
       "      <td>9.043725</td>\n",
       "      <td>7</td>\n",
       "      <td>1440</td>\n",
       "    </tr>\n",
       "    <tr>\n",
       "      <th>4</th>\n",
       "      <td>2008-09-05T12:00:00.000Z</td>\n",
       "      <td>9.051358</td>\n",
       "      <td>7</td>\n",
       "      <td>1440</td>\n",
       "    </tr>\n",
       "  </tbody>\n",
       "</table>\n",
       "</div>"
      ],
      "text/plain": [
       "                    TimeUTC  Temperature  TemperatureQC  TemperatureCount\n",
       "0  2008-09-01T12:00:00.000Z     9.742203              7              1395\n",
       "1  2008-09-02T12:00:00.000Z     9.479952              7              1440\n",
       "2  2008-09-03T12:00:00.000Z     9.099971              7              1440\n",
       "3  2008-09-04T12:00:00.000Z     9.043725              7              1440\n",
       "4  2008-09-05T12:00:00.000Z     9.051358              7              1440"
      ]
     },
     "execution_count": 3,
     "metadata": {},
     "output_type": "execute_result"
    }
   ],
   "source": [
    "df1.head()"
   ]
  },
  {
   "cell_type": "code",
   "execution_count": 4,
   "metadata": {},
   "outputs": [],
   "source": [
    "#yyyy-mm-ddThh:mm:ss.fffZ\n",
    "df1['dtUTC']=[dt.datetime.strptime(ii,'%Y-%m-%dT12:00:00.000Z') for ii in df1['TimeUTC']]"
   ]
  },
  {
   "cell_type": "code",
   "execution_count": 5,
   "metadata": {},
   "outputs": [
    {
     "data": {
      "text/html": [
       "<div>\n",
       "<style scoped>\n",
       "    .dataframe tbody tr th:only-of-type {\n",
       "        vertical-align: middle;\n",
       "    }\n",
       "\n",
       "    .dataframe tbody tr th {\n",
       "        vertical-align: top;\n",
       "    }\n",
       "\n",
       "    .dataframe thead th {\n",
       "        text-align: right;\n",
       "    }\n",
       "</style>\n",
       "<table border=\"1\" class=\"dataframe\">\n",
       "  <thead>\n",
       "    <tr style=\"text-align: right;\">\n",
       "      <th></th>\n",
       "      <th>TimeUTC</th>\n",
       "      <th>Temperature</th>\n",
       "      <th>TemperatureQC</th>\n",
       "      <th>TemperatureCount</th>\n",
       "      <th>dtUTC</th>\n",
       "    </tr>\n",
       "  </thead>\n",
       "  <tbody>\n",
       "    <tr>\n",
       "      <th>0</th>\n",
       "      <td>2008-09-01T12:00:00.000Z</td>\n",
       "      <td>9.742203</td>\n",
       "      <td>7</td>\n",
       "      <td>1395</td>\n",
       "      <td>2008-09-01</td>\n",
       "    </tr>\n",
       "    <tr>\n",
       "      <th>1</th>\n",
       "      <td>2008-09-02T12:00:00.000Z</td>\n",
       "      <td>9.479952</td>\n",
       "      <td>7</td>\n",
       "      <td>1440</td>\n",
       "      <td>2008-09-02</td>\n",
       "    </tr>\n",
       "    <tr>\n",
       "      <th>2</th>\n",
       "      <td>2008-09-03T12:00:00.000Z</td>\n",
       "      <td>9.099971</td>\n",
       "      <td>7</td>\n",
       "      <td>1440</td>\n",
       "      <td>2008-09-03</td>\n",
       "    </tr>\n",
       "    <tr>\n",
       "      <th>3</th>\n",
       "      <td>2008-09-04T12:00:00.000Z</td>\n",
       "      <td>9.043725</td>\n",
       "      <td>7</td>\n",
       "      <td>1440</td>\n",
       "      <td>2008-09-04</td>\n",
       "    </tr>\n",
       "    <tr>\n",
       "      <th>4</th>\n",
       "      <td>2008-09-05T12:00:00.000Z</td>\n",
       "      <td>9.051358</td>\n",
       "      <td>7</td>\n",
       "      <td>1440</td>\n",
       "      <td>2008-09-05</td>\n",
       "    </tr>\n",
       "  </tbody>\n",
       "</table>\n",
       "</div>"
      ],
      "text/plain": [
       "                    TimeUTC  Temperature  TemperatureQC  TemperatureCount  \\\n",
       "0  2008-09-01T12:00:00.000Z     9.742203              7              1395   \n",
       "1  2008-09-02T12:00:00.000Z     9.479952              7              1440   \n",
       "2  2008-09-03T12:00:00.000Z     9.099971              7              1440   \n",
       "3  2008-09-04T12:00:00.000Z     9.043725              7              1440   \n",
       "4  2008-09-05T12:00:00.000Z     9.051358              7              1440   \n",
       "\n",
       "       dtUTC  \n",
       "0 2008-09-01  \n",
       "1 2008-09-02  \n",
       "2 2008-09-03  \n",
       "3 2008-09-04  \n",
       "4 2008-09-05  "
      ]
     },
     "execution_count": 5,
     "metadata": {},
     "output_type": "execute_result"
    }
   ],
   "source": [
    "df1.head()"
   ]
  },
  {
   "cell_type": "code",
   "execution_count": 6,
   "metadata": {},
   "outputs": [
    {
     "name": "stderr",
     "output_type": "stream",
     "text": [
      "/home/eolson/anaconda3/envs/py38/lib/python3.8/site-packages/pandas/plotting/_matplotlib/converter.py:103: FutureWarning: Using an implicitly registered datetime converter for a matplotlib plotting method. The converter was registered by pandas on import. Future versions of pandas will require you to explicitly register matplotlib converters.\n",
      "\n",
      "To register the converters:\n",
      "\t>>> from pandas.plotting import register_matplotlib_converters\n",
      "\t>>> register_matplotlib_converters()\n",
      "  warnings.warn(msg, FutureWarning)\n"
     ]
    },
    {
     "data": {
      "image/png": "[encoded data removed]",
      "text/plain": [
       "<Figure size 540x144 with 1 Axes>"
      ]
     },
     "metadata": {
      "needs_background": "light"
     },
     "output_type": "display_data"
    }
   ],
   "source": [
    "fig,ax=plt.subplots(1,1,figsize=(7.5,2))\n",
    "ax.plot(df1['dtUTC'],df1['Temperature'])#\n",
    "ax.set_ylabel('Temperature ($^{\\circ}$C)')\n",
    "ax.set_title('Temperature at ONC East Node, Central Strait of Georgia \\n(49.042127$^{\\circ}$N,123.317605$^{\\circ}$W) at 170 m')\n",
    "ax.set_xlim(df1['dtUTC'].values[0],df1['dtUTC'].values[-1])\n",
    "plt.tight_layout()\n",
    "fig.savefig('/data/eolson/MEOPAR/biomodelevalpaper/response/T.png',dpi=200)"
   ]
  },
  {
   "cell_type": "code",
   "execution_count": 7,
   "metadata": {},
   "outputs": [
    {
     "data": {
      "text/plain": [
       "(7.098262847000001, 10.945951667000001)"
      ]
     },
     "execution_count": 7,
     "metadata": {},
     "output_type": "execute_result"
    }
   ],
   "source": [
    "np.min(df1['Temperature']),np.max(df1['Temperature'])"
   ]
  },
  {
   "cell_type": "code",
   "execution_count": 24,
   "metadata": {},
   "outputs": [],
   "source": [
    "df2=df1.loc[(df1['dtUTC']>dt.datetime(2015,1,1))&(df1['dtUTC']<dt.datetime(2018,1,1))].copy(deep=True).reset_index()"
   ]
  },
  {
   "cell_type": "code",
   "execution_count": 25,
   "metadata": {},
   "outputs": [
    {
     "data": {
      "text/html": [
       "<div>\n",
       "<style scoped>\n",
       "    .dataframe tbody tr th:only-of-type {\n",
       "        vertical-align: middle;\n",
       "    }\n",
       "\n",
       "    .dataframe tbody tr th {\n",
       "        vertical-align: top;\n",
       "    }\n",
       "\n",
       "    .dataframe thead th {\n",
       "        text-align: right;\n",
       "    }\n",
       "</style>\n",
       "<table border=\"1\" class=\"dataframe\">\n",
       "  <thead>\n",
       "    <tr style=\"text-align: right;\">\n",
       "      <th></th>\n",
       "      <th>index</th>\n",
       "      <th>TimeUTC</th>\n",
       "      <th>Temperature</th>\n",
       "      <th>TemperatureQC</th>\n",
       "      <th>TemperatureCount</th>\n",
       "      <th>dtUTC</th>\n",
       "    </tr>\n",
       "  </thead>\n",
       "  <tbody>\n",
       "    <tr>\n",
       "      <th>0</th>\n",
       "      <td>2309</td>\n",
       "      <td>2015-01-02T12:00:00.000Z</td>\n",
       "      <td>9.521381</td>\n",
       "      <td>7</td>\n",
       "      <td>1440</td>\n",
       "      <td>2015-01-02</td>\n",
       "    </tr>\n",
       "    <tr>\n",
       "      <th>1</th>\n",
       "      <td>2310</td>\n",
       "      <td>2015-01-03T12:00:00.000Z</td>\n",
       "      <td>9.503221</td>\n",
       "      <td>7</td>\n",
       "      <td>1440</td>\n",
       "      <td>2015-01-03</td>\n",
       "    </tr>\n",
       "    <tr>\n",
       "      <th>2</th>\n",
       "      <td>2311</td>\n",
       "      <td>2015-01-04T12:00:00.000Z</td>\n",
       "      <td>9.486890</td>\n",
       "      <td>7</td>\n",
       "      <td>1440</td>\n",
       "      <td>2015-01-04</td>\n",
       "    </tr>\n",
       "    <tr>\n",
       "      <th>3</th>\n",
       "      <td>2312</td>\n",
       "      <td>2015-01-05T12:00:00.000Z</td>\n",
       "      <td>9.518449</td>\n",
       "      <td>7</td>\n",
       "      <td>1440</td>\n",
       "      <td>2015-01-05</td>\n",
       "    </tr>\n",
       "    <tr>\n",
       "      <th>4</th>\n",
       "      <td>2313</td>\n",
       "      <td>2015-01-06T12:00:00.000Z</td>\n",
       "      <td>9.478761</td>\n",
       "      <td>7</td>\n",
       "      <td>1440</td>\n",
       "      <td>2015-01-06</td>\n",
       "    </tr>\n",
       "    <tr>\n",
       "      <th>...</th>\n",
       "      <td>...</td>\n",
       "      <td>...</td>\n",
       "      <td>...</td>\n",
       "      <td>...</td>\n",
       "      <td>...</td>\n",
       "      <td>...</td>\n",
       "    </tr>\n",
       "    <tr>\n",
       "      <th>1098</th>\n",
       "      <td>3407</td>\n",
       "      <td>2017-12-27T12:00:00.000Z</td>\n",
       "      <td>9.207022</td>\n",
       "      <td>7</td>\n",
       "      <td>86399</td>\n",
       "      <td>2017-12-27</td>\n",
       "    </tr>\n",
       "    <tr>\n",
       "      <th>1099</th>\n",
       "      <td>3408</td>\n",
       "      <td>2017-12-28T12:00:00.000Z</td>\n",
       "      <td>9.305037</td>\n",
       "      <td>7</td>\n",
       "      <td>86399</td>\n",
       "      <td>2017-12-28</td>\n",
       "    </tr>\n",
       "    <tr>\n",
       "      <th>1100</th>\n",
       "      <td>3409</td>\n",
       "      <td>2017-12-29T12:00:00.000Z</td>\n",
       "      <td>8.793474</td>\n",
       "      <td>7</td>\n",
       "      <td>86399</td>\n",
       "      <td>2017-12-29</td>\n",
       "    </tr>\n",
       "    <tr>\n",
       "      <th>1101</th>\n",
       "      <td>3410</td>\n",
       "      <td>2017-12-30T12:00:00.000Z</td>\n",
       "      <td>8.601840</td>\n",
       "      <td>7</td>\n",
       "      <td>86399</td>\n",
       "      <td>2017-12-30</td>\n",
       "    </tr>\n",
       "    <tr>\n",
       "      <th>1102</th>\n",
       "      <td>3411</td>\n",
       "      <td>2017-12-31T12:00:00.000Z</td>\n",
       "      <td>8.597832</td>\n",
       "      <td>7</td>\n",
       "      <td>86395</td>\n",
       "      <td>2017-12-31</td>\n",
       "    </tr>\n",
       "  </tbody>\n",
       "</table>\n",
       "<p>1103 rows × 6 columns</p>\n",
       "</div>"
      ],
      "text/plain": [
       "      index                   TimeUTC  Temperature  TemperatureQC  \\\n",
       "0      2309  2015-01-02T12:00:00.000Z     9.521381              7   \n",
       "1      2310  2015-01-03T12:00:00.000Z     9.503221              7   \n",
       "2      2311  2015-01-04T12:00:00.000Z     9.486890              7   \n",
       "3      2312  2015-01-05T12:00:00.000Z     9.518449              7   \n",
       "4      2313  2015-01-06T12:00:00.000Z     9.478761              7   \n",
       "...     ...                       ...          ...            ...   \n",
       "1098   3407  2017-12-27T12:00:00.000Z     9.207022              7   \n",
       "1099   3408  2017-12-28T12:00:00.000Z     9.305037              7   \n",
       "1100   3409  2017-12-29T12:00:00.000Z     8.793474              7   \n",
       "1101   3410  2017-12-30T12:00:00.000Z     8.601840              7   \n",
       "1102   3411  2017-12-31T12:00:00.000Z     8.597832              7   \n",
       "\n",
       "      TemperatureCount      dtUTC  \n",
       "0                 1440 2015-01-02  \n",
       "1                 1440 2015-01-03  \n",
       "2                 1440 2015-01-04  \n",
       "3                 1440 2015-01-05  \n",
       "4                 1440 2015-01-06  \n",
       "...                ...        ...  \n",
       "1098             86399 2017-12-27  \n",
       "1099             86399 2017-12-28  \n",
       "1100             86399 2017-12-29  \n",
       "1101             86399 2017-12-30  \n",
       "1102             86395 2017-12-31  \n",
       "\n",
       "[1103 rows x 6 columns]"
      ]
     },
     "execution_count": 25,
     "metadata": {},
     "output_type": "execute_result"
    }
   ],
   "source": [
    "df2"
   ]
  },
  {
   "cell_type": "code",
   "execution_count": 34,
   "metadata": {},
   "outputs": [],
   "source": [
    "lat=49.042127\n",
    "lon=-123.317605\n",
    "z=169.5\n",
    "with nc.Dataset('/ocean/eolson/MEOPAR/NEMO-forcing/grid/mesh_mask201702_noLPE.nc') as mesh:\n",
    "    navlon=mesh.variables['nav_lon'][:,:]\n",
    "    navlat=mesh.variables['nav_lat'][:,:]\n",
    "    e3t_0=mesh.variables['e3t_0'][0,:,:,:]\n",
    "    tmask=mesh.variables['tmask'][0,:,:,:]\n",
    "j,i=geo_tools.find_closest_model_point(lon,lat,navlon,navlat)"
   ]
  },
  {
   "cell_type": "code",
   "execution_count": 36,
   "metadata": {},
   "outputs": [
    {
     "data": {
      "text/plain": [
       "(163.41523360331595, 30)"
      ]
     },
     "execution_count": 36,
     "metadata": {},
     "output_type": "execute_result"
    }
   ],
   "source": [
    "bathy=np.sum(e3t_0*tmask,0)\n",
    "bathy[j,i], np.sum(tmask[:,j,i])"
   ]
  },
  {
   "cell_type": "code",
   "execution_count": 38,
   "metadata": {},
   "outputs": [
    {
     "data": {
      "text/plain": [
       "1"
      ]
     },
     "execution_count": 38,
     "metadata": {},
     "output_type": "execute_result"
    }
   ],
   "source": [
    "tmask[30-1,j,i]"
   ]
  },
  {
   "cell_type": "code",
   "execution_count": 49,
   "metadata": {},
   "outputs": [],
   "source": [
    "df2['j']=j\n",
    "df2['i']=i\n",
    "df2['Z']=160 # bottom of model domain\n",
    "df2['mod_nitrate']=np.nan\n",
    "df2['mod_votemper']=np.nan"
   ]
  },
  {
   "cell_type": "code",
   "execution_count": 42,
   "metadata": {},
   "outputs": [],
   "source": [
    "mod_start=dt.datetime(2015,1,1)\n",
    "mod_end=dt.datetime(2018,1,1)\n",
    "mod_basedir='/results2/SalishSea/nowcast-green.201812/'\n",
    "mod_nam_fmt='nowcast'\n",
    "mod_flen=1\n",
    "ftypes=('ptrc_T','grid_T')\n",
    "filemap_r={'ptrc_T':('nitrate',),'grid_T':('votemper',)}\n",
    "flist=dict()\n",
    "for ift in ftypes:\n",
    "    flist[ift]=et.index_model_files(mod_start,mod_end,mod_basedir,mod_nam_fmt,mod_flen,ift,1)"
   ]
  },
  {
   "cell_type": "code",
   "execution_count": 45,
   "metadata": {},
   "outputs": [],
   "source": [
    "with nc.Dataset('/ocean/eolson/MEOPAR/NEMO-forcing/grid/mesh_mask201702_noLPE.nc') as fmesh:\n",
    "    omask=np.copy(fmesh.variables['tmask'])"
   ]
  },
  {
   "cell_type": "code",
   "execution_count": 50,
   "metadata": {},
   "outputs": [],
   "source": [
    "data=et._binmatch(df2,flist,ftypes,filemap_r,omask,maskName='tmask',sdim=3)"
   ]
  },
  {
   "cell_type": "code",
   "execution_count": 58,
   "metadata": {},
   "outputs": [
    {
     "data": {
      "image/png": "[encoded data removed]",
      "text/plain": [
       "<Figure size 540x144 with 1 Axes>"
      ]
     },
     "metadata": {
      "needs_background": "light"
     },
     "output_type": "display_data"
    }
   ],
   "source": [
    "fig,ax=plt.subplots(1,1,figsize=(7.5,2))\n",
    "ax.plot(df1['dtUTC'],df1['Temperature'])#\n",
    "ax.set_ylabel('Temperature ($^{\\circ}$C)')\n",
    "ax.set_title('Temperature at ONC East Node, Central Strait of Georgia \\n(49.042127$^{\\circ}$N,123.317605$^{\\circ}$W) at 170 m')\n",
    "ax.set_xlim(df1['dtUTC'].values[0],df1['dtUTC'].values[-1])\n",
    "ax.plot(data['dtUTC'],data['mod_votemper'],'c-')\n",
    "ax.plot(data['dtUTC'],data['mod_nitrate']/3,'r-')\n",
    "plt.tight_layout()\n",
    "#fig.savefig('/data/eolson/MEOPAR/biomodelevalpaper/response/T.png',dpi=200)"
   ]
  },
  {
   "cell_type": "code",
   "execution_count": null,
   "metadata": {},
   "outputs": [],
   "source": []
  }
 ],
 "metadata": {
  "kernelspec": {
   "display_name": "Python (py38)",
   "language": "python",
   "name": "py38"
  },
  "language_info": {
   "codemirror_mode": {
    "name": "ipython",
    "version": 3
   },
   "file_extension": ".py",
   "mimetype": "text/x-python",
   "name": "python",
   "nbconvert_exporter": "python",
   "pygments_lexer": "ipython3",
   "version": "3.8.1"
  }
 },
 "nbformat": 4,
 "nbformat_minor": 2
}
